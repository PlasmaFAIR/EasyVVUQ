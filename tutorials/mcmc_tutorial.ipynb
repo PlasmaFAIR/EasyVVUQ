{
 "cells": [
  {
   "cell_type": "markdown",
   "id": "mediterranean-harbor",
   "metadata": {},
   "source": [
    "# Markov-Chain Monte Carlo in EasyVVUQ"
   ]
  },
  {
   "cell_type": "markdown",
   "id": "efficient-nudist",
   "metadata": {},
   "source": [
    "**Author**: Vytautas Jancauskas, LRZ (jancauskas@lrz.de)"
   ]
  },
  {
   "cell_type": "markdown",
   "id": "outside-circle",
   "metadata": {},
   "source": [
    "We have a model that returns an array of 50 integers where each is supposed to have come from a Poisson distribution with an unknown mean. The model has four input parameters ```a, b, c, d``` and the values of the means depend on the values of those parameters (albeit in some unknown to us way). \n",
    "    This situation seems common in practice in cases where the author of a simulation wants to show that their code in some way is validated by real world data. If they have observed data and they have a simulation for the phenomenon that produced that data and they have measurements of the inputs for the simulation they could use the procedure here to see if the real world \"input\" parameters fall within a reasonable range of the simulation input parameters. For more information on Markov-Chain Monte Carlo you can start at the Wikipedia [page](https://en.wikipedia.org/wiki/Markov_chain_Monte_Carlo)."
   ]
  },
  {
   "cell_type": "code",
   "execution_count": null,
   "id": "piano-lodge",
   "metadata": {},
   "outputs": [],
   "source": [
    "import numpy as np\n",
    "def model(params):\n",
    "    a = int(params['a'])\n",
    "    b = int(params['b'])\n",
    "    c = int(params['c'])\n",
    "    d = int(params['d'])\n",
    "    x = np.linspace(0, 1, 50)\n",
    "    return {'Values' : np.random.poisson(\n",
    "        a * (0.5 * np.sin(2.0 * np.pi * x) + 1.0) +\\\n",
    "        b * (0.5 * np.sin(4.0 * np.pi * x) + 1.0) +\\\n",
    "        c * (0.5 * np.sin(6.0 * np.pi * x) + 1.0) +\\\n",
    "        d * (0.5 * np.sin(8.0 * np.pi * x) + 1.0))}"
   ]
  },
  {
   "cell_type": "markdown",
   "id": "expired-accused",
   "metadata": {},
   "source": [
    "If we plot the values returned by the model with ```a = b = c = d = 50``` and repeat this 20 times we might get something like the figure below."
   ]
  },
  {
   "cell_type": "code",
   "execution_count": null,
   "id": "periodic-vulnerability",
   "metadata": {},
   "outputs": [],
   "source": [
    "import matplotlib.pyplot as plt\n",
    "for _ in range(20):\n",
    "    plt.plot(model({'a': 50, 'b': 80, 'c': 50, 'd': 80})['Values'], '.')"
   ]
  },
  {
   "cell_type": "markdown",
   "id": "unable-department",
   "metadata": {},
   "source": [
    "Then we have an array of 50 values that came from the model. With ```a = 50, b = 80, c = 50 and d = 80```. We will treat them as our observed data. We want to know what input parameters of the model are most likely to result in the values in the ```observed``` array. Because suppose we forgot."
   ]
  },
  {
   "cell_type": "code",
   "execution_count": null,
   "id": "level-produce",
   "metadata": {},
   "outputs": [],
   "source": [
    "observed = np.array([248, 311, 344, 370, 375, 369, 302, 306, 285, 281, 258, 248, 254,\n",
    "       273, 292, 268, 312, 269, 230, 244, 227, 219, 247, 233, 225, 238,\n",
    "       271, 307, 294, 299, 248, 249, 271, 255, 231, 225, 243, 279, 271,\n",
    "       294, 237, 247, 197, 180, 161, 168, 178, 207, 204, 258])"
   ]
  },
  {
   "cell_type": "markdown",
   "id": "shaped-report",
   "metadata": {},
   "source": [
    "We are interested in $\\mathbb{E}(X | y)$ with $X = [A, B, C, D]^T$ where $A, B, C, D$ are the random variables representing the input parameters. For this we need to know the probability density $f_{X|y}$ where $y$ are our observed values. From Bayes theorem it follows that $f_{X|y}$ is proportional to $f_{Y|X}(y|X)f(X)$. We usually can infer $f(X)$ (the prior probability) in advance, in this case we will leave them flat. We will use Markov-Chain Monte Carlo (MCMC) to approximate the probability density $f_{X|y}(x)$. We assume that $y$ (our observed data) is 50 numbers from 50 Poisson distributions with unknown means. We will estimate those means by running the model multiple times and calculating the sample mean because that is the MLE estimate for a Poisson distributed random variable. Suppose we have $\\hat{\\lambda}_i$ that is the estimate. Then we have $f_{X|y}(x) = \\prod_{i = 1}^{50} \\frac{\\hat\\lambda_i^{y_i} \\exp(-\\hat\\lambda_i)}{{y_i}!}$ where $\\lambda_i$ is the estimated Poisson parameter for th $i$-th output variable and $y_i$ is the $i$-th value in the observed vector. Since it is often more convenient to work with log-likelihoods we arrive at $\\sum_{i = 1}^{50} \\left(y_i \\log(\\hat\\lambda_i) - \\hat\\lambda_i - \\log({y_i}!)\\right)$."
   ]
  },
  {
   "cell_type": "markdown",
   "id": "mechanical-fourth",
   "metadata": {},
   "source": [
    "## Sampling"
   ]
  },
  {
   "cell_type": "markdown",
   "id": "tough-finish",
   "metadata": {},
   "source": [
    "First, mandatory imports."
   ]
  },
  {
   "cell_type": "code",
   "execution_count": null,
   "id": "dominant-newman",
   "metadata": {},
   "outputs": [],
   "source": [
    "import easyvvuq as uq\n",
    "import scipy.special\n",
    "import chaospy as cp\n",
    "import numpy as np\n",
    "import pandas as pd\n",
    "import os\n",
    "import json"
   ]
  },
  {
   "cell_type": "markdown",
   "id": "superior-vinyl",
   "metadata": {},
   "source": [
    "We define parameter specification, encoder, decoder and the campaign object. See the more detailed tutorials on these EasyVVUQ elements [here](basic_tutorial.ipynb) and [here](vector_qoi_tutorial.ipynb)."
   ]
  },
  {
   "cell_type": "code",
   "execution_count": null,
   "id": "varied-advocacy",
   "metadata": {},
   "outputs": [],
   "source": [
    "params = {\n",
    "    \"a\": {\"type\": \"float\", \"min\": 0, \"max\": 100, \"default\": 50},\n",
    "    \"b\": {\"type\": \"float\", \"min\": 0, \"max\": 100, \"default\": 50},\n",
    "    \"c\": {\"type\": \"float\", \"min\": 0, \"max\": 100, \"default\": 50},\n",
    "    \"d\": {\"type\": \"float\", \"min\": 0, \"max\": 100, \"default\": 50},\n",
    "    \"outfile\": {\"type\": \"string\", \"default\": \"output.csv\"},\n",
    "    \"ensemble_id\": {\"type\": \"integer\", \"default\": 0},\n",
    "    \"chain_id\": {\"type\": \"integer\", \"default\": 0}\n",
    "}\n",
    "encoder = uq.encoders.GenericEncoder(template_fname=\"mcmc.template\", \n",
    "                                     delimiter=\"$\", target_filename=\"input.json\")\n",
    "decoder = uq.decoders.SimpleCSV(\"output.csv\", [\"Values\"])\n",
    "campaign = uq.Campaign(\n",
    "    name=\"mcmc\", encoder=encoder, decoder=decoder, \n",
    "    params=params, work_dir='.')"
   ]
  },
  {
   "cell_type": "markdown",
   "id": "collected-fundamental",
   "metadata": {},
   "source": [
    "We need initial values for our MCMC chains. Here we simply set it to a uniformly distributed value from the valid range for that parameter. Note that each input parameter gets an array of 5 numbers because we will use 5 chains later on."
   ]
  },
  {
   "cell_type": "code",
   "execution_count": null,
   "id": "integral-demographic",
   "metadata": {},
   "outputs": [],
   "source": [
    "vary_init = {\n",
    "    \"a\": np.random.uniform(0, 100, size=5),\n",
    "    \"b\": np.random.uniform(0, 100, size=5),\n",
    "    \"c\": np.random.uniform(0, 100, size=5),\n",
    "    \"d\": np.random.uniform(0, 100, size=5)\n",
    "}"
   ]
  },
  {
   "cell_type": "markdown",
   "id": "seven-superior",
   "metadata": {},
   "source": [
    "Then we need to define the proposal distribution. It can be arbitrary (for example assymetrical). This is conditional on current chain position in the search space. In this case we will use a normal distribution with $mu = a, b, c, d$ and $\\sigma = 5$."
   ]
  },
  {
   "cell_type": "code",
   "execution_count": null,
   "id": "chemical-student",
   "metadata": {},
   "outputs": [],
   "source": [
    "def proposal(x, b=5):\n",
    "    return cp.J(cp.Normal(x['a'], b), \n",
    "                cp.Normal(x['b'], b), \n",
    "                cp.Normal(x['c'], b), \n",
    "                cp.Normal(x['d'], b))"
   ]
  },
  {
   "cell_type": "markdown",
   "id": "apparent-mounting",
   "metadata": {},
   "source": [
    "Next we want to construct the likelihood function. This function describes the probability that the observed data came from our model (assuming some fixed input parameters). In this case we will need the estimate of the Poisson mean for each of the 50 outputs of the simulation. These are the parameters $\\lambda$. Once we have those it is trivial to see what is the probability that each output came from a corresponding distribution. We then just multiply them together and take the logarithm (because of numerical issues this is preferable to straight up multiplying). This formula was derived above."
   ]
  },
  {
   "cell_type": "code",
   "execution_count": null,
   "id": "binding-salon",
   "metadata": {},
   "outputs": [],
   "source": [
    "def get_likelihood(observed):\n",
    "    def likelihood(lmbda):\n",
    "        return (observed * np.log(lmbda) - lmbda - \n",
    "                scipy.special.gammaln(observed + 1.0)).sum()\n",
    "    return likelihood"
   ]
  },
  {
   "cell_type": "markdown",
   "id": "broad-increase",
   "metadata": {},
   "source": [
    "Finally we put everything together. Note the estimator parameter to the MCMCSampler class. It is used to produce the estimate for the mean of the Poisson distribution. In this case we use sample mean because that is the MLE for Poisson $\\lambda$ parameter."
   ]
  },
  {
   "cell_type": "code",
   "execution_count": null,
   "id": "perceived-cosmetic",
   "metadata": {},
   "outputs": [],
   "source": [
    "mcmc_sampler = uq.sampling.MCMCSampler(\n",
    "    vary_init, proposal, 'Values', n_chains=5,\n",
    "    likelihood=get_likelihood(observed), \n",
    "    estimator=lambda x: np.mean(x))\n",
    "sampler = uq.sampling.ReplicaSampler(mcmc_sampler, replicas=20)\n",
    "campaign.set_sampler(sampler)"
   ]
  },
  {
   "cell_type": "markdown",
   "id": "tender-ensemble",
   "metadata": {},
   "source": [
    "When we have workflows where each sampling stage relies on the results of the previous one (as is the case with MCMC) we need to call iterate on the campaign object and then use the Python keyword next to advance to the next sampling stage. This will return action statuses and we need to wait for them to finish in order to proceed."
   ]
  },
  {
   "cell_type": "code",
   "execution_count": null,
   "id": "seventh-halloween",
   "metadata": {},
   "outputs": [],
   "source": [
    "iterator = campaign.iterate(uq.actions.ExecutePython(model), mark_invalid=True)"
   ]
  },
  {
   "cell_type": "code",
   "execution_count": null,
   "id": "received-parts",
   "metadata": {},
   "outputs": [],
   "source": [
    "for _ in range(2000):\n",
    "    pool = next(iterator).start().wait()"
   ]
  },
  {
   "cell_type": "markdown",
   "id": "lightweight-biography",
   "metadata": {},
   "source": [
    "## Analysis"
   ]
  },
  {
   "cell_type": "markdown",
   "id": "dominican-processor",
   "metadata": {},
   "source": [
    "Let us now save our progress so that we do not lose it. This way we can continue the tutorial just from this point onward and not redo the sampling stage."
   ]
  },
  {
   "cell_type": "code",
   "execution_count": null,
   "id": "democratic-offer",
   "metadata": {},
   "outputs": [],
   "source": [
    "campaign.save_state('mcmc_state.json')"
   ]
  },
  {
   "cell_type": "code",
   "execution_count": null,
   "id": "hearing-address",
   "metadata": {},
   "outputs": [],
   "source": [
    "campaign = uq.Campaign(state_file='mcmc_state.json')"
   ]
  },
  {
   "cell_type": "markdown",
   "id": "interior-automation",
   "metadata": {},
   "source": [
    "After calling analyse we will get an instance of MCMCAnalysisResults that contains information about our chains. It also lets us plot and analyse that data."
   ]
  },
  {
   "cell_type": "code",
   "execution_count": null,
   "id": "noticed-freight",
   "metadata": {},
   "outputs": [],
   "source": [
    "result = campaign.analyse()"
   ]
  },
  {
   "cell_type": "markdown",
   "id": "alike-alliance",
   "metadata": {},
   "source": [
    "We will now plot the chains for each parameter. We can see that they indeed seem to converge to the input parameters used to generate observed data. Which was $a = 50, b = 80, c = 50, d = 80$."
   ]
  },
  {
   "cell_type": "code",
   "execution_count": null,
   "id": "raising-chance",
   "metadata": {},
   "outputs": [],
   "source": [
    "result.plot_chains('a')"
   ]
  },
  {
   "cell_type": "code",
   "execution_count": null,
   "id": "brave-patio",
   "metadata": {},
   "outputs": [],
   "source": [
    "result.plot_chains('b')"
   ]
  },
  {
   "cell_type": "code",
   "execution_count": null,
   "id": "stock-vegetation",
   "metadata": {},
   "outputs": [],
   "source": [
    "result.plot_chains('c')"
   ]
  },
  {
   "cell_type": "code",
   "execution_count": null,
   "id": "authentic-special",
   "metadata": {},
   "outputs": [],
   "source": [
    "result.plot_chains('d')"
   ]
  },
  {
   "cell_type": "markdown",
   "id": "liquid-teacher",
   "metadata": {},
   "source": [
    "We can also plot histograms of the parameters. This can let us determine the shape of the distribution of that parameter and determine confidence intervals, etc."
   ]
  },
  {
   "cell_type": "code",
   "execution_count": null,
   "id": "molecular-picnic",
   "metadata": {},
   "outputs": [],
   "source": [
    "result.plot_hist('a', skip=200)"
   ]
  },
  {
   "cell_type": "code",
   "execution_count": null,
   "id": "severe-congo",
   "metadata": {},
   "outputs": [],
   "source": [
    "result.plot_hist('b', skip=200)"
   ]
  },
  {
   "cell_type": "code",
   "execution_count": null,
   "id": "nasty-scholarship",
   "metadata": {},
   "outputs": [],
   "source": [
    "result.plot_hist('c', skip=200)"
   ]
  },
  {
   "cell_type": "code",
   "execution_count": null,
   "id": "boolean-theater",
   "metadata": {},
   "outputs": [],
   "source": [
    "result.plot_hist('d', skip=200)"
   ]
  },
  {
   "cell_type": "code",
   "execution_count": null,
   "id": "rubber-sitting",
   "metadata": {},
   "outputs": [],
   "source": []
  }
 ],
 "metadata": {
  "kernelspec": {
   "display_name": "Python 3",
   "language": "python",
   "name": "python3"
  },
  "language_info": {
   "codemirror_mode": {
    "name": "ipython",
    "version": 3
   },
   "file_extension": ".py",
   "mimetype": "text/x-python",
   "name": "python",
   "nbconvert_exporter": "python",
   "pygments_lexer": "ipython3",
   "version": "3.8.6"
  }
 },
 "nbformat": 4,
 "nbformat_minor": 5
}
