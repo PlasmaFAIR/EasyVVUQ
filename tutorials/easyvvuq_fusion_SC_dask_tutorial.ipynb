{
 "cells": [
  {
   "cell_type": "markdown",
   "metadata": {},
   "source": [
    "# Run the fusion EasyVVUQ campaign\n",
    "\n",
    "Run an EasyVVUQ campaign to analyze the sensitivity of the temperature\n",
    "profile predicted by a simplified model of heat conduction in a\n",
    "tokamak plasma.\n",
    "\n",
    "This is done with SC."
   ]
  },
  {
   "cell_type": "code",
   "execution_count": 1,
   "metadata": {
    "ExecuteTime": {
     "end_time": "2021-05-25T09:32:56.332526Z",
     "start_time": "2021-05-25T09:32:53.565451Z"
    },
    "code_folding": [
     0
    ]
   },
   "outputs": [],
   "source": [
    "# import packages that we will use\n",
    "\n",
    "import os\n",
    "import easyvvuq as uq\n",
    "import chaospy as cp\n",
    "import pickle\n",
    "import time\n",
    "import numpy as np\n",
    "import pandas as pd\n",
    "import matplotlib\n",
    "if not os.getenv(\"DISPLAY\"): matplotlib.use('Agg')\n",
    "import matplotlib.pylab as plt\n",
    "from IPython.display import display\n",
    "%matplotlib inline"
   ]
  },
  {
   "cell_type": "code",
   "execution_count": 2,
   "metadata": {
    "ExecuteTime": {
     "end_time": "2021-05-25T09:32:56.583786Z",
     "start_time": "2021-05-25T09:32:56.335643Z"
    },
    "code_folding": [
     0,
     2,
     4
    ]
   },
   "outputs": [],
   "source": [
    "# we need fipy -- install if not already available\n",
    "\n",
    "try:\n",
    "    import fipy\n",
    "except ModuleNotFoundError:\n",
    "    ! pip install future\n",
    "    ! pip install fipy\n",
    "    import fipy"
   ]
  },
  {
   "cell_type": "code",
   "execution_count": 3,
   "metadata": {
    "ExecuteTime": {
     "end_time": "2021-05-25T09:32:56.592091Z",
     "start_time": "2021-05-25T09:32:56.587299Z"
    },
    "code_folding": [
     0,
     2
    ]
   },
   "outputs": [],
   "source": [
    "# routine to write out (if needed) the fusion .template file\n",
    "\n",
    "def write_template(params):\n",
    "    str = \"\"\n",
    "    first = True\n",
    "    for k in params.keys():\n",
    "        if first:\n",
    "            str += '{\"%s\": \"$%s\"' % (k,k) ; first = False\n",
    "        else:\n",
    "            str += ', \"%s\": \"$%s\"' % (k,k)\n",
    "    str += '}'\n",
    "    print(str, file=open('fusion.template','w'))"
   ]
  },
  {
   "cell_type": "code",
   "execution_count": 4,
   "metadata": {
    "ExecuteTime": {
     "end_time": "2021-05-25T09:32:56.607051Z",
     "start_time": "2021-05-25T09:32:56.594614Z"
    },
    "code_folding": [
     0
    ]
   },
   "outputs": [],
   "source": [
    "# define parameters of the fusion model\n",
    "def define_params():\n",
    "    return {\n",
    "        \"Qe_tot\":   {\"type\": \"float\",   \"min\": 1.0e6, \"max\": 50.0e6, \"default\": 2e6},\n",
    "        \"H0\":       {\"type\": \"float\",   \"min\": 0.00,  \"max\": 1.0,    \"default\": 0},\n",
    "        \"Hw\":       {\"type\": \"float\",   \"min\": 0.01,  \"max\": 100.0,  \"default\": 0.1},\n",
    "        \"Te_bc\":    {\"type\": \"float\",   \"min\": 10.0,  \"max\": 1000.0, \"default\": 100},\n",
    "        \"chi\":      {\"type\": \"float\",   \"min\": 0.01,  \"max\": 100.0,  \"default\": 1},\n",
    "        \"a0\":       {\"type\": \"float\",   \"min\": 0.2,   \"max\": 10.0,   \"default\": 1},\n",
    "        \"R0\":       {\"type\": \"float\",   \"min\": 0.5,   \"max\": 20.0,   \"default\": 3},\n",
    "        \"E0\":       {\"type\": \"float\",   \"min\": 1.0,   \"max\": 10.0,   \"default\": 1.5},\n",
    "        \"b_pos\":    {\"type\": \"float\",   \"min\": 0.95,  \"max\": 0.99,   \"default\": 0.98},\n",
    "        \"b_height\": {\"type\": \"float\",   \"min\": 3e19,  \"max\": 10e19,  \"default\": 6e19},\n",
    "        \"b_sol\":    {\"type\": \"float\",   \"min\": 2e18,  \"max\": 3e19,   \"default\": 2e19},\n",
    "        \"b_width\":  {\"type\": \"float\",   \"min\": 0.005, \"max\": 0.025,  \"default\": 0.01},\n",
    "        \"b_slope\":  {\"type\": \"float\",   \"min\": 0.0,   \"max\": 0.05,   \"default\": 0.01},\n",
    "        \"nr\":       {\"type\": \"integer\", \"min\": 10,    \"max\": 1000,   \"default\": 100},\n",
    "        \"dt\":       {\"type\": \"float\",   \"min\": 1e-3,  \"max\": 1e3,    \"default\": 100},\n",
    "        \"out_file\": {\"type\": \"string\",  \"default\": \"output.csv\"}\n",
    "    }"
   ]
  },
  {
   "cell_type": "code",
   "execution_count": 5,
   "metadata": {
    "ExecuteTime": {
     "end_time": "2021-05-25T09:32:56.619402Z",
     "start_time": "2021-05-25T09:32:56.609243Z"
    },
    "code_folding": [
     0,
     2,
     17,
     21,
     28
    ]
   },
   "outputs": [],
   "source": [
    "# define varying quantities\n",
    "def define_vary():\n",
    "    vary_all = {\n",
    "        \"Qe_tot\":   cp.Uniform(1.8e6, 2.2e6),\n",
    "        \"H0\":       cp.Uniform(0.0,   0.2),\n",
    "        \"Hw\":       cp.Uniform(0.1,   0.5),\n",
    "        \"chi\":      cp.Uniform(0.8,   1.2),\n",
    "        \"Te_bc\":    cp.Uniform(80.0,  120.0),\n",
    "        \"a0\":       cp.Uniform(0.9,   1.1),\n",
    "        \"R0\":       cp.Uniform(2.7,   3.3),\n",
    "        \"E0\":       cp.Uniform(1.4,   1.6),\n",
    "        \"b_pos\":    cp.Uniform(0.95,  0.99),\n",
    "        \"b_height\": cp.Uniform(5e19,  7e19),\n",
    "        \"b_sol\":    cp.Uniform(1e19,  3e19),\n",
    "        \"b_width\":  cp.Uniform(0.015, 0.025),\n",
    "        \"b_slope\":  cp.Uniform(0.005, 0.020)\n",
    "    }\n",
    "    vary_2 =  {\n",
    "        \"Qe_tot\":   cp.Uniform(1.8e6, 2.2e6),\n",
    "        \"Te_bc\":    cp.Uniform(80.0,  120.0)\n",
    "    }\n",
    "    vary_5 =  {\n",
    "        \"Qe_tot\":   cp.Uniform(1.8e6, 2.2e6),\n",
    "        \"H0\":       cp.Uniform(0.0,   0.2),\n",
    "        \"Hw\":       cp.Uniform(0.1,   0.5),\n",
    "        \"chi\":      cp.Uniform(0.8,   1.2),\n",
    "        \"Te_bc\":    cp.Uniform(80.0,  120.0)\n",
    "    }\n",
    "    vary_10 = {\n",
    "        \"Qe_tot\":   cp.Uniform(1.8e6, 2.2e6),\n",
    "        \"H0\":       cp.Uniform(0.0,   0.2),\n",
    "        \"Hw\":       cp.Uniform(0.1,   0.5),\n",
    "        \"chi\":      cp.Uniform(0.8,   1.2),\n",
    "        \"Te_bc\":    cp.Uniform(80.0,  120.0),\n",
    "        \"b_pos\":    cp.Uniform(0.95,  0.99),\n",
    "        \"b_height\": cp.Uniform(5e19,  7e19),\n",
    "        \"b_sol\":    cp.Uniform(1e19,  3e19),\n",
    "        \"b_width\":  cp.Uniform(0.015, 0.025),\n",
    "        \"b_slope\":  cp.Uniform(0.005, 0.020)\n",
    "    }\n",
    "    return vary_5"
   ]
  },
  {
   "cell_type": "code",
   "execution_count": 6,
   "metadata": {
    "ExecuteTime": {
     "end_time": "2021-05-25T09:32:56.629557Z",
     "start_time": "2021-05-25T09:32:56.621789Z"
    },
    "code_folding": [
     0
    ]
   },
   "outputs": [],
   "source": [
    "# define a model to run the fusion code directly from python, expecting a dictionary and returning a dictionary\n",
    "def run_fusion_model(input):\n",
    "    import json\n",
    "    import fusion\n",
    "    qois = [\"te\", \"ne\", \"rho\", \"rho_norm\"]\n",
    "    del input['out_file']\n",
    "    return {q: v for q,v in zip(qois, [t.tolist() for t in fusion.solve_Te(**input, plots=False, output=False)])}"
   ]
  },
  {
   "cell_type": "code",
   "execution_count": 7,
   "metadata": {
    "ExecuteTime": {
     "end_time": "2021-05-25T09:32:56.650886Z",
     "start_time": "2021-05-25T09:32:56.631642Z"
    },
    "code_folding": [
     0
    ]
   },
   "outputs": [],
   "source": [
    "# routine to run a SC campaign\n",
    "\n",
    "def run_sc_case(pce_order=2, local=True, dask=True, batch_size=os.cpu_count(), use_files=True):\n",
    "    \"\"\"\n",
    "    Inputs:\n",
    "        pce_order: order of the PCE expansion\n",
    "        local: if using Dask, whether to use the local option (True)\n",
    "        dask: whether to use dask (True)\n",
    "        batch_size: for the non Dask option, number of cases to run in parallel (16)\n",
    "    Outputs:\n",
    "        results_df: Pandas dataFrame containing inputs to and output from the model\n",
    "        results: Results of the PCE analysis\n",
    "        times: Information about the elapsed time for the various phases of the calculation\n",
    "        pce_order: pce_order \n",
    "        count: number of PCE samples\n",
    "    \"\"\"\n",
    "    \n",
    "    if dask:\n",
    "        if local:\n",
    "            print('Running locally')\n",
    "            import multiprocessing.popen_spawn_posix\n",
    "            from dask.distributed import Client, LocalCluster\n",
    "            cluster = LocalCluster(threads_per_worker=1)\n",
    "            client = Client(cluster) # processes=True, threads_per_worker=1)\n",
    "        else:\n",
    "            print('Running using SLURM')\n",
    "            from dask.distributed import Client\n",
    "            from dask_jobqueue import SLURMCluster\n",
    "            cluster = SLURMCluster(\n",
    "                job_extra=['--qos=p.tok.openmp.2h', '--mail-type=end', '--mail-user=dpc@rzg.mpg.de', '-t 2:00:00'], \n",
    "                queue='p.tok.openmp', \n",
    "                cores=8, \n",
    "                memory='8 GB',\n",
    "                processes=8)\n",
    "            cluster.scale(32)\n",
    "            print(cluster)\n",
    "            print(cluster.job_script())\n",
    "            client = Client(cluster)\n",
    "        print(client)\n",
    "\n",
    "    else:\n",
    "        import concurrent.futures\n",
    "#        client = concurrent.futures.ProcessPoolExecutor(max_workers=batch_size)\n",
    "        client = concurrent.futures.ThreadPoolExecutor(max_workers=batch_size)\n",
    "#        client = None\n",
    "    \n",
    "    times = np.zeros(7)\n",
    "\n",
    "    time_start = time.time()\n",
    "    time_start_whole = time_start\n",
    "    # Set up a fresh campaign called \"fusion_pce.\"\n",
    "    my_campaign = uq.Campaign(name='fusion_pce.')        \n",
    "\n",
    "    # Define parameter space\n",
    "    params = define_params()\n",
    "\n",
    "    # Create an encoder and decoder for PCE test app\n",
    "    if use_files:\n",
    "        encoder = uq.encoders.GenericEncoder(template_fname='fusion.template',\n",
    "                                             delimiter='$',\n",
    "                                             target_filename='fusion_in.json')\n",
    "\n",
    "\n",
    "        decoder = uq.decoders.SimpleCSV(target_filename=\"output.csv\",\n",
    "                                        output_columns=[\"te\", \"ne\", \"rho\", \"rho_norm\"])\n",
    "\n",
    "        execute = uq.actions.ExecuteLocal('python3 %s/fusion_model.py fusion_in.json' % (os.getcwd()))\n",
    "\n",
    "        actions = uq.actions.Actions(uq.actions.CreateRunDirectory('/tmp'), \n",
    "                                     uq.actions.Encode(encoder), execute, uq.actions.Decode(decoder))\n",
    "    else:\n",
    "        actions = uq.actions.Actions(uq.actions.ExecutePython(run_fusion_model))\n",
    "\n",
    "\n",
    "    # Add the app (automatically set as current app)\n",
    "    my_campaign.add_app(name=\"fusion\", params=params, actions=actions)\n",
    "\n",
    "    time_end = time.time()\n",
    "    times[1] = time_end-time_start\n",
    "    print('Time for phase 1 = %.3f' % (times[1]))\n",
    "\n",
    "    time_start = time.time()\n",
    "    # Associate a sampler with the campaign\n",
    "    my_campaign.set_sampler(uq.sampling.SCSampler(vary=define_vary(), polynomial_order=pce_order))\n",
    "    my_campaign.draw_samples()\n",
    "    print('Number of samples = %s' % my_campaign.get_active_sampler().count)\n",
    "\n",
    "    time_end = time.time()\n",
    "    times[2] = time_end-time_start\n",
    "    print('Time for phase 2 = %.3f' % (times[2]))\n",
    "\n",
    "    time_start = time.time()\n",
    "    # Perform the actions\n",
    "    my_campaign.execute(pool=client).collate()\n",
    "\n",
    "    if dask:\n",
    "        client.close()\n",
    "        client.shutdown()\n",
    "\n",
    "    time_end = time.time()\n",
    "    times[3] = time_end-time_start\n",
    "    print('Time for phase 3 = %.3f' % (times[3]))\n",
    "\n",
    "    time_start = time.time()\n",
    "    # Collate the results\n",
    "    results_df = my_campaign.get_collation_result()\n",
    "\n",
    "    time_end = time.time()\n",
    "    times[4] = time_end-time_start\n",
    "    print('Time for phase 4 = %.3f' % (times[4]))\n",
    "\n",
    "    time_start = time.time()\n",
    "    # Post-processing analysis\n",
    "    results = my_campaign.analyse(qoi_cols=[\"te\", \"ne\", \"rho\", \"rho_norm\"])\n",
    "\n",
    "    time_end = time.time()\n",
    "    times[5] = time_end-time_start\n",
    "    print('Time for phase 5 = %.3f' % (times[5]))\n",
    "\n",
    "    time_start = time.time()\n",
    "    # Save the results\n",
    "    pickle.dump(results, open('fusion_results.pickle','bw'))\n",
    "    time_end = time.time()\n",
    "    times[6] = time_end-time_start\n",
    "    print('Time for phase 6 = %.3f' % (times[6]))\n",
    "\n",
    "    times[0] = time_end - time_start_whole\n",
    "\n",
    "    return results_df, results, times, pce_order, my_campaign.get_active_sampler().count"
   ]
  },
  {
   "cell_type": "code",
   "execution_count": 8,
   "metadata": {
    "ExecuteTime": {
     "end_time": "2021-05-25T09:32:56.685251Z",
     "start_time": "2021-05-25T09:32:56.653359Z"
    },
    "code_folding": [
     0,
     2,
     24,
     46,
     58,
     72,
     84
    ]
   },
   "outputs": [],
   "source": [
    "# routines for plotting the results\n",
    "\n",
    "def plot_Te(results, title=None):\n",
    "    # plot the calculated Te: mean, with std deviation, 1, 10, 90 and 99%\n",
    "    plt.figure()\n",
    "    rho = results.describe('rho', 'mean')\n",
    "    plt.plot(rho, results.describe('te', 'mean'), 'b-', label='Mean')\n",
    "    plt.plot(rho, results.describe('te', 'mean')-results.describe('te', 'std'), 'b--', label='+1 std deviation')\n",
    "    plt.plot(rho, results.describe('te', 'mean')+results.describe('te', 'std'), 'b--')\n",
    "    plt.fill_between(rho, results.describe('te', 'mean')-results.describe('te', 'std'), results.describe('te', 'mean')+results.describe('te', 'std'), color='b', alpha=0.2)\n",
    "    try:\n",
    "        plt.plot(rho, results.describe('te', '10%'), 'b:', label='10 and 90 percentiles')\n",
    "        plt.plot(rho, results.describe('te', '90%'), 'b:')\n",
    "        plt.fill_between(rho, results.describe('te', '10%'), results.describe('te', '90%'), color='b', alpha=0.1)\n",
    "        plt.fill_between(rho, results.describe('te', '1%'), results.describe('te', '99%'), color='b', alpha=0.05)\n",
    "    except:\n",
    "        print('Problem with some of the percentiles')\n",
    "    plt.legend(loc=0)\n",
    "    plt.xlabel('rho [$m$]')\n",
    "    plt.ylabel('Te [$eV$]')\n",
    "    if not title is None: plt.title(title)\n",
    "    plt.savefig('Te.png')\n",
    "    plt.savefig('Te.pdf')\n",
    "\n",
    "def plot_ne(results, title=None):\n",
    "    # plot the calculated ne: mean, with std deviation, 1, 10, 90 and 99%\n",
    "    plt.figure()\n",
    "    rho = results.describe('rho', 'mean')\n",
    "    plt.plot(rho, results.describe('ne', 'mean'), 'b-', label='Mean')\n",
    "    plt.plot(rho, results.describe('ne', 'mean')-results.describe('ne', 'std'), 'b--', label='+1 std deviation')\n",
    "    plt.plot(rho, results.describe('ne', 'mean')+results.describe('ne', 'std'), 'b--')\n",
    "    plt.fill_between(rho, results.describe('ne', 'mean')-results.describe('ne', 'std'), results.describe('ne', 'mean')+results.describe('ne', 'std'), color='b', alpha=0.2)\n",
    "    try:\n",
    "        plt.plot(rho, results.describe('ne', '10%'), 'b:', label='10 and 90 percentiles')\n",
    "        plt.plot(rho, results.describe('ne', '90%'), 'b:')\n",
    "        plt.fill_between(rho, results.describe('ne', '10%'), results.describe('ne', '90%'), color='b', alpha=0.1)\n",
    "        plt.fill_between(rho, results.describe('ne', '1%'), results.describe('ne', '99%'), color='b', alpha=0.05)\n",
    "    except:\n",
    "        print('Problem with some of the percentiles')\n",
    "    plt.legend(loc=0)\n",
    "    plt.xlabel('rho [$m$]')\n",
    "    plt.ylabel('ne [$m^{-3}$]')\n",
    "    if not title is None: plt.title(title)\n",
    "    plt.savefig('ne.png')\n",
    "    plt.savefig('ne.pdf')\n",
    "\n",
    "def plot_sobols_first(results, title=None, field='te'):\n",
    "    # plot the first Sobol results\n",
    "    plt.figure()\n",
    "    rho = results.describe('rho', 'mean')\n",
    "    for k in results.sobols_first()[field].keys(): plt.plot(rho, results.sobols_first()[field][k], label=k)\n",
    "    plt.legend(loc=0)\n",
    "    plt.xlabel('rho [$m$]')\n",
    "    plt.ylabel('sobols_first')\n",
    "    if not title is None: plt.title(field + ': ' + title)\n",
    "    plt.savefig('sobols_first_%s.png' % (field))\n",
    "    plt.savefig('sobols_first_%s.pdf' % (field))\n",
    "\n",
    "def plot_sobols_second(results, title=None, field='te'):\n",
    "    # plot the second Sobol results\n",
    "    plt.figure()\n",
    "    rho = results.describe('rho', 'mean')\n",
    "    for k1 in results.sobols_second()[field].keys():\n",
    "        for k2 in results.sobols_second()[field][k1].keys():\n",
    "            plt.plot(rho, results.sobols_second()[field][k1][k2], label=k1+'/'+k2)\n",
    "    plt.legend(loc=0, ncol=2)\n",
    "    plt.xlabel('rho [$m$]')\n",
    "    plt.ylabel('sobols_second')\n",
    "    if not title is None: plt.title(field + ': ' + title)\n",
    "    plt.savefig('sobols_second_%s.png' % (field))\n",
    "    plt.savefig('sobols_second_%s.pdf' % (field))\n",
    "\n",
    "def plot_sobols_total(results, title=None, field='te'):\n",
    "    # plot the total Sobol results\n",
    "    plt.figure()\n",
    "    rho = results.describe('rho', 'mean')\n",
    "    for k in results.sobols_total()[field].keys(): plt.plot(rho, results.sobols_total()[field][k], label=k)\n",
    "    plt.legend(loc=0)\n",
    "    plt.xlabel('rho [$m$]')\n",
    "    plt.ylabel('sobols_total')\n",
    "    if not title is None: plt.title(field + ': ' + title)\n",
    "    plt.savefig('sobols_total_%s.png' % (field))\n",
    "    plt.savefig('sobols_total_%s.pdf' % (field))\n",
    "\n",
    "def plot_distribution(results, results_df, title=None):\n",
    "    te_dist = results.raw_data['output_distributions']['te']\n",
    "    rho_norm = results.describe('rho_norm', 'mean')\n",
    "    for i in [np.maximum(0, int(i-1)) \n",
    "              for i in np.linspace(0,1,5) * rho_norm.shape]:\n",
    "        plt.figure()\n",
    "        pdf_raw_samples = cp.GaussianKDE(results_df.te[i])\n",
    "        pdf_kde_samples = cp.GaussianKDE(te_dist.samples[i])\n",
    "        plt.hist(results_df.te[i], density=True, bins=50, label='histogram of raw samples', alpha=0.25)\n",
    "        if hasattr(te_dist, 'samples'):\n",
    "            plt.hist(te_dist.samples[i], density=True, bins=50, label='histogram of kde samples', alpha=0.25)\n",
    "\n",
    "        plt.plot(np.linspace(pdf_raw_samples.lower, pdf_raw_samples.upper), pdf_raw_samples.pdf(np.linspace(pdf_raw_samples.lower, pdf_raw_samples.upper)), label='PDF (raw samples)')\n",
    "        plt.plot(np.linspace(pdf_kde_samples.lower, pdf_kde_samples.upper), pdf_kde_samples.pdf(np.linspace(pdf_kde_samples.lower, pdf_kde_samples.upper)), label='PDF (kde samples)')\n",
    "\n",
    "        plt.legend(loc=0)\n",
    "        plt.xlabel('Te [$eV$]')\n",
    "        if title is None:\n",
    "            plt.title('Distributions for rho_norm = %0.4f' % (rho_norm[i]))\n",
    "        else:\n",
    "            plt.title('%s\\nDistributions for rho_norm = %0.4f' % (title, rho_norm[i]))\n",
    "        plt.savefig('distribution_function_rho_norm=%0.4f.png' % (rho_norm[i]))\n",
    "        plt.savefig('distribution_function_rho_norm=%0.4f.pdf' % (rho_norm[i]))"
   ]
  },
  {
   "cell_type": "code",
   "execution_count": 9,
   "metadata": {
    "ExecuteTime": {
     "end_time": "2021-05-25T09:52:12.151357Z",
     "start_time": "2021-05-25T09:32:56.686962Z"
    },
    "code_folding": [
     0
    ],
    "scrolled": true
   },
   "outputs": [
    {
     "name": "stdout",
     "output_type": "stream",
     "text": [
      "Running using SLURM\n"
     ]
    },
    {
     "name": "stderr",
     "output_type": "stream",
     "text": [
      "/toks/scratch/dpc/GIT/EasyVVUQ/env/lib/python3.6/site-packages/distributed/node.py:155: UserWarning: Port 8787 is already in use.\n",
      "Perhaps you already have a cluster running?\n",
      "Hosting the HTTP server on port 37073 instead\n",
      "  http_address[\"port\"], self.http_server.port\n"
     ]
    },
    {
     "name": "stdout",
     "output_type": "stream",
     "text": [
      "SLURMCluster(0b2522aa, 'tcp://130.183.15.203:36687', workers=0, threads=0, memory=0 B)\n",
      "#!/usr/bin/env bash\n",
      "\n",
      "#SBATCH -J dask-worker\n",
      "#SBATCH -p p.tok.openmp\n",
      "#SBATCH -n 1\n",
      "#SBATCH --cpus-per-task=8\n",
      "#SBATCH --mem=8G\n",
      "#SBATCH -t 00:30:00\n",
      "#SBATCH --qos=p.tok.openmp.2h\n",
      "#SBATCH --mail-type=end\n",
      "#SBATCH --mail-user=dpc@rzg.mpg.de\n",
      "#SBATCH -t 2:00:00\n",
      "\n",
      "/toks/scratch/dpc/GIT/EasyVVUQ/env/bin/python3 -m distributed.cli.dask_worker tcp://130.183.15.203:36687 --nthreads 1 --nprocs 8 --memory-limit 1000.00MB --name dummy-name --nanny --death-timeout 60 --protocol tcp://\n",
      "\n",
      "<Client: 'tcp://130.183.15.203:36687' processes=0 threads=0, memory=0 B>\n",
      "Time for phase 1 = 0.074\n",
      "Number of samples = 32\n",
      "Time for phase 2 = 0.292\n",
      "Time for phase 3 = 65.456\n",
      "Time for phase 4 = 0.072\n",
      "Time for phase 5 = 0.418\n",
      "Time for phase 6 = 0.012\n",
      "Running using SLURM\n",
      "SLURMCluster(0ba676a8, 'tcp://130.183.15.203:38735', workers=0, threads=0, memory=0 B)\n",
      "#!/usr/bin/env bash\n",
      "\n",
      "#SBATCH -J dask-worker\n",
      "#SBATCH -p p.tok.openmp\n",
      "#SBATCH -n 1\n",
      "#SBATCH --cpus-per-task=8\n",
      "#SBATCH --mem=8G\n",
      "#SBATCH -t 00:30:00\n",
      "#SBATCH --qos=p.tok.openmp.2h\n",
      "#SBATCH --mail-type=end\n",
      "#SBATCH --mail-user=dpc@rzg.mpg.de\n",
      "#SBATCH -t 2:00:00\n",
      "\n",
      "/toks/scratch/dpc/GIT/EasyVVUQ/env/bin/python3 -m distributed.cli.dask_worker tcp://130.183.15.203:38735 --nthreads 1 --nprocs 8 --memory-limit 1000.00MB --name dummy-name --nanny --death-timeout 60 --protocol tcp://\n",
      "\n",
      "<Client: 'tcp://130.183.15.203:38735' processes=0 threads=0, memory=0 B>\n",
      "Time for phase 1 = 0.047\n",
      "Number of samples = 243\n",
      "Time for phase 2 = 1.213\n",
      "Time for phase 3 = 55.594\n",
      "Time for phase 4 = 0.159\n"
     ]
    },
    {
     "name": "stderr",
     "output_type": "stream",
     "text": [
      "/toks/scratch/dpc/GIT/EasyVVUQ/env/lib/python3.6/site-packages/easyvvuq-0.9.3+87.g6a726fb6.dirty-py3.6.egg/easyvvuq/analysis/sc_analysis.py:1265: RuntimeWarning: divide by zero encountered in true_divide\n",
      "  sobol[u] = D_u[u] / D\n"
     ]
    },
    {
     "name": "stdout",
     "output_type": "stream",
     "text": [
      "Time for phase 5 = 2.737\n",
      "Time for phase 6 = 0.016\n",
      "Running using SLURM\n",
      "SLURMCluster(acf72e13, 'tcp://130.183.15.203:35515', workers=0, threads=0, memory=0 B)\n",
      "#!/usr/bin/env bash\n",
      "\n",
      "#SBATCH -J dask-worker\n",
      "#SBATCH -p p.tok.openmp\n",
      "#SBATCH -n 1\n",
      "#SBATCH --cpus-per-task=8\n",
      "#SBATCH --mem=8G\n",
      "#SBATCH -t 00:30:00\n",
      "#SBATCH --qos=p.tok.openmp.2h\n",
      "#SBATCH --mail-type=end\n",
      "#SBATCH --mail-user=dpc@rzg.mpg.de\n",
      "#SBATCH -t 2:00:00\n",
      "\n",
      "/toks/scratch/dpc/GIT/EasyVVUQ/env/bin/python3 -m distributed.cli.dask_worker tcp://130.183.15.203:35515 --nthreads 1 --nprocs 8 --memory-limit 1000.00MB --name dummy-name --nanny --death-timeout 60 --protocol tcp://\n",
      "\n",
      "<Client: 'tcp://130.183.15.203:35515' processes=0 threads=0, memory=0 B>\n",
      "Time for phase 1 = 0.039\n",
      "Number of samples = 1024\n",
      "Time for phase 2 = 4.228\n",
      "Time for phase 3 = 20.480\n",
      "Time for phase 4 = 0.512\n"
     ]
    },
    {
     "name": "stderr",
     "output_type": "stream",
     "text": [
      "/toks/scratch/dpc/GIT/EasyVVUQ/env/lib/python3.6/site-packages/easyvvuq-0.9.3+87.g6a726fb6.dirty-py3.6.egg/easyvvuq/analysis/sc_analysis.py:1265: RuntimeWarning: divide by zero encountered in true_divide\n",
      "  sobol[u] = D_u[u] / D\n"
     ]
    },
    {
     "name": "stdout",
     "output_type": "stream",
     "text": [
      "Time for phase 5 = 12.735\n",
      "Time for phase 6 = 0.039\n",
      "Running using SLURM\n",
      "SLURMCluster(b35d1f53, 'tcp://130.183.15.203:44141', workers=0, threads=0, memory=0 B)\n",
      "#!/usr/bin/env bash\n",
      "\n",
      "#SBATCH -J dask-worker\n",
      "#SBATCH -p p.tok.openmp\n",
      "#SBATCH -n 1\n",
      "#SBATCH --cpus-per-task=8\n",
      "#SBATCH --mem=8G\n",
      "#SBATCH -t 00:30:00\n",
      "#SBATCH --qos=p.tok.openmp.2h\n",
      "#SBATCH --mail-type=end\n",
      "#SBATCH --mail-user=dpc@rzg.mpg.de\n",
      "#SBATCH -t 2:00:00\n",
      "\n",
      "/toks/scratch/dpc/GIT/EasyVVUQ/env/bin/python3 -m distributed.cli.dask_worker tcp://130.183.15.203:44141 --nthreads 1 --nprocs 8 --memory-limit 1000.00MB --name dummy-name --nanny --death-timeout 60 --protocol tcp://\n",
      "\n"
     ]
    },
    {
     "name": "stderr",
     "output_type": "stream",
     "text": [
      "/toks/scratch/dpc/GIT/EasyVVUQ/env/lib/python3.6/site-packages/distributed/node.py:155: UserWarning: Port 8787 is already in use.\n",
      "Perhaps you already have a cluster running?\n",
      "Hosting the HTTP server on port 46653 instead\n",
      "  http_address[\"port\"], self.http_server.port\n"
     ]
    },
    {
     "name": "stdout",
     "output_type": "stream",
     "text": [
      "<Client: 'tcp://130.183.15.203:44141' processes=0 threads=0, memory=0 B>\n",
      "Time for phase 1 = 0.039\n",
      "Number of samples = 3125\n",
      "Time for phase 2 = 12.397\n",
      "Time for phase 3 = 21.668\n",
      "Time for phase 4 = 1.652\n"
     ]
    },
    {
     "name": "stderr",
     "output_type": "stream",
     "text": [
      "/toks/scratch/dpc/GIT/EasyVVUQ/env/lib/python3.6/site-packages/easyvvuq-0.9.3+87.g6a726fb6.dirty-py3.6.egg/easyvvuq/analysis/sc_analysis.py:1265: RuntimeWarning: divide by zero encountered in true_divide\n",
      "  sobol[u] = D_u[u] / D\n"
     ]
    },
    {
     "name": "stdout",
     "output_type": "stream",
     "text": [
      "Time for phase 5 = 47.497\n",
      "Time for phase 6 = 0.104\n",
      "Running using SLURM\n",
      "SLURMCluster(47902e41, 'tcp://130.183.15.203:37405', workers=0, threads=0, memory=0 B)\n",
      "#!/usr/bin/env bash\n",
      "\n",
      "#SBATCH -J dask-worker\n",
      "#SBATCH -p p.tok.openmp\n",
      "#SBATCH -n 1\n",
      "#SBATCH --cpus-per-task=8\n",
      "#SBATCH --mem=8G\n",
      "#SBATCH -t 00:30:00\n",
      "#SBATCH --qos=p.tok.openmp.2h\n",
      "#SBATCH --mail-type=end\n",
      "#SBATCH --mail-user=dpc@rzg.mpg.de\n",
      "#SBATCH -t 2:00:00\n",
      "\n",
      "/toks/scratch/dpc/GIT/EasyVVUQ/env/bin/python3 -m distributed.cli.dask_worker tcp://130.183.15.203:37405 --nthreads 1 --nprocs 8 --memory-limit 1000.00MB --name dummy-name --nanny --death-timeout 60 --protocol tcp://\n",
      "\n"
     ]
    },
    {
     "name": "stderr",
     "output_type": "stream",
     "text": [
      "/toks/scratch/dpc/GIT/EasyVVUQ/env/lib/python3.6/site-packages/distributed/node.py:155: UserWarning: Port 8787 is already in use.\n",
      "Perhaps you already have a cluster running?\n",
      "Hosting the HTTP server on port 35545 instead\n",
      "  http_address[\"port\"], self.http_server.port\n"
     ]
    },
    {
     "name": "stdout",
     "output_type": "stream",
     "text": [
      "<Client: 'tcp://130.183.15.203:37405' processes=0 threads=0, memory=0 B>\n",
      "Time for phase 1 = 0.044\n",
      "Number of samples = 7776\n",
      "Time for phase 2 = 29.905\n",
      "Time for phase 3 = 33.192\n",
      "Time for phase 4 = 3.675\n"
     ]
    },
    {
     "name": "stderr",
     "output_type": "stream",
     "text": [
      "/toks/scratch/dpc/GIT/EasyVVUQ/env/lib/python3.6/site-packages/easyvvuq-0.9.3+87.g6a726fb6.dirty-py3.6.egg/easyvvuq/analysis/sc_analysis.py:1265: RuntimeWarning: divide by zero encountered in true_divide\n",
      "  sobol[u] = D_u[u] / D\n"
     ]
    },
    {
     "name": "stdout",
     "output_type": "stream",
     "text": [
      "Time for phase 5 = 162.945\n",
      "Time for phase 6 = 0.299\n",
      "Running using SLURM\n",
      "SLURMCluster(b75306e0, 'tcp://130.183.15.203:45459', workers=0, threads=0, memory=0 B)\n",
      "#!/usr/bin/env bash\n",
      "\n",
      "#SBATCH -J dask-worker\n",
      "#SBATCH -p p.tok.openmp\n",
      "#SBATCH -n 1\n",
      "#SBATCH --cpus-per-task=8\n",
      "#SBATCH --mem=8G\n",
      "#SBATCH -t 00:30:00\n",
      "#SBATCH --qos=p.tok.openmp.2h\n",
      "#SBATCH --mail-type=end\n",
      "#SBATCH --mail-user=dpc@rzg.mpg.de\n",
      "#SBATCH -t 2:00:00\n",
      "\n",
      "/toks/scratch/dpc/GIT/EasyVVUQ/env/bin/python3 -m distributed.cli.dask_worker tcp://130.183.15.203:45459 --nthreads 1 --nprocs 8 --memory-limit 1000.00MB --name dummy-name --nanny --death-timeout 60 --protocol tcp://\n",
      "\n",
      "<Client: 'tcp://130.183.15.203:45459' processes=0 threads=0, memory=0 B>\n",
      "Time for phase 1 = 0.047\n",
      "Number of samples = 16807\n",
      "Time for phase 2 = 63.525\n",
      "Time for phase 3 = 63.326\n",
      "Time for phase 4 = 8.102\n",
      "Time for phase 5 = 540.265\n",
      "Time for phase 6 = 0.961\n"
     ]
    }
   ],
   "source": [
    "# Calculate the stochastic collaction expansion for a range of orders\n",
    "\n",
    "if __name__ == '__main__':\n",
    "    local = False        # if True, use local cores; if False, use SLURM\n",
    "    dask = True         # if True, use DASK; if False, use a fall-back non-DASK option\n",
    "\n",
    "    R = {}\n",
    "    for pce_order in range(1, 7):\n",
    "        R[pce_order] = {}\n",
    "        (R[pce_order]['results_df'], \n",
    "         R[pce_order]['results'], \n",
    "         R[pce_order]['times'], \n",
    "         R[pce_order]['order'], \n",
    "         R[pce_order]['number_of_samples']) = run_sc_case(pce_order=pce_order, \n",
    "                                                           local=local, dask=dask, \n",
    "                                                           batch_size=7, use_files=False)"
   ]
  },
  {
   "cell_type": "code",
   "execution_count": 10,
   "metadata": {
    "ExecuteTime": {
     "end_time": "2021-05-25T09:52:13.656968Z",
     "start_time": "2021-05-25T09:52:12.153766Z"
    },
    "code_folding": [
     0
    ]
   },
   "outputs": [],
   "source": [
    "# save the results\n",
    "\n",
    "if __name__ == '__main__':\n",
    "\n",
    "    pickle.dump(R, open('collected_results.pickle','bw'))"
   ]
  },
  {
   "cell_type": "code",
   "execution_count": 11,
   "metadata": {
    "ExecuteTime": {
     "end_time": "2021-05-25T09:52:13.693972Z",
     "start_time": "2021-05-25T09:52:13.659077Z"
    },
    "code_folding": [
     0
    ],
    "scrolled": false
   },
   "outputs": [
    {
     "data": {
      "text/html": [
       "<div>\n",
       "<style scoped>\n",
       "    .dataframe tbody tr th:only-of-type {\n",
       "        vertical-align: middle;\n",
       "    }\n",
       "\n",
       "    .dataframe tbody tr th {\n",
       "        vertical-align: top;\n",
       "    }\n",
       "\n",
       "    .dataframe thead th {\n",
       "        text-align: right;\n",
       "    }\n",
       "</style>\n",
       "<table border=\"1\" class=\"dataframe\">\n",
       "  <thead>\n",
       "    <tr style=\"text-align: right;\">\n",
       "      <th></th>\n",
       "      <th>Total</th>\n",
       "      <th>Phase 1</th>\n",
       "      <th>Phase 2</th>\n",
       "      <th>Phase 3</th>\n",
       "      <th>Phase 4</th>\n",
       "      <th>Phase 5</th>\n",
       "      <th>Phase 6</th>\n",
       "    </tr>\n",
       "  </thead>\n",
       "  <tbody>\n",
       "    <tr>\n",
       "      <th>1</th>\n",
       "      <td>66.325095</td>\n",
       "      <td>0.073769</td>\n",
       "      <td>0.292247</td>\n",
       "      <td>65.455806</td>\n",
       "      <td>0.072163</td>\n",
       "      <td>0.418153</td>\n",
       "      <td>0.012419</td>\n",
       "    </tr>\n",
       "    <tr>\n",
       "      <th>2</th>\n",
       "      <td>59.766471</td>\n",
       "      <td>0.047180</td>\n",
       "      <td>1.212909</td>\n",
       "      <td>55.593826</td>\n",
       "      <td>0.159148</td>\n",
       "      <td>2.737098</td>\n",
       "      <td>0.015541</td>\n",
       "    </tr>\n",
       "    <tr>\n",
       "      <th>3</th>\n",
       "      <td>38.033707</td>\n",
       "      <td>0.038604</td>\n",
       "      <td>4.228436</td>\n",
       "      <td>20.479896</td>\n",
       "      <td>0.511536</td>\n",
       "      <td>12.735082</td>\n",
       "      <td>0.038927</td>\n",
       "    </tr>\n",
       "    <tr>\n",
       "      <th>4</th>\n",
       "      <td>83.357033</td>\n",
       "      <td>0.039083</td>\n",
       "      <td>12.396593</td>\n",
       "      <td>21.667781</td>\n",
       "      <td>1.651985</td>\n",
       "      <td>47.496712</td>\n",
       "      <td>0.104124</td>\n",
       "    </tr>\n",
       "    <tr>\n",
       "      <th>5</th>\n",
       "      <td>230.059863</td>\n",
       "      <td>0.043540</td>\n",
       "      <td>29.904552</td>\n",
       "      <td>33.191969</td>\n",
       "      <td>3.674595</td>\n",
       "      <td>162.944710</td>\n",
       "      <td>0.298696</td>\n",
       "    </tr>\n",
       "    <tr>\n",
       "      <th>6</th>\n",
       "      <td>676.227649</td>\n",
       "      <td>0.047405</td>\n",
       "      <td>63.524715</td>\n",
       "      <td>63.325999</td>\n",
       "      <td>8.101660</td>\n",
       "      <td>540.264647</td>\n",
       "      <td>0.961439</td>\n",
       "    </tr>\n",
       "  </tbody>\n",
       "</table>\n",
       "</div>"
      ],
      "text/plain": [
       "        Total   Phase 1    Phase 2    Phase 3   Phase 4     Phase 5   Phase 6\n",
       "1   66.325095  0.073769   0.292247  65.455806  0.072163    0.418153  0.012419\n",
       "2   59.766471  0.047180   1.212909  55.593826  0.159148    2.737098  0.015541\n",
       "3   38.033707  0.038604   4.228436  20.479896  0.511536   12.735082  0.038927\n",
       "4   83.357033  0.039083  12.396593  21.667781  1.651985   47.496712  0.104124\n",
       "5  230.059863  0.043540  29.904552  33.191969  3.674595  162.944710  0.298696\n",
       "6  676.227649  0.047405  63.524715  63.325999  8.101660  540.264647  0.961439"
      ]
     },
     "metadata": {},
     "output_type": "display_data"
    }
   ],
   "source": [
    "# produce a table of the time taken for various phases\n",
    "# the phases are:\n",
    "#   1: creation of campaign\n",
    "#   2: creation of samples\n",
    "#   3: running the cases\n",
    "#   4: calculation of statistics including Sobols\n",
    "#   5: returning of analysed results\n",
    "#   6: saving campaign and pickled results\n",
    "\n",
    "if __name__ == '__main__':\n",
    "\n",
    "    Timings = pd.DataFrame(np.array([R[r]['times'] for r in list(R.keys())]), \n",
    "                 columns=['Total', 'Phase 1', 'Phase 2', 'Phase 3', 'Phase 4', 'Phase 5', 'Phase 6'], \n",
    "                 index=[R[r]['order'] for r in list(R.keys())])\n",
    "    Timings.to_csv(open('Timings.csv', 'w'))\n",
    "    display(Timings)"
   ]
  },
  {
   "cell_type": "code",
   "execution_count": 12,
   "metadata": {
    "ExecuteTime": {
     "end_time": "2021-05-25T09:52:16.009329Z",
     "start_time": "2021-05-25T09:52:13.695896Z"
    },
    "code_folding": []
   },
   "outputs": [
    {
     "data": {
      "image/png": "[encoded data removed]",
      "text/plain": [
       "<Figure size 432x288 with 1 Axes>"
      ]
     },
     "metadata": {
      "needs_background": "light"
     },
     "output_type": "display_data"
    }
   ],
   "source": [
    "# plot the convergence of the mean and standard deviation to that of the highest order\n",
    "\n",
    "if __name__ == '__main__':\n",
    "    last = -1\n",
    "    O = [R[r]['order'] for r in list(R.keys())]\n",
    "    if len(O[0:last]) > 0:\n",
    "        plt.figure()\n",
    "        plt.semilogy([o for o in O[0:last]],\n",
    "                     [np.sqrt(np.mean((R[o]['results'].describe('te', 'mean') - \n",
    "                                       R[O[last]]['results'].describe('te', 'mean'))**2)) for o in O[0:last]],\n",
    "                     'o-', label='mean')\n",
    "        plt.semilogy([o for o in O[0:last]],\n",
    "                     [np.sqrt(np.mean((R[o]['results'].describe('te', 'std') - \n",
    "                                       R[O[last]]['results'].describe('te', 'std'))**2)) for o in O[0:last]],\n",
    "                     'o-', label='std')\n",
    "        plt.xlabel('SC order')\n",
    "        plt.ylabel('RMSerror compared to order=%s' % (O[last]))\n",
    "        plt.legend(loc=0)\n",
    "        plt.savefig('Convergence_mean_std.png')\n",
    "        plt.savefig('Convergence_mean_std.pdf')"
   ]
  },
  {
   "cell_type": "code",
   "execution_count": 13,
   "metadata": {
    "ExecuteTime": {
     "end_time": "2021-05-25T09:52:17.535219Z",
     "start_time": "2021-05-25T09:52:16.011352Z"
    },
    "code_folding": [
     0
    ]
   },
   "outputs": [
    {
     "data": {
      "image/png": "[encoded data removed]",
      "text/plain": [
       "<Figure size 432x288 with 1 Axes>"
      ]
     },
     "metadata": {
      "needs_background": "light"
     },
     "output_type": "display_data"
    }
   ],
   "source": [
    "# plot the convergence of the first sobol to that of the highest order\n",
    "\n",
    "if __name__ == '__main__':\n",
    "    last = -1\n",
    "    O = [R[r]['order'] for r in list(R.keys())]\n",
    "    if len(O[0:last]) > 0:\n",
    "        plt.figure()\n",
    "        O = [R[r]['order'] for r in list(R.keys())]\n",
    "        for v in list(R[O[last]]['results'].sobols_first('te').keys()):\n",
    "            plt.semilogy([o for o in O[0:last]],\n",
    "                         [np.sqrt(np.mean((R[o]['results'].sobols_first('te')[v] - \n",
    "                                           R[O[last]]['results'].sobols_first('te')[v])**2)) for o in O[0:last]],\n",
    "                         'o-',\n",
    "                         label=v)\n",
    "        plt.xlabel('SC order')\n",
    "        plt.ylabel('RMSerror for 1st sobol compared to order=%s' % (O[last]))\n",
    "        plt.legend(loc=0)\n",
    "        plt.savefig('Convergence_sobol_first.png')\n",
    "        plt.savefig('Convergence_sobol_first.pdf')"
   ]
  },
  {
   "cell_type": "code",
   "execution_count": 14,
   "metadata": {
    "ExecuteTime": {
     "end_time": "2021-05-25T09:52:20.245499Z",
     "start_time": "2021-05-25T09:52:17.536998Z"
    },
    "code_folding": [
     0
    ],
    "scrolled": false
   },
   "outputs": [
    {
     "name": "stdout",
     "output_type": "stream",
     "text": [
      "Problem with some of the percentiles\n",
      "Problem with some of the percentiles\n",
      "Problem with sobols_second\n",
      "Problem with sobols_total\n",
      "Problem with distribution\n",
      "Problem with sobols_second\n",
      "Problem with sobols_total\n"
     ]
    },
    {
     "data": {
      "image/png": "[encoded data removed]",
      "text/plain": [
       "<Figure size 432x288 with 1 Axes>"
      ]
     },
     "metadata": {
      "needs_background": "light"
     },
     "output_type": "display_data"
    },
    {
     "data": {
      "image/png": "[encoded data removed]",
      "text/plain": [
       "<Figure size 432x288 with 1 Axes>"
      ]
     },
     "metadata": {
      "needs_background": "light"
     },
     "output_type": "display_data"
    },
    {
     "data": {
      "image/png": "[encoded data removed]",
      "text/plain": [
       "<Figure size 432x288 with 1 Axes>"
      ]
     },
     "metadata": {
      "needs_background": "light"
     },
     "output_type": "display_data"
    },
    {
     "data": {
      "text/plain": [
       "<Figure size 432x288 with 0 Axes>"
      ]
     },
     "metadata": {},
     "output_type": "display_data"
    },
    {
     "data": {
      "text/plain": [
       "<Figure size 432x288 with 0 Axes>"
      ]
     },
     "metadata": {},
     "output_type": "display_data"
    },
    {
     "data": {
      "image/png": "[encoded data removed]",
      "text/plain": [
       "<Figure size 432x288 with 1 Axes>"
      ]
     },
     "metadata": {
      "needs_background": "light"
     },
     "output_type": "display_data"
    },
    {
     "data": {
      "text/plain": [
       "<Figure size 432x288 with 0 Axes>"
      ]
     },
     "metadata": {},
     "output_type": "display_data"
    },
    {
     "data": {
      "text/plain": [
       "<Figure size 432x288 with 0 Axes>"
      ]
     },
     "metadata": {},
     "output_type": "display_data"
    }
   ],
   "source": [
    "# plot a standard set of graphs for the highest order case\n",
    "\n",
    "if __name__ == '__main__':\n",
    "    last = -1\n",
    "    title = 'fusion test case with SC order = %i' % list(R.values())[last]['order']\n",
    "    plot_Te(list(R.values())[last]['results'], title=title,)\n",
    "    plot_ne(list(R.values())[last]['results'], title=title)\n",
    "    plot_sobols_first(list(R.values())[last]['results'], title=title)\n",
    "    try:\n",
    "        plot_sobols_second(list(R.values())[last]['results'], title=title)\n",
    "    except:\n",
    "        print('Problem with sobols_second')\n",
    "    try:\n",
    "        plot_sobols_total(list(R.values())[last]['results'], title=title)\n",
    "    except:\n",
    "        print('Problem with sobols_total')\n",
    "    try:\n",
    "        plot_distribution(list(R.values())[last]['results'], list(R.values())[last]['results_df'], title=title)\n",
    "    except:\n",
    "        print('Problem with distribution')\n",
    "    plot_sobols_first(list(R.values())[last]['results'], title=title, field='ne')\n",
    "    try:\n",
    "        plot_sobols_second(list(R.values())[last]['results'], title=title, field='ne')\n",
    "    except:\n",
    "        print('Problem with sobols_second')\n",
    "    try:\n",
    "        plot_sobols_total(list(R.values())[last]['results'], title=title, field='ne')\n",
    "    except:\n",
    "        print('Problem with sobols_total')"
   ]
  },
  {
   "cell_type": "code",
   "execution_count": 15,
   "metadata": {
    "ExecuteTime": {
     "end_time": "2021-05-25T09:52:20.250838Z",
     "start_time": "2021-05-25T09:52:20.247429Z"
    }
   },
   "outputs": [],
   "source": [
    "RRR = list(R.values())[last]['results']"
   ]
  },
  {
   "cell_type": "code",
   "execution_count": 16,
   "metadata": {
    "ExecuteTime": {
     "end_time": "2021-05-25T09:52:22.244731Z",
     "start_time": "2021-05-25T09:52:20.252862Z"
    }
   },
   "outputs": [
    {
     "data": {
      "text/html": [
       "<div>\n",
       "<style scoped>\n",
       "    .dataframe tbody tr th:only-of-type {\n",
       "        vertical-align: middle;\n",
       "    }\n",
       "\n",
       "    .dataframe tbody tr th {\n",
       "        vertical-align: top;\n",
       "    }\n",
       "\n",
       "    .dataframe thead th {\n",
       "        text-align: right;\n",
       "    }\n",
       "</style>\n",
       "<table border=\"1\" class=\"dataframe\">\n",
       "  <thead>\n",
       "    <tr style=\"text-align: right;\">\n",
       "      <th></th>\n",
       "      <th></th>\n",
       "      <th>count</th>\n",
       "      <th>mean</th>\n",
       "      <th>std</th>\n",
       "      <th>min</th>\n",
       "      <th>25%</th>\n",
       "      <th>50%</th>\n",
       "      <th>75%</th>\n",
       "      <th>max</th>\n",
       "    </tr>\n",
       "  </thead>\n",
       "  <tbody>\n",
       "    <tr>\n",
       "      <th>run_id</th>\n",
       "      <th>0</th>\n",
       "      <td>16807.0</td>\n",
       "      <td>8404.000</td>\n",
       "      <td>4.851907e+03</td>\n",
       "      <td>1.000000e+00</td>\n",
       "      <td>4.202500e+03</td>\n",
       "      <td>8404.000</td>\n",
       "      <td>1.260550e+04</td>\n",
       "      <td>1.680700e+04</td>\n",
       "    </tr>\n",
       "    <tr>\n",
       "      <th>iteration</th>\n",
       "      <th>0</th>\n",
       "      <td>16807.0</td>\n",
       "      <td>0.000</td>\n",
       "      <td>0.000000e+00</td>\n",
       "      <td>0.000000e+00</td>\n",
       "      <td>0.000000e+00</td>\n",
       "      <td>0.000</td>\n",
       "      <td>0.000000e+00</td>\n",
       "      <td>0.000000e+00</td>\n",
       "    </tr>\n",
       "    <tr>\n",
       "      <th>Qe_tot</th>\n",
       "      <th>0</th>\n",
       "      <td>16807.0</td>\n",
       "      <td>2000000.000</td>\n",
       "      <td>1.358773e+05</td>\n",
       "      <td>1.810178e+06</td>\n",
       "      <td>1.851694e+06</td>\n",
       "      <td>2000000.000</td>\n",
       "      <td>2.148306e+06</td>\n",
       "      <td>2.189822e+06</td>\n",
       "    </tr>\n",
       "    <tr>\n",
       "      <th>H0</th>\n",
       "      <th>0</th>\n",
       "      <td>16807.0</td>\n",
       "      <td>0.100</td>\n",
       "      <td>6.793864e-02</td>\n",
       "      <td>5.089209e-03</td>\n",
       "      <td>2.584688e-02</td>\n",
       "      <td>0.100</td>\n",
       "      <td>1.741531e-01</td>\n",
       "      <td>1.949108e-01</td>\n",
       "    </tr>\n",
       "    <tr>\n",
       "      <th>Hw</th>\n",
       "      <th>0</th>\n",
       "      <td>16807.0</td>\n",
       "      <td>0.300</td>\n",
       "      <td>1.358773e-01</td>\n",
       "      <td>1.101784e-01</td>\n",
       "      <td>1.516938e-01</td>\n",
       "      <td>0.300</td>\n",
       "      <td>4.483062e-01</td>\n",
       "      <td>4.898216e-01</td>\n",
       "    </tr>\n",
       "    <tr>\n",
       "      <th>...</th>\n",
       "      <th>...</th>\n",
       "      <td>...</td>\n",
       "      <td>...</td>\n",
       "      <td>...</td>\n",
       "      <td>...</td>\n",
       "      <td>...</td>\n",
       "      <td>...</td>\n",
       "      <td>...</td>\n",
       "      <td>...</td>\n",
       "    </tr>\n",
       "    <tr>\n",
       "      <th rowspan=\"5\" valign=\"top\">rho_norm</th>\n",
       "      <th>95</th>\n",
       "      <td>16807.0</td>\n",
       "      <td>0.955</td>\n",
       "      <td>0.000000e+00</td>\n",
       "      <td>9.550000e-01</td>\n",
       "      <td>9.550000e-01</td>\n",
       "      <td>0.955</td>\n",
       "      <td>9.550000e-01</td>\n",
       "      <td>9.550000e-01</td>\n",
       "    </tr>\n",
       "    <tr>\n",
       "      <th>96</th>\n",
       "      <td>16807.0</td>\n",
       "      <td>0.965</td>\n",
       "      <td>0.000000e+00</td>\n",
       "      <td>9.650000e-01</td>\n",
       "      <td>9.650000e-01</td>\n",
       "      <td>0.965</td>\n",
       "      <td>9.650000e-01</td>\n",
       "      <td>9.650000e-01</td>\n",
       "    </tr>\n",
       "    <tr>\n",
       "      <th>97</th>\n",
       "      <td>16807.0</td>\n",
       "      <td>0.975</td>\n",
       "      <td>1.110256e-16</td>\n",
       "      <td>9.750000e-01</td>\n",
       "      <td>9.750000e-01</td>\n",
       "      <td>0.975</td>\n",
       "      <td>9.750000e-01</td>\n",
       "      <td>9.750000e-01</td>\n",
       "    </tr>\n",
       "    <tr>\n",
       "      <th>98</th>\n",
       "      <td>16807.0</td>\n",
       "      <td>0.985</td>\n",
       "      <td>3.330768e-16</td>\n",
       "      <td>9.850000e-01</td>\n",
       "      <td>9.850000e-01</td>\n",
       "      <td>0.985</td>\n",
       "      <td>9.850000e-01</td>\n",
       "      <td>9.850000e-01</td>\n",
       "    </tr>\n",
       "    <tr>\n",
       "      <th>99</th>\n",
       "      <td>16807.0</td>\n",
       "      <td>0.995</td>\n",
       "      <td>5.551280e-16</td>\n",
       "      <td>9.950000e-01</td>\n",
       "      <td>9.950000e-01</td>\n",
       "      <td>0.995</td>\n",
       "      <td>9.950000e-01</td>\n",
       "      <td>9.950000e-01</td>\n",
       "    </tr>\n",
       "  </tbody>\n",
       "</table>\n",
       "<p>417 rows × 8 columns</p>\n",
       "</div>"
      ],
      "text/plain": [
       "                count         mean           std           min           25%  \\\n",
       "run_id    0   16807.0     8404.000  4.851907e+03  1.000000e+00  4.202500e+03   \n",
       "iteration 0   16807.0        0.000  0.000000e+00  0.000000e+00  0.000000e+00   \n",
       "Qe_tot    0   16807.0  2000000.000  1.358773e+05  1.810178e+06  1.851694e+06   \n",
       "H0        0   16807.0        0.100  6.793864e-02  5.089209e-03  2.584688e-02   \n",
       "Hw        0   16807.0        0.300  1.358773e-01  1.101784e-01  1.516938e-01   \n",
       "...               ...          ...           ...           ...           ...   \n",
       "rho_norm  95  16807.0        0.955  0.000000e+00  9.550000e-01  9.550000e-01   \n",
       "          96  16807.0        0.965  0.000000e+00  9.650000e-01  9.650000e-01   \n",
       "          97  16807.0        0.975  1.110256e-16  9.750000e-01  9.750000e-01   \n",
       "          98  16807.0        0.985  3.330768e-16  9.850000e-01  9.850000e-01   \n",
       "          99  16807.0        0.995  5.551280e-16  9.950000e-01  9.950000e-01   \n",
       "\n",
       "                      50%           75%           max  \n",
       "run_id    0      8404.000  1.260550e+04  1.680700e+04  \n",
       "iteration 0         0.000  0.000000e+00  0.000000e+00  \n",
       "Qe_tot    0   2000000.000  2.148306e+06  2.189822e+06  \n",
       "H0        0         0.100  1.741531e-01  1.949108e-01  \n",
       "Hw        0         0.300  4.483062e-01  4.898216e-01  \n",
       "...                   ...           ...           ...  \n",
       "rho_norm  95        0.955  9.550000e-01  9.550000e-01  \n",
       "          96        0.965  9.650000e-01  9.650000e-01  \n",
       "          97        0.975  9.750000e-01  9.750000e-01  \n",
       "          98        0.985  9.850000e-01  9.850000e-01  \n",
       "          99        0.995  9.950000e-01  9.950000e-01  \n",
       "\n",
       "[417 rows x 8 columns]"
      ]
     },
     "execution_count": 16,
     "metadata": {},
     "output_type": "execute_result"
    }
   ],
   "source": [
    "RRR.samples.describe().T"
   ]
  },
  {
   "cell_type": "code",
   "execution_count": 17,
   "metadata": {
    "ExecuteTime": {
     "end_time": "2021-05-25T12:00:34.210507Z",
     "start_time": "2021-05-25T12:00:33.340248Z"
    }
   },
   "outputs": [
    {
     "ename": "AxisError",
     "evalue": "axis 2 is out of bounds for array of dimension 1",
     "output_type": "error",
     "traceback": [
      "\u001b[0;31m---------------------------------------------------------------------------\u001b[0m",
      "\u001b[0;31mAxisError\u001b[0m                                 Traceback (most recent call last)",
      "\u001b[0;32m<ipython-input-17-93a108b53326>\u001b[0m in \u001b[0;36m<module>\u001b[0;34m\u001b[0m\n\u001b[1;32m      6\u001b[0m         \u001b[0mresults_df\u001b[0m \u001b[0;34m=\u001b[0m \u001b[0mr\u001b[0m\u001b[0;34m[\u001b[0m\u001b[0;34m'results_df'\u001b[0m\u001b[0;34m]\u001b[0m\u001b[0;34m\u001b[0m\u001b[0;34m\u001b[0m\u001b[0m\n\u001b[1;32m      7\u001b[0m         \u001b[0mresults\u001b[0m \u001b[0;34m=\u001b[0m \u001b[0mr\u001b[0m\u001b[0;34m[\u001b[0m\u001b[0;34m'results'\u001b[0m\u001b[0;34m]\u001b[0m\u001b[0;34m\u001b[0m\u001b[0;34m\u001b[0m\u001b[0m\n\u001b[0;32m----> 8\u001b[0;31m         \u001b[0mte_surrogate\u001b[0m \u001b[0;34m=\u001b[0m \u001b[0mnp\u001b[0m\u001b[0;34m.\u001b[0m\u001b[0msqueeze\u001b[0m\u001b[0;34m(\u001b[0m\u001b[0mnp\u001b[0m\u001b[0;34m.\u001b[0m\u001b[0marray\u001b[0m\u001b[0;34m(\u001b[0m\u001b[0mresults\u001b[0m\u001b[0;34m.\u001b[0m\u001b[0msurrogate\u001b[0m\u001b[0;34m(\u001b[0m\u001b[0;34m)\u001b[0m\u001b[0;34m(\u001b[0m\u001b[0mresults_df\u001b[0m\u001b[0;34m[\u001b[0m\u001b[0mresults\u001b[0m\u001b[0;34m.\u001b[0m\u001b[0minputs\u001b[0m\u001b[0;34m]\u001b[0m\u001b[0;34m)\u001b[0m\u001b[0;34m[\u001b[0m\u001b[0;34m'te'\u001b[0m\u001b[0;34m]\u001b[0m\u001b[0;34m)\u001b[0m\u001b[0;34m,\u001b[0m \u001b[0maxis\u001b[0m\u001b[0;34m=\u001b[0m\u001b[0;36m2\u001b[0m\u001b[0;34m)\u001b[0m\u001b[0;34m\u001b[0m\u001b[0;34m\u001b[0m\u001b[0m\n\u001b[0m\u001b[1;32m      9\u001b[0m         \u001b[0mte_samples\u001b[0m \u001b[0;34m=\u001b[0m \u001b[0mnp\u001b[0m\u001b[0;34m.\u001b[0m\u001b[0marray\u001b[0m\u001b[0;34m(\u001b[0m\u001b[0mresults_df\u001b[0m\u001b[0;34m[\u001b[0m\u001b[0;34m'te'\u001b[0m\u001b[0;34m]\u001b[0m\u001b[0;34m)\u001b[0m\u001b[0;34m.\u001b[0m\u001b[0mT\u001b[0m\u001b[0;34m\u001b[0m\u001b[0;34m\u001b[0m\u001b[0m\n\u001b[1;32m     10\u001b[0m         \u001b[0m_RMS\u001b[0m\u001b[0;34m.\u001b[0m\u001b[0mappend\u001b[0m\u001b[0;34m(\u001b[0m\u001b[0;34m(\u001b[0m\u001b[0mnp\u001b[0m\u001b[0;34m.\u001b[0m\u001b[0msqrt\u001b[0m\u001b[0;34m(\u001b[0m\u001b[0;34m(\u001b[0m\u001b[0;34m(\u001b[0m\u001b[0;34m(\u001b[0m\u001b[0mte_surrogate\u001b[0m \u001b[0;34m-\u001b[0m \u001b[0mte_samples\u001b[0m\u001b[0;34m)\u001b[0m \u001b[0;34m/\u001b[0m \u001b[0mte_samples\u001b[0m\u001b[0;34m)\u001b[0m\u001b[0;34m**\u001b[0m\u001b[0;36m2\u001b[0m\u001b[0;34m)\u001b[0m\u001b[0;34m.\u001b[0m\u001b[0mmean\u001b[0m\u001b[0;34m(\u001b[0m\u001b[0;34m)\u001b[0m\u001b[0;34m)\u001b[0m\u001b[0;34m)\u001b[0m\u001b[0;34m)\u001b[0m\u001b[0;34m\u001b[0m\u001b[0;34m\u001b[0m\u001b[0m\n",
      "\u001b[0;32m<__array_function__ internals>\u001b[0m in \u001b[0;36msqueeze\u001b[0;34m(*args, **kwargs)\u001b[0m\n",
      "\u001b[0;32m/toks/scratch/dpc/GIT/EasyVVUQ/env/lib/python3.6/site-packages/numpy/core/fromnumeric.py\u001b[0m in \u001b[0;36msqueeze\u001b[0;34m(a, axis)\u001b[0m\n\u001b[1;32m   1493\u001b[0m         \u001b[0;32mreturn\u001b[0m \u001b[0msqueeze\u001b[0m\u001b[0;34m(\u001b[0m\u001b[0;34m)\u001b[0m\u001b[0;34m\u001b[0m\u001b[0;34m\u001b[0m\u001b[0m\n\u001b[1;32m   1494\u001b[0m     \u001b[0;32melse\u001b[0m\u001b[0;34m:\u001b[0m\u001b[0;34m\u001b[0m\u001b[0;34m\u001b[0m\u001b[0m\n\u001b[0;32m-> 1495\u001b[0;31m         \u001b[0;32mreturn\u001b[0m \u001b[0msqueeze\u001b[0m\u001b[0;34m(\u001b[0m\u001b[0maxis\u001b[0m\u001b[0;34m=\u001b[0m\u001b[0maxis\u001b[0m\u001b[0;34m)\u001b[0m\u001b[0;34m\u001b[0m\u001b[0;34m\u001b[0m\u001b[0m\n\u001b[0m\u001b[1;32m   1496\u001b[0m \u001b[0;34m\u001b[0m\u001b[0m\n\u001b[1;32m   1497\u001b[0m \u001b[0;34m\u001b[0m\u001b[0m\n",
      "\u001b[0;31mAxisError\u001b[0m: axis 2 is out of bounds for array of dimension 1"
     ]
    }
   ],
   "source": [
    "# plot the convergence of the mean and standard deviation to that of the highest order\n",
    "if __name__ == '__main__':\n",
    "    _o = []\n",
    "    _RMS = []\n",
    "    for r in R.values():\n",
    "        results_df = r['results_df']\n",
    "        results = r['results']\n",
    "        te_surrogate = np.squeeze(np.array(results.surrogate()(results_df[results.inputs])['te']), axis=2)\n",
    "        te_samples = np.array(results_df['te']).T\n",
    "        _RMS.append((np.sqrt((((te_surrogate - te_samples) / te_samples)**2).mean())))\n",
    "        _o.append(r['order'])\n",
    "\n",
    "    plt.figure()\n",
    "    plt.semilogy(_o, _RMS, 'o-')\n",
    "    plt.xlabel('PCE order')\n",
    "    plt.ylabel('RMS error for the PCE surrogate')\n",
    "    plt.legend(loc=0)\n",
    "    #plt.savefig('Convergence_surrogate.png')\n",
    "    #plt.savefig('Convergence_surrogate.pdf')"
   ]
  },
  {
   "cell_type": "code",
   "execution_count": 19,
   "metadata": {
    "ExecuteTime": {
     "end_time": "2021-05-25T12:01:16.782735Z",
     "start_time": "2021-05-25T12:01:16.745836Z"
    }
   },
   "outputs": [
    {
     "data": {
      "text/plain": [
       "array([0., 0., 0., 0., 0., 0., 0., 0., 0., 0., 0., 0., 0., 0., 0., 0., 0.,\n",
       "       0., 0., 0., 0., 0., 0., 0., 0., 0., 0., 0., 0., 0., 0., 0., 0., 0.,\n",
       "       0., 0., 0., 0., 0., 0., 0., 0., 0., 0., 0., 0., 0., 0., 0., 0., 0.,\n",
       "       0., 0., 0., 0., 0., 0., 0., 0., 0., 0., 0., 0., 0., 0., 0., 0., 0.,\n",
       "       0., 0., 0., 0., 0., 0., 0., 0., 0., 0., 0., 0., 0., 0., 0., 0., 0.,\n",
       "       0., 0., 0., 0., 0., 0., 0., 0., 0., 0., 0., 0., 0., 0., 0.])"
      ]
     },
     "execution_count": 19,
     "metadata": {},
     "output_type": "execute_result"
    }
   ],
   "source": [
    "(np.array(results.surrogate()(results_df[results.inputs])['te']))"
   ]
  }
 ],
 "metadata": {
  "jupytext": {
   "cell_metadata_filter": "-all",
   "executable": " /usr/bin/env python",
   "main_language": "python",
   "notebook_metadata_filter": "-all"
  },
  "kernelspec": {
   "display_name": "Python 3",
   "language": "python",
   "name": "python3"
  },
  "language_info": {
   "codemirror_mode": {
    "name": "ipython",
    "version": 3
   },
   "file_extension": ".py",
   "mimetype": "text/x-python",
   "name": "python",
   "nbconvert_exporter": "python",
   "pygments_lexer": "ipython3",
   "version": "3.6.7"
  },
  "latex_envs": {
   "LaTeX_envs_menu_present": true,
   "autoclose": false,
   "autocomplete": true,
   "bibliofile": "biblio.bib",
   "cite_by": "apalike",
   "current_citInitial": 1,
   "eqLabelWithNumbers": true,
   "eqNumInitial": 1,
   "hotkeys": {
    "equation": "Ctrl-E",
    "itemize": "Ctrl-I"
   },
   "labels_anchors": false,
   "latex_user_defs": false,
   "report_style_numbering": false,
   "user_envs_cfg": false
  }
 },
 "nbformat": 4,
 "nbformat_minor": 4
}
