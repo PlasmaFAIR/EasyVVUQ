{
 "cells": [
  {
   "cell_type": "markdown",
   "metadata": {},
   "source": [
    "# EasyVVUQ fusion tutorial\n",
    "\n",
    "Run an EasyVVUQ campaign to analyze the sensitivity of the temperature\n",
    "profile predicted by a simplified model of heat conduction in a\n",
    "tokamak plasma.\n",
    "\n",
    "This is done with PCE."
   ]
  },
  {
   "cell_type": "code",
   "execution_count": null,
   "metadata": {
    "ExecuteTime": {
     "end_time": "2021-04-21T10:49:11.315266Z",
     "start_time": "2021-04-21T10:49:11.305156Z"
    }
   },
   "outputs": [],
   "source": [
    "#!pip install EasyVVUQ\n",
    "#!pip install future\n",
    "#!pip install fipy"
   ]
  },
  {
   "cell_type": "code",
   "execution_count": null,
   "metadata": {
    "ExecuteTime": {
     "end_time": "2021-04-21T10:49:14.031118Z",
     "start_time": "2021-04-21T10:49:11.317303Z"
    }
   },
   "outputs": [],
   "source": [
    "# import packages that we will use\n",
    "\n",
    "import os\n",
    "import easyvvuq as uq\n",
    "import chaospy as cp\n",
    "import pickle\n",
    "import time\n",
    "import numpy as np \n",
    "import matplotlib.pylab as plt"
   ]
  },
  {
   "cell_type": "code",
   "execution_count": null,
   "metadata": {
    "ExecuteTime": {
     "end_time": "2021-04-21T10:49:14.035396Z",
     "start_time": "2021-04-21T10:49:14.032198Z"
    }
   },
   "outputs": [],
   "source": [
    "# Define parameter space\n",
    "\n",
    "params = {\n",
    "    \"Qe_tot\":   {\"type\": \"float\",   \"min\": 1.0e6, \"max\": 50.0e6, \"default\": 2e6}, \n",
    "    \"H0\":       {\"type\": \"float\",   \"min\": 0.00,  \"max\": 1.0,    \"default\": 0}, \n",
    "    \"Hw\":       {\"type\": \"float\",   \"min\": 0.01,  \"max\": 100.0,  \"default\": 0.1}, \n",
    "    \"Te_bc\":    {\"type\": \"float\",   \"min\": 10.0,  \"max\": 1000.0, \"default\": 100}, \n",
    "    \"chi\":      {\"type\": \"float\",   \"min\": 0.01,  \"max\": 100.0,  \"default\": 1}, \n",
    "    \"a0\":       {\"type\": \"float\",   \"min\": 0.2,   \"max\": 10.0,   \"default\": 1}, \n",
    "    \"R0\":       {\"type\": \"float\",   \"min\": 0.5,   \"max\": 20.0,   \"default\": 3}, \n",
    "    \"E0\":       {\"type\": \"float\",   \"min\": 1.0,   \"max\": 10.0,   \"default\": 1.5}, \n",
    "    \"b_pos\":    {\"type\": \"float\",   \"min\": 0.95,  \"max\": 0.99,   \"default\": 0.98}, \n",
    "    \"b_height\": {\"type\": \"float\",   \"min\": 3e19,  \"max\": 10e19,  \"default\": 6e19}, \n",
    "    \"b_sol\":    {\"type\": \"float\",   \"min\": 2e18,  \"max\": 3e19,   \"default\": 2e19}, \n",
    "    \"b_width\":  {\"type\": \"float\",   \"min\": 0.005, \"max\": 0.025,  \"default\": 0.01}, \n",
    "    \"b_slope\":  {\"type\": \"float\",   \"min\": 0.0,   \"max\": 0.05,   \"default\": 0.01}, \n",
    "    \"nr\":       {\"type\": \"integer\", \"min\": 10,    \"max\": 1000,   \"default\": 100}, \n",
    "    \"dt\":       {\"type\": \"float\",   \"min\": 1e-3,  \"max\": 1e3,    \"default\": 100},\n",
    "    \"out_file\": {\"type\": \"string\",  \"default\": \"output.csv\"}\n",
    "}"
   ]
  },
  {
   "cell_type": "code",
   "execution_count": null,
   "metadata": {
    "ExecuteTime": {
     "end_time": "2021-04-21T10:49:14.038294Z",
     "start_time": "2021-04-21T10:49:14.036316Z"
    }
   },
   "outputs": [],
   "source": [
    "# Create an encoder, decoder and collater for PCE test app\n",
    "\n",
    "encoder = uq.encoders.GenericEncoder(template_fname='fusion.template',\n",
    "                                     delimiter='$',\n",
    "                                     target_filename='fusion_in.json')\n",
    "\n",
    "\n",
    "decoder = uq.decoders.SimpleCSV(target_filename=\"output.csv\",\n",
    "                                output_columns=[\"te\", \"ne\", \"rho\", \"rho_norm\"])\n",
    "                                \n",
    "\n",
    "execute = uq.actions.ExecuteLocal('python3 %s/fusion_model.py fusion_in.json' % (os.getcwd()))\n",
    "\n",
    "actions = uq.actions.Actions(uq.actions.CreateRunDirectory('/tmp'), \n",
    "                  uq.actions.Encode(encoder), execute, uq.actions.Decode(decoder))\n",
    "\n",
    "#collater = uq.collate.AggregateSamples(average=False)"
   ]
  },
  {
   "cell_type": "code",
   "execution_count": null,
   "metadata": {
    "ExecuteTime": {
     "end_time": "2021-04-21T10:49:14.040269Z",
     "start_time": "2021-04-21T10:49:14.038900Z"
    }
   },
   "outputs": [],
   "source": [
    "# Create the sampler (here simplified to two uncertain quantities)\n",
    "\n",
    "vary = {\n",
    "    \"Qe_tot\":   cp.Uniform(1.8e6, 2.2e6),\n",
    "    \"Te_bc\":    cp.Uniform(80.0,  120.0)\n",
    "}"
   ]
  },
  {
   "cell_type": "markdown",
   "metadata": {},
   "source": [
    "\"\"\" other possible quantities to vary\n",
    "    \"H0\":       cp.Uniform(0.0,   0.2),\n",
    "    \"Hw\":       cp.Uniform(0.1,   0.5),\n",
    "    \"chi\":      cp.Uniform(0.8,   1.2), \n",
    "\n",
    "    \"a0\":       cp.Uniform(0.9,   1.1), \n",
    "    \"R0\":       cp.Uniform(2.7,   3.3), \n",
    "    \"E0\":       cp.Uniform(1.4,   1.6), \n",
    "    \"b_pos\":    cp.Uniform(0.95,  0.99), \n",
    "    \"b_height\": cp.Uniform(5e19,  7e19), \n",
    "    \"b_sol\":    cp.Uniform(1e19,  3e19), \n",
    "    \"b_width\":  cp.Uniform(0.015, 0.025), \n",
    "    \"b_slope\":  cp.Uniform(0.005, 0.020)\n",
    "\"\"\""
   ]
  },
  {
   "cell_type": "code",
   "execution_count": null,
   "metadata": {
    "ExecuteTime": {
     "end_time": "2021-04-21T10:49:14.056721Z",
     "start_time": "2021-04-21T10:49:14.040929Z"
    }
   },
   "outputs": [],
   "source": [
    "# Set up a fresh campaign called \"fusion_pce.\"\n",
    "\n",
    "my_campaign = uq.Campaign(name='fusion_pce.')"
   ]
  },
  {
   "cell_type": "code",
   "execution_count": null,
   "metadata": {
    "ExecuteTime": {
     "end_time": "2021-04-21T10:49:14.066319Z",
     "start_time": "2021-04-21T10:49:14.057442Z"
    }
   },
   "outputs": [],
   "source": [
    "# Add the app (automatically set as current app)\n",
    "\n",
    "my_campaign.add_app(name=\"fusion\", params=params, actions=actions)"
   ]
  },
  {
   "cell_type": "code",
   "execution_count": null,
   "metadata": {
    "ExecuteTime": {
     "end_time": "2021-04-21T10:49:14.119670Z",
     "start_time": "2021-04-21T10:49:14.068057Z"
    }
   },
   "outputs": [],
   "source": [
    "# Associate a sampler with the campaign\n",
    "\n",
    "my_campaign.set_sampler(uq.sampling.PCESampler(vary=vary, polynomial_order=3))"
   ]
  },
  {
   "cell_type": "code",
   "execution_count": null,
   "metadata": {
    "ExecuteTime": {
     "end_time": "2021-04-21T10:49:15.092297Z",
     "start_time": "2021-04-21T10:49:14.120740Z"
    }
   },
   "outputs": [],
   "source": [
    "my_campaign.execute().collate()"
   ]
  },
  {
   "cell_type": "code",
   "execution_count": null,
   "metadata": {
    "ExecuteTime": {
     "end_time": "2021-04-21T10:49:15.108634Z",
     "start_time": "2021-04-21T10:49:15.093082Z"
    }
   },
   "outputs": [],
   "source": [
    "results_df = my_campaign.get_collation_result()"
   ]
  },
  {
   "cell_type": "code",
   "execution_count": null,
   "metadata": {
    "ExecuteTime": {
     "end_time": "2021-04-21T10:49:15.721176Z",
     "start_time": "2021-04-21T10:49:15.109407Z"
    }
   },
   "outputs": [],
   "source": [
    "results = my_campaign.analyse(qoi_cols=[\"te\", \"ne\", \"rho\", \"rho_norm\"])"
   ]
  },
  {
   "cell_type": "code",
   "execution_count": null,
   "metadata": {
    "ExecuteTime": {
     "end_time": "2021-04-21T10:49:15.730307Z",
     "start_time": "2021-04-21T10:49:15.722209Z"
    }
   },
   "outputs": [],
   "source": [
    "# Get Descriptive Statistics\n",
    "\n",
    "rho = results.describe('rho', 'mean')\n",
    "rho_norm = results.describe('rho_norm', 'mean')"
   ]
  },
  {
   "cell_type": "code",
   "execution_count": null,
   "metadata": {
    "ExecuteTime": {
     "end_time": "2021-04-21T10:49:15.869894Z",
     "start_time": "2021-04-21T10:49:15.730997Z"
    }
   },
   "outputs": [],
   "source": [
    "# plot the calculated Te: mean, with std deviation, 10 and 90% and range\n",
    "plt.figure() \n",
    "plt.plot(rho, results.describe('te', 'mean'), 'b-', label='Mean')\n",
    "plt.plot(rho, results.describe('te', 'mean')-results.describe('te', 'std'), 'b--', label='+1 std deviation')\n",
    "plt.plot(rho, results.describe('te', 'mean')+results.describe('te', 'std'), 'b--')\n",
    "plt.fill_between(rho, results.describe('te', 'mean')-results.describe('te', 'std'), results.describe('te', 'mean')+results.describe('te', 'std'), color='b', alpha=0.2)\n",
    "plt.plot(rho, results.describe('te', '10%'), 'b:', label='10 and 90 percentiles')\n",
    "plt.plot(rho, results.describe('te', '90%'), 'b:')\n",
    "plt.fill_between(rho, results.describe('te', '10%'), results.describe('te', '90%'), color='b', alpha=0.1)\n",
    "plt.fill_between(rho, results.describe('te', 'min'), results.describe('te', 'max'), color='b', alpha=0.05)\n",
    "plt.legend(loc=0)\n",
    "plt.xlabel('rho [m]')\n",
    "plt.ylabel('Te [eV]')\n",
    "plt.title(my_campaign.campaign_dir);"
   ]
  },
  {
   "cell_type": "code",
   "execution_count": null,
   "metadata": {
    "ExecuteTime": {
     "end_time": "2021-04-21T10:49:15.926045Z",
     "start_time": "2021-04-21T10:49:15.870629Z"
    }
   },
   "outputs": [],
   "source": [
    "# plot the first Sobol results\n",
    "\n",
    "plt.figure() \n",
    "for k in results.sobols_first()['te'].keys(): plt.plot(rho, results.sobols_first()['te'][k], label=k)\n",
    "plt.legend(loc=0)\n",
    "plt.xlabel('rho [m]')\n",
    "plt.ylabel('sobols_first')\n",
    "plt.title(my_campaign.campaign_dir);"
   ]
  },
  {
   "cell_type": "code",
   "execution_count": null,
   "metadata": {
    "ExecuteTime": {
     "end_time": "2021-04-21T10:49:15.982338Z",
     "start_time": "2021-04-21T10:49:15.926784Z"
    }
   },
   "outputs": [],
   "source": [
    "# plot the second Sobol results\n",
    "\n",
    "plt.figure() \n",
    "for k1 in results.sobols_second()['te'].keys(): \n",
    "    for k2 in results.sobols_second()['te'][k1].keys():\n",
    "        plt.plot(rho, results.sobols_second()['te'][k1][k2], label=k1+'/'+k2)\n",
    "plt.legend(loc=0)    \n",
    "plt.xlabel('rho [m]')\n",
    "plt.ylabel('sobols_second')\n",
    "plt.title(my_campaign.campaign_dir+'\\n');"
   ]
  },
  {
   "cell_type": "code",
   "execution_count": null,
   "metadata": {
    "ExecuteTime": {
     "end_time": "2021-04-21T10:49:16.035700Z",
     "start_time": "2021-04-21T10:49:15.983304Z"
    }
   },
   "outputs": [],
   "source": [
    "# plot the total Sobol results\n",
    "\n",
    "plt.figure() \n",
    "for k in results.sobols_total()['te'].keys(): plt.plot(rho, results.sobols_total()['te'][k], label=k)\n",
    "plt.legend(loc=0)    \n",
    "plt.xlabel('rho [m]')\n",
    "plt.ylabel('sobols_total')\n",
    "plt.title(my_campaign.campaign_dir);"
   ]
  },
  {
   "cell_type": "code",
   "execution_count": null,
   "metadata": {
    "ExecuteTime": {
     "end_time": "2021-04-21T10:49:23.988557Z",
     "start_time": "2021-04-21T10:49:16.036576Z"
    }
   },
   "outputs": [],
   "source": [
    "# plot the distributions\n",
    "plt.figure(figsize=(12,6))\n",
    "for i, D in enumerate(results.raw_data['output_distributions']['te'].samples):\n",
    "    pdf_kde_samples = cp.GaussianKDE(D)\n",
    "    _Te = np.linspace(pdf_kde_samples.lower, pdf_kde_samples.upper[0], 101)\n",
    "    plt.loglog(_Te, pdf_kde_samples.pdf(_Te), 'b-', alpha=0.25)\n",
    "    plt.loglog(results.describe('te', 'mean')[i], pdf_kde_samples.pdf(results.describe('te', 'mean')[i]), 'bo')\n",
    "    plt.loglog(results.describe('te', 'mean')[i]-results.describe('te', 'std')[i], pdf_kde_samples.pdf(results.describe('te', 'mean')[i]-results.describe('te', 'std')[i]), 'b*')\n",
    "    plt.loglog(results.describe('te', 'mean')[i]+results.describe('te', 'std')[i], pdf_kde_samples.pdf(results.describe('te', 'mean')[i]+results.describe('te', 'std')[i]), 'b*')\n",
    "    plt.loglog(results.describe('te', '10%')[i],  pdf_kde_samples.pdf(results.describe('te', '10%')[i]), 'b+')\n",
    "    plt.loglog(results.describe('te', '90%')[i],  pdf_kde_samples.pdf(results.describe('te', '90%')[i]), 'b+')\n",
    "    plt.loglog(results.describe('te', '1%')[i],  pdf_kde_samples.pdf(results.describe('te', '1%')[i]), 'bs')\n",
    "    plt.loglog(results.describe('te', '99%')[i],  pdf_kde_samples.pdf(results.describe('te', '99%')[i]), 'bs')\n",
    "plt.xlabel('Te')\n",
    "plt.ylabel('distribution function')\n",
    "plt.title(my_campaign.campaign_dir)\n",
    "plt.ylim(1e-4,1e-1)\n",
    "plt.savefig('distribution_functions.png');"
   ]
  },
  {
   "cell_type": "code",
   "execution_count": null,
   "metadata": {},
   "outputs": [],
   "source": []
  }
 ],
 "metadata": {
  "kernelspec": {
   "display_name": "Python 3",
   "language": "python",
   "name": "python3"
  },
  "language_info": {
   "codemirror_mode": {
    "name": "ipython",
    "version": 3
   },
   "file_extension": ".py",
   "mimetype": "text/x-python",
   "name": "python",
   "nbconvert_exporter": "python",
   "pygments_lexer": "ipython3",
   "version": "3.9.2"
  },
  "latex_envs": {
   "LaTeX_envs_menu_present": true,
   "autoclose": false,
   "autocomplete": true,
   "bibliofile": "biblio.bib",
   "cite_by": "apalike",
   "current_citInitial": 1,
   "eqLabelWithNumbers": true,
   "eqNumInitial": 1,
   "hotkeys": {
    "equation": "Ctrl-E",
    "itemize": "Ctrl-I"
   },
   "labels_anchors": false,
   "latex_user_defs": false,
   "report_style_numbering": false,
   "user_envs_cfg": false
  }
 },
 "nbformat": 4,
 "nbformat_minor": 4
}
