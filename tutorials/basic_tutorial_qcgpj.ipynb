{
 "cells": [
  {
   "cell_type": "markdown",
   "metadata": {},
   "source": [
    "# Running EasyVVUQ on HPC resources with QCG-PilotJob"
   ]
  },
  {
   "cell_type": "markdown",
   "metadata": {},
   "source": [
    "**Author**: Bartosz Bosak, PSNC (bbosak@man.poznan.pl)"
   ]
  },
  {
   "cell_type": "markdown",
   "metadata": {},
   "source": [
    "If this is your first Jupyter Notebook - you can execute code cells by selecting them and pressing ```Shift+Enter```. Just have in mind that the order of execution might matter (if later cells depend on things done in earlier ones)."
   ]
  },
  {
   "cell_type": "markdown",
   "metadata": {},
   "source": [
    "As defined in the [VECMA glossary](https://wiki.vecma.eu/glossary) , uncertainty quantification UQ is a “discipline, which seeks to estimate the \n",
    "uncertainty in the model input and output parameters, to analyse the sources of these uncertainties, \n",
    "and to reduce their quantities.” However, this process can quickly become cumbersome because just \n",
    "a few uncertain inputs could require hundreds or even thousands of samples. If a single sample is a demanding simulation, \n",
    "such a number of tasks cannot be performed effectively without (1) adequate \n",
    "computational resources, (2) a dedicated approach and (3) specialised programming solutions. \n",
    "\n",
    "EasyVVUQ has been designed as a modular software that can benefit from the solutions providing\n",
    "advanced capabilities for execution of demanding operations on computational resources. \n",
    "One of such solutions is [QCG-PilotJob](https://qcg-pilotjob.readthedocs.io), which allows to efficiently run a number of tasks inside \n",
    "a single large allocation on a Slurm cluster.\n",
    "\n",
    "In this tutorial, based on the scenario presented in the basic tutorial, we demonstrate how EasyVVUQ workflows \n",
    "can be adapted to enable their executions with QCG-PilotJob on HPC machines. \n",
    "As it will be shown the adaptation is quite easy.   "
   ]
  },
  {
   "cell_type": "markdown",
   "metadata": {},
   "source": [
    "## Prerequisities\n",
    "You need to have EasyVVUQ installed in your environment. There is no need to install QCG-PilotJob's packages separatetly since they are installed as EasyVVUQ's dependencies. "
   ]
  },
  {
   "cell_type": "code",
   "execution_count": 4,
   "metadata": {},
   "outputs": [
    {
     "name": "stdout",
     "output_type": "stream",
     "text": [
      "Collecting git+https://github.com/UCL-CCS/EasyVVUQ.git@qcgpj-executor\n",
      "  Cloning https://github.com/UCL-CCS/EasyVVUQ.git (to revision qcgpj-executor) to /tmp/pip-req-build-nz293meu\n",
      "  Running command git clone -q https://github.com/UCL-CCS/EasyVVUQ.git /tmp/pip-req-build-nz293meu\n",
      "  Running command git checkout -b qcgpj-executor --track origin/qcgpj-executor\n",
      "  Switched to a new branch 'qcgpj-executor'\n",
      "  Branch 'qcgpj-executor' set up to track remote branch 'qcgpj-executor' from 'origin'.\n",
      "Requirement already satisfied: numpy in /opt/conda/lib/python3.7/site-packages (from easyvvuq==0.9.3+128.g74a98d8f) (1.20.3)\n",
      "Requirement already satisfied: pandas in /opt/conda/lib/python3.7/site-packages (from easyvvuq==0.9.3+128.g74a98d8f) (1.2.4)\n",
      "Requirement already satisfied: scipy in /opt/conda/lib/python3.7/site-packages (from easyvvuq==0.9.3+128.g74a98d8f) (1.6.3)\n",
      "Requirement already satisfied: wheel in /opt/conda/lib/python3.7/site-packages (from easyvvuq==0.9.3+128.g74a98d8f) (0.34.1)\n",
      "Requirement already satisfied: chaospy==4.3.2 in /opt/conda/lib/python3.7/site-packages (from easyvvuq==0.9.3+128.g74a98d8f) (4.3.2)\n",
      "Requirement already satisfied: SALib in /opt/conda/lib/python3.7/site-packages (from easyvvuq==0.9.3+128.g74a98d8f) (1.3.13)\n",
      "Requirement already satisfied: pytest in /opt/conda/lib/python3.7/site-packages (from easyvvuq==0.9.3+128.g74a98d8f) (6.2.4)\n",
      "Requirement already satisfied: pytest-pep8 in /opt/conda/lib/python3.7/site-packages (from easyvvuq==0.9.3+128.g74a98d8f) (1.0.6)\n",
      "Requirement already satisfied: pytest-benchmark in /opt/conda/lib/python3.7/site-packages (from easyvvuq==0.9.3+128.g74a98d8f) (3.4.1)\n",
      "Requirement already satisfied: pytest-dependency in /opt/conda/lib/python3.7/site-packages (from easyvvuq==0.9.3+128.g74a98d8f) (0.5.1)\n",
      "Requirement already satisfied: SQLAlchemy in /opt/conda/lib/python3.7/site-packages (from easyvvuq==0.9.3+128.g74a98d8f) (1.3.13)\n",
      "Requirement already satisfied: cerberus in /opt/conda/lib/python3.7/site-packages (from easyvvuq==0.9.3+128.g74a98d8f) (1.3.4)\n",
      "Requirement already satisfied: dask[complete] in /opt/conda/lib/python3.7/site-packages (from easyvvuq==0.9.3+128.g74a98d8f) (2021.6.0)\n",
      "Requirement already satisfied: dask_jobqueue in /opt/conda/lib/python3.7/site-packages (from easyvvuq==0.9.3+128.g74a98d8f) (0.7.2)\n",
      "Requirement already satisfied: cloudpickle in /opt/conda/lib/python3.7/site-packages (from easyvvuq==0.9.3+128.g74a98d8f) (1.6.0)\n",
      "Requirement already satisfied: scikit-learn in /opt/conda/lib/python3.7/site-packages (from easyvvuq==0.9.3+128.g74a98d8f) (0.24.2)\n",
      "Requirement already satisfied: jinja2 in /opt/conda/lib/python3.7/site-packages (from easyvvuq==0.9.3+128.g74a98d8f) (2.11.0)\n",
      "Requirement already satisfied: kubernetes in /opt/conda/lib/python3.7/site-packages (from easyvvuq==0.9.3+128.g74a98d8f) (17.17.0)\n",
      "Requirement already satisfied: autopep8 in /opt/conda/lib/python3.7/site-packages (from easyvvuq==0.9.3+128.g74a98d8f) (1.5.7)\n",
      "Requirement already satisfied: squarify in /opt/conda/lib/python3.7/site-packages (from easyvvuq==0.9.3+128.g74a98d8f) (0.4.3)\n",
      "Requirement already satisfied: dill in /opt/conda/lib/python3.7/site-packages (from easyvvuq==0.9.3+128.g74a98d8f) (0.3.3)\n",
      "Requirement already satisfied: tqdm in /opt/conda/lib/python3.7/site-packages (from easyvvuq==0.9.3+128.g74a98d8f) (4.42.0)\n",
      "Collecting qcg-pilotjob@ git+https://github.com/vecma-project/QCG-PilotJob.git@namespaces#subdirectory=components/core&egg=qcg-pilotjob\n",
      "  Cloning https://github.com/vecma-project/QCG-PilotJob.git (to revision namespaces) to /tmp/pip-install-w__t8lac/qcg-pilotjob\n",
      "  Running command git clone -q https://github.com/vecma-project/QCG-PilotJob.git /tmp/pip-install-w__t8lac/qcg-pilotjob\n",
      "  Running command git checkout -b namespaces --track origin/namespaces\n",
      "  Switched to a new branch 'namespaces'\n",
      "  Branch 'namespaces' set up to track remote branch 'namespaces' from 'origin'.\n",
      "  Running command git submodule update --init --recursive -q\n",
      "Collecting qcg-pilotjob-executor-api@ git+https://github.com/vecma-project/QCG-PilotJob.git@namespaces#subdirectory=components/executor_api&egg=qcg-pilotjob-executor-api\n",
      "  Cloning https://github.com/vecma-project/QCG-PilotJob.git (to revision namespaces) to /tmp/pip-install-w__t8lac/qcg-pilotjob-executor-api\n",
      "  Running command git clone -q https://github.com/vecma-project/QCG-PilotJob.git /tmp/pip-install-w__t8lac/qcg-pilotjob-executor-api\n",
      "  Running command git checkout -b namespaces --track origin/namespaces\n",
      "  Switched to a new branch 'namespaces'\n",
      "  Branch 'namespaces' set up to track remote branch 'namespaces' from 'origin'.\n",
      "  Running command git submodule update --init --recursive -q\n",
      "Requirement already satisfied: python-dateutil>=2.7.3 in /opt/conda/lib/python3.7/site-packages (from pandas->easyvvuq==0.9.3+128.g74a98d8f) (2.8.1)\n",
      "Requirement already satisfied: pytz>=2017.3 in /opt/conda/lib/python3.7/site-packages (from pandas->easyvvuq==0.9.3+128.g74a98d8f) (2021.1)\n",
      "Requirement already satisfied: numpoly<2.0.0,>=1.1.2 in /opt/conda/lib/python3.7/site-packages (from chaospy==4.3.2->easyvvuq==0.9.3+128.g74a98d8f) (1.2.3)\n",
      "Requirement already satisfied: matplotlib in /opt/conda/lib/python3.7/site-packages (from SALib->easyvvuq==0.9.3+128.g74a98d8f) (3.4.2)\n",
      "Requirement already satisfied: toml in /opt/conda/lib/python3.7/site-packages (from pytest->easyvvuq==0.9.3+128.g74a98d8f) (0.10.2)\n",
      "Requirement already satisfied: packaging in /opt/conda/lib/python3.7/site-packages (from pytest->easyvvuq==0.9.3+128.g74a98d8f) (20.9)\n",
      "Requirement already satisfied: iniconfig in /opt/conda/lib/python3.7/site-packages (from pytest->easyvvuq==0.9.3+128.g74a98d8f) (1.1.1)\n",
      "Requirement already satisfied: attrs>=19.2.0 in /opt/conda/lib/python3.7/site-packages (from pytest->easyvvuq==0.9.3+128.g74a98d8f) (19.3.0)\n",
      "Requirement already satisfied: py>=1.8.2 in /opt/conda/lib/python3.7/site-packages (from pytest->easyvvuq==0.9.3+128.g74a98d8f) (1.10.0)\n",
      "Requirement already satisfied: importlib-metadata>=0.12; python_version < \"3.8\" in /opt/conda/lib/python3.7/site-packages (from pytest->easyvvuq==0.9.3+128.g74a98d8f) (1.5.0)\n",
      "Requirement already satisfied: pluggy<1.0.0a1,>=0.12 in /opt/conda/lib/python3.7/site-packages (from pytest->easyvvuq==0.9.3+128.g74a98d8f) (0.13.1)\n",
      "Requirement already satisfied: pytest-cache in /opt/conda/lib/python3.7/site-packages (from pytest-pep8->easyvvuq==0.9.3+128.g74a98d8f) (1.0)\n",
      "Requirement already satisfied: pep8>=1.3 in /opt/conda/lib/python3.7/site-packages (from pytest-pep8->easyvvuq==0.9.3+128.g74a98d8f) (1.7.1)\n",
      "Requirement already satisfied: py-cpuinfo in /opt/conda/lib/python3.7/site-packages (from pytest-benchmark->easyvvuq==0.9.3+128.g74a98d8f) (8.0.0)\n",
      "Requirement already satisfied: setuptools in /opt/conda/lib/python3.7/site-packages (from cerberus->easyvvuq==0.9.3+128.g74a98d8f) (45.1.0.post20200119)\n",
      "Requirement already satisfied: pyyaml in /opt/conda/lib/python3.7/site-packages (from dask[complete]->easyvvuq==0.9.3+128.g74a98d8f) (5.4.1)\n",
      "Requirement already satisfied: toolz>=0.8.2 in /opt/conda/lib/python3.7/site-packages (from dask[complete]->easyvvuq==0.9.3+128.g74a98d8f) (0.11.1)\n",
      "Requirement already satisfied: partd>=0.3.10 in /opt/conda/lib/python3.7/site-packages (from dask[complete]->easyvvuq==0.9.3+128.g74a98d8f) (1.2.0)\n",
      "Requirement already satisfied: fsspec>=0.6.0 in /opt/conda/lib/python3.7/site-packages (from dask[complete]->easyvvuq==0.9.3+128.g74a98d8f) (2021.6.0)\n",
      "Requirement already satisfied: bokeh!=2.0.0,>=1.0.0; extra == \"complete\" in /opt/conda/lib/python3.7/site-packages (from dask[complete]->easyvvuq==0.9.3+128.g74a98d8f) (2.3.2)\n",
      "Requirement already satisfied: distributed==2021.06.0; extra == \"complete\" in /opt/conda/lib/python3.7/site-packages (from dask[complete]->easyvvuq==0.9.3+128.g74a98d8f) (2021.6.0)\n",
      "Requirement already satisfied: joblib>=0.11 in /opt/conda/lib/python3.7/site-packages (from scikit-learn->easyvvuq==0.9.3+128.g74a98d8f) (1.0.1)\n",
      "Requirement already satisfied: threadpoolctl>=2.0.0 in /opt/conda/lib/python3.7/site-packages (from scikit-learn->easyvvuq==0.9.3+128.g74a98d8f) (2.1.0)\n",
      "Requirement already satisfied: MarkupSafe>=0.23 in /opt/conda/lib/python3.7/site-packages (from jinja2->easyvvuq==0.9.3+128.g74a98d8f) (1.1.1)\n",
      "Requirement already satisfied: requests in /opt/conda/lib/python3.7/site-packages (from kubernetes->easyvvuq==0.9.3+128.g74a98d8f) (2.22.0)\n",
      "Requirement already satisfied: requests-oauthlib in /opt/conda/lib/python3.7/site-packages (from kubernetes->easyvvuq==0.9.3+128.g74a98d8f) (1.3.0)\n",
      "Requirement already satisfied: websocket-client!=0.40.0,!=0.41.*,!=0.42.*,>=0.32.0 in /opt/conda/lib/python3.7/site-packages (from kubernetes->easyvvuq==0.9.3+128.g74a98d8f) (1.1.0)\n",
      "Requirement already satisfied: urllib3>=1.24.2 in /opt/conda/lib/python3.7/site-packages (from kubernetes->easyvvuq==0.9.3+128.g74a98d8f) (1.25.7)\n",
      "Requirement already satisfied: six>=1.9.0 in /opt/conda/lib/python3.7/site-packages (from kubernetes->easyvvuq==0.9.3+128.g74a98d8f) (1.14.0)\n",
      "Requirement already satisfied: google-auth>=1.0.1 in /opt/conda/lib/python3.7/site-packages (from kubernetes->easyvvuq==0.9.3+128.g74a98d8f) (1.30.2)\n",
      "Requirement already satisfied: certifi>=14.05.14 in /opt/conda/lib/python3.7/site-packages (from kubernetes->easyvvuq==0.9.3+128.g74a98d8f) (2019.11.28)\n",
      "Requirement already satisfied: pycodestyle>=2.7.0 in /opt/conda/lib/python3.7/site-packages (from autopep8->easyvvuq==0.9.3+128.g74a98d8f) (2.7.0)\n",
      "Requirement already satisfied: zmq in /opt/conda/lib/python3.7/site-packages (from qcg-pilotjob@ git+https://github.com/vecma-project/QCG-PilotJob.git@namespaces#subdirectory=components/core&egg=qcg-pilotjob->easyvvuq==0.9.3+128.g74a98d8f) (0.0.0)\n",
      "Requirement already satisfied: click in /opt/conda/lib/python3.7/site-packages (from qcg-pilotjob@ git+https://github.com/vecma-project/QCG-PilotJob.git@namespaces#subdirectory=components/core&egg=qcg-pilotjob->easyvvuq==0.9.3+128.g74a98d8f) (8.0.1)\n",
      "Requirement already satisfied: psutil in /opt/conda/lib/python3.7/site-packages (from qcg-pilotjob@ git+https://github.com/vecma-project/QCG-PilotJob.git@namespaces#subdirectory=components/core&egg=qcg-pilotjob->easyvvuq==0.9.3+128.g74a98d8f) (5.8.0)\n",
      "Requirement already satisfied: pillow>=6.2.0 in /opt/conda/lib/python3.7/site-packages (from matplotlib->SALib->easyvvuq==0.9.3+128.g74a98d8f) (8.2.0)\n",
      "Requirement already satisfied: pyparsing>=2.2.1 in /opt/conda/lib/python3.7/site-packages (from matplotlib->SALib->easyvvuq==0.9.3+128.g74a98d8f) (2.4.7)\n",
      "Requirement already satisfied: kiwisolver>=1.0.1 in /opt/conda/lib/python3.7/site-packages (from matplotlib->SALib->easyvvuq==0.9.3+128.g74a98d8f) (1.3.1)\n",
      "Requirement already satisfied: cycler>=0.10 in /opt/conda/lib/python3.7/site-packages (from matplotlib->SALib->easyvvuq==0.9.3+128.g74a98d8f) (0.10.0)\n",
      "Requirement already satisfied: zipp>=0.5 in /opt/conda/lib/python3.7/site-packages (from importlib-metadata>=0.12; python_version < \"3.8\"->pytest->easyvvuq==0.9.3+128.g74a98d8f) (2.1.0)\n",
      "Requirement already satisfied: execnet>=1.1.dev1 in /opt/conda/lib/python3.7/site-packages (from pytest-cache->pytest-pep8->easyvvuq==0.9.3+128.g74a98d8f) (1.8.1)\n",
      "Requirement already satisfied: locket in /opt/conda/lib/python3.7/site-packages (from partd>=0.3.10->dask[complete]->easyvvuq==0.9.3+128.g74a98d8f) (0.2.1)\n",
      "Requirement already satisfied: tornado>=5.1 in /opt/conda/lib/python3.7/site-packages (from bokeh!=2.0.0,>=1.0.0; extra == \"complete\"->dask[complete]->easyvvuq==0.9.3+128.g74a98d8f) (6.0.3)\n",
      "Requirement already satisfied: typing-extensions>=3.7.4 in /opt/conda/lib/python3.7/site-packages (from bokeh!=2.0.0,>=1.0.0; extra == \"complete\"->dask[complete]->easyvvuq==0.9.3+128.g74a98d8f) (3.10.0.0)\n",
      "Requirement already satisfied: zict>=0.1.3 in /opt/conda/lib/python3.7/site-packages (from distributed==2021.06.0; extra == \"complete\"->dask[complete]->easyvvuq==0.9.3+128.g74a98d8f) (2.0.0)\n",
      "Requirement already satisfied: msgpack>=0.6.0 in /opt/conda/lib/python3.7/site-packages (from distributed==2021.06.0; extra == \"complete\"->dask[complete]->easyvvuq==0.9.3+128.g74a98d8f) (1.0.2)\n",
      "Requirement already satisfied: tblib>=1.6.0 in /opt/conda/lib/python3.7/site-packages (from distributed==2021.06.0; extra == \"complete\"->dask[complete]->easyvvuq==0.9.3+128.g74a98d8f) (1.7.0)\n",
      "Requirement already satisfied: sortedcontainers!=2.0.0,!=2.0.1 in /opt/conda/lib/python3.7/site-packages (from distributed==2021.06.0; extra == \"complete\"->dask[complete]->easyvvuq==0.9.3+128.g74a98d8f) (2.4.0)\n",
      "Requirement already satisfied: idna<2.9,>=2.5 in /opt/conda/lib/python3.7/site-packages (from requests->kubernetes->easyvvuq==0.9.3+128.g74a98d8f) (2.8)\n",
      "Requirement already satisfied: chardet<3.1.0,>=3.0.2 in /opt/conda/lib/python3.7/site-packages (from requests->kubernetes->easyvvuq==0.9.3+128.g74a98d8f) (3.0.4)\n",
      "Requirement already satisfied: oauthlib>=3.0.0 in /opt/conda/lib/python3.7/site-packages (from requests-oauthlib->kubernetes->easyvvuq==0.9.3+128.g74a98d8f) (3.0.1)\n",
      "Requirement already satisfied: cachetools<5.0,>=2.0.0 in /opt/conda/lib/python3.7/site-packages (from google-auth>=1.0.1->kubernetes->easyvvuq==0.9.3+128.g74a98d8f) (4.2.2)\n",
      "Requirement already satisfied: pyasn1-modules>=0.2.1 in /opt/conda/lib/python3.7/site-packages (from google-auth>=1.0.1->kubernetes->easyvvuq==0.9.3+128.g74a98d8f) (0.2.8)\n",
      "Requirement already satisfied: rsa<5,>=3.1.4; python_version >= \"3.6\" in /opt/conda/lib/python3.7/site-packages (from google-auth>=1.0.1->kubernetes->easyvvuq==0.9.3+128.g74a98d8f) (4.7.2)\n",
      "Requirement already satisfied: pyzmq in /opt/conda/lib/python3.7/site-packages (from zmq->qcg-pilotjob@ git+https://github.com/vecma-project/QCG-PilotJob.git@namespaces#subdirectory=components/core&egg=qcg-pilotjob->easyvvuq==0.9.3+128.g74a98d8f) (18.1.1)\n",
      "Requirement already satisfied: apipkg>=1.4 in /opt/conda/lib/python3.7/site-packages (from execnet>=1.1.dev1->pytest-cache->pytest-pep8->easyvvuq==0.9.3+128.g74a98d8f) (1.5)\n",
      "Requirement already satisfied: heapdict in /opt/conda/lib/python3.7/site-packages (from zict>=0.1.3->distributed==2021.06.0; extra == \"complete\"->dask[complete]->easyvvuq==0.9.3+128.g74a98d8f) (1.0.1)\n",
      "Requirement already satisfied: pyasn1<0.5.0,>=0.4.6 in /opt/conda/lib/python3.7/site-packages (from pyasn1-modules>=0.2.1->google-auth>=1.0.1->kubernetes->easyvvuq==0.9.3+128.g74a98d8f) (0.4.8)\n",
      "Building wheels for collected packages: easyvvuq, qcg-pilotjob, qcg-pilotjob-executor-api\n",
      "  Building wheel for easyvvuq (setup.py) ... \u001b[?25ldone\n",
      "\u001b[?25h  Created wheel for easyvvuq: filename=easyvvuq-0.9.3+128.g74a98d8f-py3-none-any.whl size=198878 sha256=d880866c9c281b9c1c28b558016bae811c4341becab81e599e0b1e8928780aee\n",
      "  Stored in directory: /tmp/pip-ephem-wheel-cache-jvv_baoz/wheels/ce/19/20/1358337eadfe29295d3cfe175f1dc8bac71f3dca2dd042f3dc\n",
      "  Building wheel for qcg-pilotjob (setup.py) ... \u001b[?25ldone\n",
      "\u001b[?25h  Created wheel for qcg-pilotjob: filename=qcg_pilotjob-0.12.0rc1-py3-none-any.whl size=127566 sha256=c4ff3e8e7522a8d36effc7b92c659825be9b6226dc56ede9e8d76ba698a7e1cc\n",
      "  Stored in directory: /tmp/pip-ephem-wheel-cache-jvv_baoz/wheels/cb/92/4a/ced119bd031bbd10a6ea12f8c5edc4d5195419b8075b936573\n",
      "  Building wheel for qcg-pilotjob-executor-api (setup.py) ... \u001b[?25ldone\n",
      "\u001b[?25h  Created wheel for qcg-pilotjob-executor-api: filename=qcg_pilotjob_executor_api-0.12.0rc1-py3-none-any.whl size=6436 sha256=66468603f68c218f3c0b3a72435e82a9d1ac827ec16b48c578f7d60e1d799a27\n",
      "  Stored in directory: /tmp/pip-ephem-wheel-cache-jvv_baoz/wheels/fb/af/e1/b95264465e7c8b72eaa853b0838aabf5b99dd335d6b3e28550\n",
      "Successfully built easyvvuq qcg-pilotjob qcg-pilotjob-executor-api\n",
      "Installing collected packages: qcg-pilotjob, qcg-pilotjob-executor-api, easyvvuq\n",
      "Successfully installed easyvvuq-0.9.3+128.g74a98d8f qcg-pilotjob-0.12.0rc1 qcg-pilotjob-executor-api-0.12.0rc1\n",
      "Note: you may need to restart the kernel to use updated packages.\n"
     ]
    }
   ],
   "source": [
    "pip install git+https://github.com/UCL-CCS/EasyVVUQ.git@qcgpj-executor"
   ]
  },
  {
   "cell_type": "markdown",
   "metadata": {},
   "source": [
    "## Application scenario\n",
    "Let's remind the basic use-case. It is a simulation of a vertical deflection of a round metal \n",
    "tube suspended on each end in response to a force applied at certain point ```a``` along its length. \n",
    "Our goal is to determine the influence of the input parameters on the vertical deflection at point ```a```."
   ]
  },
  {
   "cell_type": "markdown",
   "metadata": {},
   "source": [
    "The usage of the application is:\n",
    "\n",
    "```beam <input_file>```\n",
    "\n",
    "It outputs calculated displacements to a file called `output.json`. Its content will look like \n",
    "\n",
    "```{'g1': x, 'g2': y, 'g3': y}```\n",
    "\n",
    "In order to produce statistically significant results, EasyVVUQ needs to run a number of model evaluations\n",
    " appropriately selecting input arguments from a given sample parameter space. \n",
    " Once selected, input parameters need to be transformed into a format understandable by the application. \n",
    "Our application takes a single file as an input and the transformation may be based on a single template file,\n",
    "called `beam.template`, with the following content:\n",
    "\n",
    "```{\"outfile\": \"$outfile\", \"F\": $F, \"L\": $L, \"a\": $a, \"D\": $D, \"d\": $d, \"E\": $E}```\n",
    "\n",
    "The template will be used to generate files called `input.json` that will be the input to each run of beam.\n",
    "All placeholders (signified by the $ delimeter) will be replaced by concrete values from the sample parameter space. "
   ]
  },
  {
   "cell_type": "markdown",
   "metadata": {},
   "source": [
    "So, for example (commands preceded by an exclamation mark are treated as shell commands):"
   ]
  },
  {
   "cell_type": "code",
   "execution_count": 6,
   "metadata": {},
   "outputs": [
    {
     "name": "stdout",
     "output_type": "stream",
     "text": [
      "/home/jovyan/tutorials/VECMAtk/BEAM\n"
     ]
    }
   ],
   "source": [
    "!pwd\n",
    "!echo \"{\\\"outfile\\\": \\\"output.json\\\", \\\"F\\\": 1.0, \\\"L\\\": 1.5, \\\"a\\\": 1.0, \\\"D\\\": 0.8, \\\"d\\\": 0.1, \\\"E\\\": 200000}\" > input.json"
   ]
  },
  {
   "cell_type": "code",
   "execution_count": 7,
   "metadata": {},
   "outputs": [],
   "source": [
    "!./beam input.json"
   ]
  },
  {
   "cell_type": "code",
   "execution_count": 8,
   "metadata": {},
   "outputs": [
    {
     "name": "stdout",
     "output_type": "stream",
     "text": [
      "{\"g1\": -6.909453505549654e-06, \"g2\": -1.3818907011099308e-05, \"g3\": 1.7273633763874136e-05}"
     ]
    }
   ],
   "source": [
    "!cat output.json"
   ]
  },
  {
   "cell_type": "markdown",
   "metadata": {},
   "source": [
    "In this tutorial, in the similar fashion as in the basic one, \n",
    "we will demonstrate how to use of EasyVVUQ to do variance based sensitivity analysis of `beam` application using stochastic collocation. \n",
    "\n",
    "Nevertheless, the way of usage of QCG-PilotJob in EasyVVUQ \n",
    "is generic and will look the same also for other applications and other supported by EasyVVUQ methods."
   ]
  },
  {
   "cell_type": "markdown",
   "metadata": {},
   "source": [
    "## Campaign"
   ]
  },
  {
   "cell_type": "markdown",
   "metadata": {},
   "source": [
    "In order to use EasyVVUQ, we need to configure the EasyVVUQ Campaign object. We do this in almost the same way as in case of basic use-case. \n",
    "Firstly we import the same set of libraries as in the original example:"
   ]
  },
  {
   "cell_type": "code",
   "execution_count": 5,
   "metadata": {},
   "outputs": [],
   "source": [
    "import os\n",
    "import easyvvuq as uq\n",
    "import chaospy as cp\n",
    "import matplotlib.pyplot as plt\n",
    "from easyvvuq.actions import CreateRunDirectory, Encode, Decode, CleanUp, ExecuteLocal, Actions"
   ]
  },
  {
   "cell_type": "markdown",
   "metadata": {},
   "source": [
    "We only extend this set of imports with two modules for QCG-PilotJob:"
   ]
  },
  {
   "cell_type": "code",
   "execution_count": 6,
   "metadata": {},
   "outputs": [],
   "source": [
    "from easyvvuq.actions import QCGPJPool, ExecuteQCGPJ"
   ]
  },
  {
   "cell_type": "markdown",
   "metadata": {},
   "source": [
    "Then, we can continue the code from the basic workflow. For the validation purposes, we describe a set of parameters used by the application:"
   ]
  },
  {
   "cell_type": "code",
   "execution_count": 7,
   "metadata": {},
   "outputs": [],
   "source": [
    "params = {\n",
    "    \"F\": {\"type\": \"float\", \"default\": 1.0}, \n",
    "    \"L\": {\"type\": \"float\", \"default\": 1.5}, \n",
    "    \"a\": {\"type\": \"float\", \"min\": 0.7, \"max\": 1.2, \"default\": 1.0}, \n",
    "    \"D\": {\"type\": \"float\", \"min\": 0.75, \"max\": 0.85, \"default\": 0.8},\n",
    "    \"d\": {\"type\": \"float\", \"default\": 0.1},\n",
    "    \"E\": {\"type\": \"float\", \"default\": 200000},\n",
    "    \"outfile\": {\"type\": \"string\", \"default\": \"output.json\"}\n",
    "}"
   ]
  },
  {
   "cell_type": "markdown",
   "metadata": {},
   "source": [
    "and, by specification of encoder and decoder, define how EasyVVUQ should convert data between its internal and the application logic:"
   ]
  },
  {
   "cell_type": "code",
   "execution_count": 8,
   "metadata": {},
   "outputs": [],
   "source": [
    "encoder = uq.encoders.GenericEncoder(template_fname='beam.template', delimiter='$', target_filename='input.json')\n",
    "decoder = uq.decoders.JSONDecoder(target_filename='output.json', output_columns=['g1'])"
   ]
  },
  {
   "cell_type": "markdown",
   "metadata": {},
   "source": [
    "Hence our application takes and produces very simple data structures, we use build-in Encoder and Decoder classes, but you are able to provide custom implementations of encoders and decoders that will fit your own use-case. \n",
    "\n",
    "The next step in the original tutorial was a definition of an execute action that will be used to run the `beam` application with a prepared input file. \n",
    "We could use the basic form of this action, but then the potential of QCG-PilotJob wouldn't be fully exploited. Instead, we wrap the original action in a ExecuteQCGPJ decorator that configures the action to be properly executed within a QCG-PilotJob's task:"
   ]
  },
  {
   "cell_type": "code",
   "execution_count": 9,
   "metadata": {},
   "outputs": [],
   "source": [
    "execute = ExecuteQCGPJ(\n",
    "    ExecuteLocal('{}/beam input.json'.format(os.getcwd()))\n",
    ")"
   ]
  },
  {
   "cell_type": "markdown",
   "metadata": {},
   "source": [
    "Now we are allowed to push all actions we want to execute for samples into the Actions object:"
   ]
  },
  {
   "cell_type": "code",
   "execution_count": 10,
   "metadata": {},
   "outputs": [],
   "source": [
    "actions = Actions(CreateRunDirectory('/tmp'), \n",
    "                  Encode(encoder), execute, Decode(decoder))"
   ]
  },
  {
   "cell_type": "markdown",
   "metadata": {},
   "source": [
    "and finally create EasyVVUQ Campaign:"
   ]
  },
  {
   "cell_type": "code",
   "execution_count": 11,
   "metadata": {},
   "outputs": [],
   "source": [
    "campaign = uq.Campaign(name='beam', params=params, actions=actions)"
   ]
  },
  {
   "cell_type": "markdown",
   "metadata": {},
   "source": [
    "The remaining steps to configure the campaign object are to define distributions for the input parameters and initialise a sampler. This code is the same regardeless we use or not QCG-PilotJob:"
   ]
  },
  {
   "cell_type": "code",
   "execution_count": 12,
   "metadata": {},
   "outputs": [],
   "source": [
    "vary = {\n",
    "    \"F\": cp.Normal(1, 0.1),\n",
    "    \"L\": cp.Normal(1.5, 0.01),\n",
    "    \"a\": cp.Uniform(0.7, 1.2),\n",
    "    \"D\": cp.Triangle(0.75, 0.8, 0.85)\n",
    "}\n",
    "campaign.set_sampler(uq.sampling.SCSampler(vary=vary, polynomial_order=1))"
   ]
  },
  {
   "cell_type": "markdown",
   "metadata": {},
   "source": [
    "Now we are able to execute all evaluations. However, in contrast to the basic tutorial, where the code was prepared to be run on a local machine, our target here is to demonstrate how to use QCG-PilotJob to execute evaulations on an HPC cluster. \n",
    "\n",
    "To this end, we need to create a QCGPJPool object and provide it to the campaign's execute method. In the most simplistic configuration, we can initialise `QCGPjPool` within the `with` statement and don't provide any arguments to the constructor:"
   ]
  },
  {
   "cell_type": "code",
   "execution_count": 13,
   "metadata": {},
   "outputs": [],
   "source": [
    "with QCGPJPool() as qcgpj:\n",
    "    campaign.execute(pool=qcgpj).collate()"
   ]
  },
  {
   "cell_type": "markdown",
   "metadata": {},
   "source": [
    "Empty list of QCGPJPool constructor's parameter lead to the default settings of the pool and execution of all evaluations with a default task template. This may be sufficient for basic use-cases, but in order to support more advanced execution scenarios, \n",
    "several parameters may need to be provided to the constructor:\n",
    "* `qcgpj-executor` - allows to setup specific parameters of the QCG-PilotJob service by creation of a custom QCGPJExecutor instance. For example, if we skip this parameter, QCG-PilotJob will automatically set up to execute on all available resources, which is perfectly fine if we run the code on HPC resources, since it will take care of proper and efficient scheduling of tasks to the resources available in the allocation. However, if we would like to make some tests on a local machine, it may be more optimal to define virtual resources, and this may be defined with the `resources` parameter to the `QCGPJExecutor` constructor.\n",
    "* `template` and `template_params` - by default the tasks use a predefined template (`EasyVVUQBasicTemplate)` that leads to execution of QCG-PilotJob's tasks in a default mode, only on a single core. It could be altered by providing custom task `template` and `template_params`. \n",
    "* `polling_interval` - allows to change the default interval between queries asking about the status of tasks to the QCG-PilotJob Manager service.\n",
    "\n",
    "Let us show how to modify this example to demonstrate usage of these more advanced options. \n",
    "\n",
    "Firstly, we would change the `template` and `template_params` to enable execution of tasks on many resources. Thus, instead of a default template class, we will employ `EasyVVUQParallelTemplate` that allows us also to set `numCores` and `numNodes` parameters. \n",
    "\n",
    "In order to demonstrate it, we have to have a clean situation and therefore we need to initialise a new campaign:"
   ]
  },
  {
   "cell_type": "code",
   "execution_count": 14,
   "metadata": {},
   "outputs": [],
   "source": [
    "campaign = uq.Campaign(name='beam', params=params, actions=actions)\n",
    "campaign.set_sampler(uq.sampling.SCSampler(vary=vary, polynomial_order=1))"
   ]
  },
  {
   "cell_type": "markdown",
   "metadata": {},
   "source": [
    "Now we are able to execute campaign actions once again. This time it looks as follows: "
   ]
  },
  {
   "cell_type": "code",
   "execution_count": 15,
   "metadata": {},
   "outputs": [],
   "source": [
    "from easyvvuq.actions.execute_qcgpj import EasyVVUQParallelTemplate\n",
    "\n",
    "with QCGPJPool(\n",
    "        template=EasyVVUQParallelTemplate(), \n",
    "        template_params={'numCores': 4}) as qcgpj:\n",
    "    campaign.execute(pool=qcgpj).collate()"
   ]
  },
  {
   "cell_type": "markdown",
   "metadata": {},
   "source": [
    "We have set `numCores` to 4, which is one of parameters supported by `EasyVVUQParallelTemplate`. It results in assigning 4 cores for each task. Please note that this setting is not optimal for our example `beam` code, which is not parallel - in case of such codes single core tasks are perfectly fine. Nevertheless, possibility to define `numCores` and `numNodes` is essential for the proper execution of MPI or OpenMP applications. \n",
    "\n",
    "**Note:** If the functionality of built-in templates is not sufficient, you can always create a new one by extensions of existings.\n",
    "\n",
    "Now let's try to set some larger number of nodes:"
   ]
  },
  {
   "cell_type": "code",
   "execution_count": 38,
   "metadata": {},
   "outputs": [
    {
     "name": "stdout",
     "output_type": "stream",
     "text": [
      "Request failed - Not enough resources for job 1\n"
     ]
    }
   ],
   "source": [
    "campaign = uq.Campaign(name='beam', params=params, actions=actions)\n",
    "campaign.set_sampler(uq.sampling.SCSampler(vary=vary, polynomial_order=1))\n",
    "\n",
    "try:\n",
    "    with QCGPJPool(\n",
    "            template=EasyVVUQParallelTemplate(), \n",
    "            template_params={'numNodes': 2, 'numCores': 4}) as qcgpj:\n",
    "        campaign.execute(pool=qcgpj).collate()\n",
    "except Exception as e:\n",
    "    print(e)"
   ]
  },
  {
   "cell_type": "markdown",
   "metadata": {},
   "source": [
    "If you see that the exception saying that there is not enough resources has been cought, it is not a suprise. Well, we don't have 2 nodes to use and QCG-PilotJob reports that our task is too big. \n",
    "\n",
    "But what if we want to prepare and test the workflow on a local machine before it will be transfered to the HPC environment? QCG-PilotJob has a solution for this which is called *Local Mode* and allows to define virtual resources. Let's modify our example a bit: "
   ]
  },
  {
   "cell_type": "code",
   "execution_count": 26,
   "metadata": {},
   "outputs": [],
   "source": [
    "campaign = uq.Campaign(name='beam', params=params, actions=actions)\n",
    "campaign.set_sampler(uq.sampling.SCSampler(vary=vary, polynomial_order=1))\n",
    "\n",
    "from qcg.pilotjob.executor_api.qcgpj_executor import QCGPJExecutor\n",
    "\n",
    "with QCGPJPool(\n",
    "        qcgpj_executor=QCGPJExecutor(resources=\"node1:4,node2:4\"),\n",
    "        template=EasyVVUQParallelTemplate(), \n",
    "        template_params={'numNodes': 2, 'numCores': 4}) as qcgpj:\n",
    "    campaign.execute(pool=qcgpj).collate()"
   ]
  },
  {
   "cell_type": "markdown",
   "metadata": {},
   "source": [
    "As it can be seen, we added `qcpj_executor` parameter to the `QCGPJPool` constructor. The parameter is set to the customised `QCGPJExecutor` instance, which has been created\n",
    "with parameter `resources` set to `node1:4,node2:4`. In this way we have defined two virtual nodes, each with 4 cores. In a result this example can been executed successfully. \n",
    "\n",
    "At this moment we should have our evaluations ready and their results collated and stored in the campaing's database. Since we have used `QCGPJPool` inside the `with` statement it has been already cleaned up and we don't need any other code specific for QCG-PilotJob's execution. Thus the remaining part of the tutorial can be no different from its basic version. In other words, starting from now, we have all data needed to perform analysis in a typical for EasyVVUQ way.\n",
    "\n",
    "At the beginning we can display the collattion results:"
   ]
  },
  {
   "cell_type": "code",
   "execution_count": 27,
   "metadata": {},
   "outputs": [
    {
     "data": {
      "text/html": [
       "<div>\n",
       "<style scoped>\n",
       "    .dataframe tbody tr th:only-of-type {\n",
       "        vertical-align: middle;\n",
       "    }\n",
       "\n",
       "    .dataframe tbody tr th {\n",
       "        vertical-align: top;\n",
       "    }\n",
       "\n",
       "    .dataframe thead tr th {\n",
       "        text-align: left;\n",
       "    }\n",
       "</style>\n",
       "<table border=\"1\" class=\"dataframe\">\n",
       "  <thead>\n",
       "    <tr>\n",
       "      <th></th>\n",
       "      <th>run_id</th>\n",
       "      <th>iteration</th>\n",
       "      <th>F</th>\n",
       "      <th>L</th>\n",
       "      <th>a</th>\n",
       "      <th>D</th>\n",
       "      <th>d</th>\n",
       "      <th>E</th>\n",
       "      <th>outfile</th>\n",
       "      <th>g1</th>\n",
       "    </tr>\n",
       "    <tr>\n",
       "      <th></th>\n",
       "      <th>0</th>\n",
       "      <th>0</th>\n",
       "      <th>0</th>\n",
       "      <th>0</th>\n",
       "      <th>0</th>\n",
       "      <th>0</th>\n",
       "      <th>0</th>\n",
       "      <th>0</th>\n",
       "      <th>0</th>\n",
       "      <th>0</th>\n",
       "    </tr>\n",
       "  </thead>\n",
       "  <tbody>\n",
       "    <tr>\n",
       "      <th>0</th>\n",
       "      <td>1</td>\n",
       "      <td>0</td>\n",
       "      <td>0.9</td>\n",
       "      <td>1.49</td>\n",
       "      <td>0.805662</td>\n",
       "      <td>0.779588</td>\n",
       "      <td>0.1</td>\n",
       "      <td>200000</td>\n",
       "      <td>output.json</td>\n",
       "      <td>-0.000008</td>\n",
       "    </tr>\n",
       "    <tr>\n",
       "      <th>1</th>\n",
       "      <td>2</td>\n",
       "      <td>0</td>\n",
       "      <td>0.9</td>\n",
       "      <td>1.49</td>\n",
       "      <td>0.805662</td>\n",
       "      <td>0.820412</td>\n",
       "      <td>0.1</td>\n",
       "      <td>200000</td>\n",
       "      <td>output.json</td>\n",
       "      <td>-0.000007</td>\n",
       "    </tr>\n",
       "    <tr>\n",
       "      <th>2</th>\n",
       "      <td>3</td>\n",
       "      <td>0</td>\n",
       "      <td>0.9</td>\n",
       "      <td>1.49</td>\n",
       "      <td>1.094338</td>\n",
       "      <td>0.779588</td>\n",
       "      <td>0.1</td>\n",
       "      <td>200000</td>\n",
       "      <td>output.json</td>\n",
       "      <td>-0.000005</td>\n",
       "    </tr>\n",
       "    <tr>\n",
       "      <th>3</th>\n",
       "      <td>4</td>\n",
       "      <td>0</td>\n",
       "      <td>0.9</td>\n",
       "      <td>1.49</td>\n",
       "      <td>1.094338</td>\n",
       "      <td>0.820412</td>\n",
       "      <td>0.1</td>\n",
       "      <td>200000</td>\n",
       "      <td>output.json</td>\n",
       "      <td>-0.000004</td>\n",
       "    </tr>\n",
       "    <tr>\n",
       "      <th>4</th>\n",
       "      <td>5</td>\n",
       "      <td>0</td>\n",
       "      <td>0.9</td>\n",
       "      <td>1.51</td>\n",
       "      <td>0.805662</td>\n",
       "      <td>0.779588</td>\n",
       "      <td>0.1</td>\n",
       "      <td>200000</td>\n",
       "      <td>output.json</td>\n",
       "      <td>-0.000009</td>\n",
       "    </tr>\n",
       "    <tr>\n",
       "      <th>5</th>\n",
       "      <td>6</td>\n",
       "      <td>0</td>\n",
       "      <td>0.9</td>\n",
       "      <td>1.51</td>\n",
       "      <td>0.805662</td>\n",
       "      <td>0.820412</td>\n",
       "      <td>0.1</td>\n",
       "      <td>200000</td>\n",
       "      <td>output.json</td>\n",
       "      <td>-0.000007</td>\n",
       "    </tr>\n",
       "    <tr>\n",
       "      <th>6</th>\n",
       "      <td>7</td>\n",
       "      <td>0</td>\n",
       "      <td>0.9</td>\n",
       "      <td>1.51</td>\n",
       "      <td>1.094338</td>\n",
       "      <td>0.779588</td>\n",
       "      <td>0.1</td>\n",
       "      <td>200000</td>\n",
       "      <td>output.json</td>\n",
       "      <td>-0.000006</td>\n",
       "    </tr>\n",
       "    <tr>\n",
       "      <th>7</th>\n",
       "      <td>8</td>\n",
       "      <td>0</td>\n",
       "      <td>0.9</td>\n",
       "      <td>1.51</td>\n",
       "      <td>1.094338</td>\n",
       "      <td>0.820412</td>\n",
       "      <td>0.1</td>\n",
       "      <td>200000</td>\n",
       "      <td>output.json</td>\n",
       "      <td>-0.000005</td>\n",
       "    </tr>\n",
       "    <tr>\n",
       "      <th>8</th>\n",
       "      <td>9</td>\n",
       "      <td>0</td>\n",
       "      <td>1.1</td>\n",
       "      <td>1.49</td>\n",
       "      <td>0.805662</td>\n",
       "      <td>0.779588</td>\n",
       "      <td>0.1</td>\n",
       "      <td>200000</td>\n",
       "      <td>output.json</td>\n",
       "      <td>-0.000010</td>\n",
       "    </tr>\n",
       "    <tr>\n",
       "      <th>9</th>\n",
       "      <td>10</td>\n",
       "      <td>0</td>\n",
       "      <td>1.1</td>\n",
       "      <td>1.49</td>\n",
       "      <td>0.805662</td>\n",
       "      <td>0.820412</td>\n",
       "      <td>0.1</td>\n",
       "      <td>200000</td>\n",
       "      <td>output.json</td>\n",
       "      <td>-0.000008</td>\n",
       "    </tr>\n",
       "    <tr>\n",
       "      <th>10</th>\n",
       "      <td>11</td>\n",
       "      <td>0</td>\n",
       "      <td>1.1</td>\n",
       "      <td>1.49</td>\n",
       "      <td>1.094338</td>\n",
       "      <td>0.779588</td>\n",
       "      <td>0.1</td>\n",
       "      <td>200000</td>\n",
       "      <td>output.json</td>\n",
       "      <td>-0.000006</td>\n",
       "    </tr>\n",
       "    <tr>\n",
       "      <th>11</th>\n",
       "      <td>12</td>\n",
       "      <td>0</td>\n",
       "      <td>1.1</td>\n",
       "      <td>1.49</td>\n",
       "      <td>1.094338</td>\n",
       "      <td>0.820412</td>\n",
       "      <td>0.1</td>\n",
       "      <td>200000</td>\n",
       "      <td>output.json</td>\n",
       "      <td>-0.000005</td>\n",
       "    </tr>\n",
       "    <tr>\n",
       "      <th>12</th>\n",
       "      <td>13</td>\n",
       "      <td>0</td>\n",
       "      <td>1.1</td>\n",
       "      <td>1.51</td>\n",
       "      <td>0.805662</td>\n",
       "      <td>0.779588</td>\n",
       "      <td>0.1</td>\n",
       "      <td>200000</td>\n",
       "      <td>output.json</td>\n",
       "      <td>-0.000011</td>\n",
       "    </tr>\n",
       "    <tr>\n",
       "      <th>13</th>\n",
       "      <td>14</td>\n",
       "      <td>0</td>\n",
       "      <td>1.1</td>\n",
       "      <td>1.51</td>\n",
       "      <td>0.805662</td>\n",
       "      <td>0.820412</td>\n",
       "      <td>0.1</td>\n",
       "      <td>200000</td>\n",
       "      <td>output.json</td>\n",
       "      <td>-0.000009</td>\n",
       "    </tr>\n",
       "    <tr>\n",
       "      <th>14</th>\n",
       "      <td>15</td>\n",
       "      <td>0</td>\n",
       "      <td>1.1</td>\n",
       "      <td>1.51</td>\n",
       "      <td>1.094338</td>\n",
       "      <td>0.779588</td>\n",
       "      <td>0.1</td>\n",
       "      <td>200000</td>\n",
       "      <td>output.json</td>\n",
       "      <td>-0.000007</td>\n",
       "    </tr>\n",
       "    <tr>\n",
       "      <th>15</th>\n",
       "      <td>16</td>\n",
       "      <td>0</td>\n",
       "      <td>1.1</td>\n",
       "      <td>1.51</td>\n",
       "      <td>1.094338</td>\n",
       "      <td>0.820412</td>\n",
       "      <td>0.1</td>\n",
       "      <td>200000</td>\n",
       "      <td>output.json</td>\n",
       "      <td>-0.000006</td>\n",
       "    </tr>\n",
       "  </tbody>\n",
       "</table>\n",
       "</div>"
      ],
      "text/plain": [
       "   run_id iteration    F     L         a         D    d       E      outfile  \\\n",
       "        0         0    0     0         0         0    0       0            0   \n",
       "0       1         0  0.9  1.49  0.805662  0.779588  0.1  200000  output.json   \n",
       "1       2         0  0.9  1.49  0.805662  0.820412  0.1  200000  output.json   \n",
       "2       3         0  0.9  1.49  1.094338  0.779588  0.1  200000  output.json   \n",
       "3       4         0  0.9  1.49  1.094338  0.820412  0.1  200000  output.json   \n",
       "4       5         0  0.9  1.51  0.805662  0.779588  0.1  200000  output.json   \n",
       "5       6         0  0.9  1.51  0.805662  0.820412  0.1  200000  output.json   \n",
       "6       7         0  0.9  1.51  1.094338  0.779588  0.1  200000  output.json   \n",
       "7       8         0  0.9  1.51  1.094338  0.820412  0.1  200000  output.json   \n",
       "8       9         0  1.1  1.49  0.805662  0.779588  0.1  200000  output.json   \n",
       "9      10         0  1.1  1.49  0.805662  0.820412  0.1  200000  output.json   \n",
       "10     11         0  1.1  1.49  1.094338  0.779588  0.1  200000  output.json   \n",
       "11     12         0  1.1  1.49  1.094338  0.820412  0.1  200000  output.json   \n",
       "12     13         0  1.1  1.51  0.805662  0.779588  0.1  200000  output.json   \n",
       "13     14         0  1.1  1.51  0.805662  0.820412  0.1  200000  output.json   \n",
       "14     15         0  1.1  1.51  1.094338  0.779588  0.1  200000  output.json   \n",
       "15     16         0  1.1  1.51  1.094338  0.820412  0.1  200000  output.json   \n",
       "\n",
       "          g1  \n",
       "           0  \n",
       "0  -0.000008  \n",
       "1  -0.000007  \n",
       "2  -0.000005  \n",
       "3  -0.000004  \n",
       "4  -0.000009  \n",
       "5  -0.000007  \n",
       "6  -0.000006  \n",
       "7  -0.000005  \n",
       "8  -0.000010  \n",
       "9  -0.000008  \n",
       "10 -0.000006  \n",
       "11 -0.000005  \n",
       "12 -0.000011  \n",
       "13 -0.000009  \n",
       "14 -0.000007  \n",
       "15 -0.000006  "
      ]
     },
     "execution_count": 27,
     "metadata": {},
     "output_type": "execute_result"
    }
   ],
   "source": [
    "campaign.get_collation_result()"
   ]
  },
  {
   "cell_type": "markdown",
   "metadata": {},
   "source": [
    "We then call the analyse method whose functionality will depend on the sampling method used. It returns an [AnalysisResults]() object which can be used to retrieve numerical values or plot the results. In this case Sobols indices."
   ]
  },
  {
   "cell_type": "code",
   "execution_count": 28,
   "metadata": {},
   "outputs": [],
   "source": [
    "results = campaign.analyse(qoi_cols=['g1'])"
   ]
  },
  {
   "cell_type": "markdown",
   "metadata": {},
   "source": [
    "We can plot the results in a treemap format. Each square representing the relative influence of that parameter to the variance of the output variable (vertical displacement at point ```a```). A square labeled ```higher orders``` represent the influence of the interactions between the input parameters."
   ]
  },
  {
   "cell_type": "code",
   "execution_count": 29,
   "metadata": {},
   "outputs": [
    {
     "data": {
      "image/png": "[encoded data removed]",
      "text/plain": [
       "<Figure size 720x720 with 1 Axes>"
      ]
     },
     "metadata": {
      "needs_background": "light"
     },
     "output_type": "display_data"
    }
   ],
   "source": [
    "results.plot_sobols_treemap('g1', figsize=(10, 10))\n",
    "plt.axis('off');"
   ]
  },
  {
   "cell_type": "markdown",
   "metadata": {},
   "source": [
    "Alternatively you can get the Sobol index values using the method call below."
   ]
  },
  {
   "cell_type": "code",
   "execution_count": 30,
   "metadata": {},
   "outputs": [
    {
     "data": {
      "text/plain": [
       "{'F': array([0.13515478]),\n",
       " 'L': array([0.01220653]),\n",
       " 'a': array([0.69667914]),\n",
       " 'D': array([0.13994264])}"
      ]
     },
     "execution_count": 30,
     "metadata": {},
     "output_type": "execute_result"
    }
   ],
   "source": [
    "results.sobols_first('g1')"
   ]
  }
 ],
 "metadata": {
  "kernelspec": {
   "display_name": "Python 3",
   "language": "python",
   "name": "python3"
  },
  "language_info": {
   "codemirror_mode": {
    "name": "ipython",
    "version": 3
   },
   "file_extension": ".py",
   "mimetype": "text/x-python",
   "name": "python",
   "nbconvert_exporter": "python",
   "pygments_lexer": "ipython3",
   "version": "3.7.4"
  },
  "pycharm": {
   "stem_cell": {
    "cell_type": "raw",
    "metadata": {
     "collapsed": false
    },
    "source": []
   }
  }
 },
 "nbformat": 4,
 "nbformat_minor": 5
}
