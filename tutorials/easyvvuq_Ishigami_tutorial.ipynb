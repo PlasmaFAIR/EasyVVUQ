{
 "cells": [
  {
   "cell_type": "markdown",
   "metadata": {},
   "source": [
    "Run an EasyVVUQ campaign to analyze the sensitivity for the Ishigami function\n",
    "\n",
    "This is done with PCE."
   ]
  },
  {
   "cell_type": "code",
   "execution_count": 1,
   "metadata": {
    "ExecuteTime": {
     "end_time": "2021-05-19T17:45:09.625973Z",
     "start_time": "2021-05-19T17:45:06.959021Z"
    },
    "code_folding": []
   },
   "outputs": [],
   "source": [
    "# Run an EasyVVUQ campaign to analyze the sensitivity for the Ishigami function\n",
    "# This is done with PCE.\n",
    "import os\n",
    "import easyvvuq as uq\n",
    "import chaospy as cp\n",
    "import pickle\n",
    "import numpy as np\n",
    "import matplotlib.pylab as plt\n",
    "import time\n",
    "import pandas as pd"
   ]
  },
  {
   "cell_type": "code",
   "execution_count": 2,
   "metadata": {
    "ExecuteTime": {
     "end_time": "2021-05-19T17:45:09.635770Z",
     "start_time": "2021-05-19T17:45:09.628323Z"
    },
    "code_folding": [
     0,
     1
    ]
   },
   "outputs": [],
   "source": [
    "# Define the Ishigami function\n",
    "def ishigamiSA(a,b):\n",
    "    '''Exact sensitivity indices of the Ishigami function for given a and b.\n",
    "    From https://openturns.github.io/openturns/master/examples/meta_modeling/chaos_ishigami.html\n",
    "    '''\n",
    "    var = 1.0/2 + a**2/8 + b*np.pi**4/5 + b**2*np.pi**8/18\n",
    "    S1 = (1.0/2 + b*np.pi**4/5+b**2*np.pi**8/50)/var\n",
    "    S2 = (a**2/8)/var\n",
    "    S3 = 0\n",
    "    S13 = b**2*np.pi**8/2*(1.0/9-1.0/25)/var\n",
    "    exact = {\n",
    "            'expectation' : a/2,\n",
    "            'variance' : var,\n",
    "            'S1' : (1.0/2 + b*np.pi**4/5+b**2*np.pi**8.0/50)/var,\n",
    "            'S2' : (a**2/8)/var,\n",
    "            'S3' : 0,\n",
    "            'S12' : 0,\n",
    "            'S23' : 0,\n",
    "            'S13' : S13,\n",
    "            'S123' : 0,\n",
    "            'ST1' : S1 + S13,\n",
    "            'ST2' : S2,\n",
    "            'ST3' : S3 + S13\n",
    "            }\n",
    "    return exact\n",
    "\n",
    "Ishigami_a = 7.0\n",
    "Ishigami_b = 0.1\n",
    "exact = ishigamiSA(Ishigami_a, Ishigami_b)"
   ]
  },
  {
   "cell_type": "code",
   "execution_count": 3,
   "metadata": {
    "ExecuteTime": {
     "end_time": "2021-05-19T17:45:09.654143Z",
     "start_time": "2021-05-19T17:45:09.637557Z"
    },
    "code_folding": [
     0
    ]
   },
   "outputs": [],
   "source": [
    "# define a model to run the Ishigami code directly from python, expecting a dictionary and returning a dictionary\n",
    "def run_ishigami_model(input):\n",
    "    import Ishigami\n",
    "    qois = [\"Ishigami\"]\n",
    "    del input['out_file']\n",
    "    return {qois[0]: Ishigami.evaluate(**input)}"
   ]
  },
  {
   "cell_type": "code",
   "execution_count": 4,
   "metadata": {
    "ExecuteTime": {
     "end_time": "2021-05-19T17:45:09.673118Z",
     "start_time": "2021-05-19T17:45:09.655862Z"
    },
    "code_folding": [
     0
    ]
   },
   "outputs": [],
   "source": [
    "# Set up and run a campaign\n",
    "def run_campaign(pce_order=2, use_files=False):\n",
    "\n",
    "    times = np.zeros(7)\n",
    "\n",
    "    time_start = time.time()\n",
    "    time_start_whole = time_start\n",
    "\n",
    "    # Set up a fresh campaign called \"Ishigami_pce.\"\n",
    "    my_campaign = uq.Campaign(name='Ishigami_pce.')\n",
    "\n",
    "    # Define parameter space\n",
    "    params = {\n",
    "        \"x1\":       {\"type\": \"float\",   \"min\": -np.pi,     \"max\": np.pi,      \"default\": 0.0},\n",
    "        \"x2\":       {\"type\": \"float\",   \"min\": -np.pi,     \"max\": np.pi,      \"default\": 0.0},\n",
    "        \"x3\":       {\"type\": \"float\",   \"min\": -np.pi,     \"max\": np.pi,      \"default\": 0.0},\n",
    "        \"a\":        {\"type\": \"float\",   \"min\": Ishigami_a, \"max\": Ishigami_a, \"default\": Ishigami_a},\n",
    "        \"b\":        {\"type\": \"float\",   \"min\": Ishigami_b, \"max\": Ishigami_b, \"default\": Ishigami_b},\n",
    "        \"out_file\": {\"type\": \"string\",  \"default\": \"output.csv\"}\n",
    "    }\n",
    "\n",
    "    # Create an encoder and decoder for PCE test app\n",
    "    if use_files:\n",
    "        encoder = uq.encoders.GenericEncoder(template_fname='Ishigami.template',\n",
    "                                             delimiter='$',\n",
    "                                             target_filename='Ishigami_in.json')\n",
    "\n",
    "        decoder = uq.decoders.SimpleCSV(target_filename=\"output.csv\",\n",
    "                                        output_columns=[\"Ishigami\"])\n",
    "\n",
    "        execute = uq.actions.ExecuteLocal('python3 %s/Ishigami.py Ishigami_in.json' % (os.getcwd()))\n",
    "\n",
    "        actions = uq.actions.Actions(uq.actions.CreateRunDirectory('/tmp'), \n",
    "                          uq.actions.Encode(encoder), execute, uq.actions.Decode(decoder))\n",
    "    else:\n",
    "        actions = uq.actions.Actions(uq.actions.ExecutePython(run_ishigami_model))\n",
    "\n",
    "    # Add the app (automatically set as current app)\n",
    "    my_campaign.add_app(name=\"Ishigami\", params=params, actions=actions)\n",
    "\n",
    "    # Create the sampler\n",
    "    vary = {\n",
    "        \"x1\":   cp.Uniform(-np.pi, np.pi),\n",
    "        \"x2\":   cp.Uniform(-np.pi, np.pi),\n",
    "        \"x3\":   cp.Uniform(-np.pi, np.pi)\n",
    "    }\n",
    "\n",
    "    time_end = time.time()\n",
    "    times[1] = time_end-time_start\n",
    "    print('Time for phase 1 = %.3f' % (times[1]))\n",
    "\n",
    "    time_start = time.time()\n",
    "    # Associate a sampler with the campaign\n",
    "    my_campaign.set_sampler(uq.sampling.PCESampler(vary=vary, polynomial_order=pce_order))\n",
    "\n",
    "    # Will draw all (of the finite set of samples)\n",
    "    my_campaign.draw_samples()\n",
    "    print('Number of samples = %s' % my_campaign.get_active_sampler().count)\n",
    "\n",
    "    time_end = time.time()\n",
    "    times[2] = time_end-time_start\n",
    "    print('Time for phase 2 = %.3f' % (times[2]))\n",
    "\n",
    "    time_start = time.time()\n",
    "    # Run the cases\n",
    "    my_campaign.execute().collate()\n",
    "\n",
    "    time_end = time.time()\n",
    "    times[3] = time_end-time_start\n",
    "    print('Time for phase 3 = %.3f' % (times[3]))\n",
    "\n",
    "    time_start = time.time()\n",
    "    # Get the results\n",
    "    results_df = my_campaign.get_collation_result()\n",
    "\n",
    "    time_end = time.time()\n",
    "    times[4] = time_end-time_start\n",
    "    print('Time for phase 4 = %.3f' % (times[4]))\n",
    "\n",
    "    time_start = time.time()\n",
    "    # Post-processing analysis\n",
    "    results = my_campaign.analyse(qoi_cols=[\"Ishigami\"])\n",
    "    \n",
    "    time_end = time.time()\n",
    "    times[5] = time_end-time_start\n",
    "    print('Time for phase 5 = %.3f' % (times[5]))\n",
    "\n",
    "    time_start = time.time()\n",
    "    # Save the results\n",
    "    pickle.dump(results, open('Ishigami_results.pickle','bw'))\n",
    "    time_end = time.time()\n",
    "    times[6] = time_end-time_start\n",
    "    print('Time for phase 6 = %.3f' % (times[6]))\n",
    "\n",
    "    times[0] = time_end - time_start_whole\n",
    "\n",
    "    return results_df, results, times, pce_order, my_campaign.get_active_sampler().count"
   ]
  },
  {
   "cell_type": "code",
   "execution_count": 5,
   "metadata": {
    "ExecuteTime": {
     "end_time": "2021-05-19T18:27:42.372884Z",
     "start_time": "2021-05-19T17:45:09.674682Z"
    },
    "scrolled": true
   },
   "outputs": [
    {
     "name": "stdout",
     "output_type": "stream",
     "text": [
      "Time for phase 1 = 0.173\n",
      "Number of samples = 8\n",
      "Time for phase 2 = 0.155\n",
      "Time for phase 3 = 0.020\n",
      "Time for phase 4 = 0.006\n",
      "Time for phase 5 = 0.097\n",
      "Time for phase 6 = 0.006\n",
      "Time for phase 1 = 0.022\n",
      "Number of samples = 27\n",
      "Time for phase 2 = 0.254\n",
      "Time for phase 3 = 0.037\n",
      "Time for phase 4 = 0.006\n",
      "Time for phase 5 = 0.443\n",
      "Time for phase 6 = 0.003\n",
      "Time for phase 1 = 0.027\n",
      "Number of samples = 64\n",
      "Time for phase 2 = 0.420\n",
      "Time for phase 3 = 0.075\n",
      "Time for phase 4 = 0.007\n",
      "Time for phase 5 = 0.760\n",
      "Time for phase 6 = 0.002\n",
      "Time for phase 1 = 0.026\n",
      "Number of samples = 125\n",
      "Time for phase 2 = 0.633\n",
      "Time for phase 3 = 0.143\n",
      "Time for phase 4 = 0.010\n",
      "Time for phase 5 = 1.216\n",
      "Time for phase 6 = 0.003\n",
      "Time for phase 1 = 0.030\n",
      "Number of samples = 216\n",
      "Time for phase 2 = 0.889\n",
      "Time for phase 3 = 0.240\n",
      "Time for phase 4 = 0.025\n",
      "Time for phase 5 = 1.878\n",
      "Time for phase 6 = 0.003\n",
      "Time for phase 1 = 0.031\n",
      "Number of samples = 343\n",
      "Time for phase 2 = 1.215\n",
      "Time for phase 3 = 0.353\n",
      "Time for phase 4 = 0.018\n",
      "Time for phase 5 = 2.808\n",
      "Time for phase 6 = 0.004\n",
      "Time for phase 1 = 0.034\n",
      "Number of samples = 512\n",
      "Time for phase 2 = 1.626\n",
      "Time for phase 3 = 0.677\n",
      "Time for phase 4 = 0.032\n",
      "Time for phase 5 = 4.369\n",
      "Time for phase 6 = 0.007\n",
      "Time for phase 1 = 0.032\n",
      "Number of samples = 729\n",
      "Time for phase 2 = 2.173\n",
      "Time for phase 3 = 0.713\n",
      "Time for phase 4 = 0.033\n",
      "Time for phase 5 = 7.017\n",
      "Time for phase 6 = 0.008\n",
      "Time for phase 1 = 0.029\n",
      "Number of samples = 1000\n",
      "Time for phase 2 = 2.907\n",
      "Time for phase 3 = 1.154\n",
      "Time for phase 4 = 0.050\n",
      "Time for phase 5 = 10.651\n",
      "Time for phase 6 = 0.008\n",
      "Time for phase 1 = 0.029\n",
      "Number of samples = 1331\n",
      "Time for phase 2 = 3.670\n",
      "Time for phase 3 = 1.308\n",
      "Time for phase 4 = 0.215\n",
      "Time for phase 5 = 14.757\n",
      "Time for phase 6 = 0.008\n",
      "Time for phase 1 = 0.028\n",
      "Number of samples = 1728\n",
      "Time for phase 2 = 4.421\n",
      "Time for phase 3 = 2.056\n",
      "Time for phase 4 = 0.077\n",
      "Time for phase 5 = 22.047\n",
      "Time for phase 6 = 0.009\n",
      "Time for phase 1 = 0.031\n",
      "Number of samples = 2197\n",
      "Time for phase 2 = 5.535\n",
      "Time for phase 3 = 2.340\n",
      "Time for phase 4 = 0.102\n",
      "Time for phase 5 = 35.881\n",
      "Time for phase 6 = 0.010\n",
      "Time for phase 1 = 0.025\n",
      "Number of samples = 2744\n",
      "Time for phase 2 = 6.987\n",
      "Time for phase 3 = 2.834\n",
      "Time for phase 4 = 0.111\n",
      "Time for phase 5 = 48.458\n",
      "Time for phase 6 = 0.010\n",
      "Time for phase 1 = 0.027\n",
      "Number of samples = 3375\n",
      "Time for phase 2 = 8.322\n",
      "Time for phase 3 = 3.506\n",
      "Time for phase 4 = 0.138\n",
      "Time for phase 5 = 78.008\n",
      "Time for phase 6 = 0.010\n",
      "Time for phase 1 = 0.024\n",
      "Number of samples = 4096\n",
      "Time for phase 2 = 10.338\n",
      "Time for phase 3 = 4.376\n",
      "Time for phase 4 = 0.162\n",
      "Time for phase 5 = 105.769\n",
      "Time for phase 6 = 0.013\n",
      "Time for phase 1 = 0.029\n",
      "Number of samples = 4913\n",
      "Time for phase 2 = 12.810\n",
      "Time for phase 3 = 5.046\n",
      "Time for phase 4 = 0.299\n",
      "Time for phase 5 = 171.896\n",
      "Time for phase 6 = 0.012\n",
      "Time for phase 1 = 0.028\n",
      "Number of samples = 5832\n",
      "Time for phase 2 = 14.506\n",
      "Time for phase 3 = 5.637\n",
      "Time for phase 4 = 0.340\n",
      "Time for phase 5 = 243.938\n",
      "Time for phase 6 = 0.016\n",
      "Time for phase 1 = 0.027\n",
      "Number of samples = 6859\n",
      "Time for phase 2 = 17.193\n",
      "Time for phase 3 = 6.754\n",
      "Time for phase 4 = 0.249\n",
      "Time for phase 5 = 357.043\n",
      "Time for phase 6 = 0.017\n",
      "Time for phase 1 = 0.028\n",
      "Number of samples = 8000\n",
      "Time for phase 2 = 20.483\n",
      "Time for phase 3 = 8.142\n",
      "Time for phase 4 = 0.306\n",
      "Time for phase 5 = 502.489\n",
      "Time for phase 6 = 0.020\n",
      "Time for phase 1 = 0.028\n",
      "Number of samples = 9261\n",
      "Time for phase 2 = 24.500\n",
      "Time for phase 3 = 9.813\n",
      "Time for phase 4 = 0.355\n",
      "Time for phase 5 = 745.184\n",
      "Time for phase 6 = 0.022\n"
     ]
    }
   ],
   "source": [
    "R = {}\n",
    "for pce_order in range(1, 21):\n",
    "    R[pce_order] = {}\n",
    "    (R[pce_order]['results_df'], \n",
    "     R[pce_order]['results'], \n",
    "     R[pce_order]['times'], \n",
    "     R[pce_order]['order'], \n",
    "     R[pce_order]['number_of_samples']) = run_campaign(pce_order=pce_order, use_files=False)"
   ]
  },
  {
   "cell_type": "code",
   "execution_count": 6,
   "metadata": {
    "ExecuteTime": {
     "end_time": "2021-05-19T18:27:42.532807Z",
     "start_time": "2021-05-19T18:27:42.376543Z"
    }
   },
   "outputs": [],
   "source": [
    "# save the results\n",
    "\n",
    "pickle.dump(R, open('collected_results.pickle','bw'))"
   ]
  },
  {
   "cell_type": "code",
   "execution_count": 7,
   "metadata": {
    "ExecuteTime": {
     "end_time": "2021-05-19T18:27:42.562191Z",
     "start_time": "2021-05-19T18:27:42.535045Z"
    },
    "code_folding": [
     0
    ]
   },
   "outputs": [
    {
     "data": {
      "text/html": [
       "<div>\n",
       "<style scoped>\n",
       "    .dataframe tbody tr th:only-of-type {\n",
       "        vertical-align: middle;\n",
       "    }\n",
       "\n",
       "    .dataframe tbody tr th {\n",
       "        vertical-align: top;\n",
       "    }\n",
       "\n",
       "    .dataframe thead th {\n",
       "        text-align: right;\n",
       "    }\n",
       "</style>\n",
       "<table border=\"1\" class=\"dataframe\">\n",
       "  <thead>\n",
       "    <tr style=\"text-align: right;\">\n",
       "      <th></th>\n",
       "      <th>Total</th>\n",
       "      <th>Phase 1</th>\n",
       "      <th>Phase 2</th>\n",
       "      <th>Phase 3</th>\n",
       "      <th>Phase 4</th>\n",
       "      <th>Phase 5</th>\n",
       "      <th>Phase 6</th>\n",
       "    </tr>\n",
       "  </thead>\n",
       "  <tbody>\n",
       "    <tr>\n",
       "      <th>1</th>\n",
       "      <td>0.458285</td>\n",
       "      <td>0.173430</td>\n",
       "      <td>0.154820</td>\n",
       "      <td>0.020300</td>\n",
       "      <td>0.006230</td>\n",
       "      <td>0.096851</td>\n",
       "      <td>0.005571</td>\n",
       "    </tr>\n",
       "    <tr>\n",
       "      <th>2</th>\n",
       "      <td>0.767661</td>\n",
       "      <td>0.021988</td>\n",
       "      <td>0.254369</td>\n",
       "      <td>0.037354</td>\n",
       "      <td>0.006134</td>\n",
       "      <td>0.443221</td>\n",
       "      <td>0.003371</td>\n",
       "    </tr>\n",
       "    <tr>\n",
       "      <th>3</th>\n",
       "      <td>1.294469</td>\n",
       "      <td>0.027475</td>\n",
       "      <td>0.419683</td>\n",
       "      <td>0.074635</td>\n",
       "      <td>0.007336</td>\n",
       "      <td>0.760208</td>\n",
       "      <td>0.001769</td>\n",
       "    </tr>\n",
       "    <tr>\n",
       "      <th>4</th>\n",
       "      <td>2.039023</td>\n",
       "      <td>0.026332</td>\n",
       "      <td>0.632875</td>\n",
       "      <td>0.143150</td>\n",
       "      <td>0.010048</td>\n",
       "      <td>1.216323</td>\n",
       "      <td>0.003495</td>\n",
       "    </tr>\n",
       "    <tr>\n",
       "      <th>5</th>\n",
       "      <td>3.065567</td>\n",
       "      <td>0.029651</td>\n",
       "      <td>0.889273</td>\n",
       "      <td>0.240107</td>\n",
       "      <td>0.024582</td>\n",
       "      <td>1.877995</td>\n",
       "      <td>0.003414</td>\n",
       "    </tr>\n",
       "    <tr>\n",
       "      <th>6</th>\n",
       "      <td>4.440356</td>\n",
       "      <td>0.030514</td>\n",
       "      <td>1.214563</td>\n",
       "      <td>0.352747</td>\n",
       "      <td>0.017838</td>\n",
       "      <td>2.808304</td>\n",
       "      <td>0.004255</td>\n",
       "    </tr>\n",
       "    <tr>\n",
       "      <th>7</th>\n",
       "      <td>6.755659</td>\n",
       "      <td>0.033774</td>\n",
       "      <td>1.626485</td>\n",
       "      <td>0.676550</td>\n",
       "      <td>0.031998</td>\n",
       "      <td>4.369068</td>\n",
       "      <td>0.007138</td>\n",
       "    </tr>\n",
       "    <tr>\n",
       "      <th>8</th>\n",
       "      <td>9.996733</td>\n",
       "      <td>0.031593</td>\n",
       "      <td>2.172790</td>\n",
       "      <td>0.713227</td>\n",
       "      <td>0.032547</td>\n",
       "      <td>7.016959</td>\n",
       "      <td>0.007602</td>\n",
       "    </tr>\n",
       "    <tr>\n",
       "      <th>9</th>\n",
       "      <td>14.815434</td>\n",
       "      <td>0.029318</td>\n",
       "      <td>2.906751</td>\n",
       "      <td>1.153505</td>\n",
       "      <td>0.049985</td>\n",
       "      <td>10.650826</td>\n",
       "      <td>0.008082</td>\n",
       "    </tr>\n",
       "    <tr>\n",
       "      <th>10</th>\n",
       "      <td>20.006949</td>\n",
       "      <td>0.028729</td>\n",
       "      <td>3.669618</td>\n",
       "      <td>1.308434</td>\n",
       "      <td>0.215175</td>\n",
       "      <td>14.757234</td>\n",
       "      <td>0.008011</td>\n",
       "    </tr>\n",
       "    <tr>\n",
       "      <th>11</th>\n",
       "      <td>28.654502</td>\n",
       "      <td>0.027899</td>\n",
       "      <td>4.421014</td>\n",
       "      <td>2.056216</td>\n",
       "      <td>0.076839</td>\n",
       "      <td>22.047261</td>\n",
       "      <td>0.009073</td>\n",
       "    </tr>\n",
       "    <tr>\n",
       "      <th>12</th>\n",
       "      <td>43.909579</td>\n",
       "      <td>0.030530</td>\n",
       "      <td>5.534785</td>\n",
       "      <td>2.339685</td>\n",
       "      <td>0.102271</td>\n",
       "      <td>35.881157</td>\n",
       "      <td>0.009591</td>\n",
       "    </tr>\n",
       "    <tr>\n",
       "      <th>13</th>\n",
       "      <td>58.445481</td>\n",
       "      <td>0.025261</td>\n",
       "      <td>6.987081</td>\n",
       "      <td>2.834241</td>\n",
       "      <td>0.110654</td>\n",
       "      <td>48.457580</td>\n",
       "      <td>0.009599</td>\n",
       "    </tr>\n",
       "    <tr>\n",
       "      <th>14</th>\n",
       "      <td>90.022593</td>\n",
       "      <td>0.027490</td>\n",
       "      <td>8.322299</td>\n",
       "      <td>3.506197</td>\n",
       "      <td>0.137854</td>\n",
       "      <td>78.007621</td>\n",
       "      <td>0.010272</td>\n",
       "    </tr>\n",
       "    <tr>\n",
       "      <th>15</th>\n",
       "      <td>120.688047</td>\n",
       "      <td>0.024399</td>\n",
       "      <td>10.337746</td>\n",
       "      <td>4.375871</td>\n",
       "      <td>0.162098</td>\n",
       "      <td>105.768818</td>\n",
       "      <td>0.013472</td>\n",
       "    </tr>\n",
       "    <tr>\n",
       "      <th>16</th>\n",
       "      <td>190.113670</td>\n",
       "      <td>0.028517</td>\n",
       "      <td>12.810384</td>\n",
       "      <td>5.045651</td>\n",
       "      <td>0.299085</td>\n",
       "      <td>171.896472</td>\n",
       "      <td>0.011924</td>\n",
       "    </tr>\n",
       "    <tr>\n",
       "      <th>17</th>\n",
       "      <td>264.492112</td>\n",
       "      <td>0.027760</td>\n",
       "      <td>14.505949</td>\n",
       "      <td>5.637495</td>\n",
       "      <td>0.340086</td>\n",
       "      <td>243.937830</td>\n",
       "      <td>0.016352</td>\n",
       "    </tr>\n",
       "    <tr>\n",
       "      <th>18</th>\n",
       "      <td>381.292928</td>\n",
       "      <td>0.026875</td>\n",
       "      <td>17.192581</td>\n",
       "      <td>6.753677</td>\n",
       "      <td>0.248575</td>\n",
       "      <td>357.043273</td>\n",
       "      <td>0.017184</td>\n",
       "    </tr>\n",
       "    <tr>\n",
       "      <th>19</th>\n",
       "      <td>531.489366</td>\n",
       "      <td>0.027870</td>\n",
       "      <td>20.483493</td>\n",
       "      <td>8.141819</td>\n",
       "      <td>0.305748</td>\n",
       "      <td>502.489099</td>\n",
       "      <td>0.020285</td>\n",
       "    </tr>\n",
       "    <tr>\n",
       "      <th>20</th>\n",
       "      <td>779.911003</td>\n",
       "      <td>0.027627</td>\n",
       "      <td>24.499632</td>\n",
       "      <td>9.812571</td>\n",
       "      <td>0.354706</td>\n",
       "      <td>745.183776</td>\n",
       "      <td>0.021827</td>\n",
       "    </tr>\n",
       "  </tbody>\n",
       "</table>\n",
       "</div>"
      ],
      "text/plain": [
       "         Total   Phase 1    Phase 2   Phase 3   Phase 4     Phase 5   Phase 6\n",
       "1     0.458285  0.173430   0.154820  0.020300  0.006230    0.096851  0.005571\n",
       "2     0.767661  0.021988   0.254369  0.037354  0.006134    0.443221  0.003371\n",
       "3     1.294469  0.027475   0.419683  0.074635  0.007336    0.760208  0.001769\n",
       "4     2.039023  0.026332   0.632875  0.143150  0.010048    1.216323  0.003495\n",
       "5     3.065567  0.029651   0.889273  0.240107  0.024582    1.877995  0.003414\n",
       "6     4.440356  0.030514   1.214563  0.352747  0.017838    2.808304  0.004255\n",
       "7     6.755659  0.033774   1.626485  0.676550  0.031998    4.369068  0.007138\n",
       "8     9.996733  0.031593   2.172790  0.713227  0.032547    7.016959  0.007602\n",
       "9    14.815434  0.029318   2.906751  1.153505  0.049985   10.650826  0.008082\n",
       "10   20.006949  0.028729   3.669618  1.308434  0.215175   14.757234  0.008011\n",
       "11   28.654502  0.027899   4.421014  2.056216  0.076839   22.047261  0.009073\n",
       "12   43.909579  0.030530   5.534785  2.339685  0.102271   35.881157  0.009591\n",
       "13   58.445481  0.025261   6.987081  2.834241  0.110654   48.457580  0.009599\n",
       "14   90.022593  0.027490   8.322299  3.506197  0.137854   78.007621  0.010272\n",
       "15  120.688047  0.024399  10.337746  4.375871  0.162098  105.768818  0.013472\n",
       "16  190.113670  0.028517  12.810384  5.045651  0.299085  171.896472  0.011924\n",
       "17  264.492112  0.027760  14.505949  5.637495  0.340086  243.937830  0.016352\n",
       "18  381.292928  0.026875  17.192581  6.753677  0.248575  357.043273  0.017184\n",
       "19  531.489366  0.027870  20.483493  8.141819  0.305748  502.489099  0.020285\n",
       "20  779.911003  0.027627  24.499632  9.812571  0.354706  745.183776  0.021827"
      ]
     },
     "metadata": {},
     "output_type": "display_data"
    }
   ],
   "source": [
    "# produce a table of the time taken for various phases\n",
    "# the phases are:\n",
    "#   1: creation of campaign\n",
    "#   2: creation of samples\n",
    "#   3: running the cases\n",
    "#   4: calculation of statistics including Sobols\n",
    "#   5: returning of analysed results\n",
    "#   6: saving campaign and pickled results\n",
    "\n",
    "Timings = pd.DataFrame(np.array([R[r]['times'] for r in list(R.keys())]), \n",
    "             columns=['Total', 'Phase 1', 'Phase 2', 'Phase 3', 'Phase 4', 'Phase 5', 'Phase 6'], \n",
    "             index=[R[r]['order'] for r in list(R.keys())])\n",
    "Timings.to_csv(open('Timings.csv', 'w'))\n",
    "display(Timings)"
   ]
  },
  {
   "cell_type": "code",
   "execution_count": 13,
   "metadata": {
    "ExecuteTime": {
     "end_time": "2021-05-20T06:51:30.450366Z",
     "start_time": "2021-05-20T06:51:29.299172Z"
    }
   },
   "outputs": [
    {
     "data": {
      "image/png": "[encoded data removed]",
      "text/plain": [
       "<Figure size 432x288 with 1 Axes>"
      ]
     },
     "metadata": {
      "needs_background": "light"
     },
     "output_type": "display_data"
    }
   ],
   "source": [
    "# plot the convergence of the mean and standard deviation to that of the highest order\n",
    "\n",
    "mean_analytic = exact['expectation']\n",
    "std_analytic = np.sqrt(exact['variance'])\n",
    "\n",
    "O = [R[r]['order'] for r in list(R.keys())]\n",
    "plt.figure()\n",
    "plt.semilogy([o for o in O], \n",
    "             [np.abs(R[o]['results'].describe('Ishigami', 'mean') - mean_analytic) for o in O],\n",
    "             'o-', label='mean')\n",
    "plt.semilogy([o for o in O], \n",
    "             [np.abs(R[o]['results'].describe('Ishigami', 'std') - std_analytic) for o in O],\n",
    "             'o-', label='std')\n",
    "plt.xlabel('PCE order')\n",
    "plt.ylabel('RMSerror compared to analytic')\n",
    "plt.legend(loc=0)\n",
    "plt.savefig('Convergence_mean_std.png')\n",
    "plt.savefig('Convergence_mean_std.pdf')"
   ]
  },
  {
   "cell_type": "code",
   "execution_count": 14,
   "metadata": {
    "ExecuteTime": {
     "end_time": "2021-05-20T06:51:31.672234Z",
     "start_time": "2021-05-20T06:51:30.734194Z"
    }
   },
   "outputs": [
    {
     "data": {
      "image/png": "[encoded data removed]",
      "text/plain": [
       "<Figure size 432x288 with 1 Axes>"
      ]
     },
     "metadata": {
      "needs_background": "light"
     },
     "output_type": "display_data"
    }
   ],
   "source": [
    "# plot the convergence of the first sobol to that of the highest order\n",
    "\n",
    "sobol_first_exact = {'x1': exact['S1'], 'x2': exact['S2'], 'x3': exact['S3']}\n",
    "\n",
    "O = [R[r]['order'] for r in list(R.keys())]\n",
    "plt.figure()\n",
    "for v in list(R[O[0]]['results'].sobols_first('Ishigami').keys()):\n",
    "    plt.semilogy([o for o in O],\n",
    "                 [np.abs(R[o]['results'].sobols_first('Ishigami')[v] - sobol_first_exact[v]) for o in O],\n",
    "                 'o-',\n",
    "                 label=v)\n",
    "plt.xlabel('PCE order')\n",
    "plt.ylabel('ABSerror for 1st sobol compared to analytic')\n",
    "plt.legend(loc=0)\n",
    "plt.savefig('Convergence_sobol_first.png')\n",
    "plt.savefig('Convergence_sobol_first.pdf')"
   ]
  },
  {
   "cell_type": "code",
   "execution_count": 15,
   "metadata": {
    "ExecuteTime": {
     "end_time": "2021-05-20T06:51:33.469942Z",
     "start_time": "2021-05-20T06:51:32.662637Z"
    }
   },
   "outputs": [
    {
     "data": {
      "image/png": "[encoded data removed]",
      "text/plain": [
       "<Figure size 432x288 with 1 Axes>"
      ]
     },
     "metadata": {
      "needs_background": "light"
     },
     "output_type": "display_data"
    }
   ],
   "source": [
    "# plot the convergence of the total sobol to that of the highest order\n",
    "\n",
    "sobol_total_exact = {'x1': exact['ST1'], 'x2': exact['ST2'], 'x3': exact['ST3']}\n",
    "\n",
    "O = [R[r]['order'] for r in list(R.keys())]\n",
    "plt.figure()\n",
    "for v in list(R[O[0]]['results'].sobols_total('Ishigami').keys()):\n",
    "    plt.semilogy([o for o in O],\n",
    "                 [np.abs(R[o]['results'].sobols_total('Ishigami')[v] - sobol_total_exact[v]) for o in O],\n",
    "                 'o-',\n",
    "                 label=v)\n",
    "plt.xlabel('PCE order')\n",
    "plt.ylabel('ABSerror for total sobol compared to analytic')\n",
    "plt.legend(loc=0)\n",
    "plt.savefig('Convergence_sobol_total.png')\n",
    "plt.savefig('Convergence_sobol_total.pdf')"
   ]
  },
  {
   "cell_type": "code",
   "execution_count": 16,
   "metadata": {
    "ExecuteTime": {
     "end_time": "2021-05-20T06:51:35.166484Z",
     "start_time": "2021-05-20T06:51:35.160785Z"
    }
   },
   "outputs": [
    {
     "data": {
      "text/plain": [
       "{'expectation': 3.5,\n",
       " 'variance': 13.844587940719254,\n",
       " 'S1': 0.31390519114781146,\n",
       " 'S2': 0.4424111447900409,\n",
       " 'S3': 0,\n",
       " 'S12': 0,\n",
       " 'S23': 0,\n",
       " 'S13': 0.2436836640621477,\n",
       " 'S123': 0,\n",
       " 'ST1': 0.5575888552099592,\n",
       " 'ST2': 0.4424111447900409,\n",
       " 'ST3': 0.2436836640621477}"
      ]
     },
     "execution_count": 16,
     "metadata": {},
     "output_type": "execute_result"
    }
   ],
   "source": [
    "exact"
   ]
  },
  {
   "cell_type": "code",
   "execution_count": 17,
   "metadata": {
    "ExecuteTime": {
     "end_time": "2021-05-20T06:51:38.454644Z",
     "start_time": "2021-05-20T06:51:37.710364Z"
    }
   },
   "outputs": [
    {
     "data": {
      "image/png": "[encoded data removed]",
      "text/plain": [
       "<Figure size 432x288 with 1 Axes>"
      ]
     },
     "metadata": {
      "needs_background": "light"
     },
     "output_type": "display_data"
    }
   ],
   "source": [
    "# Plot the distribution function\n",
    "\n",
    "results_df = R[O[-1]]['results_df']\n",
    "results = R[O[-1]]['results']\n",
    "Ishigami_dist = results.raw_data['output_distributions']['Ishigami']\n",
    "\n",
    "plt.figure()\n",
    "plt.hist(results_df.Ishigami[0], density=True, bins=50, label='histogram of raw samples', alpha=0.25)\n",
    "if hasattr(Ishigami_dist, 'samples'):\n",
    "    plt.hist(Ishigami_dist.samples[0], density=True, bins=50, label='histogram of kde samples', alpha=0.25)\n",
    "t1 = Ishigami_dist[0]\n",
    "plt.plot(np.linspace(t1.lower, t1.upper), t1.pdf(np.linspace(t1.lower,t1.upper)), label='PDF')\n",
    "plt.legend(loc=0)\n",
    "plt.xlabel('Ishigami')\n",
    "plt.savefig('Ishigami_distribution_function.png')"
   ]
  },
  {
   "cell_type": "code",
   "execution_count": 75,
   "metadata": {
    "ExecuteTime": {
     "end_time": "2021-05-25T12:03:33.505128Z",
     "start_time": "2021-05-25T12:03:24.488880Z"
    }
   },
   "outputs": [],
   "source": [
    "_o = []\n",
    "_RMS = []\n",
    "for r in R.values():\n",
    "    results_df = r['results_df']\n",
    "    results = r['results']\n",
    "    Ishigami_surrogate = np.squeeze(np.array(results.surrogate()(results_df[results.inputs])['Ishigami']))\n",
    "    Ishigami_samples = np.squeeze(np.array(results_df['Ishigami']))\n",
    "    _RMS.append((np.sqrt((((Ishigami_surrogate - Ishigami_samples))**2).mean())))\n",
    "    _o.append(r['order'])"
   ]
  },
  {
   "cell_type": "code",
   "execution_count": 76,
   "metadata": {
    "ExecuteTime": {
     "end_time": "2021-05-25T12:03:34.025061Z",
     "start_time": "2021-05-25T12:03:33.507185Z"
    }
   },
   "outputs": [
    {
     "data": {
      "text/plain": [
       "<matplotlib.legend.Legend at 0x14ea6455cf98>"
      ]
     },
     "execution_count": 76,
     "metadata": {},
     "output_type": "execute_result"
    },
    {
     "data": {
      "image/png": "[encoded data removed]",
      "text/plain": [
       "<Figure size 432x288 with 1 Axes>"
      ]
     },
     "metadata": {
      "needs_background": "light"
     },
     "output_type": "display_data"
    }
   ],
   "source": [
    "plt.figure()\n",
    "plt.semilogy(_o, _RMS, 'o-')\n",
    "plt.xlabel('PCE order')\n",
    "plt.ylabel('RMS error for the PCE surrogate')\n",
    "plt.legend(loc=0)\n",
    "#plt.savefig('Convergence_surrogate.png')\n",
    "#plt.savefig('Convergence_surrogate.pdf')"
   ]
  },
  {
   "cell_type": "code",
   "execution_count": 74,
   "metadata": {
    "ExecuteTime": {
     "end_time": "2021-05-25T09:28:47.863320Z",
     "start_time": "2021-05-25T09:28:45.278475Z"
    }
   },
   "outputs": [
    {
     "data": {
      "text/plain": [
       "{'Ishigami': array([[-0.20263519],\n",
       "        [-0.18051926],\n",
       "        [-0.15195574],\n",
       "        ...,\n",
       "        [ 0.15157421],\n",
       "        [ 0.19159475],\n",
       "        [ 0.20876987]])}"
      ]
     },
     "execution_count": 74,
     "metadata": {},
     "output_type": "execute_result"
    }
   ],
   "source": [
    "F = results.surrogate()\n",
    "F(results_df[results.inputs])"
   ]
  }
 ],
 "metadata": {
  "jupytext": {
   "cell_metadata_filter": "-all",
   "executable": " /usr/bin/env python",
   "main_language": "python",
   "notebook_metadata_filter": "-all"
  },
  "kernelspec": {
   "display_name": "Python 3",
   "language": "python",
   "name": "python3"
  },
  "language_info": {
   "codemirror_mode": {
    "name": "ipython",
    "version": 3
   },
   "file_extension": ".py",
   "mimetype": "text/x-python",
   "name": "python",
   "nbconvert_exporter": "python",
   "pygments_lexer": "ipython3",
   "version": "3.6.7"
  },
  "latex_envs": {
   "LaTeX_envs_menu_present": true,
   "autoclose": false,
   "autocomplete": true,
   "bibliofile": "biblio.bib",
   "cite_by": "apalike",
   "current_citInitial": 1,
   "eqLabelWithNumbers": true,
   "eqNumInitial": 1,
   "hotkeys": {
    "equation": "Ctrl-E",
    "itemize": "Ctrl-I"
   },
   "labels_anchors": false,
   "latex_user_defs": false,
   "report_style_numbering": false,
   "user_envs_cfg": false
  }
 },
 "nbformat": 4,
 "nbformat_minor": 4
}
