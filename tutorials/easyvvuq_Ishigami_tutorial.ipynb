{
 "cells": [
  {
   "cell_type": "markdown",
   "metadata": {},
   "source": [
    "Run an EasyVVUQ campaign to analyze the sensitivity for the Ishigami function\n",
    "\n",
    "This is done with PCE."
   ]
  },
  {
   "cell_type": "code",
   "execution_count": 1,
   "metadata": {
    "ExecuteTime": {
     "end_time": "2021-05-27T09:32:26.247655Z",
     "start_time": "2021-05-27T09:32:23.039064Z"
    },
    "code_folding": [
     0
    ]
   },
   "outputs": [],
   "source": [
    "# Run an EasyVVUQ campaign to analyze the sensitivity for the Ishigami function\n",
    "# This is done with PCE.\n",
    "import os\n",
    "import easyvvuq as uq\n",
    "import chaospy as cp\n",
    "import pickle\n",
    "import numpy as np\n",
    "import matplotlib.pylab as plt\n",
    "import time\n",
    "import pandas as pd"
   ]
  },
  {
   "cell_type": "code",
   "execution_count": 2,
   "metadata": {
    "ExecuteTime": {
     "end_time": "2021-05-27T09:32:26.251242Z",
     "start_time": "2021-05-27T09:32:26.248769Z"
    }
   },
   "outputs": [
    {
     "data": {
      "text/plain": [
       "'1.19.4'"
      ]
     },
     "execution_count": 2,
     "metadata": {},
     "output_type": "execute_result"
    }
   ],
   "source": [
    "np.__version__"
   ]
  },
  {
   "cell_type": "code",
   "execution_count": 3,
   "metadata": {
    "ExecuteTime": {
     "end_time": "2021-05-27T09:32:26.255610Z",
     "start_time": "2021-05-27T09:32:26.252427Z"
    },
    "code_folding": [
     0,
     1
    ]
   },
   "outputs": [],
   "source": [
    "# Define the Ishigami function\n",
    "def ishigamiSA(a,b):\n",
    "    '''Exact sensitivity indices of the Ishigami function for given a and b.\n",
    "    From https://openturns.github.io/openturns/master/examples/meta_modeling/chaos_ishigami.html\n",
    "    '''\n",
    "    var = 1.0/2 + a**2/8 + b*np.pi**4/5 + b**2*np.pi**8/18\n",
    "    S1 = (1.0/2 + b*np.pi**4/5+b**2*np.pi**8/50)/var\n",
    "    S2 = (a**2/8)/var\n",
    "    S3 = 0\n",
    "    S13 = b**2*np.pi**8/2*(1.0/9-1.0/25)/var\n",
    "    exact = {\n",
    "            'expectation' : a/2,\n",
    "            'variance' : var,\n",
    "            'S1' : (1.0/2 + b*np.pi**4/5+b**2*np.pi**8.0/50)/var,\n",
    "            'S2' : (a**2/8)/var,\n",
    "            'S3' : 0,\n",
    "            'S12' : 0,\n",
    "            'S23' : 0,\n",
    "            'S13' : S13,\n",
    "            'S123' : 0,\n",
    "            'ST1' : S1 + S13,\n",
    "            'ST2' : S2,\n",
    "            'ST3' : S3 + S13\n",
    "            }\n",
    "    return exact\n",
    "\n",
    "Ishigami_a = 7.0\n",
    "Ishigami_b = 0.1\n",
    "exact = ishigamiSA(Ishigami_a, Ishigami_b)"
   ]
  },
  {
   "cell_type": "code",
   "execution_count": 4,
   "metadata": {
    "ExecuteTime": {
     "end_time": "2021-05-27T09:32:26.258353Z",
     "start_time": "2021-05-27T09:32:26.256723Z"
    },
    "code_folding": [
     0
    ]
   },
   "outputs": [],
   "source": [
    "# define a model to run the Ishigami code directly from python, expecting a dictionary and returning a dictionary\n",
    "def run_ishigami_model(input):\n",
    "    import Ishigami\n",
    "    qois = [\"Ishigami\"]\n",
    "    del input['out_file']\n",
    "    return {qois[0]: Ishigami.evaluate(**input)}"
   ]
  },
  {
   "cell_type": "code",
   "execution_count": 5,
   "metadata": {
    "ExecuteTime": {
     "end_time": "2021-05-27T09:32:26.261227Z",
     "start_time": "2021-05-27T09:32:26.259117Z"
    },
    "code_folding": [
     0
    ]
   },
   "outputs": [],
   "source": [
    "# Define parameter space\n",
    "def define_params():\n",
    "    return {\n",
    "        \"x1\":       {\"type\": \"float\",   \"min\": -np.pi,     \"max\": np.pi,      \"default\": 0.0},\n",
    "        \"x2\":       {\"type\": \"float\",   \"min\": -np.pi,     \"max\": np.pi,      \"default\": 0.0},\n",
    "        \"x3\":       {\"type\": \"float\",   \"min\": -np.pi,     \"max\": np.pi,      \"default\": 0.0},\n",
    "        \"a\":        {\"type\": \"float\",   \"min\": Ishigami_a, \"max\": Ishigami_a, \"default\": Ishigami_a},\n",
    "        \"b\":        {\"type\": \"float\",   \"min\": Ishigami_b, \"max\": Ishigami_b, \"default\": Ishigami_b},\n",
    "        \"out_file\": {\"type\": \"string\",  \"default\": \"output.csv\"}\n",
    "    }"
   ]
  },
  {
   "cell_type": "code",
   "execution_count": 6,
   "metadata": {
    "ExecuteTime": {
     "end_time": "2021-05-27T09:32:26.263680Z",
     "start_time": "2021-05-27T09:32:26.262066Z"
    },
    "code_folding": [
     0
    ]
   },
   "outputs": [],
   "source": [
    "# Define parameter space\n",
    "def define_vary():\n",
    "    return {\n",
    "        \"x1\":   cp.Uniform(-np.pi, np.pi),\n",
    "        \"x2\":   cp.Uniform(-np.pi, np.pi),\n",
    "        \"x3\":   cp.Uniform(-np.pi, np.pi)\n",
    "    }"
   ]
  },
  {
   "cell_type": "code",
   "execution_count": 7,
   "metadata": {
    "ExecuteTime": {
     "end_time": "2021-05-27T09:32:26.269596Z",
     "start_time": "2021-05-27T09:32:26.264422Z"
    },
    "code_folding": [
     0
    ]
   },
   "outputs": [],
   "source": [
    "# Set up and run a campaign\n",
    "def run_campaign(pce_order=2, use_files=False):\n",
    "\n",
    "    times = np.zeros(7)\n",
    "\n",
    "    time_start = time.time()\n",
    "    time_start_whole = time_start\n",
    "\n",
    "    # Set up a fresh campaign called \"Ishigami_pce.\"\n",
    "    my_campaign = uq.Campaign(name='Ishigami_pce.')\n",
    "\n",
    "    # Create an encoder and decoder for PCE test app\n",
    "    if use_files:\n",
    "        encoder = uq.encoders.GenericEncoder(template_fname='Ishigami.template',\n",
    "                                             delimiter='$',\n",
    "                                             target_filename='Ishigami_in.json')\n",
    "\n",
    "        decoder = uq.decoders.SimpleCSV(target_filename=\"output.csv\",\n",
    "                                        output_columns=[\"Ishigami\"])\n",
    "\n",
    "        execute = uq.actions.ExecuteLocal('python3 %s/Ishigami.py Ishigami_in.json' % (os.getcwd()))\n",
    "\n",
    "        actions = uq.actions.Actions(uq.actions.CreateRunDirectory('/tmp'), \n",
    "                          uq.actions.Encode(encoder), execute, uq.actions.Decode(decoder))\n",
    "    else:\n",
    "        actions = uq.actions.Actions(uq.actions.ExecutePython(run_ishigami_model))\n",
    "\n",
    "    # Add the app (automatically set as current app)\n",
    "    my_campaign.add_app(name=\"Ishigami\", params=define_params(), actions=actions)\n",
    "\n",
    "    # Create the sampler\n",
    "    time_end = time.time()\n",
    "    times[1] = time_end-time_start\n",
    "    print('Time for phase 1 = %.3f' % (times[1]))\n",
    "\n",
    "    time_start = time.time()\n",
    "    # Associate a sampler with the campaign\n",
    "    my_campaign.set_sampler(uq.sampling.PCESampler(vary=define_vary(), polynomial_order=pce_order))\n",
    "\n",
    "    # Will draw all (of the finite set of samples)\n",
    "    my_campaign.draw_samples()\n",
    "    print('Number of samples = %s' % my_campaign.get_active_sampler().count)\n",
    "\n",
    "    time_end = time.time()\n",
    "    times[2] = time_end-time_start\n",
    "    print('Time for phase 2 = %.3f' % (times[2]))\n",
    "\n",
    "    time_start = time.time()\n",
    "    # Run the cases\n",
    "    my_campaign.execute(sequential=True).collate()\n",
    "\n",
    "    time_end = time.time()\n",
    "    times[3] = time_end-time_start\n",
    "    print('Time for phase 3 = %.3f' % (times[3]))\n",
    "\n",
    "    time_start = time.time()\n",
    "    # Get the results\n",
    "    results_df = my_campaign.get_collation_result()\n",
    "\n",
    "    time_end = time.time()\n",
    "    times[4] = time_end-time_start\n",
    "    print('Time for phase 4 = %.3f' % (times[4]))\n",
    "\n",
    "    time_start = time.time()\n",
    "    # Post-processing analysis\n",
    "    results = my_campaign.analyse(qoi_cols=[\"Ishigami\"])\n",
    "    \n",
    "    time_end = time.time()\n",
    "    times[5] = time_end-time_start\n",
    "    print('Time for phase 5 = %.3f' % (times[5]))\n",
    "\n",
    "    time_start = time.time()\n",
    "    # Save the results\n",
    "    pickle.dump(results, open('Ishigami_results.pickle','bw'))\n",
    "    time_end = time.time()\n",
    "    times[6] = time_end-time_start\n",
    "    print('Time for phase 6 = %.3f' % (times[6]))\n",
    "\n",
    "    times[0] = time_end - time_start_whole\n",
    "\n",
    "    return results_df, results, times, pce_order, my_campaign.get_active_sampler().count"
   ]
  },
  {
   "cell_type": "code",
   "execution_count": 8,
   "metadata": {
    "ExecuteTime": {
     "end_time": "2021-05-27T09:47:41.708624Z",
     "start_time": "2021-05-27T09:32:26.271447Z"
    },
    "code_folding": [
     0
    ],
    "scrolled": true
   },
   "outputs": [
    {
     "name": "stdout",
     "output_type": "stream",
     "text": [
      "Time for phase 1 = 0.029\n",
      "Number of samples = 8\n",
      "Time for phase 2 = 0.043\n",
      "Time for phase 3 = 0.009\n",
      "Time for phase 4 = 0.002\n",
      "Time for phase 5 = 0.025\n",
      "Time for phase 6 = 0.001\n",
      "Time for phase 1 = 0.009\n",
      "Number of samples = 27\n",
      "Time for phase 2 = 0.062\n",
      "Time for phase 3 = 0.010\n",
      "Time for phase 4 = 0.002\n",
      "Time for phase 5 = 0.104\n",
      "Time for phase 6 = 0.001\n",
      "Time for phase 1 = 0.009\n",
      "Number of samples = 64\n",
      "Time for phase 2 = 0.095\n",
      "Time for phase 3 = 0.020\n",
      "Time for phase 4 = 0.003\n",
      "Time for phase 5 = 0.155\n",
      "Time for phase 6 = 0.001\n",
      "Time for phase 1 = 0.010\n",
      "Number of samples = 125\n",
      "Time for phase 2 = 0.140\n",
      "Time for phase 3 = 0.033\n",
      "Time for phase 4 = 0.004\n",
      "Time for phase 5 = 0.289\n",
      "Time for phase 6 = 0.001\n",
      "Time for phase 1 = 0.009\n",
      "Number of samples = 216\n",
      "Time for phase 2 = 0.199\n",
      "Time for phase 3 = 0.053\n",
      "Time for phase 4 = 0.005\n",
      "Time for phase 5 = 0.465\n",
      "Time for phase 6 = 0.001\n",
      "Time for phase 1 = 0.009\n",
      "Number of samples = 343\n",
      "Time for phase 2 = 0.271\n",
      "Time for phase 3 = 0.128\n",
      "Time for phase 4 = 0.007\n",
      "Time for phase 5 = 0.750\n",
      "Time for phase 6 = 0.001\n",
      "Time for phase 1 = 0.009\n",
      "Number of samples = 512\n",
      "Time for phase 2 = 0.365\n",
      "Time for phase 3 = 0.117\n",
      "Time for phase 4 = 0.010\n",
      "Time for phase 5 = 1.248\n",
      "Time for phase 6 = 0.001\n",
      "Time for phase 1 = 0.009\n",
      "Number of samples = 729\n",
      "Time for phase 2 = 0.475\n",
      "Time for phase 3 = 0.162\n",
      "Time for phase 4 = 0.012\n",
      "Time for phase 5 = 1.897\n",
      "Time for phase 6 = 0.001\n",
      "Time for phase 1 = 0.013\n",
      "Number of samples = 1000\n",
      "Time for phase 2 = 0.660\n",
      "Time for phase 3 = 0.226\n",
      "Time for phase 4 = 0.016\n",
      "Time for phase 5 = 3.105\n",
      "Time for phase 6 = 0.002\n",
      "Time for phase 1 = 0.008\n",
      "Number of samples = 1331\n",
      "Time for phase 2 = 0.776\n",
      "Time for phase 3 = 0.351\n",
      "Time for phase 4 = 0.020\n",
      "Time for phase 5 = 5.016\n",
      "Time for phase 6 = 0.002\n",
      "Time for phase 1 = 0.009\n",
      "Number of samples = 1728\n",
      "Time for phase 2 = 1.004\n",
      "Time for phase 3 = 0.431\n",
      "Time for phase 4 = 0.025\n",
      "Time for phase 5 = 7.968\n",
      "Time for phase 6 = 0.003\n",
      "Time for phase 1 = 0.009\n",
      "Number of samples = 2197\n",
      "Time for phase 2 = 1.301\n",
      "Time for phase 3 = 0.565\n",
      "Time for phase 4 = 0.033\n",
      "Time for phase 5 = 12.834\n",
      "Time for phase 6 = 0.002\n",
      "Time for phase 1 = 0.009\n",
      "Number of samples = 2744\n",
      "Time for phase 2 = 1.686\n",
      "Time for phase 3 = 0.662\n",
      "Time for phase 4 = 0.038\n",
      "Time for phase 5 = 19.327\n",
      "Time for phase 6 = 0.003\n",
      "Time for phase 1 = 0.009\n",
      "Number of samples = 3375\n",
      "Time for phase 2 = 1.977\n",
      "Time for phase 3 = 0.860\n",
      "Time for phase 4 = 0.047\n",
      "Time for phase 5 = 29.155\n",
      "Time for phase 6 = 0.008\n",
      "Time for phase 1 = 0.019\n",
      "Number of samples = 4096\n",
      "Time for phase 2 = 2.475\n",
      "Time for phase 3 = 0.975\n",
      "Time for phase 4 = 0.057\n",
      "Time for phase 5 = 42.609\n",
      "Time for phase 6 = 0.004\n",
      "Time for phase 1 = 0.013\n",
      "Number of samples = 4913\n",
      "Time for phase 2 = 3.052\n",
      "Time for phase 3 = 1.206\n",
      "Time for phase 4 = 0.122\n",
      "Time for phase 5 = 62.393\n",
      "Time for phase 6 = 0.004\n",
      "Time for phase 1 = 0.015\n",
      "Number of samples = 5832\n",
      "Time for phase 2 = 3.747\n",
      "Time for phase 3 = 1.446\n",
      "Time for phase 4 = 0.080\n",
      "Time for phase 5 = 93.029\n",
      "Time for phase 6 = 0.008\n",
      "Time for phase 1 = 0.014\n",
      "Number of samples = 6859\n",
      "Time for phase 2 = 5.077\n",
      "Time for phase 3 = 1.816\n",
      "Time for phase 4 = 0.095\n",
      "Time for phase 5 = 133.416\n",
      "Time for phase 6 = 0.005\n",
      "Time for phase 1 = 0.011\n",
      "Number of samples = 8000\n",
      "Time for phase 2 = 5.974\n",
      "Time for phase 3 = 2.057\n",
      "Time for phase 4 = 0.109\n",
      "Time for phase 5 = 189.971\n",
      "Time for phase 6 = 0.006\n",
      "Time for phase 1 = 0.013\n",
      "Number of samples = 9261\n",
      "Time for phase 2 = 7.836\n",
      "Time for phase 3 = 2.516\n",
      "Time for phase 4 = 0.185\n",
      "Time for phase 5 = 259.639\n",
      "Time for phase 6 = 0.009\n"
     ]
    }
   ],
   "source": [
    "# Calculate the polynomial chaos expansion for a range of orders\n",
    "\n",
    "R = {}\n",
    "for pce_order in range(1, 21):\n",
    "    R[pce_order] = {}\n",
    "    (R[pce_order]['results_df'], \n",
    "     R[pce_order]['results'], \n",
    "     R[pce_order]['times'], \n",
    "     R[pce_order]['order'], \n",
    "     R[pce_order]['number_of_samples']) = run_campaign(pce_order=pce_order, use_files=False)"
   ]
  },
  {
   "cell_type": "code",
   "execution_count": 9,
   "metadata": {
    "ExecuteTime": {
     "end_time": "2021-05-27T09:47:41.804251Z",
     "start_time": "2021-05-27T09:47:41.710217Z"
    },
    "code_folding": [
     0
    ]
   },
   "outputs": [],
   "source": [
    "# save the results\n",
    "\n",
    "pickle.dump(R, open('collected_results.pickle','bw'))"
   ]
  },
  {
   "cell_type": "code",
   "execution_count": 10,
   "metadata": {
    "ExecuteTime": {
     "end_time": "2021-05-27T09:47:41.845101Z",
     "start_time": "2021-05-27T09:47:41.805217Z"
    },
    "code_folding": [
     0
    ]
   },
   "outputs": [
    {
     "data": {
      "text/html": [
       "<div>\n",
       "<style scoped>\n",
       "    .dataframe tbody tr th:only-of-type {\n",
       "        vertical-align: middle;\n",
       "    }\n",
       "\n",
       "    .dataframe tbody tr th {\n",
       "        vertical-align: top;\n",
       "    }\n",
       "\n",
       "    .dataframe thead th {\n",
       "        text-align: right;\n",
       "    }\n",
       "</style>\n",
       "<table border=\"1\" class=\"dataframe\">\n",
       "  <thead>\n",
       "    <tr style=\"text-align: right;\">\n",
       "      <th></th>\n",
       "      <th>Total</th>\n",
       "      <th>Phase 1</th>\n",
       "      <th>Phase 2</th>\n",
       "      <th>Phase 3</th>\n",
       "      <th>Phase 4</th>\n",
       "      <th>Phase 5</th>\n",
       "      <th>Phase 6</th>\n",
       "    </tr>\n",
       "  </thead>\n",
       "  <tbody>\n",
       "    <tr>\n",
       "      <th>1</th>\n",
       "      <td>0.108155</td>\n",
       "      <td>0.028850</td>\n",
       "      <td>0.042564</td>\n",
       "      <td>0.008517</td>\n",
       "      <td>0.002420</td>\n",
       "      <td>0.024710</td>\n",
       "      <td>0.000794</td>\n",
       "    </tr>\n",
       "    <tr>\n",
       "      <th>2</th>\n",
       "      <td>0.187844</td>\n",
       "      <td>0.008870</td>\n",
       "      <td>0.062112</td>\n",
       "      <td>0.010041</td>\n",
       "      <td>0.002037</td>\n",
       "      <td>0.103790</td>\n",
       "      <td>0.000755</td>\n",
       "    </tr>\n",
       "    <tr>\n",
       "      <th>3</th>\n",
       "      <td>0.282534</td>\n",
       "      <td>0.009033</td>\n",
       "      <td>0.095379</td>\n",
       "      <td>0.019561</td>\n",
       "      <td>0.002842</td>\n",
       "      <td>0.154769</td>\n",
       "      <td>0.000713</td>\n",
       "    </tr>\n",
       "    <tr>\n",
       "      <th>4</th>\n",
       "      <td>0.476469</td>\n",
       "      <td>0.009620</td>\n",
       "      <td>0.139844</td>\n",
       "      <td>0.032664</td>\n",
       "      <td>0.003741</td>\n",
       "      <td>0.289456</td>\n",
       "      <td>0.000777</td>\n",
       "    </tr>\n",
       "    <tr>\n",
       "      <th>5</th>\n",
       "      <td>0.731870</td>\n",
       "      <td>0.008610</td>\n",
       "      <td>0.199434</td>\n",
       "      <td>0.052853</td>\n",
       "      <td>0.004667</td>\n",
       "      <td>0.464959</td>\n",
       "      <td>0.000927</td>\n",
       "    </tr>\n",
       "    <tr>\n",
       "      <th>6</th>\n",
       "      <td>1.165786</td>\n",
       "      <td>0.009014</td>\n",
       "      <td>0.270912</td>\n",
       "      <td>0.128442</td>\n",
       "      <td>0.006624</td>\n",
       "      <td>0.749515</td>\n",
       "      <td>0.000941</td>\n",
       "    </tr>\n",
       "    <tr>\n",
       "      <th>7</th>\n",
       "      <td>1.749857</td>\n",
       "      <td>0.008999</td>\n",
       "      <td>0.364560</td>\n",
       "      <td>0.116643</td>\n",
       "      <td>0.009746</td>\n",
       "      <td>1.248257</td>\n",
       "      <td>0.001133</td>\n",
       "    </tr>\n",
       "    <tr>\n",
       "      <th>8</th>\n",
       "      <td>2.555733</td>\n",
       "      <td>0.008764</td>\n",
       "      <td>0.474749</td>\n",
       "      <td>0.162204</td>\n",
       "      <td>0.011895</td>\n",
       "      <td>1.896592</td>\n",
       "      <td>0.001233</td>\n",
       "    </tr>\n",
       "    <tr>\n",
       "      <th>9</th>\n",
       "      <td>4.021366</td>\n",
       "      <td>0.012978</td>\n",
       "      <td>0.659705</td>\n",
       "      <td>0.226456</td>\n",
       "      <td>0.015589</td>\n",
       "      <td>3.104717</td>\n",
       "      <td>0.001627</td>\n",
       "    </tr>\n",
       "    <tr>\n",
       "      <th>10</th>\n",
       "      <td>6.172589</td>\n",
       "      <td>0.008159</td>\n",
       "      <td>0.775589</td>\n",
       "      <td>0.351347</td>\n",
       "      <td>0.019592</td>\n",
       "      <td>5.015851</td>\n",
       "      <td>0.001753</td>\n",
       "    </tr>\n",
       "    <tr>\n",
       "      <th>11</th>\n",
       "      <td>9.439082</td>\n",
       "      <td>0.008552</td>\n",
       "      <td>1.004257</td>\n",
       "      <td>0.430758</td>\n",
       "      <td>0.024690</td>\n",
       "      <td>7.967866</td>\n",
       "      <td>0.002509</td>\n",
       "    </tr>\n",
       "    <tr>\n",
       "      <th>12</th>\n",
       "      <td>14.744728</td>\n",
       "      <td>0.009461</td>\n",
       "      <td>1.300652</td>\n",
       "      <td>0.565007</td>\n",
       "      <td>0.033277</td>\n",
       "      <td>12.833798</td>\n",
       "      <td>0.002152</td>\n",
       "    </tr>\n",
       "    <tr>\n",
       "      <th>13</th>\n",
       "      <td>21.726338</td>\n",
       "      <td>0.009381</td>\n",
       "      <td>1.685831</td>\n",
       "      <td>0.662247</td>\n",
       "      <td>0.038202</td>\n",
       "      <td>19.327412</td>\n",
       "      <td>0.002859</td>\n",
       "    </tr>\n",
       "    <tr>\n",
       "      <th>14</th>\n",
       "      <td>32.055595</td>\n",
       "      <td>0.008769</td>\n",
       "      <td>1.976898</td>\n",
       "      <td>0.859654</td>\n",
       "      <td>0.046659</td>\n",
       "      <td>29.155201</td>\n",
       "      <td>0.007926</td>\n",
       "    </tr>\n",
       "    <tr>\n",
       "      <th>15</th>\n",
       "      <td>46.137856</td>\n",
       "      <td>0.018545</td>\n",
       "      <td>2.474959</td>\n",
       "      <td>0.975071</td>\n",
       "      <td>0.056674</td>\n",
       "      <td>42.608595</td>\n",
       "      <td>0.003659</td>\n",
       "    </tr>\n",
       "    <tr>\n",
       "      <th>16</th>\n",
       "      <td>66.790423</td>\n",
       "      <td>0.012865</td>\n",
       "      <td>3.051878</td>\n",
       "      <td>1.205539</td>\n",
       "      <td>0.122302</td>\n",
       "      <td>62.393175</td>\n",
       "      <td>0.004236</td>\n",
       "    </tr>\n",
       "    <tr>\n",
       "      <th>17</th>\n",
       "      <td>98.325263</td>\n",
       "      <td>0.014862</td>\n",
       "      <td>3.746872</td>\n",
       "      <td>1.446043</td>\n",
       "      <td>0.080263</td>\n",
       "      <td>93.028971</td>\n",
       "      <td>0.007607</td>\n",
       "    </tr>\n",
       "    <tr>\n",
       "      <th>18</th>\n",
       "      <td>140.424232</td>\n",
       "      <td>0.013733</td>\n",
       "      <td>5.077138</td>\n",
       "      <td>1.816413</td>\n",
       "      <td>0.095157</td>\n",
       "      <td>133.416194</td>\n",
       "      <td>0.005227</td>\n",
       "    </tr>\n",
       "    <tr>\n",
       "      <th>19</th>\n",
       "      <td>198.128282</td>\n",
       "      <td>0.011023</td>\n",
       "      <td>5.974000</td>\n",
       "      <td>2.057124</td>\n",
       "      <td>0.109196</td>\n",
       "      <td>189.970616</td>\n",
       "      <td>0.005969</td>\n",
       "    </tr>\n",
       "    <tr>\n",
       "      <th>20</th>\n",
       "      <td>270.198183</td>\n",
       "      <td>0.012535</td>\n",
       "      <td>7.835806</td>\n",
       "      <td>2.516044</td>\n",
       "      <td>0.185136</td>\n",
       "      <td>259.639081</td>\n",
       "      <td>0.008944</td>\n",
       "    </tr>\n",
       "  </tbody>\n",
       "</table>\n",
       "</div>"
      ],
      "text/plain": [
       "         Total   Phase 1   Phase 2   Phase 3   Phase 4     Phase 5   Phase 6\n",
       "1     0.108155  0.028850  0.042564  0.008517  0.002420    0.024710  0.000794\n",
       "2     0.187844  0.008870  0.062112  0.010041  0.002037    0.103790  0.000755\n",
       "3     0.282534  0.009033  0.095379  0.019561  0.002842    0.154769  0.000713\n",
       "4     0.476469  0.009620  0.139844  0.032664  0.003741    0.289456  0.000777\n",
       "5     0.731870  0.008610  0.199434  0.052853  0.004667    0.464959  0.000927\n",
       "6     1.165786  0.009014  0.270912  0.128442  0.006624    0.749515  0.000941\n",
       "7     1.749857  0.008999  0.364560  0.116643  0.009746    1.248257  0.001133\n",
       "8     2.555733  0.008764  0.474749  0.162204  0.011895    1.896592  0.001233\n",
       "9     4.021366  0.012978  0.659705  0.226456  0.015589    3.104717  0.001627\n",
       "10    6.172589  0.008159  0.775589  0.351347  0.019592    5.015851  0.001753\n",
       "11    9.439082  0.008552  1.004257  0.430758  0.024690    7.967866  0.002509\n",
       "12   14.744728  0.009461  1.300652  0.565007  0.033277   12.833798  0.002152\n",
       "13   21.726338  0.009381  1.685831  0.662247  0.038202   19.327412  0.002859\n",
       "14   32.055595  0.008769  1.976898  0.859654  0.046659   29.155201  0.007926\n",
       "15   46.137856  0.018545  2.474959  0.975071  0.056674   42.608595  0.003659\n",
       "16   66.790423  0.012865  3.051878  1.205539  0.122302   62.393175  0.004236\n",
       "17   98.325263  0.014862  3.746872  1.446043  0.080263   93.028971  0.007607\n",
       "18  140.424232  0.013733  5.077138  1.816413  0.095157  133.416194  0.005227\n",
       "19  198.128282  0.011023  5.974000  2.057124  0.109196  189.970616  0.005969\n",
       "20  270.198183  0.012535  7.835806  2.516044  0.185136  259.639081  0.008944"
      ]
     },
     "metadata": {},
     "output_type": "display_data"
    }
   ],
   "source": [
    "# produce a table of the time taken for various phases\n",
    "# the phases are:\n",
    "#   1: creation of campaign\n",
    "#   2: creation of samples\n",
    "#   3: running the cases\n",
    "#   4: calculation of statistics including Sobols\n",
    "#   5: returning of analysed results\n",
    "#   6: saving campaign and pickled results\n",
    "\n",
    "Timings = pd.DataFrame(np.array([R[r]['times'] for r in list(R.keys())]), \n",
    "             columns=['Total', 'Phase 1', 'Phase 2', 'Phase 3', 'Phase 4', 'Phase 5', 'Phase 6'], \n",
    "             index=[R[r]['order'] for r in list(R.keys())])\n",
    "Timings.to_csv(open('Timings.csv', 'w'))\n",
    "display(Timings)"
   ]
  },
  {
   "cell_type": "code",
   "execution_count": 11,
   "metadata": {
    "ExecuteTime": {
     "end_time": "2021-05-27T09:47:42.420109Z",
     "start_time": "2021-05-27T09:47:41.846074Z"
    },
    "code_folding": [
     0
    ]
   },
   "outputs": [
    {
     "data": {
      "image/png": "[encoded data removed]",
      "text/plain": [
       "<Figure size 432x288 with 1 Axes>"
      ]
     },
     "metadata": {
      "needs_background": "light"
     },
     "output_type": "display_data"
    }
   ],
   "source": [
    "# plot the convergence of the mean and standard deviation to that of the highest order\n",
    "\n",
    "mean_analytic = exact['expectation']\n",
    "std_analytic = np.sqrt(exact['variance'])\n",
    "\n",
    "O = [R[r]['order'] for r in list(R.keys())]\n",
    "plt.figure()\n",
    "plt.semilogy([o for o in O], \n",
    "             [np.abs(R[o]['results'].describe('Ishigami', 'mean') - mean_analytic) for o in O],\n",
    "             'o-', label='mean')\n",
    "plt.semilogy([o for o in O], \n",
    "             [np.abs(R[o]['results'].describe('Ishigami', 'std') - std_analytic) for o in O],\n",
    "             'o-', label='std')\n",
    "plt.xlabel('PCE order')\n",
    "plt.ylabel('RMSerror compared to analytic')\n",
    "plt.legend(loc=0)\n",
    "plt.savefig('Convergence_mean_std.png')\n",
    "plt.savefig('Convergence_mean_std.pdf')"
   ]
  },
  {
   "cell_type": "code",
   "execution_count": 12,
   "metadata": {
    "ExecuteTime": {
     "end_time": "2021-05-27T09:47:42.731122Z",
     "start_time": "2021-05-27T09:47:42.420896Z"
    },
    "code_folding": [
     0
    ]
   },
   "outputs": [
    {
     "data": {
      "image/png": "[encoded data removed]",
      "text/plain": [
       "<Figure size 432x288 with 1 Axes>"
      ]
     },
     "metadata": {
      "needs_background": "light"
     },
     "output_type": "display_data"
    }
   ],
   "source": [
    "# plot the convergence of the first sobol to that of the highest order\n",
    "\n",
    "sobol_first_exact = {'x1': exact['S1'], 'x2': exact['S2'], 'x3': exact['S3']}\n",
    "\n",
    "O = [R[r]['order'] for r in list(R.keys())]\n",
    "plt.figure()\n",
    "for v in list(R[O[0]]['results'].sobols_first('Ishigami').keys()):\n",
    "    plt.semilogy([o for o in O],\n",
    "                 [np.abs(R[o]['results'].sobols_first('Ishigami')[v] - sobol_first_exact[v]) for o in O],\n",
    "                 'o-',\n",
    "                 label=v)\n",
    "plt.xlabel('PCE order')\n",
    "plt.ylabel('ABSerror for 1st sobol compared to analytic')\n",
    "plt.legend(loc=0)\n",
    "plt.savefig('Convergence_sobol_first.png')\n",
    "plt.savefig('Convergence_sobol_first.pdf')"
   ]
  },
  {
   "cell_type": "code",
   "execution_count": 13,
   "metadata": {
    "ExecuteTime": {
     "end_time": "2021-05-27T09:47:43.060715Z",
     "start_time": "2021-05-27T09:47:42.732069Z"
    },
    "code_folding": [
     0
    ]
   },
   "outputs": [
    {
     "data": {
      "image/png": "[encoded data removed]",
      "text/plain": [
       "<Figure size 432x288 with 1 Axes>"
      ]
     },
     "metadata": {
      "needs_background": "light"
     },
     "output_type": "display_data"
    }
   ],
   "source": [
    "# plot the convergence of the total sobol to that of the highest order\n",
    "\n",
    "sobol_total_exact = {'x1': exact['ST1'], 'x2': exact['ST2'], 'x3': exact['ST3']}\n",
    "\n",
    "O = [R[r]['order'] for r in list(R.keys())]\n",
    "plt.figure()\n",
    "for v in list(R[O[0]]['results'].sobols_total('Ishigami').keys()):\n",
    "    plt.semilogy([o for o in O],\n",
    "                 [np.abs(R[o]['results'].sobols_total('Ishigami')[v] - sobol_total_exact[v]) for o in O],\n",
    "                 'o-',\n",
    "                 label=v)\n",
    "plt.xlabel('PCE order')\n",
    "plt.ylabel('ABSerror for total sobol compared to analytic')\n",
    "plt.legend(loc=0)\n",
    "plt.savefig('Convergence_sobol_total.png')\n",
    "plt.savefig('Convergence_sobol_total.pdf')"
   ]
  },
  {
   "cell_type": "code",
   "execution_count": 14,
   "metadata": {
    "ExecuteTime": {
     "end_time": "2021-05-27T09:47:43.290239Z",
     "start_time": "2021-05-27T09:47:43.061724Z"
    },
    "code_folding": [
     0
    ]
   },
   "outputs": [
    {
     "data": {
      "image/png": "[encoded data removed]",
      "text/plain": [
       "<Figure size 432x288 with 1 Axes>"
      ]
     },
     "metadata": {
      "needs_background": "light"
     },
     "output_type": "display_data"
    }
   ],
   "source": [
    "# Plot the distribution function\n",
    "\n",
    "results_df = R[O[-1]]['results_df']\n",
    "results = R[O[-1]]['results']\n",
    "Ishigami_dist = results.raw_data['output_distributions']['Ishigami']\n",
    "\n",
    "plt.figure()\n",
    "plt.hist(results_df.Ishigami[0], density=True, bins=50, label='histogram of raw samples', alpha=0.25)\n",
    "if hasattr(Ishigami_dist, 'samples'):\n",
    "    plt.hist(Ishigami_dist.samples[0], density=True, bins=50, label='histogram of kde samples', alpha=0.25)\n",
    "t1 = Ishigami_dist[0]\n",
    "plt.plot(np.linspace(t1.lower, t1.upper), t1.pdf(np.linspace(t1.lower,t1.upper)), label='PDF')\n",
    "plt.legend(loc=0)\n",
    "plt.xlabel('Ishigami')\n",
    "plt.savefig('Ishigami_distribution_function.png')"
   ]
  },
  {
   "cell_type": "code",
   "execution_count": 15,
   "metadata": {
    "ExecuteTime": {
     "end_time": "2021-05-27T09:47:44.838587Z",
     "start_time": "2021-05-27T09:47:43.291295Z"
    },
    "code_folding": [
     0
    ]
   },
   "outputs": [
    {
     "data": {
      "image/png": "[encoded data removed]",
      "text/plain": [
       "<Figure size 432x288 with 1 Axes>"
      ]
     },
     "metadata": {
      "needs_background": "light"
     },
     "output_type": "display_data"
    }
   ],
   "source": [
    "# plot the RMS surrogate error at the PCE vary points\n",
    "_o = []\n",
    "_RMS = []\n",
    "for r in R.values():\n",
    "    results_df = r['results_df']\n",
    "    results = r['results']\n",
    "    Ishigami_surrogate = np.squeeze(np.array(results.surrogate()(results_df[results.inputs])['Ishigami']))\n",
    "    Ishigami_samples = np.squeeze(np.array(results_df['Ishigami']))\n",
    "    _RMS.append((np.sqrt((((Ishigami_surrogate - Ishigami_samples))**2).mean())))\n",
    "    _o.append(r['order'])\n",
    "\n",
    "plt.figure()\n",
    "plt.semilogy(_o, _RMS, 'o-')\n",
    "plt.xlabel('PCE order')\n",
    "plt.ylabel('RMS error for the PCE surrogate')\n",
    "plt.legend(loc=0)\n",
    "plt.savefig('Convergence_surrogate.png')\n",
    "plt.savefig('Convergence_surrogate.pdf')"
   ]
  },
  {
   "cell_type": "code",
   "execution_count": 19,
   "metadata": {
    "ExecuteTime": {
     "end_time": "2021-05-27T10:02:29.124482Z",
     "start_time": "2021-05-27T10:02:28.075862Z"
    },
    "code_folding": [
     0
    ]
   },
   "outputs": [],
   "source": [
    "# prepare the test data\n",
    "test_campaign = uq.Campaign(name='Ishigami.')        \n",
    "test_campaign.add_app(name=\"Ishigami\", params=define_params(), \n",
    "                      actions=uq.actions.Actions(uq.actions.ExecutePython(run_ishigami_model)))\n",
    "test_campaign.set_sampler(uq.sampling.quasirandom.LHCSampler(vary=define_vary(), count=100))\n",
    "test_campaign.execute(nsamples=1000, sequential=True).collate()\n",
    "test_df = test_campaign.get_collation_result()"
   ]
  },
  {
   "cell_type": "code",
   "execution_count": 17,
   "metadata": {
    "ExecuteTime": {
     "end_time": "2021-05-27T09:47:46.096435Z",
     "start_time": "2021-05-27T09:47:45.776406Z"
    },
    "code_folding": [
     0
    ]
   },
   "outputs": [],
   "source": [
    "# calculate the PCE surrogates\n",
    "test_points = test_df[test_campaign.get_active_sampler().vary.get_keys()]\n",
    "test_results = np.squeeze(test_df['Ishigami'].values)\n",
    "test_predictions = {}\n",
    "for i in list(R.keys()):\n",
    "    test_predictions[i] = np.squeeze(np.array(R[i]['results'].surrogate()(test_points)['Ishigami']))"
   ]
  },
  {
   "cell_type": "code",
   "execution_count": 18,
   "metadata": {
    "ExecuteTime": {
     "end_time": "2021-05-27T09:47:46.289616Z",
     "start_time": "2021-05-27T09:47:46.097239Z"
    },
    "code_folding": [
     0
    ]
   },
   "outputs": [
    {
     "data": {
      "image/png": "[encoded data removed]",
      "text/plain": [
       "<Figure size 432x288 with 1 Axes>"
      ]
     },
     "metadata": {
      "needs_background": "light"
     },
     "output_type": "display_data"
    }
   ],
   "source": [
    "# plot the convergence of the surrogate\n",
    "_o = []\n",
    "_RMS = []\n",
    "for r in R.values():\n",
    "    _RMS.append((np.sqrt((((test_predictions[r['order']] - test_results))**2).mean())))\n",
    "    _o.append(r['order'])\n",
    "\n",
    "plt.figure()\n",
    "plt.semilogy(_o, _RMS, 'o-')\n",
    "plt.xlabel('PCE order')\n",
    "plt.ylabel('RMS error for the PCE surrogate')\n",
    "plt.legend(loc=0)\n",
    "plt.savefig('Convergence_PCE_surrogate.png')\n",
    "plt.savefig('Convergence_PCE_surrogate.pdf')"
   ]
  }
 ],
 "metadata": {
  "jupytext": {
   "cell_metadata_filter": "-all",
   "executable": " /usr/bin/env python",
   "main_language": "python",
   "notebook_metadata_filter": "-all"
  },
  "kernelspec": {
   "display_name": "Python 3",
   "language": "python",
   "name": "python3"
  },
  "language_info": {
   "codemirror_mode": {
    "name": "ipython",
    "version": 3
   },
   "file_extension": ".py",
   "mimetype": "text/x-python",
   "name": "python",
   "nbconvert_exporter": "python",
   "pygments_lexer": "ipython3",
   "version": "3.9.4"
  },
  "latex_envs": {
   "LaTeX_envs_menu_present": true,
   "autoclose": false,
   "autocomplete": true,
   "bibliofile": "biblio.bib",
   "cite_by": "apalike",
   "current_citInitial": 1,
   "eqLabelWithNumbers": true,
   "eqNumInitial": 1,
   "hotkeys": {
    "equation": "Ctrl-E",
    "itemize": "Ctrl-I"
   },
   "labels_anchors": false,
   "latex_user_defs": false,
   "report_style_numbering": false,
   "user_envs_cfg": false
  }
 },
 "nbformat": 4,
 "nbformat_minor": 4
}
