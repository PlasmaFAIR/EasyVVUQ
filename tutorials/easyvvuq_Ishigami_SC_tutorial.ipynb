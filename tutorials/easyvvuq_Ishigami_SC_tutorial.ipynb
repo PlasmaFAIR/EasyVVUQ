{
 "cells": [
  {
   "cell_type": "markdown",
   "metadata": {},
   "source": [
    "Run an EasyVVUQ campaign to analyze the sensitivity for the Ishigami function\n",
    "\n",
    "This is done with SC."
   ]
  },
  {
   "cell_type": "code",
   "execution_count": 1,
   "metadata": {
    "ExecuteTime": {
     "end_time": "2021-05-26T16:41:30.775784Z",
     "start_time": "2021-05-26T16:41:26.892633Z"
    },
    "code_folding": [
     0
    ]
   },
   "outputs": [],
   "source": [
    "# Run an EasyVVUQ campaign to analyze the sensitivity for the Ishigami function\n",
    "# This is done with SC.\n",
    "import os\n",
    "import easyvvuq as uq\n",
    "import chaospy as cp\n",
    "import pickle\n",
    "import numpy as np\n",
    "import matplotlib.pylab as plt\n",
    "import time\n",
    "import pandas as pd"
   ]
  },
  {
   "cell_type": "code",
   "execution_count": 2,
   "metadata": {
    "ExecuteTime": {
     "end_time": "2021-05-26T16:41:30.784220Z",
     "start_time": "2021-05-26T16:41:30.778741Z"
    }
   },
   "outputs": [
    {
     "data": {
      "text/plain": [
       "'1.19.4'"
      ]
     },
     "execution_count": 2,
     "metadata": {},
     "output_type": "execute_result"
    }
   ],
   "source": [
    "np.__version__"
   ]
  },
  {
   "cell_type": "code",
   "execution_count": 3,
   "metadata": {
    "ExecuteTime": {
     "end_time": "2021-05-26T16:41:30.794244Z",
     "start_time": "2021-05-26T16:41:30.788185Z"
    },
    "code_folding": [
     0,
     1
    ]
   },
   "outputs": [],
   "source": [
    "# Define the Ishigami function\n",
    "def ishigamiSA(a,b):\n",
    "    '''Exact sensitivity indices of the Ishigami function for given a and b.\n",
    "    From https://openturns.github.io/openturns/master/examples/meta_modeling/chaos_ishigami.html\n",
    "    '''\n",
    "    var = 1.0/2 + a**2/8 + b*np.pi**4/5 + b**2*np.pi**8/18\n",
    "    S1 = (1.0/2 + b*np.pi**4/5+b**2*np.pi**8/50)/var\n",
    "    S2 = (a**2/8)/var\n",
    "    S3 = 0\n",
    "    S13 = b**2*np.pi**8/2*(1.0/9-1.0/25)/var\n",
    "    exact = {\n",
    "            'expectation' : a/2,\n",
    "            'variance' : var,\n",
    "            'S1' : (1.0/2 + b*np.pi**4/5+b**2*np.pi**8.0/50)/var,\n",
    "            'S2' : (a**2/8)/var,\n",
    "            'S3' : 0,\n",
    "            'S12' : 0,\n",
    "            'S23' : 0,\n",
    "            'S13' : S13,\n",
    "            'S123' : 0,\n",
    "            'ST1' : S1 + S13,\n",
    "            'ST2' : S2,\n",
    "            'ST3' : S3 + S13\n",
    "            }\n",
    "    return exact\n",
    "\n",
    "Ishigami_a = 7.0\n",
    "Ishigami_b = 0.1\n",
    "exact = ishigamiSA(Ishigami_a, Ishigami_b)"
   ]
  },
  {
   "cell_type": "code",
   "execution_count": 4,
   "metadata": {
    "ExecuteTime": {
     "end_time": "2021-05-26T16:41:30.802310Z",
     "start_time": "2021-05-26T16:41:30.798916Z"
    },
    "code_folding": [
     0
    ]
   },
   "outputs": [],
   "source": [
    "# define a model to run the Ishigami code directly from python, expecting a dictionary and returning a dictionary\n",
    "def run_ishigami_model(input):\n",
    "    import Ishigami\n",
    "    qois = [\"Ishigami\"]\n",
    "    del input['out_file']\n",
    "    return {qois[0]: Ishigami.evaluate(**input)}"
   ]
  },
  {
   "cell_type": "code",
   "execution_count": 5,
   "metadata": {
    "ExecuteTime": {
     "end_time": "2021-05-26T16:41:30.818301Z",
     "start_time": "2021-05-26T16:41:30.807805Z"
    },
    "code_folding": [
     0
    ]
   },
   "outputs": [],
   "source": [
    "# Set up and run a campaign\n",
    "def run_campaign(sc_order=2, use_files=False):\n",
    "\n",
    "    times = np.zeros(7)\n",
    "\n",
    "    time_start = time.time()\n",
    "    time_start_whole = time_start\n",
    "\n",
    "    # Set up a fresh campaign called \"Ishigami_sc.\"\n",
    "    my_campaign = uq.Campaign(name='Ishigami_sc.')\n",
    "\n",
    "    # Define parameter space\n",
    "    params = {\n",
    "        \"x1\":       {\"type\": \"float\",   \"min\": -np.pi,     \"max\": np.pi,      \"default\": 0.0},\n",
    "        \"x2\":       {\"type\": \"float\",   \"min\": -np.pi,     \"max\": np.pi,      \"default\": 0.0},\n",
    "        \"x3\":       {\"type\": \"float\",   \"min\": -np.pi,     \"max\": np.pi,      \"default\": 0.0},\n",
    "        \"a\":        {\"type\": \"float\",   \"min\": Ishigami_a, \"max\": Ishigami_a, \"default\": Ishigami_a},\n",
    "        \"b\":        {\"type\": \"float\",   \"min\": Ishigami_b, \"max\": Ishigami_b, \"default\": Ishigami_b},\n",
    "        \"out_file\": {\"type\": \"string\",  \"default\": \"output.csv\"}\n",
    "    }\n",
    "\n",
    "    # Create an encoder and decoder for SC test app\n",
    "    if use_files:\n",
    "        encoder = uq.encoders.GenericEncoder(template_fname='Ishigami.template',\n",
    "                                             delimiter='$',\n",
    "                                             target_filename='Ishigami_in.json')\n",
    "\n",
    "        decoder = uq.decoders.SimpleCSV(target_filename=\"output.csv\",\n",
    "                                        output_columns=[\"Ishigami\"])\n",
    "\n",
    "        execute = uq.actions.ExecuteLocal('python3 %s/Ishigami.py Ishigami_in.json' % (os.getcwd()))\n",
    "\n",
    "        actions = uq.actions.Actions(uq.actions.CreateRunDirectory('/tmp'), \n",
    "                          uq.actions.Encode(encoder), execute, uq.actions.Decode(decoder))\n",
    "    else:\n",
    "        actions = uq.actions.Actions(uq.actions.ExecutePython(run_ishigami_model))\n",
    "\n",
    "    # Add the app (automatically set as current app)\n",
    "    my_campaign.add_app(name=\"Ishigami\", params=params, actions=actions)\n",
    "\n",
    "    # Create the sampler\n",
    "    vary = {\n",
    "        \"x1\":   cp.Uniform(-np.pi, np.pi),\n",
    "        \"x2\":   cp.Uniform(-np.pi, np.pi),\n",
    "        \"x3\":   cp.Uniform(-np.pi, np.pi)\n",
    "    }\n",
    "\n",
    "    time_end = time.time()\n",
    "    times[1] = time_end-time_start\n",
    "    print('Time for phase 1 = %.3f' % (times[1]))\n",
    "\n",
    "    time_start = time.time()\n",
    "    # Associate a sampler with the campaign\n",
    "    my_campaign.set_sampler(uq.sampling.SCSampler(vary=vary, polynomial_order=sc_order))\n",
    "\n",
    "    # Will draw all (of the finite set of samples)\n",
    "    my_campaign.draw_samples()\n",
    "    print('Number of samples = %s' % my_campaign.get_active_sampler().count)\n",
    "\n",
    "    time_end = time.time()\n",
    "    times[2] = time_end-time_start\n",
    "    print('Time for phase 2 = %.3f' % (times[2]))\n",
    "\n",
    "    time_start = time.time()\n",
    "    # Run the cases\n",
    "    my_campaign.execute().collate()\n",
    "\n",
    "    time_end = time.time()\n",
    "    times[3] = time_end-time_start\n",
    "    print('Time for phase 3 = %.3f' % (times[3]))\n",
    "\n",
    "    time_start = time.time()\n",
    "    # Get the results\n",
    "    results_df = my_campaign.get_collation_result()\n",
    "\n",
    "    time_end = time.time()\n",
    "    times[4] = time_end-time_start\n",
    "    print('Time for phase 4 = %.3f' % (times[4]))\n",
    "\n",
    "    time_start = time.time()\n",
    "    # Post-processing analysis\n",
    "    results = my_campaign.analyse(qoi_cols=[\"Ishigami\"])\n",
    "    \n",
    "    time_end = time.time()\n",
    "    times[5] = time_end-time_start\n",
    "    print('Time for phase 5 = %.3f' % (times[5]))\n",
    "\n",
    "    time_start = time.time()\n",
    "    # Save the results\n",
    "    pickle.dump(results, open('Ishigami_results.pickle','bw'))\n",
    "    time_end = time.time()\n",
    "    times[6] = time_end-time_start\n",
    "    print('Time for phase 6 = %.3f' % (times[6]))\n",
    "\n",
    "    times[0] = time_end - time_start_whole\n",
    "\n",
    "    return results_df, results, times, sc_order, my_campaign.get_active_sampler().count"
   ]
  },
  {
   "cell_type": "code",
   "execution_count": 6,
   "metadata": {
    "ExecuteTime": {
     "end_time": "2021-05-26T16:43:28.683167Z",
     "start_time": "2021-05-26T16:41:30.820233Z"
    },
    "scrolled": true
   },
   "outputs": [
    {
     "name": "stdout",
     "output_type": "stream",
     "text": [
      "Time for phase 1 = 0.034\n",
      "Number of samples = 8\n",
      "Time for phase 2 = 0.037\n",
      "Time for phase 3 = 0.012\n",
      "Time for phase 4 = 0.004\n",
      "Time for phase 5 = 0.015\n",
      "Time for phase 6 = 0.002\n",
      "Time for phase 1 = 0.019\n",
      "Number of samples = 27\n",
      "Time for phase 2 = 0.062\n",
      "Time for phase 3 = 0.018\n",
      "Time for phase 4 = 0.004\n",
      "Time for phase 5 = 0.027\n",
      "Time for phase 6 = 0.001\n",
      "Time for phase 1 = 0.013\n",
      "Number of samples = 64\n",
      "Time for phase 2 = 0.085\n",
      "Time for phase 3 = 0.023\n",
      "Time for phase 4 = 0.003\n",
      "Time for phase 5 = 0.051\n",
      "Time for phase 6 = 0.001\n",
      "Time for phase 1 = 0.012\n",
      "Number of samples = 125\n",
      "Time for phase 2 = 0.133\n",
      "Time for phase 3 = 0.038\n",
      "Time for phase 4 = 0.005\n",
      "Time for phase 5 = 0.098\n",
      "Time for phase 6 = 0.002\n",
      "Time for phase 1 = 0.012\n",
      "Number of samples = 216\n",
      "Time for phase 2 = 0.177\n",
      "Time for phase 3 = 0.058\n",
      "Time for phase 4 = 0.006\n",
      "Time for phase 5 = 0.161\n",
      "Time for phase 6 = 0.002\n",
      "Time for phase 1 = 0.013\n",
      "Number of samples = 343\n",
      "Time for phase 2 = 0.270\n",
      "Time for phase 3 = 0.097\n",
      "Time for phase 4 = 0.008\n",
      "Time for phase 5 = 0.281\n",
      "Time for phase 6 = 0.002\n",
      "Time for phase 1 = 0.011\n",
      "Number of samples = 512\n",
      "Time for phase 2 = 0.284\n",
      "Time for phase 3 = 0.137\n",
      "Time for phase 4 = 0.012\n",
      "Time for phase 5 = 0.423\n",
      "Time for phase 6 = 0.003\n",
      "Time for phase 1 = 0.011\n",
      "Number of samples = 729\n",
      "Time for phase 2 = 0.350\n",
      "Time for phase 3 = 0.172\n",
      "Time for phase 4 = 0.015\n",
      "Time for phase 5 = 0.656\n",
      "Time for phase 6 = 0.003\n",
      "Time for phase 1 = 0.011\n",
      "Number of samples = 1000\n",
      "Time for phase 2 = 0.525\n",
      "Time for phase 3 = 0.312\n",
      "Time for phase 4 = 0.020\n",
      "Time for phase 5 = 0.889\n",
      "Time for phase 6 = 0.003\n",
      "Time for phase 1 = 0.010\n",
      "Number of samples = 1331\n",
      "Time for phase 2 = 0.574\n",
      "Time for phase 3 = 0.379\n",
      "Time for phase 4 = 0.021\n",
      "Time for phase 5 = 1.167\n",
      "Time for phase 6 = 0.004\n",
      "Time for phase 1 = 0.011\n",
      "Number of samples = 1728\n",
      "Time for phase 2 = 0.773\n",
      "Time for phase 3 = 0.396\n",
      "Time for phase 4 = 0.026\n",
      "Time for phase 5 = 1.623\n",
      "Time for phase 6 = 0.004\n",
      "Time for phase 1 = 0.010\n",
      "Number of samples = 2197\n",
      "Time for phase 2 = 0.851\n",
      "Time for phase 3 = 0.551\n",
      "Time for phase 4 = 0.033\n",
      "Time for phase 5 = 2.040\n",
      "Time for phase 6 = 0.009\n",
      "Time for phase 1 = 0.013\n",
      "Number of samples = 2744\n",
      "Time for phase 2 = 1.117\n",
      "Time for phase 3 = 0.692\n",
      "Time for phase 4 = 0.041\n",
      "Time for phase 5 = 2.769\n",
      "Time for phase 6 = 0.007\n",
      "Time for phase 1 = 0.014\n",
      "Number of samples = 3375\n",
      "Time for phase 2 = 1.291\n",
      "Time for phase 3 = 0.867\n",
      "Time for phase 4 = 0.052\n",
      "Time for phase 5 = 3.610\n",
      "Time for phase 6 = 0.007\n",
      "Time for phase 1 = 0.010\n",
      "Number of samples = 4096\n",
      "Time for phase 2 = 1.510\n",
      "Time for phase 3 = 1.274\n",
      "Time for phase 4 = 0.061\n",
      "Time for phase 5 = 4.612\n",
      "Time for phase 6 = 0.009\n",
      "Time for phase 1 = 0.012\n",
      "Number of samples = 4913\n",
      "Time for phase 2 = 1.979\n",
      "Time for phase 3 = 1.589\n",
      "Time for phase 4 = 0.077\n",
      "Time for phase 5 = 6.660\n",
      "Time for phase 6 = 0.012\n",
      "Time for phase 1 = 0.014\n",
      "Number of samples = 5832\n",
      "Time for phase 2 = 2.285\n",
      "Time for phase 3 = 2.151\n",
      "Time for phase 4 = 0.105\n",
      "Time for phase 5 = 8.726\n",
      "Time for phase 6 = 0.014\n",
      "Time for phase 1 = 0.012\n",
      "Number of samples = 6859\n",
      "Time for phase 2 = 2.773\n",
      "Time for phase 3 = 2.163\n",
      "Time for phase 4 = 0.204\n",
      "Time for phase 5 = 11.402\n",
      "Time for phase 6 = 0.015\n",
      "Time for phase 1 = 0.014\n",
      "Number of samples = 8000\n",
      "Time for phase 2 = 3.089\n",
      "Time for phase 3 = 2.949\n",
      "Time for phase 4 = 0.128\n",
      "Time for phase 5 = 14.204\n",
      "Time for phase 6 = 0.024\n",
      "Time for phase 1 = 0.016\n",
      "Number of samples = 9261\n",
      "Time for phase 2 = 3.412\n",
      "Time for phase 3 = 3.023\n",
      "Time for phase 4 = 0.250\n",
      "Time for phase 5 = 18.442\n",
      "Time for phase 6 = 0.026\n"
     ]
    }
   ],
   "source": [
    "R = {}\n",
    "for sc_order in range(1, 21):\n",
    "    R[sc_order] = {}\n",
    "    (R[sc_order]['results_df'], \n",
    "     R[sc_order]['results'], \n",
    "     R[sc_order]['times'], \n",
    "     R[sc_order]['order'], \n",
    "     R[sc_order]['number_of_samples']) = run_campaign(sc_order=sc_order, use_files=False)"
   ]
  },
  {
   "cell_type": "code",
   "execution_count": 7,
   "metadata": {
    "ExecuteTime": {
     "end_time": "2021-05-26T16:43:28.869351Z",
     "start_time": "2021-05-26T16:43:28.686586Z"
    },
    "code_folding": [
     0
    ]
   },
   "outputs": [],
   "source": [
    "# save the results\n",
    "\n",
    "pickle.dump(R, open('collected_results.pickle','bw'))"
   ]
  },
  {
   "cell_type": "code",
   "execution_count": 8,
   "metadata": {
    "ExecuteTime": {
     "end_time": "2021-05-26T16:43:28.906989Z",
     "start_time": "2021-05-26T16:43:28.872039Z"
    },
    "code_folding": [
     0
    ]
   },
   "outputs": [
    {
     "data": {
      "text/html": [
       "<div>\n",
       "<style scoped>\n",
       "    .dataframe tbody tr th:only-of-type {\n",
       "        vertical-align: middle;\n",
       "    }\n",
       "\n",
       "    .dataframe tbody tr th {\n",
       "        vertical-align: top;\n",
       "    }\n",
       "\n",
       "    .dataframe thead th {\n",
       "        text-align: right;\n",
       "    }\n",
       "</style>\n",
       "<table border=\"1\" class=\"dataframe\">\n",
       "  <thead>\n",
       "    <tr style=\"text-align: right;\">\n",
       "      <th></th>\n",
       "      <th>Total</th>\n",
       "      <th>Phase 1</th>\n",
       "      <th>Phase 2</th>\n",
       "      <th>Phase 3</th>\n",
       "      <th>Phase 4</th>\n",
       "      <th>Phase 5</th>\n",
       "      <th>Phase 6</th>\n",
       "    </tr>\n",
       "  </thead>\n",
       "  <tbody>\n",
       "    <tr>\n",
       "      <th>1</th>\n",
       "      <td>0.104850</td>\n",
       "      <td>0.033772</td>\n",
       "      <td>0.036851</td>\n",
       "      <td>0.012303</td>\n",
       "      <td>0.003553</td>\n",
       "      <td>0.015254</td>\n",
       "      <td>0.001543</td>\n",
       "    </tr>\n",
       "    <tr>\n",
       "      <th>2</th>\n",
       "      <td>0.131947</td>\n",
       "      <td>0.019448</td>\n",
       "      <td>0.061564</td>\n",
       "      <td>0.017511</td>\n",
       "      <td>0.004147</td>\n",
       "      <td>0.026643</td>\n",
       "      <td>0.001267</td>\n",
       "    </tr>\n",
       "    <tr>\n",
       "      <th>3</th>\n",
       "      <td>0.177965</td>\n",
       "      <td>0.013305</td>\n",
       "      <td>0.085150</td>\n",
       "      <td>0.022950</td>\n",
       "      <td>0.003328</td>\n",
       "      <td>0.050990</td>\n",
       "      <td>0.001226</td>\n",
       "    </tr>\n",
       "    <tr>\n",
       "      <th>4</th>\n",
       "      <td>0.287924</td>\n",
       "      <td>0.011868</td>\n",
       "      <td>0.132969</td>\n",
       "      <td>0.038178</td>\n",
       "      <td>0.004678</td>\n",
       "      <td>0.097685</td>\n",
       "      <td>0.001593</td>\n",
       "    </tr>\n",
       "    <tr>\n",
       "      <th>5</th>\n",
       "      <td>0.416340</td>\n",
       "      <td>0.012197</td>\n",
       "      <td>0.176800</td>\n",
       "      <td>0.057941</td>\n",
       "      <td>0.005861</td>\n",
       "      <td>0.160834</td>\n",
       "      <td>0.002171</td>\n",
       "    </tr>\n",
       "    <tr>\n",
       "      <th>6</th>\n",
       "      <td>0.671713</td>\n",
       "      <td>0.013307</td>\n",
       "      <td>0.269797</td>\n",
       "      <td>0.096502</td>\n",
       "      <td>0.007841</td>\n",
       "      <td>0.281024</td>\n",
       "      <td>0.002017</td>\n",
       "    </tr>\n",
       "    <tr>\n",
       "      <th>7</th>\n",
       "      <td>0.870595</td>\n",
       "      <td>0.010879</td>\n",
       "      <td>0.283524</td>\n",
       "      <td>0.137106</td>\n",
       "      <td>0.012024</td>\n",
       "      <td>0.422834</td>\n",
       "      <td>0.003121</td>\n",
       "    </tr>\n",
       "    <tr>\n",
       "      <th>8</th>\n",
       "      <td>1.207009</td>\n",
       "      <td>0.011255</td>\n",
       "      <td>0.349710</td>\n",
       "      <td>0.172280</td>\n",
       "      <td>0.014594</td>\n",
       "      <td>0.655698</td>\n",
       "      <td>0.002904</td>\n",
       "    </tr>\n",
       "    <tr>\n",
       "      <th>9</th>\n",
       "      <td>1.760707</td>\n",
       "      <td>0.011406</td>\n",
       "      <td>0.524713</td>\n",
       "      <td>0.311722</td>\n",
       "      <td>0.019545</td>\n",
       "      <td>0.889118</td>\n",
       "      <td>0.003402</td>\n",
       "    </tr>\n",
       "    <tr>\n",
       "      <th>10</th>\n",
       "      <td>2.156460</td>\n",
       "      <td>0.010179</td>\n",
       "      <td>0.573686</td>\n",
       "      <td>0.379456</td>\n",
       "      <td>0.021435</td>\n",
       "      <td>1.166950</td>\n",
       "      <td>0.003679</td>\n",
       "    </tr>\n",
       "    <tr>\n",
       "      <th>11</th>\n",
       "      <td>2.835348</td>\n",
       "      <td>0.010827</td>\n",
       "      <td>0.773228</td>\n",
       "      <td>0.396453</td>\n",
       "      <td>0.026488</td>\n",
       "      <td>1.622944</td>\n",
       "      <td>0.004195</td>\n",
       "    </tr>\n",
       "    <tr>\n",
       "      <th>12</th>\n",
       "      <td>3.494816</td>\n",
       "      <td>0.010447</td>\n",
       "      <td>0.850705</td>\n",
       "      <td>0.551111</td>\n",
       "      <td>0.032744</td>\n",
       "      <td>2.039914</td>\n",
       "      <td>0.008550</td>\n",
       "    </tr>\n",
       "    <tr>\n",
       "      <th>13</th>\n",
       "      <td>4.640009</td>\n",
       "      <td>0.013265</td>\n",
       "      <td>1.116611</td>\n",
       "      <td>0.691717</td>\n",
       "      <td>0.041176</td>\n",
       "      <td>2.769319</td>\n",
       "      <td>0.007156</td>\n",
       "    </tr>\n",
       "    <tr>\n",
       "      <th>14</th>\n",
       "      <td>5.842900</td>\n",
       "      <td>0.013987</td>\n",
       "      <td>1.291225</td>\n",
       "      <td>0.866584</td>\n",
       "      <td>0.052236</td>\n",
       "      <td>3.610321</td>\n",
       "      <td>0.007049</td>\n",
       "    </tr>\n",
       "    <tr>\n",
       "      <th>15</th>\n",
       "      <td>7.476404</td>\n",
       "      <td>0.009760</td>\n",
       "      <td>1.510206</td>\n",
       "      <td>1.273691</td>\n",
       "      <td>0.060849</td>\n",
       "      <td>4.611513</td>\n",
       "      <td>0.009446</td>\n",
       "    </tr>\n",
       "    <tr>\n",
       "      <th>16</th>\n",
       "      <td>10.329918</td>\n",
       "      <td>0.011609</td>\n",
       "      <td>1.978585</td>\n",
       "      <td>1.589111</td>\n",
       "      <td>0.077334</td>\n",
       "      <td>6.659846</td>\n",
       "      <td>0.012099</td>\n",
       "    </tr>\n",
       "    <tr>\n",
       "      <th>17</th>\n",
       "      <td>13.295340</td>\n",
       "      <td>0.013624</td>\n",
       "      <td>2.284671</td>\n",
       "      <td>2.150512</td>\n",
       "      <td>0.105403</td>\n",
       "      <td>8.726280</td>\n",
       "      <td>0.014335</td>\n",
       "    </tr>\n",
       "    <tr>\n",
       "      <th>18</th>\n",
       "      <td>16.569709</td>\n",
       "      <td>0.011842</td>\n",
       "      <td>2.772626</td>\n",
       "      <td>2.162851</td>\n",
       "      <td>0.204166</td>\n",
       "      <td>11.402268</td>\n",
       "      <td>0.015177</td>\n",
       "    </tr>\n",
       "    <tr>\n",
       "      <th>19</th>\n",
       "      <td>20.409551</td>\n",
       "      <td>0.014213</td>\n",
       "      <td>3.088647</td>\n",
       "      <td>2.949376</td>\n",
       "      <td>0.127576</td>\n",
       "      <td>14.204432</td>\n",
       "      <td>0.024429</td>\n",
       "    </tr>\n",
       "    <tr>\n",
       "      <th>20</th>\n",
       "      <td>25.170234</td>\n",
       "      <td>0.015622</td>\n",
       "      <td>3.412037</td>\n",
       "      <td>3.022663</td>\n",
       "      <td>0.250183</td>\n",
       "      <td>18.442343</td>\n",
       "      <td>0.025868</td>\n",
       "    </tr>\n",
       "  </tbody>\n",
       "</table>\n",
       "</div>"
      ],
      "text/plain": [
       "        Total   Phase 1   Phase 2   Phase 3   Phase 4    Phase 5   Phase 6\n",
       "1    0.104850  0.033772  0.036851  0.012303  0.003553   0.015254  0.001543\n",
       "2    0.131947  0.019448  0.061564  0.017511  0.004147   0.026643  0.001267\n",
       "3    0.177965  0.013305  0.085150  0.022950  0.003328   0.050990  0.001226\n",
       "4    0.287924  0.011868  0.132969  0.038178  0.004678   0.097685  0.001593\n",
       "5    0.416340  0.012197  0.176800  0.057941  0.005861   0.160834  0.002171\n",
       "6    0.671713  0.013307  0.269797  0.096502  0.007841   0.281024  0.002017\n",
       "7    0.870595  0.010879  0.283524  0.137106  0.012024   0.422834  0.003121\n",
       "8    1.207009  0.011255  0.349710  0.172280  0.014594   0.655698  0.002904\n",
       "9    1.760707  0.011406  0.524713  0.311722  0.019545   0.889118  0.003402\n",
       "10   2.156460  0.010179  0.573686  0.379456  0.021435   1.166950  0.003679\n",
       "11   2.835348  0.010827  0.773228  0.396453  0.026488   1.622944  0.004195\n",
       "12   3.494816  0.010447  0.850705  0.551111  0.032744   2.039914  0.008550\n",
       "13   4.640009  0.013265  1.116611  0.691717  0.041176   2.769319  0.007156\n",
       "14   5.842900  0.013987  1.291225  0.866584  0.052236   3.610321  0.007049\n",
       "15   7.476404  0.009760  1.510206  1.273691  0.060849   4.611513  0.009446\n",
       "16  10.329918  0.011609  1.978585  1.589111  0.077334   6.659846  0.012099\n",
       "17  13.295340  0.013624  2.284671  2.150512  0.105403   8.726280  0.014335\n",
       "18  16.569709  0.011842  2.772626  2.162851  0.204166  11.402268  0.015177\n",
       "19  20.409551  0.014213  3.088647  2.949376  0.127576  14.204432  0.024429\n",
       "20  25.170234  0.015622  3.412037  3.022663  0.250183  18.442343  0.025868"
      ]
     },
     "metadata": {},
     "output_type": "display_data"
    }
   ],
   "source": [
    "# produce a table of the time taken for various phases\n",
    "# the phases are:\n",
    "#   1: creation of campaign\n",
    "#   2: creation of samples\n",
    "#   3: running the cases\n",
    "#   4: calculation of statistics including Sobols\n",
    "#   5: returning of analysed results\n",
    "#   6: saving campaign and pickled results\n",
    "\n",
    "Timings = pd.DataFrame(np.array([R[r]['times'] for r in list(R.keys())]), \n",
    "             columns=['Total', 'Phase 1', 'Phase 2', 'Phase 3', 'Phase 4', 'Phase 5', 'Phase 6'], \n",
    "             index=[R[r]['order'] for r in list(R.keys())])\n",
    "Timings.to_csv(open('Timings.csv', 'w'))\n",
    "display(Timings)"
   ]
  },
  {
   "cell_type": "code",
   "execution_count": 9,
   "metadata": {
    "ExecuteTime": {
     "end_time": "2021-05-26T16:43:29.500822Z",
     "start_time": "2021-05-26T16:43:28.912774Z"
    },
    "code_folding": [
     0
    ]
   },
   "outputs": [
    {
     "data": {
      "image/png": "[encoded data removed]",
      "text/plain": [
       "<Figure size 432x288 with 1 Axes>"
      ]
     },
     "metadata": {
      "needs_background": "light"
     },
     "output_type": "display_data"
    }
   ],
   "source": [
    "# plot the convergence of the mean and standard deviation to that of the highest order\n",
    "\n",
    "mean_analytic = exact['expectation']\n",
    "std_analytic = np.sqrt(exact['variance'])\n",
    "\n",
    "O = [R[r]['order'] for r in list(R.keys())]\n",
    "plt.figure()\n",
    "plt.semilogy([o for o in O], \n",
    "             [np.abs(R[o]['results'].describe('Ishigami', 'mean') - mean_analytic) for o in O],\n",
    "             'o-', label='mean')\n",
    "plt.semilogy([o for o in O], \n",
    "             [np.abs(R[o]['results'].describe('Ishigami', 'std') - std_analytic) for o in O],\n",
    "             'o-', label='std')\n",
    "plt.xlabel('SC order')\n",
    "plt.ylabel('RMSerror compared to analytic')\n",
    "plt.legend(loc=0)\n",
    "plt.savefig('Convergence_mean_std.png')\n",
    "plt.savefig('Convergence_mean_std.pdf')"
   ]
  },
  {
   "cell_type": "code",
   "execution_count": 10,
   "metadata": {
    "ExecuteTime": {
     "end_time": "2021-05-26T16:43:29.888171Z",
     "start_time": "2021-05-26T16:43:29.507351Z"
    },
    "code_folding": [
     0
    ]
   },
   "outputs": [
    {
     "data": {
      "image/png": "[encoded data removed]",
      "text/plain": [
       "<Figure size 432x288 with 1 Axes>"
      ]
     },
     "metadata": {
      "needs_background": "light"
     },
     "output_type": "display_data"
    }
   ],
   "source": [
    "# plot the convergence of the first sobol to that of the highest order\n",
    "\n",
    "sobol_first_exact = {'x1': exact['S1'], 'x2': exact['S2'], 'x3': exact['S3']}\n",
    "\n",
    "O = [R[r]['order'] for r in list(R.keys())]\n",
    "plt.figure()\n",
    "for v in list(R[O[0]]['results'].sobols_first('Ishigami').keys()):\n",
    "    plt.semilogy([o for o in O],\n",
    "                 [np.abs(R[o]['results'].sobols_first('Ishigami')[v] - sobol_first_exact[v]) for o in O],\n",
    "                 'o-',\n",
    "                 label=v)\n",
    "plt.xlabel('SC order')\n",
    "plt.ylabel('ABSerror for 1st sobol compared to analytic')\n",
    "plt.legend(loc=0)\n",
    "plt.savefig('Convergence_sobol_first.png')\n",
    "plt.savefig('Convergence_sobol_first.pdf')"
   ]
  },
  {
   "cell_type": "code",
   "execution_count": 11,
   "metadata": {
    "ExecuteTime": {
     "end_time": "2021-05-26T16:44:07.915688Z",
     "start_time": "2021-05-26T16:43:29.891415Z"
    }
   },
   "outputs": [],
   "source": [
    "_o = []\n",
    "_RMS = []\n",
    "for r in R.values():\n",
    "    results_df = r['results_df']\n",
    "    results = r['results']\n",
    "    Ishigami_surrogate = np.squeeze(np.array(results.surrogate()(results_df[results.inputs])['Ishigami']))\n",
    "    Ishigami_samples = np.squeeze(np.array(results_df['Ishigami']))\n",
    "    _RMS.append((np.sqrt((((Ishigami_surrogate - Ishigami_samples))**2).mean())))\n",
    "    _o.append(r['order'])"
   ]
  },
  {
   "cell_type": "code",
   "execution_count": 12,
   "metadata": {
    "ExecuteTime": {
     "end_time": "2021-05-26T16:44:07.926887Z",
     "start_time": "2021-05-26T16:44:07.920327Z"
    }
   },
   "outputs": [
    {
     "data": {
      "text/plain": [
       "(array([-0.20338064, -0.18425659, -0.15395212, ...,  0.15934512,\n",
       "         0.18964959,  0.20877364]),\n",
       " array([-0.20338064, -0.18425659, -0.15395212, ...,  0.15934512,\n",
       "         0.18964959,  0.20877364]))"
      ]
     },
     "execution_count": 12,
     "metadata": {},
     "output_type": "execute_result"
    }
   ],
   "source": [
    "Ishigami_surrogate, Ishigami_samples"
   ]
  },
  {
   "cell_type": "code",
   "execution_count": 13,
   "metadata": {
    "ExecuteTime": {
     "end_time": "2021-05-26T16:44:08.236230Z",
     "start_time": "2021-05-26T16:44:07.930160Z"
    }
   },
   "outputs": [
    {
     "data": {
      "text/plain": [
       "<matplotlib.legend.Legend at 0x17e696790>"
      ]
     },
     "execution_count": 13,
     "metadata": {},
     "output_type": "execute_result"
    },
    {
     "name": "stderr",
     "output_type": "stream",
     "text": [
      "/Volumes/Samsung8TB/dpc/GIT/EasyVVUQ/env/lib/python3.9/site-packages/ipykernel/pylab/backend_inline.py:231: UserWarning: Data has no positive values, and therefore cannot be log-scaled.\n",
      "  for label in axis.get_ticklabels()])\n"
     ]
    },
    {
     "data": {
      "image/png": "[encoded data removed]",
      "text/plain": [
       "<Figure size 432x288 with 1 Axes>"
      ]
     },
     "metadata": {
      "needs_background": "light"
     },
     "output_type": "display_data"
    }
   ],
   "source": [
    "plt.figure()\n",
    "plt.semilogy(_o, _RMS, 'o-')\n",
    "plt.xlabel('PCE order')\n",
    "plt.ylabel('RMS error for the PCE surrogate')\n",
    "plt.legend(loc=0)\n",
    "#plt.savefig('Convergence_surrogate.png')\n",
    "#plt.savefig('Convergence_surrogate.pdf')"
   ]
  },
  {
   "cell_type": "code",
   "execution_count": 14,
   "metadata": {
    "ExecuteTime": {
     "end_time": "2021-05-26T16:44:18.927692Z",
     "start_time": "2021-05-26T16:44:08.239238Z"
    }
   },
   "outputs": [],
   "source": [
    "I_S_o = np.squeeze(np.array(results.surrogate()(results_df[results.inputs])['Ishigami']))"
   ]
  },
  {
   "cell_type": "code",
   "execution_count": 15,
   "metadata": {
    "ExecuteTime": {
     "end_time": "2021-05-26T16:44:28.568039Z",
     "start_time": "2021-05-26T16:44:18.931611Z"
    }
   },
   "outputs": [],
   "source": [
    "I_S_d = np.squeeze(results.surrogate_('Ishigami', np.array(results_df[results.inputs])))"
   ]
  },
  {
   "cell_type": "code",
   "execution_count": 16,
   "metadata": {
    "ExecuteTime": {
     "end_time": "2021-05-26T16:44:28.576132Z",
     "start_time": "2021-05-26T16:44:28.570242Z"
    }
   },
   "outputs": [],
   "source": [
    "I_C = np.squeeze(np.array(results_df['Ishigami']))"
   ]
  },
  {
   "cell_type": "code",
   "execution_count": 17,
   "metadata": {
    "ExecuteTime": {
     "end_time": "2021-05-26T16:44:28.586002Z",
     "start_time": "2021-05-26T16:44:28.580937Z"
    }
   },
   "outputs": [
    {
     "data": {
      "text/plain": [
       "0.0"
      ]
     },
     "execution_count": 17,
     "metadata": {},
     "output_type": "execute_result"
    }
   ],
   "source": [
    "np.sqrt(((I_S_d-I_C)**2).mean())"
   ]
  },
  {
   "cell_type": "code",
   "execution_count": 18,
   "metadata": {
    "ExecuteTime": {
     "end_time": "2021-05-26T16:44:28.593713Z",
     "start_time": "2021-05-26T16:44:28.588544Z"
    }
   },
   "outputs": [
    {
     "data": {
      "text/plain": [
       "(array([-0.20338064, -0.18425659, -0.15395212, -0.11831839, -0.08359423,\n",
       "        -0.05480213, -0.03463175, -0.02312928, -0.01824605, -0.01701621]),\n",
       " array([-0.20338064, -0.18425659, -0.15395212, -0.11831839, -0.08359423,\n",
       "        -0.05480213, -0.03463175, -0.02312928, -0.01824605, -0.01701621]),\n",
       " array([-0.20338064, -0.18425659, -0.15395212, -0.11831839, -0.08359423,\n",
       "        -0.05480213, -0.03463175, -0.02312928, -0.01824605, -0.01701621]))"
      ]
     },
     "execution_count": 18,
     "metadata": {},
     "output_type": "execute_result"
    }
   ],
   "source": [
    "I_S_o[0:10],I_S_d[0:10], I_C[0:10]"
   ]
  }
 ],
 "metadata": {
  "jupytext": {
   "cell_metadata_filter": "-all",
   "executable": " /usr/bin/env python",
   "main_language": "python",
   "notebook_metadata_filter": "-all"
  },
  "kernelspec": {
   "display_name": "Python 3",
   "language": "python",
   "name": "python3"
  },
  "language_info": {
   "codemirror_mode": {
    "name": "ipython",
    "version": 3
   },
   "file_extension": ".py",
   "mimetype": "text/x-python",
   "name": "python",
   "nbconvert_exporter": "python",
   "pygments_lexer": "ipython3",
   "version": "3.9.2"
  },
  "latex_envs": {
   "LaTeX_envs_menu_present": true,
   "autoclose": false,
   "autocomplete": true,
   "bibliofile": "biblio.bib",
   "cite_by": "apalike",
   "current_citInitial": 1,
   "eqLabelWithNumbers": true,
   "eqNumInitial": 1,
   "hotkeys": {
    "equation": "Ctrl-E",
    "itemize": "Ctrl-I"
   },
   "labels_anchors": false,
   "latex_user_defs": false,
   "report_style_numbering": false,
   "user_envs_cfg": false
  }
 },
 "nbformat": 4,
 "nbformat_minor": 4
}
