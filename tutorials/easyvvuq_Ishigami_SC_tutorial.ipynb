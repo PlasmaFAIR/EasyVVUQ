{
 "cells": [
  {
   "cell_type": "markdown",
   "metadata": {},
   "source": [
    "Run an EasyVVUQ campaign to analyze the sensitivity for the Ishigami function\n",
    "\n",
    "This is done with SC."
   ]
  },
  {
   "cell_type": "code",
   "execution_count": 1,
   "metadata": {
    "ExecuteTime": {
     "end_time": "2021-05-27T09:16:33.586073Z",
     "start_time": "2021-05-27T09:16:30.427015Z"
    },
    "code_folding": [
     0
    ]
   },
   "outputs": [],
   "source": [
    "# Run an EasyVVUQ campaign to analyze the sensitivity for the Ishigami function\n",
    "# This is done with SC.\n",
    "import os\n",
    "import easyvvuq as uq\n",
    "import chaospy as cp\n",
    "import pickle\n",
    "import numpy as np\n",
    "import matplotlib.pylab as plt\n",
    "import time\n",
    "import pandas as pd"
   ]
  },
  {
   "cell_type": "code",
   "execution_count": 2,
   "metadata": {
    "ExecuteTime": {
     "end_time": "2021-05-27T09:16:33.589868Z",
     "start_time": "2021-05-27T09:16:33.587104Z"
    }
   },
   "outputs": [
    {
     "data": {
      "text/plain": [
       "'1.19.4'"
      ]
     },
     "execution_count": 2,
     "metadata": {},
     "output_type": "execute_result"
    }
   ],
   "source": [
    "np.__version__"
   ]
  },
  {
   "cell_type": "code",
   "execution_count": 3,
   "metadata": {
    "ExecuteTime": {
     "end_time": "2021-05-27T09:16:33.594290Z",
     "start_time": "2021-05-27T09:16:33.591123Z"
    },
    "code_folding": [
     0,
     1
    ]
   },
   "outputs": [],
   "source": [
    "# Define the Ishigami function\n",
    "def ishigamiSA(a,b):\n",
    "    '''Exact sensitivity indices of the Ishigami function for given a and b.\n",
    "    From https://openturns.github.io/openturns/master/examples/meta_modeling/chaos_ishigami.html\n",
    "    '''\n",
    "    var = 1.0/2 + a**2/8 + b*np.pi**4/5 + b**2*np.pi**8/18\n",
    "    S1 = (1.0/2 + b*np.pi**4/5+b**2*np.pi**8/50)/var\n",
    "    S2 = (a**2/8)/var\n",
    "    S3 = 0\n",
    "    S13 = b**2*np.pi**8/2*(1.0/9-1.0/25)/var\n",
    "    exact = {\n",
    "            'expectation' : a/2,\n",
    "            'variance' : var,\n",
    "            'S1' : (1.0/2 + b*np.pi**4/5+b**2*np.pi**8.0/50)/var,\n",
    "            'S2' : (a**2/8)/var,\n",
    "            'S3' : 0,\n",
    "            'S12' : 0,\n",
    "            'S23' : 0,\n",
    "            'S13' : S13,\n",
    "            'S123' : 0,\n",
    "            'ST1' : S1 + S13,\n",
    "            'ST2' : S2,\n",
    "            'ST3' : S3 + S13\n",
    "            }\n",
    "    return exact\n",
    "\n",
    "Ishigami_a = 7.0\n",
    "Ishigami_b = 0.1\n",
    "exact = ishigamiSA(Ishigami_a, Ishigami_b)"
   ]
  },
  {
   "cell_type": "code",
   "execution_count": 4,
   "metadata": {
    "ExecuteTime": {
     "end_time": "2021-05-27T09:16:33.597056Z",
     "start_time": "2021-05-27T09:16:33.595403Z"
    },
    "code_folding": [
     0
    ]
   },
   "outputs": [],
   "source": [
    "# define a model to run the Ishigami code directly from python, expecting a dictionary and returning a dictionary\n",
    "def run_ishigami_model(input):\n",
    "    import Ishigami\n",
    "    qois = [\"Ishigami\"]\n",
    "    del input['out_file']\n",
    "    return {qois[0]: Ishigami.evaluate(**input)}"
   ]
  },
  {
   "cell_type": "code",
   "execution_count": 5,
   "metadata": {
    "ExecuteTime": {
     "end_time": "2021-05-27T09:16:33.602375Z",
     "start_time": "2021-05-27T09:16:33.598434Z"
    },
    "code_folding": [
     0
    ]
   },
   "outputs": [],
   "source": [
    "# Define parameter space\n",
    "def define_params():\n",
    "    return {\n",
    "        \"x1\":       {\"type\": \"float\",   \"min\": -np.pi,     \"max\": np.pi,      \"default\": 0.0},\n",
    "        \"x2\":       {\"type\": \"float\",   \"min\": -np.pi,     \"max\": np.pi,      \"default\": 0.0},\n",
    "        \"x3\":       {\"type\": \"float\",   \"min\": -np.pi,     \"max\": np.pi,      \"default\": 0.0},\n",
    "        \"a\":        {\"type\": \"float\",   \"min\": Ishigami_a, \"max\": Ishigami_a, \"default\": Ishigami_a},\n",
    "        \"b\":        {\"type\": \"float\",   \"min\": Ishigami_b, \"max\": Ishigami_b, \"default\": Ishigami_b},\n",
    "        \"out_file\": {\"type\": \"string\",  \"default\": \"output.csv\"}\n",
    "    }"
   ]
  },
  {
   "cell_type": "code",
   "execution_count": 6,
   "metadata": {
    "ExecuteTime": {
     "end_time": "2021-05-27T09:16:33.605493Z",
     "start_time": "2021-05-27T09:16:33.603525Z"
    },
    "code_folding": [
     0
    ]
   },
   "outputs": [],
   "source": [
    "# Define parameter space\n",
    "def define_vary():\n",
    "    return {\n",
    "        \"x1\":   cp.Uniform(-np.pi, np.pi),\n",
    "        \"x2\":   cp.Uniform(-np.pi, np.pi),\n",
    "        \"x3\":   cp.Uniform(-np.pi, np.pi)\n",
    "    }"
   ]
  },
  {
   "cell_type": "code",
   "execution_count": 7,
   "metadata": {
    "ExecuteTime": {
     "end_time": "2021-05-27T09:16:33.612183Z",
     "start_time": "2021-05-27T09:16:33.606517Z"
    },
    "code_folding": [
     0
    ]
   },
   "outputs": [],
   "source": [
    "# Set up and run a campaign\n",
    "def run_campaign(sc_order=2, use_files=False):\n",
    "\n",
    "    times = np.zeros(7)\n",
    "\n",
    "    time_start = time.time()\n",
    "    time_start_whole = time_start\n",
    "\n",
    "    # Set up a fresh campaign called \"Ishigami_sc.\"\n",
    "    my_campaign = uq.Campaign(name='Ishigami_sc.')\n",
    "\n",
    "\n",
    "    # Create an encoder and decoder for SC test app\n",
    "    if use_files:\n",
    "        encoder = uq.encoders.GenericEncoder(template_fname='Ishigami.template',\n",
    "                                             delimiter='$',\n",
    "                                             target_filename='Ishigami_in.json')\n",
    "\n",
    "        decoder = uq.decoders.SimpleCSV(target_filename=\"output.csv\",\n",
    "                                        output_columns=[\"Ishigami\"])\n",
    "\n",
    "        execute = uq.actions.ExecuteLocal('python3 %s/Ishigami.py Ishigami_in.json' % (os.getcwd()))\n",
    "\n",
    "        actions = uq.actions.Actions(uq.actions.CreateRunDirectory('/tmp'), \n",
    "                          uq.actions.Encode(encoder), execute, uq.actions.Decode(decoder))\n",
    "    else:\n",
    "        actions = uq.actions.Actions(uq.actions.ExecutePython(run_ishigami_model))\n",
    "\n",
    "    # Add the app (automatically set as current app)\n",
    "    my_campaign.add_app(name=\"Ishigami\", params=define_params(), actions=actions)\n",
    "\n",
    "    # Create the sampler\n",
    "    time_end = time.time()\n",
    "    times[1] = time_end-time_start\n",
    "    print('Time for phase 1 = %.3f' % (times[1]))\n",
    "\n",
    "    time_start = time.time()\n",
    "    # Associate a sampler with the campaign\n",
    "    my_campaign.set_sampler(uq.sampling.SCSampler(vary=define_vary(), polynomial_order=sc_order))\n",
    "\n",
    "    # Will draw all (of the finite set of samples)\n",
    "    my_campaign.draw_samples()\n",
    "    print('Number of samples = %s' % my_campaign.get_active_sampler().count)\n",
    "\n",
    "    time_end = time.time()\n",
    "    times[2] = time_end-time_start\n",
    "    print('Time for phase 2 = %.3f' % (times[2]))\n",
    "\n",
    "    time_start = time.time()\n",
    "    # Run the cases\n",
    "    my_campaign.execute(sequential=True).collate()\n",
    "\n",
    "    time_end = time.time()\n",
    "    times[3] = time_end-time_start\n",
    "    print('Time for phase 3 = %.3f' % (times[3]))\n",
    "\n",
    "    time_start = time.time()\n",
    "    # Get the results\n",
    "    results_df = my_campaign.get_collation_result()\n",
    "\n",
    "    time_end = time.time()\n",
    "    times[4] = time_end-time_start\n",
    "    print('Time for phase 4 = %.3f' % (times[4]))\n",
    "\n",
    "    time_start = time.time()\n",
    "    # Post-processing analysis\n",
    "    results = my_campaign.analyse(qoi_cols=[\"Ishigami\"])\n",
    "    \n",
    "    time_end = time.time()\n",
    "    times[5] = time_end-time_start\n",
    "    print('Time for phase 5 = %.3f' % (times[5]))\n",
    "\n",
    "    time_start = time.time()\n",
    "    # Save the results\n",
    "    pickle.dump(results, open('Ishigami_results.pickle','bw'))\n",
    "    time_end = time.time()\n",
    "    times[6] = time_end-time_start\n",
    "    print('Time for phase 6 = %.3f' % (times[6]))\n",
    "\n",
    "    times[0] = time_end - time_start_whole\n",
    "\n",
    "    return results_df, results, times, sc_order, my_campaign.get_active_sampler().count"
   ]
  },
  {
   "cell_type": "code",
   "execution_count": 8,
   "metadata": {
    "ExecuteTime": {
     "end_time": "2021-05-27T09:18:11.889882Z",
     "start_time": "2021-05-27T09:16:33.614674Z"
    },
    "code_folding": [
     0
    ],
    "scrolled": true
   },
   "outputs": [
    {
     "name": "stdout",
     "output_type": "stream",
     "text": [
      "Time for phase 1 = 0.023\n",
      "Number of samples = 8\n",
      "Time for phase 2 = 0.028\n",
      "Time for phase 3 = 0.009\n",
      "Time for phase 4 = 0.002\n",
      "Time for phase 5 = 0.010\n",
      "Time for phase 6 = 0.001\n",
      "Time for phase 1 = 0.009\n",
      "Number of samples = 27\n",
      "Time for phase 2 = 0.045\n",
      "Time for phase 3 = 0.013\n",
      "Time for phase 4 = 0.002\n",
      "Time for phase 5 = 0.022\n",
      "Time for phase 6 = 0.001\n",
      "Time for phase 1 = 0.008\n",
      "Number of samples = 64\n",
      "Time for phase 2 = 0.068\n",
      "Time for phase 3 = 0.019\n",
      "Time for phase 4 = 0.003\n",
      "Time for phase 5 = 0.046\n",
      "Time for phase 6 = 0.001\n",
      "Time for phase 1 = 0.009\n",
      "Number of samples = 125\n",
      "Time for phase 2 = 0.100\n",
      "Time for phase 3 = 0.033\n",
      "Time for phase 4 = 0.004\n",
      "Time for phase 5 = 0.093\n",
      "Time for phase 6 = 0.001\n",
      "Time for phase 1 = 0.010\n",
      "Number of samples = 216\n",
      "Time for phase 2 = 0.146\n",
      "Time for phase 3 = 0.056\n",
      "Time for phase 4 = 0.005\n",
      "Time for phase 5 = 0.151\n",
      "Time for phase 6 = 0.001\n",
      "Time for phase 1 = 0.010\n",
      "Number of samples = 343\n",
      "Time for phase 2 = 0.195\n",
      "Time for phase 3 = 0.127\n",
      "Time for phase 4 = 0.010\n",
      "Time for phase 5 = 0.259\n",
      "Time for phase 6 = 0.001\n",
      "Time for phase 1 = 0.010\n",
      "Number of samples = 512\n",
      "Time for phase 2 = 0.266\n",
      "Time for phase 3 = 0.123\n",
      "Time for phase 4 = 0.011\n",
      "Time for phase 5 = 0.383\n",
      "Time for phase 6 = 0.002\n",
      "Time for phase 1 = 0.010\n",
      "Number of samples = 729\n",
      "Time for phase 2 = 0.341\n",
      "Time for phase 3 = 0.166\n",
      "Time for phase 4 = 0.014\n",
      "Time for phase 5 = 0.561\n",
      "Time for phase 6 = 0.002\n",
      "Time for phase 1 = 0.010\n",
      "Number of samples = 1000\n",
      "Time for phase 2 = 0.433\n",
      "Time for phase 3 = 0.277\n",
      "Time for phase 4 = 0.018\n",
      "Time for phase 5 = 0.772\n",
      "Time for phase 6 = 0.003\n",
      "Time for phase 1 = 0.016\n",
      "Number of samples = 1331\n",
      "Time for phase 2 = 0.546\n",
      "Time for phase 3 = 0.338\n",
      "Time for phase 4 = 0.022\n",
      "Time for phase 5 = 1.067\n",
      "Time for phase 6 = 0.003\n",
      "Time for phase 1 = 0.012\n",
      "Number of samples = 1728\n",
      "Time for phase 2 = 0.671\n",
      "Time for phase 3 = 0.427\n",
      "Time for phase 4 = 0.027\n",
      "Time for phase 5 = 1.424\n",
      "Time for phase 6 = 0.004\n",
      "Time for phase 1 = 0.008\n",
      "Number of samples = 2197\n",
      "Time for phase 2 = 0.871\n",
      "Time for phase 3 = 0.476\n",
      "Time for phase 4 = 0.083\n",
      "Time for phase 5 = 1.929\n",
      "Time for phase 6 = 0.004\n",
      "Time for phase 1 = 0.015\n",
      "Number of samples = 2744\n",
      "Time for phase 2 = 1.037\n",
      "Time for phase 3 = 0.649\n",
      "Time for phase 4 = 0.091\n",
      "Time for phase 5 = 2.604\n",
      "Time for phase 6 = 0.005\n",
      "Time for phase 1 = 0.011\n",
      "Number of samples = 3375\n",
      "Time for phase 2 = 1.297\n",
      "Time for phase 3 = 0.806\n",
      "Time for phase 4 = 0.056\n",
      "Time for phase 5 = 3.350\n",
      "Time for phase 6 = 0.007\n",
      "Time for phase 1 = 0.011\n",
      "Number of samples = 4096\n",
      "Time for phase 2 = 1.473\n",
      "Time for phase 3 = 0.977\n",
      "Time for phase 4 = 0.057\n",
      "Time for phase 5 = 4.307\n",
      "Time for phase 6 = 0.008\n",
      "Time for phase 1 = 0.011\n",
      "Number of samples = 4913\n",
      "Time for phase 2 = 1.722\n",
      "Time for phase 3 = 1.153\n",
      "Time for phase 4 = 0.118\n",
      "Time for phase 5 = 5.511\n",
      "Time for phase 6 = 0.009\n",
      "Time for phase 1 = 0.011\n",
      "Number of samples = 5832\n",
      "Time for phase 2 = 2.010\n",
      "Time for phase 3 = 1.351\n",
      "Time for phase 4 = 0.131\n",
      "Time for phase 5 = 7.115\n",
      "Time for phase 6 = 0.010\n",
      "Time for phase 1 = 0.009\n",
      "Number of samples = 6859\n",
      "Time for phase 2 = 2.312\n",
      "Time for phase 3 = 1.600\n",
      "Time for phase 4 = 0.147\n",
      "Time for phase 5 = 8.987\n",
      "Time for phase 6 = 0.012\n",
      "Time for phase 1 = 0.012\n",
      "Number of samples = 8000\n",
      "Time for phase 2 = 2.737\n",
      "Time for phase 3 = 1.831\n",
      "Time for phase 4 = 0.167\n",
      "Time for phase 5 = 11.732\n",
      "Time for phase 6 = 0.014\n",
      "Time for phase 1 = 0.010\n",
      "Number of samples = 9261\n",
      "Time for phase 2 = 3.067\n",
      "Time for phase 3 = 2.190\n",
      "Time for phase 4 = 0.181\n",
      "Time for phase 5 = 14.476\n",
      "Time for phase 6 = 0.015\n"
     ]
    }
   ],
   "source": [
    "# Calculate the stochastic colocation expansion for a range of orders\n",
    "\n",
    "R = {}\n",
    "for sc_order in range(1, 21):\n",
    "    R[sc_order] = {}\n",
    "    (R[sc_order]['results_df'], \n",
    "     R[sc_order]['results'], \n",
    "     R[sc_order]['times'], \n",
    "     R[sc_order]['order'], \n",
    "     R[sc_order]['number_of_samples']) = run_campaign(sc_order=sc_order, use_files=False)"
   ]
  },
  {
   "cell_type": "code",
   "execution_count": 9,
   "metadata": {
    "ExecuteTime": {
     "end_time": "2021-05-27T09:18:12.029641Z",
     "start_time": "2021-05-27T09:18:11.891030Z"
    },
    "code_folding": [
     0
    ]
   },
   "outputs": [],
   "source": [
    "# save the results\n",
    "\n",
    "pickle.dump(R, open('collected_results.pickle','bw'))"
   ]
  },
  {
   "cell_type": "code",
   "execution_count": 10,
   "metadata": {
    "ExecuteTime": {
     "end_time": "2021-05-27T09:18:12.099249Z",
     "start_time": "2021-05-27T09:18:12.030530Z"
    },
    "code_folding": [
     0
    ]
   },
   "outputs": [
    {
     "data": {
      "text/html": [
       "<div>\n",
       "<style scoped>\n",
       "    .dataframe tbody tr th:only-of-type {\n",
       "        vertical-align: middle;\n",
       "    }\n",
       "\n",
       "    .dataframe tbody tr th {\n",
       "        vertical-align: top;\n",
       "    }\n",
       "\n",
       "    .dataframe thead th {\n",
       "        text-align: right;\n",
       "    }\n",
       "</style>\n",
       "<table border=\"1\" class=\"dataframe\">\n",
       "  <thead>\n",
       "    <tr style=\"text-align: right;\">\n",
       "      <th></th>\n",
       "      <th>Total</th>\n",
       "      <th>Phase 1</th>\n",
       "      <th>Phase 2</th>\n",
       "      <th>Phase 3</th>\n",
       "      <th>Phase 4</th>\n",
       "      <th>Phase 5</th>\n",
       "      <th>Phase 6</th>\n",
       "    </tr>\n",
       "  </thead>\n",
       "  <tbody>\n",
       "    <tr>\n",
       "      <th>1</th>\n",
       "      <td>0.072860</td>\n",
       "      <td>0.022665</td>\n",
       "      <td>0.027873</td>\n",
       "      <td>0.009291</td>\n",
       "      <td>0.002310</td>\n",
       "      <td>0.009712</td>\n",
       "      <td>0.000659</td>\n",
       "    </tr>\n",
       "    <tr>\n",
       "      <th>2</th>\n",
       "      <td>0.093311</td>\n",
       "      <td>0.008834</td>\n",
       "      <td>0.045388</td>\n",
       "      <td>0.013045</td>\n",
       "      <td>0.002478</td>\n",
       "      <td>0.021778</td>\n",
       "      <td>0.001309</td>\n",
       "    </tr>\n",
       "    <tr>\n",
       "      <th>3</th>\n",
       "      <td>0.145176</td>\n",
       "      <td>0.008458</td>\n",
       "      <td>0.067645</td>\n",
       "      <td>0.018558</td>\n",
       "      <td>0.003289</td>\n",
       "      <td>0.046203</td>\n",
       "      <td>0.000723</td>\n",
       "    </tr>\n",
       "    <tr>\n",
       "      <th>4</th>\n",
       "      <td>0.240465</td>\n",
       "      <td>0.009327</td>\n",
       "      <td>0.100292</td>\n",
       "      <td>0.032625</td>\n",
       "      <td>0.003958</td>\n",
       "      <td>0.092968</td>\n",
       "      <td>0.000936</td>\n",
       "    </tr>\n",
       "    <tr>\n",
       "      <th>5</th>\n",
       "      <td>0.369132</td>\n",
       "      <td>0.009985</td>\n",
       "      <td>0.146285</td>\n",
       "      <td>0.055577</td>\n",
       "      <td>0.004787</td>\n",
       "      <td>0.151238</td>\n",
       "      <td>0.000987</td>\n",
       "    </tr>\n",
       "    <tr>\n",
       "      <th>6</th>\n",
       "      <td>0.602916</td>\n",
       "      <td>0.010210</td>\n",
       "      <td>0.195435</td>\n",
       "      <td>0.126957</td>\n",
       "      <td>0.010233</td>\n",
       "      <td>0.258520</td>\n",
       "      <td>0.001249</td>\n",
       "    </tr>\n",
       "    <tr>\n",
       "      <th>7</th>\n",
       "      <td>0.794899</td>\n",
       "      <td>0.009558</td>\n",
       "      <td>0.266064</td>\n",
       "      <td>0.123398</td>\n",
       "      <td>0.011204</td>\n",
       "      <td>0.382822</td>\n",
       "      <td>0.001537</td>\n",
       "    </tr>\n",
       "    <tr>\n",
       "      <th>8</th>\n",
       "      <td>1.094592</td>\n",
       "      <td>0.009978</td>\n",
       "      <td>0.340837</td>\n",
       "      <td>0.166158</td>\n",
       "      <td>0.014418</td>\n",
       "      <td>0.560874</td>\n",
       "      <td>0.001978</td>\n",
       "    </tr>\n",
       "    <tr>\n",
       "      <th>9</th>\n",
       "      <td>1.511983</td>\n",
       "      <td>0.010128</td>\n",
       "      <td>0.432782</td>\n",
       "      <td>0.276734</td>\n",
       "      <td>0.017879</td>\n",
       "      <td>0.771604</td>\n",
       "      <td>0.002553</td>\n",
       "    </tr>\n",
       "    <tr>\n",
       "      <th>10</th>\n",
       "      <td>1.992577</td>\n",
       "      <td>0.015721</td>\n",
       "      <td>0.546208</td>\n",
       "      <td>0.338360</td>\n",
       "      <td>0.022191</td>\n",
       "      <td>1.066667</td>\n",
       "      <td>0.002986</td>\n",
       "    </tr>\n",
       "    <tr>\n",
       "      <th>11</th>\n",
       "      <td>2.564453</td>\n",
       "      <td>0.011924</td>\n",
       "      <td>0.670838</td>\n",
       "      <td>0.426574</td>\n",
       "      <td>0.026774</td>\n",
       "      <td>1.424317</td>\n",
       "      <td>0.003600</td>\n",
       "    </tr>\n",
       "    <tr>\n",
       "      <th>12</th>\n",
       "      <td>3.372229</td>\n",
       "      <td>0.008278</td>\n",
       "      <td>0.871204</td>\n",
       "      <td>0.476368</td>\n",
       "      <td>0.083078</td>\n",
       "      <td>1.928658</td>\n",
       "      <td>0.004293</td>\n",
       "    </tr>\n",
       "    <tr>\n",
       "      <th>13</th>\n",
       "      <td>4.402804</td>\n",
       "      <td>0.015304</td>\n",
       "      <td>1.036750</td>\n",
       "      <td>0.649471</td>\n",
       "      <td>0.091178</td>\n",
       "      <td>2.604479</td>\n",
       "      <td>0.005002</td>\n",
       "    </tr>\n",
       "    <tr>\n",
       "      <th>14</th>\n",
       "      <td>5.527041</td>\n",
       "      <td>0.011139</td>\n",
       "      <td>1.297425</td>\n",
       "      <td>0.805603</td>\n",
       "      <td>0.055804</td>\n",
       "      <td>3.349830</td>\n",
       "      <td>0.006611</td>\n",
       "    </tr>\n",
       "    <tr>\n",
       "      <th>15</th>\n",
       "      <td>6.832943</td>\n",
       "      <td>0.011192</td>\n",
       "      <td>1.472524</td>\n",
       "      <td>0.977084</td>\n",
       "      <td>0.057243</td>\n",
       "      <td>4.306966</td>\n",
       "      <td>0.007581</td>\n",
       "    </tr>\n",
       "    <tr>\n",
       "      <th>16</th>\n",
       "      <td>8.524427</td>\n",
       "      <td>0.010723</td>\n",
       "      <td>1.722253</td>\n",
       "      <td>1.153292</td>\n",
       "      <td>0.117746</td>\n",
       "      <td>5.511342</td>\n",
       "      <td>0.008620</td>\n",
       "    </tr>\n",
       "    <tr>\n",
       "      <th>17</th>\n",
       "      <td>10.628149</td>\n",
       "      <td>0.011486</td>\n",
       "      <td>2.010052</td>\n",
       "      <td>1.350772</td>\n",
       "      <td>0.130910</td>\n",
       "      <td>7.114552</td>\n",
       "      <td>0.010028</td>\n",
       "    </tr>\n",
       "    <tr>\n",
       "      <th>18</th>\n",
       "      <td>13.066919</td>\n",
       "      <td>0.008972</td>\n",
       "      <td>2.312140</td>\n",
       "      <td>1.600288</td>\n",
       "      <td>0.146766</td>\n",
       "      <td>8.986567</td>\n",
       "      <td>0.011810</td>\n",
       "    </tr>\n",
       "    <tr>\n",
       "      <th>19</th>\n",
       "      <td>16.493710</td>\n",
       "      <td>0.012214</td>\n",
       "      <td>2.737091</td>\n",
       "      <td>1.830938</td>\n",
       "      <td>0.167061</td>\n",
       "      <td>11.731942</td>\n",
       "      <td>0.013926</td>\n",
       "    </tr>\n",
       "    <tr>\n",
       "      <th>20</th>\n",
       "      <td>19.941199</td>\n",
       "      <td>0.010473</td>\n",
       "      <td>3.067311</td>\n",
       "      <td>2.189979</td>\n",
       "      <td>0.181311</td>\n",
       "      <td>14.476127</td>\n",
       "      <td>0.015429</td>\n",
       "    </tr>\n",
       "  </tbody>\n",
       "</table>\n",
       "</div>"
      ],
      "text/plain": [
       "        Total   Phase 1   Phase 2   Phase 3   Phase 4    Phase 5   Phase 6\n",
       "1    0.072860  0.022665  0.027873  0.009291  0.002310   0.009712  0.000659\n",
       "2    0.093311  0.008834  0.045388  0.013045  0.002478   0.021778  0.001309\n",
       "3    0.145176  0.008458  0.067645  0.018558  0.003289   0.046203  0.000723\n",
       "4    0.240465  0.009327  0.100292  0.032625  0.003958   0.092968  0.000936\n",
       "5    0.369132  0.009985  0.146285  0.055577  0.004787   0.151238  0.000987\n",
       "6    0.602916  0.010210  0.195435  0.126957  0.010233   0.258520  0.001249\n",
       "7    0.794899  0.009558  0.266064  0.123398  0.011204   0.382822  0.001537\n",
       "8    1.094592  0.009978  0.340837  0.166158  0.014418   0.560874  0.001978\n",
       "9    1.511983  0.010128  0.432782  0.276734  0.017879   0.771604  0.002553\n",
       "10   1.992577  0.015721  0.546208  0.338360  0.022191   1.066667  0.002986\n",
       "11   2.564453  0.011924  0.670838  0.426574  0.026774   1.424317  0.003600\n",
       "12   3.372229  0.008278  0.871204  0.476368  0.083078   1.928658  0.004293\n",
       "13   4.402804  0.015304  1.036750  0.649471  0.091178   2.604479  0.005002\n",
       "14   5.527041  0.011139  1.297425  0.805603  0.055804   3.349830  0.006611\n",
       "15   6.832943  0.011192  1.472524  0.977084  0.057243   4.306966  0.007581\n",
       "16   8.524427  0.010723  1.722253  1.153292  0.117746   5.511342  0.008620\n",
       "17  10.628149  0.011486  2.010052  1.350772  0.130910   7.114552  0.010028\n",
       "18  13.066919  0.008972  2.312140  1.600288  0.146766   8.986567  0.011810\n",
       "19  16.493710  0.012214  2.737091  1.830938  0.167061  11.731942  0.013926\n",
       "20  19.941199  0.010473  3.067311  2.189979  0.181311  14.476127  0.015429"
      ]
     },
     "metadata": {},
     "output_type": "display_data"
    }
   ],
   "source": [
    "# produce a table of the time taken for various phases\n",
    "# the phases are:\n",
    "#   1: creation of campaign\n",
    "#   2: creation of samples\n",
    "#   3: running the cases\n",
    "#   4: calculation of statistics including Sobols\n",
    "#   5: returning of analysed results\n",
    "#   6: saving campaign and pickled results\n",
    "\n",
    "Timings = pd.DataFrame(np.array([R[r]['times'] for r in list(R.keys())]), \n",
    "             columns=['Total', 'Phase 1', 'Phase 2', 'Phase 3', 'Phase 4', 'Phase 5', 'Phase 6'], \n",
    "             index=[R[r]['order'] for r in list(R.keys())])\n",
    "Timings.to_csv(open('Timings.csv', 'w'))\n",
    "display(Timings)"
   ]
  },
  {
   "cell_type": "code",
   "execution_count": 11,
   "metadata": {
    "ExecuteTime": {
     "end_time": "2021-05-27T09:18:12.615035Z",
     "start_time": "2021-05-27T09:18:12.100035Z"
    },
    "code_folding": [
     0
    ]
   },
   "outputs": [
    {
     "data": {
      "image/png": "[encoded data removed]",
      "text/plain": [
       "<Figure size 432x288 with 1 Axes>"
      ]
     },
     "metadata": {
      "needs_background": "light"
     },
     "output_type": "display_data"
    }
   ],
   "source": [
    "# plot the convergence of the mean and standard deviation to that of the highest order\n",
    "\n",
    "mean_analytic = exact['expectation']\n",
    "std_analytic = np.sqrt(exact['variance'])\n",
    "\n",
    "O = [R[r]['order'] for r in list(R.keys())]\n",
    "plt.figure()\n",
    "plt.semilogy([o for o in O], \n",
    "             [np.abs(R[o]['results'].describe('Ishigami', 'mean') - mean_analytic) for o in O],\n",
    "             'o-', label='mean')\n",
    "plt.semilogy([o for o in O], \n",
    "             [np.abs(R[o]['results'].describe('Ishigami', 'std') - std_analytic) for o in O],\n",
    "             'o-', label='std')\n",
    "plt.xlabel('SC order')\n",
    "plt.ylabel('RMSerror compared to analytic')\n",
    "plt.legend(loc=0)\n",
    "plt.savefig('Convergence_mean_std.png')\n",
    "plt.savefig('Convergence_mean_std.pdf')"
   ]
  },
  {
   "cell_type": "code",
   "execution_count": 12,
   "metadata": {
    "ExecuteTime": {
     "end_time": "2021-05-27T09:18:12.858727Z",
     "start_time": "2021-05-27T09:18:12.615925Z"
    },
    "code_folding": [
     0
    ]
   },
   "outputs": [
    {
     "data": {
      "image/png": "[encoded data removed]",
      "text/plain": [
       "<Figure size 432x288 with 1 Axes>"
      ]
     },
     "metadata": {
      "needs_background": "light"
     },
     "output_type": "display_data"
    }
   ],
   "source": [
    "# plot the convergence of the first sobol to that of the highest order\n",
    "\n",
    "sobol_first_exact = {'x1': exact['S1'], 'x2': exact['S2'], 'x3': exact['S3']}\n",
    "\n",
    "O = [R[r]['order'] for r in list(R.keys())]\n",
    "plt.figure()\n",
    "for v in list(R[O[0]]['results'].sobols_first('Ishigami').keys()):\n",
    "    plt.semilogy([o for o in O],\n",
    "                 [np.abs(R[o]['results'].sobols_first('Ishigami')[v] - sobol_first_exact[v]) for o in O],\n",
    "                 'o-',\n",
    "                 label=v)\n",
    "plt.xlabel('SC order')\n",
    "plt.ylabel('ABSerror for 1st sobol compared to analytic')\n",
    "plt.legend(loc=0)\n",
    "plt.savefig('Convergence_sobol_first.png')\n",
    "plt.savefig('Convergence_sobol_first.pdf')"
   ]
  },
  {
   "cell_type": "code",
   "execution_count": 16,
   "metadata": {
    "ExecuteTime": {
     "end_time": "2021-05-27T10:02:42.168557Z",
     "start_time": "2021-05-27T10:02:41.251184Z"
    },
    "code_folding": [
     0
    ]
   },
   "outputs": [],
   "source": [
    "# prepare the test data\n",
    "test_campaign = uq.Campaign(name='Ishigami.')        \n",
    "test_campaign.add_app(name=\"Ishigami\", params=define_params(), \n",
    "                      actions=uq.actions.Actions(uq.actions.ExecutePython(run_ishigami_model)))\n",
    "test_campaign.set_sampler(uq.sampling.quasirandom.LHCSampler(vary=define_vary(), count=100))\n",
    "test_campaign.execute(nsamples=1000, sequential=True).collate()\n",
    "test_df = test_campaign.get_collation_result()"
   ]
  },
  {
   "cell_type": "code",
   "execution_count": 14,
   "metadata": {
    "ExecuteTime": {
     "end_time": "2021-05-27T09:18:27.814486Z",
     "start_time": "2021-05-27T09:18:13.788922Z"
    },
    "code_folding": [
     0
    ]
   },
   "outputs": [],
   "source": [
    "# calculate the SC surrogates\n",
    "if __name__ == '__main__':\n",
    "\n",
    "    test_points = test_df[test_campaign.get_active_sampler().vary.get_keys()]\n",
    "    test_results = np.squeeze(test_df['Ishigami'].values)\n",
    "    test_predictions = {}\n",
    "    for i in list(R.keys()):\n",
    "        test_predictions[i] = np.squeeze(np.array(R[i]['results'].surrogate()(test_points)['Ishigami']))"
   ]
  },
  {
   "cell_type": "code",
   "execution_count": 15,
   "metadata": {
    "ExecuteTime": {
     "end_time": "2021-05-27T09:18:28.024930Z",
     "start_time": "2021-05-27T09:18:27.815358Z"
    },
    "code_folding": [
     0
    ]
   },
   "outputs": [
    {
     "data": {
      "image/png": "[encoded data removed]",
      "text/plain": [
       "<Figure size 432x288 with 1 Axes>"
      ]
     },
     "metadata": {
      "needs_background": "light"
     },
     "output_type": "display_data"
    }
   ],
   "source": [
    "# plot the convergence of the surrogate\n",
    "if __name__ == '__main__':\n",
    "    _o = []\n",
    "    _RMS = []\n",
    "    for r in R.values():\n",
    "        _RMS.append((np.sqrt((((test_predictions[r['order']] - test_results))**2).mean())))\n",
    "        _o.append(r['order'])\n",
    "\n",
    "    plt.figure()\n",
    "    plt.semilogy(_o, _RMS, 'o-')\n",
    "    plt.xlabel('SC order')\n",
    "    plt.ylabel('RMS error for the SC surrogate')\n",
    "    plt.legend(loc=0)\n",
    "    plt.savefig('Convergence_SC_surrogate.png')\n",
    "    plt.savefig('Convergence_SC_surrogate.pdf')"
   ]
  }
 ],
 "metadata": {
  "jupytext": {
   "cell_metadata_filter": "-all",
   "executable": " /usr/bin/env python",
   "main_language": "python",
   "notebook_metadata_filter": "-all"
  },
  "kernelspec": {
   "display_name": "Python 3",
   "language": "python",
   "name": "python3"
  },
  "language_info": {
   "codemirror_mode": {
    "name": "ipython",
    "version": 3
   },
   "file_extension": ".py",
   "mimetype": "text/x-python",
   "name": "python",
   "nbconvert_exporter": "python",
   "pygments_lexer": "ipython3",
   "version": "3.9.4"
  },
  "latex_envs": {
   "LaTeX_envs_menu_present": true,
   "autoclose": false,
   "autocomplete": true,
   "bibliofile": "biblio.bib",
   "cite_by": "apalike",
   "current_citInitial": 1,
   "eqLabelWithNumbers": true,
   "eqNumInitial": 1,
   "hotkeys": {
    "equation": "Ctrl-E",
    "itemize": "Ctrl-I"
   },
   "labels_anchors": false,
   "latex_user_defs": false,
   "report_style_numbering": false,
   "user_envs_cfg": false
  }
 },
 "nbformat": 4,
 "nbformat_minor": 4
}
