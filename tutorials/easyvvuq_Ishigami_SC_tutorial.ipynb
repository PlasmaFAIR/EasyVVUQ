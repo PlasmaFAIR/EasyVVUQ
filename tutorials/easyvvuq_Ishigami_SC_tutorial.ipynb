{
 "cells": [
  {
   "cell_type": "markdown",
   "metadata": {},
   "source": [
    "Run an EasyVVUQ campaign to analyze the sensitivity for the Ishigami function\n",
    "\n",
    "This is done with SC."
   ]
  },
  {
   "cell_type": "code",
   "execution_count": 1,
   "metadata": {
    "ExecuteTime": {
     "end_time": "2021-05-25T09:17:20.850153Z",
     "start_time": "2021-05-25T09:17:18.195420Z"
    },
    "code_folding": []
   },
   "outputs": [],
   "source": [
    "# Run an EasyVVUQ campaign to analyze the sensitivity for the Ishigami function\n",
    "# This is done with SC.\n",
    "import os\n",
    "import easyvvuq as uq\n",
    "import chaospy as cp\n",
    "import pickle\n",
    "import numpy as np\n",
    "import matplotlib.pylab as plt\n",
    "import time\n",
    "import pandas as pd"
   ]
  },
  {
   "cell_type": "code",
   "execution_count": 2,
   "metadata": {
    "ExecuteTime": {
     "end_time": "2021-05-25T09:17:20.862476Z",
     "start_time": "2021-05-25T09:17:20.853170Z"
    },
    "code_folding": [
     0,
     1
    ]
   },
   "outputs": [],
   "source": [
    "# Define the Ishigami function\n",
    "def ishigamiSA(a,b):\n",
    "    '''Exact sensitivity indices of the Ishigami function for given a and b.\n",
    "    From https://openturns.github.io/openturns/master/examples/meta_modeling/chaos_ishigami.html\n",
    "    '''\n",
    "    var = 1.0/2 + a**2/8 + b*np.pi**4/5 + b**2*np.pi**8/18\n",
    "    S1 = (1.0/2 + b*np.pi**4/5+b**2*np.pi**8/50)/var\n",
    "    S2 = (a**2/8)/var\n",
    "    S3 = 0\n",
    "    S13 = b**2*np.pi**8/2*(1.0/9-1.0/25)/var\n",
    "    exact = {\n",
    "            'expectation' : a/2,\n",
    "            'variance' : var,\n",
    "            'S1' : (1.0/2 + b*np.pi**4/5+b**2*np.pi**8.0/50)/var,\n",
    "            'S2' : (a**2/8)/var,\n",
    "            'S3' : 0,\n",
    "            'S12' : 0,\n",
    "            'S23' : 0,\n",
    "            'S13' : S13,\n",
    "            'S123' : 0,\n",
    "            'ST1' : S1 + S13,\n",
    "            'ST2' : S2,\n",
    "            'ST3' : S3 + S13\n",
    "            }\n",
    "    return exact\n",
    "\n",
    "Ishigami_a = 7.0\n",
    "Ishigami_b = 0.1\n",
    "exact = ishigamiSA(Ishigami_a, Ishigami_b)"
   ]
  },
  {
   "cell_type": "code",
   "execution_count": 3,
   "metadata": {
    "ExecuteTime": {
     "end_time": "2021-05-25T09:17:20.887937Z",
     "start_time": "2021-05-25T09:17:20.865003Z"
    },
    "code_folding": [
     0
    ]
   },
   "outputs": [],
   "source": [
    "# define a model to run the Ishigami code directly from python, expecting a dictionary and returning a dictionary\n",
    "def run_ishigami_model(input):\n",
    "    import Ishigami\n",
    "    qois = [\"Ishigami\"]\n",
    "    del input['out_file']\n",
    "    return {qois[0]: Ishigami.evaluate(**input)}"
   ]
  },
  {
   "cell_type": "code",
   "execution_count": 4,
   "metadata": {
    "ExecuteTime": {
     "end_time": "2021-05-25T09:17:20.908603Z",
     "start_time": "2021-05-25T09:17:20.890297Z"
    },
    "code_folding": []
   },
   "outputs": [],
   "source": [
    "# Set up and run a campaign\n",
    "def run_campaign(sc_order=2, use_files=False):\n",
    "\n",
    "    times = np.zeros(7)\n",
    "\n",
    "    time_start = time.time()\n",
    "    time_start_whole = time_start\n",
    "\n",
    "    # Set up a fresh campaign called \"Ishigami_sc.\"\n",
    "    my_campaign = uq.Campaign(name='Ishigami_sc.')\n",
    "\n",
    "    # Define parameter space\n",
    "    params = {\n",
    "        \"x1\":       {\"type\": \"float\",   \"min\": -np.pi,     \"max\": np.pi,      \"default\": 0.0},\n",
    "        \"x2\":       {\"type\": \"float\",   \"min\": -np.pi,     \"max\": np.pi,      \"default\": 0.0},\n",
    "        \"x3\":       {\"type\": \"float\",   \"min\": -np.pi,     \"max\": np.pi,      \"default\": 0.0},\n",
    "        \"a\":        {\"type\": \"float\",   \"min\": Ishigami_a, \"max\": Ishigami_a, \"default\": Ishigami_a},\n",
    "        \"b\":        {\"type\": \"float\",   \"min\": Ishigami_b, \"max\": Ishigami_b, \"default\": Ishigami_b},\n",
    "        \"out_file\": {\"type\": \"string\",  \"default\": \"output.csv\"}\n",
    "    }\n",
    "\n",
    "    # Create an encoder and decoder for SC test app\n",
    "    if use_files:\n",
    "        encoder = uq.encoders.GenericEncoder(template_fname='Ishigami.template',\n",
    "                                             delimiter='$',\n",
    "                                             target_filename='Ishigami_in.json')\n",
    "\n",
    "        decoder = uq.decoders.SimpleCSV(target_filename=\"output.csv\",\n",
    "                                        output_columns=[\"Ishigami\"])\n",
    "\n",
    "        execute = uq.actions.ExecuteLocal('python3 %s/Ishigami.py Ishigami_in.json' % (os.getcwd()))\n",
    "\n",
    "        actions = uq.actions.Actions(uq.actions.CreateRunDirectory('/tmp'), \n",
    "                          uq.actions.Encode(encoder), execute, uq.actions.Decode(decoder))\n",
    "    else:\n",
    "        actions = uq.actions.Actions(uq.actions.ExecutePython(run_ishigami_model))\n",
    "\n",
    "    # Add the app (automatically set as current app)\n",
    "    my_campaign.add_app(name=\"Ishigami\", params=params, actions=actions)\n",
    "\n",
    "    # Create the sampler\n",
    "    vary = {\n",
    "        \"x1\":   cp.Uniform(-np.pi, np.pi),\n",
    "        \"x2\":   cp.Uniform(-np.pi, np.pi),\n",
    "        \"x3\":   cp.Uniform(-np.pi, np.pi)\n",
    "    }\n",
    "\n",
    "    time_end = time.time()\n",
    "    times[1] = time_end-time_start\n",
    "    print('Time for phase 1 = %.3f' % (times[1]))\n",
    "\n",
    "    time_start = time.time()\n",
    "    # Associate a sampler with the campaign\n",
    "    my_campaign.set_sampler(uq.sampling.SCSampler(vary=vary, polynomial_order=sc_order))\n",
    "\n",
    "    # Will draw all (of the finite set of samples)\n",
    "    my_campaign.draw_samples()\n",
    "    print('Number of samples = %s' % my_campaign.get_active_sampler().count)\n",
    "\n",
    "    time_end = time.time()\n",
    "    times[2] = time_end-time_start\n",
    "    print('Time for phase 2 = %.3f' % (times[2]))\n",
    "\n",
    "    time_start = time.time()\n",
    "    # Run the cases\n",
    "    my_campaign.execute().collate()\n",
    "\n",
    "    time_end = time.time()\n",
    "    times[3] = time_end-time_start\n",
    "    print('Time for phase 3 = %.3f' % (times[3]))\n",
    "\n",
    "    time_start = time.time()\n",
    "    # Get the results\n",
    "    results_df = my_campaign.get_collation_result()\n",
    "\n",
    "    time_end = time.time()\n",
    "    times[4] = time_end-time_start\n",
    "    print('Time for phase 4 = %.3f' % (times[4]))\n",
    "\n",
    "    time_start = time.time()\n",
    "    # Post-processing analysis\n",
    "    results = my_campaign.analyse(qoi_cols=[\"Ishigami\"])\n",
    "    \n",
    "    time_end = time.time()\n",
    "    times[5] = time_end-time_start\n",
    "    print('Time for phase 5 = %.3f' % (times[5]))\n",
    "\n",
    "    time_start = time.time()\n",
    "    # Save the results\n",
    "    pickle.dump(results, open('Ishigami_results.pickle','bw'))\n",
    "    time_end = time.time()\n",
    "    times[6] = time_end-time_start\n",
    "    print('Time for phase 6 = %.3f' % (times[6]))\n",
    "\n",
    "    times[0] = time_end - time_start_whole\n",
    "\n",
    "    return results_df, results, times, sc_order, my_campaign.get_active_sampler().count"
   ]
  },
  {
   "cell_type": "code",
   "execution_count": 7,
   "metadata": {
    "ExecuteTime": {
     "end_time": "2021-05-25T09:18:28.269073Z",
     "start_time": "2021-05-25T09:18:00.833409Z"
    },
    "scrolled": true
   },
   "outputs": [
    {
     "name": "stdout",
     "output_type": "stream",
     "text": [
      "Time for phase 1 = 0.064\n",
      "Number of samples = 8\n",
      "Time for phase 2 = 0.111\n",
      "Time for phase 3 = 0.022\n",
      "Time for phase 4 = 0.007\n",
      "Time for phase 5 = 0.053\n",
      "Time for phase 6 = 0.009\n",
      "Time for phase 1 = 0.023\n",
      "Number of samples = 27\n",
      "Time for phase 2 = 0.181\n",
      "Time for phase 3 = 0.039\n",
      "Time for phase 4 = 0.006\n",
      "Time for phase 5 = 0.068\n",
      "Time for phase 6 = 0.002\n",
      "Time for phase 1 = 0.024\n",
      "Number of samples = 64\n",
      "Time for phase 2 = 0.310\n",
      "Time for phase 3 = 0.076\n",
      "Time for phase 4 = 0.007\n",
      "Time for phase 5 = 0.153\n",
      "Time for phase 6 = 0.003\n",
      "Time for phase 1 = 0.025\n",
      "Number of samples = 125\n",
      "Time for phase 2 = 0.488\n",
      "Time for phase 3 = 0.143\n",
      "Time for phase 4 = 0.011\n",
      "Time for phase 5 = 0.302\n",
      "Time for phase 6 = 0.002\n",
      "Time for phase 1 = 0.026\n",
      "Number of samples = 216\n",
      "Time for phase 2 = 0.689\n",
      "Time for phase 3 = 0.241\n",
      "Time for phase 4 = 0.022\n",
      "Time for phase 5 = 0.524\n",
      "Time for phase 6 = 0.004\n",
      "Time for phase 1 = 0.026\n",
      "Number of samples = 343\n",
      "Time for phase 2 = 0.973\n",
      "Time for phase 3 = 0.362\n",
      "Time for phase 4 = 0.029\n",
      "Time for phase 5 = 0.829\n",
      "Time for phase 6 = 0.006\n",
      "Time for phase 1 = 0.028\n",
      "Number of samples = 512\n",
      "Time for phase 2 = 1.308\n",
      "Time for phase 3 = 0.733\n",
      "Time for phase 4 = 0.023\n",
      "Time for phase 5 = 1.300\n",
      "Time for phase 6 = 0.008\n",
      "Time for phase 1 = 0.031\n",
      "Number of samples = 729\n",
      "Time for phase 2 = 1.748\n",
      "Time for phase 3 = 0.737\n",
      "Time for phase 4 = 0.043\n",
      "Time for phase 5 = 1.873\n",
      "Time for phase 6 = 0.008\n",
      "Time for phase 1 = 0.027\n",
      "Number of samples = 1000\n",
      "Time for phase 2 = 2.248\n",
      "Time for phase 3 = 1.159\n",
      "Time for phase 4 = 0.040\n",
      "Time for phase 5 = 2.478\n",
      "Time for phase 6 = 0.009\n",
      "Time for phase 1 = 0.030\n",
      "Number of samples = 1331\n",
      "Time for phase 2 = 2.745\n",
      "Time for phase 3 = 1.275\n",
      "Time for phase 4 = 0.066\n",
      "Time for phase 5 = 3.577\n",
      "Time for phase 6 = 0.011\n"
     ]
    }
   ],
   "source": [
    "R = {}\n",
    "for sc_order in range(1, 11):  # 21\n",
    "    R[sc_order] = {}\n",
    "    (R[sc_order]['results_df'], \n",
    "     R[sc_order]['results'], \n",
    "     R[sc_order]['times'], \n",
    "     R[sc_order]['order'], \n",
    "     R[sc_order]['number_of_samples']) = run_campaign(sc_order=sc_order, use_files=False)"
   ]
  },
  {
   "cell_type": "code",
   "execution_count": 8,
   "metadata": {
    "ExecuteTime": {
     "end_time": "2021-05-25T09:18:43.689319Z",
     "start_time": "2021-05-25T09:18:43.468258Z"
    }
   },
   "outputs": [],
   "source": [
    "# save the results\n",
    "\n",
    "pickle.dump(R, open('collected_results.pickle','bw'))"
   ]
  },
  {
   "cell_type": "code",
   "execution_count": 9,
   "metadata": {
    "ExecuteTime": {
     "end_time": "2021-05-25T09:18:45.353477Z",
     "start_time": "2021-05-25T09:18:45.311382Z"
    },
    "code_folding": [
     0
    ]
   },
   "outputs": [
    {
     "data": {
      "text/html": [
       "<div>\n",
       "<style scoped>\n",
       "    .dataframe tbody tr th:only-of-type {\n",
       "        vertical-align: middle;\n",
       "    }\n",
       "\n",
       "    .dataframe tbody tr th {\n",
       "        vertical-align: top;\n",
       "    }\n",
       "\n",
       "    .dataframe thead th {\n",
       "        text-align: right;\n",
       "    }\n",
       "</style>\n",
       "<table border=\"1\" class=\"dataframe\">\n",
       "  <thead>\n",
       "    <tr style=\"text-align: right;\">\n",
       "      <th></th>\n",
       "      <th>Total</th>\n",
       "      <th>Phase 1</th>\n",
       "      <th>Phase 2</th>\n",
       "      <th>Phase 3</th>\n",
       "      <th>Phase 4</th>\n",
       "      <th>Phase 5</th>\n",
       "      <th>Phase 6</th>\n",
       "    </tr>\n",
       "  </thead>\n",
       "  <tbody>\n",
       "    <tr>\n",
       "      <th>1</th>\n",
       "      <td>0.266940</td>\n",
       "      <td>0.063798</td>\n",
       "      <td>0.111396</td>\n",
       "      <td>0.022494</td>\n",
       "      <td>0.006757</td>\n",
       "      <td>0.053020</td>\n",
       "      <td>0.008592</td>\n",
       "    </tr>\n",
       "    <tr>\n",
       "      <th>2</th>\n",
       "      <td>0.320724</td>\n",
       "      <td>0.023100</td>\n",
       "      <td>0.181087</td>\n",
       "      <td>0.039353</td>\n",
       "      <td>0.006465</td>\n",
       "      <td>0.067616</td>\n",
       "      <td>0.001642</td>\n",
       "    </tr>\n",
       "    <tr>\n",
       "      <th>3</th>\n",
       "      <td>0.574892</td>\n",
       "      <td>0.024012</td>\n",
       "      <td>0.309771</td>\n",
       "      <td>0.075512</td>\n",
       "      <td>0.007160</td>\n",
       "      <td>0.153073</td>\n",
       "      <td>0.002812</td>\n",
       "    </tr>\n",
       "    <tr>\n",
       "      <th>4</th>\n",
       "      <td>0.975655</td>\n",
       "      <td>0.025482</td>\n",
       "      <td>0.488014</td>\n",
       "      <td>0.142628</td>\n",
       "      <td>0.010991</td>\n",
       "      <td>0.301583</td>\n",
       "      <td>0.001883</td>\n",
       "    </tr>\n",
       "    <tr>\n",
       "      <th>5</th>\n",
       "      <td>1.505375</td>\n",
       "      <td>0.025882</td>\n",
       "      <td>0.688701</td>\n",
       "      <td>0.240946</td>\n",
       "      <td>0.022248</td>\n",
       "      <td>0.523602</td>\n",
       "      <td>0.003606</td>\n",
       "    </tr>\n",
       "    <tr>\n",
       "      <th>6</th>\n",
       "      <td>2.226374</td>\n",
       "      <td>0.026346</td>\n",
       "      <td>0.973210</td>\n",
       "      <td>0.362254</td>\n",
       "      <td>0.029219</td>\n",
       "      <td>0.828651</td>\n",
       "      <td>0.006294</td>\n",
       "    </tr>\n",
       "    <tr>\n",
       "      <th>7</th>\n",
       "      <td>3.414736</td>\n",
       "      <td>0.028358</td>\n",
       "      <td>1.308445</td>\n",
       "      <td>0.733479</td>\n",
       "      <td>0.023383</td>\n",
       "      <td>1.300429</td>\n",
       "      <td>0.007564</td>\n",
       "    </tr>\n",
       "    <tr>\n",
       "      <th>8</th>\n",
       "      <td>4.454620</td>\n",
       "      <td>0.030842</td>\n",
       "      <td>1.747718</td>\n",
       "      <td>0.736547</td>\n",
       "      <td>0.042625</td>\n",
       "      <td>1.873106</td>\n",
       "      <td>0.008427</td>\n",
       "    </tr>\n",
       "    <tr>\n",
       "      <th>9</th>\n",
       "      <td>5.979308</td>\n",
       "      <td>0.027360</td>\n",
       "      <td>2.247586</td>\n",
       "      <td>1.159033</td>\n",
       "      <td>0.040416</td>\n",
       "      <td>2.477814</td>\n",
       "      <td>0.009468</td>\n",
       "    </tr>\n",
       "    <tr>\n",
       "      <th>10</th>\n",
       "      <td>7.709540</td>\n",
       "      <td>0.029629</td>\n",
       "      <td>2.745019</td>\n",
       "      <td>1.275154</td>\n",
       "      <td>0.065694</td>\n",
       "      <td>3.577087</td>\n",
       "      <td>0.011467</td>\n",
       "    </tr>\n",
       "  </tbody>\n",
       "</table>\n",
       "</div>"
      ],
      "text/plain": [
       "       Total   Phase 1   Phase 2   Phase 3   Phase 4   Phase 5   Phase 6\n",
       "1   0.266940  0.063798  0.111396  0.022494  0.006757  0.053020  0.008592\n",
       "2   0.320724  0.023100  0.181087  0.039353  0.006465  0.067616  0.001642\n",
       "3   0.574892  0.024012  0.309771  0.075512  0.007160  0.153073  0.002812\n",
       "4   0.975655  0.025482  0.488014  0.142628  0.010991  0.301583  0.001883\n",
       "5   1.505375  0.025882  0.688701  0.240946  0.022248  0.523602  0.003606\n",
       "6   2.226374  0.026346  0.973210  0.362254  0.029219  0.828651  0.006294\n",
       "7   3.414736  0.028358  1.308445  0.733479  0.023383  1.300429  0.007564\n",
       "8   4.454620  0.030842  1.747718  0.736547  0.042625  1.873106  0.008427\n",
       "9   5.979308  0.027360  2.247586  1.159033  0.040416  2.477814  0.009468\n",
       "10  7.709540  0.029629  2.745019  1.275154  0.065694  3.577087  0.011467"
      ]
     },
     "metadata": {},
     "output_type": "display_data"
    }
   ],
   "source": [
    "# produce a table of the time taken for various phases\n",
    "# the phases are:\n",
    "#   1: creation of campaign\n",
    "#   2: creation of samples\n",
    "#   3: running the cases\n",
    "#   4: calculation of statistics including Sobols\n",
    "#   5: returning of analysed results\n",
    "#   6: saving campaign and pickled results\n",
    "\n",
    "Timings = pd.DataFrame(np.array([R[r]['times'] for r in list(R.keys())]), \n",
    "             columns=['Total', 'Phase 1', 'Phase 2', 'Phase 3', 'Phase 4', 'Phase 5', 'Phase 6'], \n",
    "             index=[R[r]['order'] for r in list(R.keys())])\n",
    "Timings.to_csv(open('Timings.csv', 'w'))\n",
    "display(Timings)"
   ]
  },
  {
   "cell_type": "code",
   "execution_count": 10,
   "metadata": {
    "ExecuteTime": {
     "end_time": "2021-05-25T09:18:53.531602Z",
     "start_time": "2021-05-25T09:18:52.240146Z"
    }
   },
   "outputs": [
    {
     "data": {
      "image/png": "[encoded data removed]",
      "text/plain": [
       "<Figure size 432x288 with 1 Axes>"
      ]
     },
     "metadata": {
      "needs_background": "light"
     },
     "output_type": "display_data"
    }
   ],
   "source": [
    "# plot the convergence of the mean and standard deviation to that of the highest order\n",
    "\n",
    "mean_analytic = exact['expectation']\n",
    "std_analytic = np.sqrt(exact['variance'])\n",
    "\n",
    "O = [R[r]['order'] for r in list(R.keys())]\n",
    "plt.figure()\n",
    "plt.semilogy([o for o in O], \n",
    "             [np.abs(R[o]['results'].describe('Ishigami', 'mean') - mean_analytic) for o in O],\n",
    "             'o-', label='mean')\n",
    "plt.semilogy([o for o in O], \n",
    "             [np.abs(R[o]['results'].describe('Ishigami', 'std') - std_analytic) for o in O],\n",
    "             'o-', label='std')\n",
    "plt.xlabel('SC order')\n",
    "plt.ylabel('RMSerror compared to analytic')\n",
    "plt.legend(loc=0)\n",
    "plt.savefig('Convergence_mean_std.png')\n",
    "plt.savefig('Convergence_mean_std.pdf')"
   ]
  },
  {
   "cell_type": "code",
   "execution_count": 11,
   "metadata": {
    "ExecuteTime": {
     "end_time": "2021-05-25T09:18:58.595727Z",
     "start_time": "2021-05-25T09:18:57.638692Z"
    }
   },
   "outputs": [
    {
     "data": {
      "image/png": "[encoded data removed]",
      "text/plain": [
       "<Figure size 432x288 with 1 Axes>"
      ]
     },
     "metadata": {
      "needs_background": "light"
     },
     "output_type": "display_data"
    }
   ],
   "source": [
    "# plot the convergence of the first sobol to that of the highest order\n",
    "\n",
    "sobol_first_exact = {'x1': exact['S1'], 'x2': exact['S2'], 'x3': exact['S3']}\n",
    "\n",
    "O = [R[r]['order'] for r in list(R.keys())]\n",
    "plt.figure()\n",
    "for v in list(R[O[0]]['results'].sobols_first('Ishigami').keys()):\n",
    "    plt.semilogy([o for o in O],\n",
    "                 [np.abs(R[o]['results'].sobols_first('Ishigami')[v] - sobol_first_exact[v]) for o in O],\n",
    "                 'o-',\n",
    "                 label=v)\n",
    "plt.xlabel('SC order')\n",
    "plt.ylabel('ABSerror for 1st sobol compared to analytic')\n",
    "plt.legend(loc=0)\n",
    "plt.savefig('Convergence_sobol_first.png')\n",
    "plt.savefig('Convergence_sobol_first.pdf')"
   ]
  },
  {
   "cell_type": "code",
   "execution_count": 14,
   "metadata": {
    "ExecuteTime": {
     "end_time": "2021-05-25T09:20:07.239765Z",
     "start_time": "2021-05-25T09:20:05.588004Z"
    }
   },
   "outputs": [],
   "source": [
    "_o = []\n",
    "_RMS = []\n",
    "for r in R.values():\n",
    "    results_df = r['results_df']\n",
    "    results = r['results']\n",
    "    Ishigami_surrogate = np.squeeze(np.array(results.surrogate()(results_df[results.inputs])['Ishigami']))\n",
    "    Ishigami_samples = np.squeeze(np.array(results_df['Ishigami']))\n",
    "    _RMS.append((np.sqrt((((Ishigami_surrogate - Ishigami_samples) / Ishigami_samples)**2).mean())))\n",
    "    _o.append(r['order'])"
   ]
  },
  {
   "cell_type": "code",
   "execution_count": 41,
   "metadata": {
    "ExecuteTime": {
     "end_time": "2021-05-25T09:29:05.566236Z",
     "start_time": "2021-05-25T09:29:04.872484Z"
    }
   },
   "outputs": [
    {
     "data": {
      "text/plain": [
       "{'Ishigami': 0.0}"
      ]
     },
     "execution_count": 41,
     "metadata": {},
     "output_type": "execute_result"
    }
   ],
   "source": [
    "F = results.surrogate()\n",
    "F(results_df[results.inputs])"
   ]
  },
  {
   "cell_type": "code",
   "execution_count": 42,
   "metadata": {
    "ExecuteTime": {
     "end_time": "2021-05-25T12:26:49.185328Z",
     "start_time": "2021-05-25T12:26:49.158351Z"
    }
   },
   "outputs": [
    {
     "data": {
      "text/html": [
       "<div>\n",
       "<style scoped>\n",
       "    .dataframe tbody tr th:only-of-type {\n",
       "        vertical-align: middle;\n",
       "    }\n",
       "\n",
       "    .dataframe tbody tr th {\n",
       "        vertical-align: top;\n",
       "    }\n",
       "\n",
       "    .dataframe thead tr th {\n",
       "        text-align: left;\n",
       "    }\n",
       "</style>\n",
       "<table border=\"1\" class=\"dataframe\">\n",
       "  <thead>\n",
       "    <tr>\n",
       "      <th></th>\n",
       "      <th>x1</th>\n",
       "      <th>x2</th>\n",
       "      <th>x3</th>\n",
       "    </tr>\n",
       "    <tr>\n",
       "      <th></th>\n",
       "      <th>0</th>\n",
       "      <th>0</th>\n",
       "      <th>0</th>\n",
       "    </tr>\n",
       "  </thead>\n",
       "  <tbody>\n",
       "    <tr>\n",
       "      <th>0</th>\n",
       "      <td>-3.073196</td>\n",
       "      <td>-3.073196</td>\n",
       "      <td>-3.073196</td>\n",
       "    </tr>\n",
       "    <tr>\n",
       "      <th>1</th>\n",
       "      <td>-3.073196</td>\n",
       "      <td>-3.073196</td>\n",
       "      <td>-2.786789</td>\n",
       "    </tr>\n",
       "    <tr>\n",
       "      <th>2</th>\n",
       "      <td>-3.073196</td>\n",
       "      <td>-3.073196</td>\n",
       "      <td>-2.293840</td>\n",
       "    </tr>\n",
       "    <tr>\n",
       "      <th>3</th>\n",
       "      <td>-3.073196</td>\n",
       "      <td>-3.073196</td>\n",
       "      <td>-1.630789</td>\n",
       "    </tr>\n",
       "    <tr>\n",
       "      <th>4</th>\n",
       "      <td>-3.073196</td>\n",
       "      <td>-3.073196</td>\n",
       "      <td>-0.846795</td>\n",
       "    </tr>\n",
       "    <tr>\n",
       "      <th>...</th>\n",
       "      <td>...</td>\n",
       "      <td>...</td>\n",
       "      <td>...</td>\n",
       "    </tr>\n",
       "    <tr>\n",
       "      <th>1326</th>\n",
       "      <td>3.073196</td>\n",
       "      <td>3.073196</td>\n",
       "      <td>0.846795</td>\n",
       "    </tr>\n",
       "    <tr>\n",
       "      <th>1327</th>\n",
       "      <td>3.073196</td>\n",
       "      <td>3.073196</td>\n",
       "      <td>1.630789</td>\n",
       "    </tr>\n",
       "    <tr>\n",
       "      <th>1328</th>\n",
       "      <td>3.073196</td>\n",
       "      <td>3.073196</td>\n",
       "      <td>2.293840</td>\n",
       "    </tr>\n",
       "    <tr>\n",
       "      <th>1329</th>\n",
       "      <td>3.073196</td>\n",
       "      <td>3.073196</td>\n",
       "      <td>2.786789</td>\n",
       "    </tr>\n",
       "    <tr>\n",
       "      <th>1330</th>\n",
       "      <td>3.073196</td>\n",
       "      <td>3.073196</td>\n",
       "      <td>3.073196</td>\n",
       "    </tr>\n",
       "  </tbody>\n",
       "</table>\n",
       "<p>1331 rows × 3 columns</p>\n",
       "</div>"
      ],
      "text/plain": [
       "            x1        x2        x3\n",
       "             0         0         0\n",
       "0    -3.073196 -3.073196 -3.073196\n",
       "1    -3.073196 -3.073196 -2.786789\n",
       "2    -3.073196 -3.073196 -2.293840\n",
       "3    -3.073196 -3.073196 -1.630789\n",
       "4    -3.073196 -3.073196 -0.846795\n",
       "...        ...       ...       ...\n",
       "1326  3.073196  3.073196  0.846795\n",
       "1327  3.073196  3.073196  1.630789\n",
       "1328  3.073196  3.073196  2.293840\n",
       "1329  3.073196  3.073196  2.786789\n",
       "1330  3.073196  3.073196  3.073196\n",
       "\n",
       "[1331 rows x 3 columns]"
      ]
     },
     "execution_count": 42,
     "metadata": {},
     "output_type": "execute_result"
    }
   ],
   "source": [
    "results_df[results.inputs]"
   ]
  },
  {
   "cell_type": "code",
   "execution_count": 15,
   "metadata": {
    "ExecuteTime": {
     "end_time": "2021-05-25T09:20:19.883630Z",
     "start_time": "2021-05-25T09:20:19.408720Z"
    }
   },
   "outputs": [
    {
     "data": {
      "text/plain": [
       "<matplotlib.legend.Legend at 0x14ee877de588>"
      ]
     },
     "execution_count": 15,
     "metadata": {},
     "output_type": "execute_result"
    },
    {
     "data": {
      "image/png": "[encoded data removed]",
      "text/plain": [
       "<Figure size 432x288 with 1 Axes>"
      ]
     },
     "metadata": {
      "needs_background": "light"
     },
     "output_type": "display_data"
    }
   ],
   "source": [
    "plt.figure()\n",
    "plt.semilogy(_o, _RMS, 'o-')\n",
    "plt.xlabel('PCE order')\n",
    "plt.ylabel('RMS error for the PCE surrogate')\n",
    "plt.legend(loc=0)\n",
    "#plt.savefig('Convergence_surrogate.png')\n",
    "#plt.savefig('Convergence_surrogate.pdf')"
   ]
  },
  {
   "cell_type": "code",
   "execution_count": null,
   "metadata": {},
   "outputs": [],
   "source": []
  }
 ],
 "metadata": {
  "jupytext": {
   "cell_metadata_filter": "-all",
   "executable": " /usr/bin/env python",
   "main_language": "python",
   "notebook_metadata_filter": "-all"
  },
  "kernelspec": {
   "display_name": "Python 3",
   "language": "python",
   "name": "python3"
  },
  "language_info": {
   "codemirror_mode": {
    "name": "ipython",
    "version": 3
   },
   "file_extension": ".py",
   "mimetype": "text/x-python",
   "name": "python",
   "nbconvert_exporter": "python",
   "pygments_lexer": "ipython3",
   "version": "3.6.7"
  },
  "latex_envs": {
   "LaTeX_envs_menu_present": true,
   "autoclose": false,
   "autocomplete": true,
   "bibliofile": "biblio.bib",
   "cite_by": "apalike",
   "current_citInitial": 1,
   "eqLabelWithNumbers": true,
   "eqNumInitial": 1,
   "hotkeys": {
    "equation": "Ctrl-E",
    "itemize": "Ctrl-I"
   },
   "labels_anchors": false,
   "latex_user_defs": false,
   "report_style_numbering": false,
   "user_envs_cfg": false
  }
 },
 "nbformat": 4,
 "nbformat_minor": 4
}
