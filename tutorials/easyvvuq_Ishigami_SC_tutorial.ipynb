{
 "cells": [
  {
   "cell_type": "markdown",
   "metadata": {},
   "source": [
    "Run an EasyVVUQ campaign to analyze the sensitivity for the Ishigami function\n",
    "\n",
    "This is done with SC."
   ]
  },
  {
   "cell_type": "code",
   "execution_count": null,
   "metadata": {
    "ExecuteTime": {
     "end_time": "2021-05-31T13:17:17.301873Z",
     "start_time": "2021-05-31T13:17:14.773311Z"
    },
    "code_folding": [
     0
    ]
   },
   "outputs": [],
   "source": [
    "# Run an EasyVVUQ campaign to analyze the sensitivity for the Ishigami function\n",
    "# This is done with SC.\n",
    "import os\n",
    "import easyvvuq as uq\n",
    "import chaospy as cp\n",
    "import pickle\n",
    "import numpy as np\n",
    "import matplotlib.pylab as plt\n",
    "import time\n",
    "import pandas as pd"
   ]
  },
  {
   "cell_type": "code",
   "execution_count": null,
   "metadata": {
    "ExecuteTime": {
     "end_time": "2021-05-31T13:17:17.305914Z",
     "start_time": "2021-05-31T13:17:17.302863Z"
    }
   },
   "outputs": [],
   "source": [
    "np.__version__"
   ]
  },
  {
   "cell_type": "code",
   "execution_count": null,
   "metadata": {
    "ExecuteTime": {
     "end_time": "2021-05-31T13:17:17.311709Z",
     "start_time": "2021-05-31T13:17:17.308370Z"
    },
    "code_folding": [
     0,
     1
    ]
   },
   "outputs": [],
   "source": [
    "# Define the Ishigami function\n",
    "def ishigamiSA(a,b):\n",
    "    '''Exact sensitivity indices of the Ishigami function for given a and b.\n",
    "    From https://openturns.github.io/openturns/master/examples/meta_modeling/chaos_ishigami.html\n",
    "    '''\n",
    "    var = 1.0/2 + a**2/8 + b*np.pi**4/5 + b**2*np.pi**8/18\n",
    "    S1 = (1.0/2 + b*np.pi**4/5+b**2*np.pi**8/50)/var\n",
    "    S2 = (a**2/8)/var\n",
    "    S3 = 0\n",
    "    S13 = b**2*np.pi**8/2*(1.0/9-1.0/25)/var\n",
    "    exact = {\n",
    "            'expectation' : a/2,\n",
    "            'variance' : var,\n",
    "            'S1' : (1.0/2 + b*np.pi**4/5+b**2*np.pi**8.0/50)/var,\n",
    "            'S2' : (a**2/8)/var,\n",
    "            'S3' : 0,\n",
    "            'S12' : 0,\n",
    "            'S23' : 0,\n",
    "            'S13' : S13,\n",
    "            'S123' : 0,\n",
    "            'ST1' : S1 + S13,\n",
    "            'ST2' : S2,\n",
    "            'ST3' : S3 + S13\n",
    "            }\n",
    "    return exact\n",
    "\n",
    "Ishigami_a = 7.0\n",
    "Ishigami_b = 0.1\n",
    "exact = ishigamiSA(Ishigami_a, Ishigami_b)"
   ]
  },
  {
   "cell_type": "code",
   "execution_count": null,
   "metadata": {
    "ExecuteTime": {
     "end_time": "2021-05-31T13:17:17.315525Z",
     "start_time": "2021-05-31T13:17:17.312952Z"
    },
    "code_folding": [
     0
    ]
   },
   "outputs": [],
   "source": [
    "# define a model to run the Ishigami code directly from python, expecting a dictionary and returning a dictionary\n",
    "def run_ishigami_model(input):\n",
    "    import Ishigami\n",
    "    qois = [\"Ishigami\"]\n",
    "    del input['out_file']\n",
    "    return {qois[0]: Ishigami.evaluate(**input)}"
   ]
  },
  {
   "cell_type": "code",
   "execution_count": null,
   "metadata": {
    "ExecuteTime": {
     "end_time": "2021-05-31T13:17:17.324614Z",
     "start_time": "2021-05-31T13:17:17.320990Z"
    },
    "code_folding": [
     0
    ]
   },
   "outputs": [],
   "source": [
    "# Define parameter space\n",
    "def define_params():\n",
    "    return {\n",
    "        \"x1\":       {\"type\": \"float\",   \"min\": -np.pi,     \"max\": np.pi,      \"default\": 0.0},\n",
    "        \"x2\":       {\"type\": \"float\",   \"min\": -np.pi,     \"max\": np.pi,      \"default\": 0.0},\n",
    "        \"x3\":       {\"type\": \"float\",   \"min\": -np.pi,     \"max\": np.pi,      \"default\": 0.0},\n",
    "        \"a\":        {\"type\": \"float\",   \"min\": Ishigami_a, \"max\": Ishigami_a, \"default\": Ishigami_a},\n",
    "        \"b\":        {\"type\": \"float\",   \"min\": Ishigami_b, \"max\": Ishigami_b, \"default\": Ishigami_b},\n",
    "        \"out_file\": {\"type\": \"string\",  \"default\": \"output.csv\"}\n",
    "    }"
   ]
  },
  {
   "cell_type": "code",
   "execution_count": null,
   "metadata": {
    "ExecuteTime": {
     "end_time": "2021-05-31T13:17:17.329756Z",
     "start_time": "2021-05-31T13:17:17.326984Z"
    },
    "code_folding": [
     0
    ]
   },
   "outputs": [],
   "source": [
    "# Define parameter space\n",
    "def define_vary():\n",
    "    return {\n",
    "        \"x1\":   cp.Uniform(-np.pi, np.pi),\n",
    "        \"x2\":   cp.Uniform(-np.pi, np.pi),\n",
    "        \"x3\":   cp.Uniform(-np.pi, np.pi)\n",
    "    }"
   ]
  },
  {
   "cell_type": "code",
   "execution_count": null,
   "metadata": {
    "ExecuteTime": {
     "end_time": "2021-05-31T13:17:17.341886Z",
     "start_time": "2021-05-31T13:17:17.335028Z"
    },
    "code_folding": [
     0
    ]
   },
   "outputs": [],
   "source": [
    "# Set up and run a campaign\n",
    "def run_campaign(sc_order=2, use_files=False):\n",
    "\n",
    "    times = np.zeros(7)\n",
    "\n",
    "    time_start = time.time()\n",
    "    time_start_whole = time_start\n",
    "\n",
    "    # Set up a fresh campaign called \"Ishigami_sc.\"\n",
    "    my_campaign = uq.Campaign(name='Ishigami_sc.')\n",
    "\n",
    "\n",
    "    # Create an encoder and decoder for SC test app\n",
    "    if use_files:\n",
    "        encoder = uq.encoders.GenericEncoder(template_fname='Ishigami.template',\n",
    "                                             delimiter='$',\n",
    "                                             target_filename='Ishigami_in.json')\n",
    "\n",
    "        decoder = uq.decoders.SimpleCSV(target_filename=\"output.csv\",\n",
    "                                        output_columns=[\"Ishigami\"])\n",
    "\n",
    "        execute = uq.actions.ExecuteLocal('python3 %s/Ishigami.py Ishigami_in.json' % (os.getcwd()))\n",
    "\n",
    "        actions = uq.actions.Actions(uq.actions.CreateRunDirectory('/tmp'), \n",
    "                          uq.actions.Encode(encoder), execute, uq.actions.Decode(decoder))\n",
    "    else:\n",
    "        actions = uq.actions.Actions(uq.actions.ExecutePython(run_ishigami_model))\n",
    "\n",
    "    # Add the app (automatically set as current app)\n",
    "    my_campaign.add_app(name=\"Ishigami\", params=define_params(), actions=actions)\n",
    "\n",
    "    # Create the sampler\n",
    "    time_end = time.time()\n",
    "    times[1] = time_end-time_start\n",
    "    print('Time for phase 1 = %.3f' % (times[1]))\n",
    "\n",
    "    time_start = time.time()\n",
    "    # Associate a sampler with the campaign\n",
    "    my_campaign.set_sampler(uq.sampling.SCSampler(vary=define_vary(), polynomial_order=sc_order))\n",
    "\n",
    "    # Will draw all (of the finite set of samples)\n",
    "    my_campaign.draw_samples()\n",
    "    print('Number of samples = %s' % my_campaign.get_active_sampler().count)\n",
    "\n",
    "    time_end = time.time()\n",
    "    times[2] = time_end-time_start\n",
    "    print('Time for phase 2 = %.3f' % (times[2]))\n",
    "\n",
    "    time_start = time.time()\n",
    "    # Run the cases\n",
    "    my_campaign.execute(sequential=True).collate(progress_bar=True)\n",
    "\n",
    "    time_end = time.time()\n",
    "    times[3] = time_end-time_start\n",
    "    print('Time for phase 3 = %.3f' % (times[3]))\n",
    "\n",
    "    time_start = time.time()\n",
    "    # Get the results\n",
    "    results_df = my_campaign.get_collation_result()\n",
    "\n",
    "    time_end = time.time()\n",
    "    times[4] = time_end-time_start\n",
    "    print('Time for phase 4 = %.3f' % (times[4]))\n",
    "\n",
    "    time_start = time.time()\n",
    "    # Post-processing analysis\n",
    "    results = my_campaign.analyse(qoi_cols=[\"Ishigami\"])\n",
    "    \n",
    "    time_end = time.time()\n",
    "    times[5] = time_end-time_start\n",
    "    print('Time for phase 5 = %.3f' % (times[5]))\n",
    "\n",
    "    time_start = time.time()\n",
    "    # Save the results\n",
    "    pickle.dump(results, open('Ishigami_results.pickle','bw'))\n",
    "    time_end = time.time()\n",
    "    times[6] = time_end-time_start\n",
    "    print('Time for phase 6 = %.3f' % (times[6]))\n",
    "\n",
    "    times[0] = time_end - time_start_whole\n",
    "\n",
    "    return results_df, results, times, sc_order, my_campaign.get_active_sampler().count"
   ]
  },
  {
   "cell_type": "code",
   "execution_count": null,
   "metadata": {
    "ExecuteTime": {
     "end_time": "2021-05-31T13:18:55.669015Z",
     "start_time": "2021-05-31T13:17:17.344840Z"
    },
    "code_folding": [
     0
    ],
    "scrolled": true
   },
   "outputs": [],
   "source": [
    "# Calculate the stochastic collocation expansion for a range of orders\n",
    "\n",
    "R = {}\n",
    "for sc_order in range(1, 21):\n",
    "    R[sc_order] = {}\n",
    "    (R[sc_order]['results_df'], \n",
    "     R[sc_order]['results'], \n",
    "     R[sc_order]['times'], \n",
    "     R[sc_order]['order'], \n",
    "     R[sc_order]['number_of_samples']) = run_campaign(sc_order=sc_order, use_files=False)"
   ]
  },
  {
   "cell_type": "code",
   "execution_count": null,
   "metadata": {
    "ExecuteTime": {
     "end_time": "2021-05-31T13:18:55.917894Z",
     "start_time": "2021-05-31T13:18:55.670121Z"
    },
    "code_folding": [
     0
    ]
   },
   "outputs": [],
   "source": [
    "# save the results\n",
    "\n",
    "pickle.dump(R, open('collected_results.pickle','bw'))"
   ]
  },
  {
   "cell_type": "code",
   "execution_count": null,
   "metadata": {
    "ExecuteTime": {
     "end_time": "2021-05-31T13:18:55.973102Z",
     "start_time": "2021-05-31T13:18:55.918800Z"
    },
    "code_folding": [
     0
    ]
   },
   "outputs": [],
   "source": [
    "# produce a table of the time taken for various phases\n",
    "# the phases are:\n",
    "#   1: creation of campaign\n",
    "#   2: creation of samples\n",
    "#   3: running the cases\n",
    "#   4: calculation of statistics including Sobols\n",
    "#   5: returning of analysed results\n",
    "#   6: saving campaign and pickled results\n",
    "\n",
    "Timings = pd.DataFrame(np.array([R[r]['times'] for r in list(R.keys())]), \n",
    "             columns=['Total', 'Phase 1', 'Phase 2', 'Phase 3', 'Phase 4', 'Phase 5', 'Phase 6'], \n",
    "             index=[R[r]['order'] for r in list(R.keys())])\n",
    "Timings.to_csv(open('Timings.csv', 'w'))\n",
    "display(Timings)"
   ]
  },
  {
   "cell_type": "code",
   "execution_count": null,
   "metadata": {
    "ExecuteTime": {
     "end_time": "2021-05-31T13:18:56.497200Z",
     "start_time": "2021-05-31T13:18:55.973815Z"
    },
    "code_folding": [
     0
    ]
   },
   "outputs": [],
   "source": [
    "# plot the convergence of the mean and standard deviation to that of the highest order\n",
    "\n",
    "mean_analytic = exact['expectation']\n",
    "std_analytic = np.sqrt(exact['variance'])\n",
    "\n",
    "O = [R[r]['order'] for r in list(R.keys())]\n",
    "plt.figure()\n",
    "plt.semilogy([o for o in O], \n",
    "             [np.abs(R[o]['results'].describe('Ishigami', 'mean') - mean_analytic) for o in O],\n",
    "             'o-', label='mean')\n",
    "plt.semilogy([o for o in O], \n",
    "             [np.abs(R[o]['results'].describe('Ishigami', 'std') - std_analytic) for o in O],\n",
    "             'o-', label='std')\n",
    "plt.xlabel('SC order')\n",
    "plt.ylabel('RMSerror compared to analytic')\n",
    "plt.legend(loc=0)\n",
    "plt.savefig('Convergence_mean_std.png')\n",
    "plt.savefig('Convergence_mean_std.pdf')"
   ]
  },
  {
   "cell_type": "code",
   "execution_count": null,
   "metadata": {
    "ExecuteTime": {
     "end_time": "2021-05-31T13:18:56.741469Z",
     "start_time": "2021-05-31T13:18:56.497892Z"
    },
    "code_folding": [
     0
    ]
   },
   "outputs": [],
   "source": [
    "# plot the convergence of the first sobol to that of the highest order\n",
    "\n",
    "sobol_first_exact = {'x1': exact['S1'], 'x2': exact['S2'], 'x3': exact['S3']}\n",
    "\n",
    "O = [R[r]['order'] for r in list(R.keys())]\n",
    "plt.figure()\n",
    "for v in list(R[O[0]]['results'].sobols_first('Ishigami').keys()):\n",
    "    plt.semilogy([o for o in O],\n",
    "                 [np.abs(R[o]['results'].sobols_first('Ishigami')[v] - sobol_first_exact[v]) for o in O],\n",
    "                 'o-',\n",
    "                 label=v)\n",
    "plt.xlabel('SC order')\n",
    "plt.ylabel('ABSerror for 1st sobol compared to analytic')\n",
    "plt.legend(loc=0)\n",
    "plt.savefig('Convergence_sobol_first.png')\n",
    "plt.savefig('Convergence_sobol_first.pdf')"
   ]
  },
  {
   "cell_type": "code",
   "execution_count": null,
   "metadata": {
    "ExecuteTime": {
     "end_time": "2021-05-31T13:18:57.594872Z",
     "start_time": "2021-05-31T13:18:56.742405Z"
    },
    "code_folding": [
     0
    ]
   },
   "outputs": [],
   "source": [
    "# prepare the test data\n",
    "test_campaign = uq.Campaign(name='Ishigami.')        \n",
    "test_campaign.add_app(name=\"Ishigami\", params=define_params(), \n",
    "                      actions=uq.actions.Actions(uq.actions.ExecutePython(run_ishigami_model)))\n",
    "test_campaign.set_sampler(uq.sampling.quasirandom.LHCSampler(vary=define_vary(), count=100))\n",
    "test_campaign.execute(nsamples=1000, sequential=True).collate(progress_bar=True)\n",
    "test_df = test_campaign.get_collation_result()"
   ]
  },
  {
   "cell_type": "code",
   "execution_count": null,
   "metadata": {
    "ExecuteTime": {
     "end_time": "2021-05-31T13:19:12.030608Z",
     "start_time": "2021-05-31T13:18:57.595643Z"
    },
    "code_folding": [
     0
    ]
   },
   "outputs": [],
   "source": [
    "# calculate the SC surrogates\n",
    "if __name__ == '__main__':\n",
    "\n",
    "    test_points = test_df[test_campaign.get_active_sampler().vary.get_keys()]\n",
    "    test_results = np.squeeze(test_df['Ishigami'].values)\n",
    "    test_predictions = {}\n",
    "    for i in list(R.keys()):\n",
    "        test_predictions[i] = np.squeeze(np.array(R[i]['results'].surrogate()(test_points)['Ishigami']))"
   ]
  },
  {
   "cell_type": "code",
   "execution_count": null,
   "metadata": {
    "ExecuteTime": {
     "end_time": "2021-05-31T13:19:12.457420Z",
     "start_time": "2021-05-31T13:19:12.033913Z"
    },
    "code_folding": [
     0
    ]
   },
   "outputs": [],
   "source": [
    "# plot the convergence of the surrogate\n",
    "if __name__ == '__main__':\n",
    "    _o = []\n",
    "    _RMS = []\n",
    "    for r in R.values():\n",
    "        _RMS.append((np.sqrt((((test_predictions[r['order']] - test_results))**2).mean())))\n",
    "        _o.append(r['order'])\n",
    "\n",
    "    plt.figure()\n",
    "    plt.semilogy(_o, _RMS, 'o-')\n",
    "    plt.xlabel('SC order')\n",
    "    plt.ylabel('RMS error for the SC surrogate')\n",
    "    plt.legend(loc=0)\n",
    "    plt.savefig('Convergence_SC_surrogate.png')\n",
    "    plt.savefig('Convergence_SC_surrogate.pdf')"
   ]
  }
 ],
 "metadata": {
  "jupytext": {
   "cell_metadata_filter": "-all",
   "executable": " /usr/bin/env python",
   "main_language": "python",
   "notebook_metadata_filter": "-all"
  },
  "kernelspec": {
   "display_name": "Python 3",
   "language": "python",
   "name": "python3"
  },
  "language_info": {
   "codemirror_mode": {
    "name": "ipython",
    "version": 3
   },
   "file_extension": ".py",
   "mimetype": "text/x-python",
   "name": "python",
   "nbconvert_exporter": "python",
   "pygments_lexer": "ipython3",
   "version": "3.9.4"
  },
  "latex_envs": {
   "LaTeX_envs_menu_present": true,
   "autoclose": false,
   "autocomplete": true,
   "bibliofile": "biblio.bib",
   "cite_by": "apalike",
   "current_citInitial": 1,
   "eqLabelWithNumbers": true,
   "eqNumInitial": 1,
   "hotkeys": {
    "equation": "Ctrl-E",
    "itemize": "Ctrl-I"
   },
   "labels_anchors": false,
   "latex_user_defs": false,
   "report_style_numbering": false,
   "user_envs_cfg": false
  }
 },
 "nbformat": 4,
 "nbformat_minor": 4
}
