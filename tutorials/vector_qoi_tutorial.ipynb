{
 "cells": [
  {
   "cell_type": "markdown",
   "id": "subject-wagon",
   "metadata": {},
   "source": [
    "# EasyVVUQ - Vector Quantities of Interest"
   ]
  },
  {
   "cell_type": "markdown",
   "id": "protective-intervention",
   "metadata": {},
   "source": [
    "**Author**: Vytautas Jancauskas, LRZ (jancauskas@lrz.de)"
   ]
  },
  {
   "cell_type": "markdown",
   "id": "elect-tract",
   "metadata": {},
   "source": [
    "It is often the case that simulation outputs are vector valued and represent changes over time in whatever phenomenon that is simulated. Here we examine how to analyse these cases with EasyVVUQ. As an example we use the following model from epidemiology - [SIR](https://en.wikipedia.org/wiki/Compartmental_models_in_epidemiology#The_SIR_model). It compartmentalises the population into the following groups: ($S$)usceptible, ($I$)nfected and ($R$)emoved. There are four input parameters to out model. They are initial number of susceptible people $S_0$, initial number of infected people $I_0$, transmission rate $\\beta$ and recovery rate $\\gamma$. The system is governed by three differential equations below. The number of suspectible people is reduced by them getting infected (and thus moving to $I$) at rate specified by $\\beta$. The number of infected people increases similarly. Finally the number of recovered people increases depending on the recovery rate and the number of people currently infected."
   ]
  },
  {
   "cell_type": "markdown",
   "id": "neither-sierra",
   "metadata": {},
   "source": [
    "$${\\frac  {dS}{dt}}=-{\\frac  {\\beta SI}{N}}$$\n",
    "\n",
    "$${\\displaystyle {\\frac {dI}{dt}}={\\frac {\\beta SI}{N}}-\\gamma I}$$\n",
    "\n",
    "$${\\displaystyle {\\frac {dR}{dt}}=\\gamma I}$$"
   ]
  },
  {
   "cell_type": "markdown",
   "id": "scientific-shareware",
   "metadata": {},
   "source": [
    "The simulation is run as shown below, where ```input_file``` is a JSON file of the following format: ```{\"outfile\": \"$outfile\", \"S0\": $S0, \"I0\": $I0, \"beta\": $beta, \"gamma\": $gamma, \"iterations\": $iterations}```"
   ]
  },
  {
   "cell_type": "markdown",
   "id": "german-upper",
   "metadata": {},
   "source": [
    "```sir <input_file>```"
   ]
  },
  {
   "cell_type": "markdown",
   "id": "religious-problem",
   "metadata": {},
   "source": [
    "Lets try and run it."
   ]
  },
  {
   "cell_type": "code",
   "execution_count": 1,
   "id": "pressed-recipe",
   "metadata": {},
   "outputs": [],
   "source": [
    "!echo \"{\\\"outfile\\\": \\\"output.csv\\\", \\\"S0\\\": 997, \\\"I0\\\": 3, \\\"beta\\\": 0.2, \\\"gamma\\\": 0.04, \\\"iterations\\\": 100}\" > input.json"
   ]
  },
  {
   "cell_type": "code",
   "execution_count": 2,
   "id": "bearing-force",
   "metadata": {},
   "outputs": [],
   "source": [
    "!./sir input.json"
   ]
  },
  {
   "cell_type": "markdown",
   "id": "organizational-framework",
   "metadata": {},
   "source": [
    "The simulation code outputs a CSV file with a specified name. We can try opening it up and printing the first 10 lines."
   ]
  },
  {
   "cell_type": "code",
   "execution_count": 3,
   "id": "according-timer",
   "metadata": {},
   "outputs": [
    {
     "name": "stdout",
     "output_type": "stream",
     "text": [
      "S,I,R,r0,t\r\n",
      "996.4018,3.47784108,0.1391136432,4982.009,1\r\n",
      "995.7087475755611,4.0312978050411745,0.300365555401647,4978.543737877805,2\r\n",
      "994.905980318425,4.672165937353743,0.4872521928957967,4974.5299015921255,3\r\n",
      "993.9763679472093,5.4140230672294996,0.7038131155849767,4969.8818397360465,4\r\n",
      "992.9001871310173,6.27247777694467,0.9547122266627635,4964.500935655087,5\r\n",
      "991.654756898651,7.2654467105291545,1.2453300950839297,4958.273784493255,6\r\n",
      "990.2140324288114,8.413460157063296,1.5818685013664615,4951.070162144058,7\r\n",
      "988.548155936764,9.739995672478827,1.9714683282656145,4942.740779683821,8\r\n",
      "986.6229648025937,11.27183768247915,2.4223418355647803,4933.11482401297,9\r\n"
     ]
    }
   ],
   "source": [
    "!head output.csv"
   ]
  },
  {
   "cell_type": "markdown",
   "id": "japanese-canvas",
   "metadata": {},
   "source": [
    "Finally lets plot the results."
   ]
  },
  {
   "cell_type": "code",
   "execution_count": 4,
   "id": "moral-booking",
   "metadata": {},
   "outputs": [],
   "source": [
    "import pandas as pd\n",
    "import matplotlib.pyplot as plt\n",
    "df = pd.read_csv('output.csv')"
   ]
  },
  {
   "cell_type": "markdown",
   "id": "introductory-cambodia",
   "metadata": {},
   "source": [
    "As we can see it shows the number of infected people increasing at first and then decreasing as the number of people who have recovered rises. Number of susceptible and recovered people also changes in a way that makes intuitive sense."
   ]
  },
  {
   "cell_type": "code",
   "execution_count": 5,
   "id": "sudden-boring",
   "metadata": {},
   "outputs": [
    {
     "data": {
      "text/plain": [
       "<matplotlib.legend.Legend at 0x1113b3d60>"
      ]
     },
     "execution_count": 5,
     "metadata": {},
     "output_type": "execute_result"
    },
    {
     "data": {
      "image/png": "[encoded data removed]",
      "text/plain": [
       "<Figure size 432x288 with 1 Axes>"
      ]
     },
     "metadata": {
      "needs_background": "light"
     },
     "output_type": "display_data"
    }
   ],
   "source": [
    "plt.plot(df['S'], label='S')\n",
    "plt.plot(df['I'], label='I')\n",
    "plt.plot(df['R'], label='R')\n",
    "plt.legend()"
   ]
  },
  {
   "cell_type": "markdown",
   "id": "collectible-bread",
   "metadata": {},
   "source": [
    "So let us see what EasyVVUQ can tell us about the distribution of the number of infected people over time. We will not go into the details of the EasyVVUQ API this time. Only where it differs from the [basic concepts](./basic_tutorial.ipynb) tutorial."
   ]
  },
  {
   "cell_type": "code",
   "execution_count": 6,
   "id": "flexible-password",
   "metadata": {},
   "outputs": [],
   "source": [
    "import easyvvuq as uq\n",
    "import chaospy as cp\n",
    "import os\n",
    "import matplotlib.pyplot as plt"
   ]
  },
  {
   "cell_type": "code",
   "execution_count": 7,
   "id": "victorian-dallas",
   "metadata": {},
   "outputs": [],
   "source": [
    "params = {\n",
    "    \"S0\": {\"type\": \"float\", \"default\": 997}, \n",
    "    \"I0\": {\"type\": \"float\", \"default\": 3}, \n",
    "    \"beta\": {\"type\": \"float\", \"default\": 0.2}, \n",
    "    \"gamma\": {\"type\": \"float\", \"default\": 0.04, \"min\": 0.0, \"max\": 1.0},\n",
    "    \"iterations\": {\"type\": \"integer\", \"default\": 100},\n",
    "    \"outfile\": {\"type\": \"string\", \"default\": \"output.csv\"}\n",
    "}"
   ]
  },
  {
   "cell_type": "markdown",
   "id": "meaning-berry",
   "metadata": {},
   "source": [
    "Encoder is the same as in the basic concepts tutorial, essentially. However, since the simulation outputs a CSV file with the evolution of output variables over time we want the ```SimpleCSV``` decoder. The arguments to it should be self explanatory."
   ]
  },
  {
   "cell_type": "code",
   "execution_count": 8,
   "id": "owned-preliminary",
   "metadata": {},
   "outputs": [],
   "source": [
    "encoder = uq.encoders.GenericEncoder(template_fname='sir.template', delimiter='$', target_filename='input.json')\n",
    "decoder = uq.decoders.SimpleCSV(target_filename='output.csv', output_columns=['I'])\n",
    "actions = uq.actions.local_execute(encoder, os.path.abspath('sir') + ' input.json', decoder)"
   ]
  },
  {
   "cell_type": "code",
   "execution_count": 9,
   "id": "neutral-marina",
   "metadata": {},
   "outputs": [],
   "source": [
    "campaign = uq.Campaign(name='sir', params=params, actions=actions)"
   ]
  },
  {
   "cell_type": "markdown",
   "id": "searching-interpretation",
   "metadata": {},
   "source": [
    "We assume that the infection rate $\\beta$ is uniformly distributed between 0.15 and 0.25 and the recovery rate $\\gamma$ is normally distributed with mean 0.04 and small variance."
   ]
  },
  {
   "cell_type": "code",
   "execution_count": 10,
   "id": "native-order",
   "metadata": {},
   "outputs": [],
   "source": [
    "vary = {\n",
    "    \"beta\": cp.Uniform(0.15, 0.25),\n",
    "    \"gamma\": cp.Normal(0.04, 0.01),\n",
    "}"
   ]
  },
  {
   "cell_type": "markdown",
   "id": "engaging-spoke",
   "metadata": {},
   "source": [
    "For this tutorial we will use Polynomial Chaos Expansion method. However, both [SCSampler](https://easyvvuq.readthedocs.io/en/dev/easyvvuq.sampling.html#module-easyvvuq.sampling.stochastic_collocation) and [QMCSampler](https://easyvvuq.readthedocs.io/en/dev/easyvvuq.sampling.html#module-easyvvuq.sampling.qmc) would work as well and might be preferable depending on the case."
   ]
  },
  {
   "cell_type": "code",
   "execution_count": 11,
   "id": "cosmetic-stake",
   "metadata": {},
   "outputs": [],
   "source": [
    "campaign.set_sampler(uq.sampling.PCESampler(vary=vary, polynomial_order=5))"
   ]
  },
  {
   "cell_type": "code",
   "execution_count": 12,
   "id": "governing-warrant",
   "metadata": {},
   "outputs": [],
   "source": [
    "execution = campaign.execute()"
   ]
  },
  {
   "cell_type": "code",
   "execution_count": 13,
   "id": "junior-proxy",
   "metadata": {},
   "outputs": [
    {
     "data": {
      "text/plain": [
       "{'ready': 28, 'active': 8, 'finished': 0, 'failed': 0}"
      ]
     },
     "execution_count": 13,
     "metadata": {},
     "output_type": "execute_result"
    }
   ],
   "source": [
    "execution.progress()"
   ]
  },
  {
   "cell_type": "code",
   "execution_count": 14,
   "id": "regulated-semester",
   "metadata": {},
   "outputs": [],
   "source": [
    "execution.collate()\n",
    "result = campaign.analyse(qoi_cols=['I'])"
   ]
  },
  {
   "cell_type": "markdown",
   "id": "descending-resident",
   "metadata": {},
   "source": [
    "We can now see the results of the analysis. One thing to try would be to plot the first order sobol indices over time. This shows us how much influence the two parameters (```beta``` and ```gamma```) have over the number of people infected over time ```t```. The ```higher orders``` line is meant to represent the influence of the interactions between the input variables. However it is negligible in this case."
   ]
  },
  {
   "cell_type": "code",
   "execution_count": 15,
   "id": "pressing-sister",
   "metadata": {},
   "outputs": [
    {
     "data": {
      "text/plain": [
       "<AxesSubplot:xlabel='t', ylabel='First Order Sobol Index'>"
      ]
     },
     "execution_count": 15,
     "metadata": {},
     "output_type": "execute_result"
    },
    {
     "data": {
      "image/png": "[encoded data removed]",
      "text/plain": [
       "<Figure size 432x288 with 1 Axes>"
      ]
     },
     "metadata": {
      "needs_background": "light"
     },
     "output_type": "display_data"
    }
   ],
   "source": [
    "result.plot_sobols_first('I', xlabel='t')"
   ]
  },
  {
   "cell_type": "markdown",
   "id": "exposed-paraguay",
   "metadata": {},
   "source": [
    "Finally we can try and visualize certain aspects of the distribution for our quantity of interest (number of infected people) over time. In this plot we will plot the mean value, standard deviation and 0.01 and 0.99 quantiles. This is with respect to the input variable distributions we have specified in the ```vary``` dictionary."
   ]
  },
  {
   "cell_type": "code",
   "execution_count": 16,
   "id": "corrected-titanium",
   "metadata": {},
   "outputs": [
    {
     "data": {
      "text/plain": [
       "<AxesSubplot:xlabel='t', ylabel='I'>"
      ]
     },
     "execution_count": 16,
     "metadata": {},
     "output_type": "execute_result"
    },
    {
     "data": {
      "image/png": "[encoded data removed]",
      "text/plain": [
       "<Figure size 432x288 with 1 Axes>"
      ]
     },
     "metadata": {
      "needs_background": "light"
     },
     "output_type": "display_data"
    }
   ],
   "source": [
    "result.plot_moments('I', xlabel='t')"
   ]
  },
  {
   "cell_type": "markdown",
   "id": "overhead-wright",
   "metadata": {},
   "source": [
    "If you want to access all of this data for processing you can use the following methods. Due to large output I have not evaluated these cells."
   ]
  },
  {
   "cell_type": "code",
   "execution_count": 17,
   "id": "destroyed-darkness",
   "metadata": {},
   "outputs": [
    {
     "data": {
      "text/plain": [
       "{'beta': array([0.89204991, 0.89185266, 0.89149001, 0.89096097, 0.89026466,\n",
       "        0.88940042, 0.88836788, 0.88716713, 0.88579887, 0.88426465,\n",
       "        0.88256715, 0.88071051, 0.87870074, 0.87654612, 0.87425765,\n",
       "        0.87184944, 0.86933898, 0.86674715, 0.86409788, 0.8614171 ,\n",
       "        0.85873111, 0.85606382, 0.85343316, 0.85084649, 0.84829549,\n",
       "        0.84575091, 0.84315795, 0.84043276, 0.83746062, 0.83409584,\n",
       "        0.83016322, 0.82546019, 0.81975914, 0.81280885, 0.80433458,\n",
       "        0.7940368 , 0.78158862, 0.76663314, 0.74878204, 0.72761773,\n",
       "        0.7027023 , 0.67359755, 0.63990145, 0.60130728, 0.55769073,\n",
       "        0.50922621, 0.45652411, 0.40076392, 0.34377714, 0.28801728,\n",
       "        0.23636068, 0.19172748, 0.15659244, 0.13253095, 0.11995903,\n",
       "        0.11815331, 0.12551813, 0.13997798, 0.15935905, 0.18167041,\n",
       "        0.20525921, 0.22885867, 0.25156611, 0.272786  , 0.29216284,\n",
       "        0.30951812, 0.32479749, 0.33802971, 0.34929615, 0.35870914,\n",
       "        0.366397  , 0.37249406, 0.37713427, 0.38044717, 0.38255565,\n",
       "        0.38357479, 0.38361138, 0.38276395, 0.38112306, 0.37877176,\n",
       "        0.37578605, 0.37223548, 0.36818363, 0.36368866, 0.35880377,\n",
       "        0.3535776 , 0.34805468, 0.34227574, 0.33627808, 0.33009582,\n",
       "        0.32376017, 0.31729967, 0.3107404 , 0.30410619, 0.29741875,\n",
       "        0.29069789, 0.28396159, 0.27722619, 0.27050651, 0.26381593]),\n",
       " 'gamma': array([0.10795009, 0.108081  , 0.1082452 , 0.10844475, 0.10868198,\n",
       "        0.10895947, 0.10928011, 0.10964712, 0.11006411, 0.11053511,\n",
       "        0.1110646 , 0.11165763, 0.11231979, 0.11305739, 0.11387752,\n",
       "        0.11478817, 0.11579846, 0.11691886, 0.11816155, 0.11954088,\n",
       "        0.12107397, 0.12278152, 0.12468883, 0.12682701, 0.12923442,\n",
       "        0.13195833, 0.13505678, 0.13860045, 0.14267476, 0.14738191,\n",
       "        0.15284307, 0.15920061, 0.16662051, 0.17529499, 0.18544537,\n",
       "        0.19732504, 0.21122225, 0.22746203, 0.24640622, 0.26844958,\n",
       "        0.29400941, 0.32350472, 0.35731988, 0.39574695, 0.43890161,\n",
       "        0.48661152, 0.53828507, 0.59278447, 0.64834747, 0.70261752,\n",
       "        0.75283613, 0.79620725, 0.8303664 , 0.85381512, 0.86616865,\n",
       "        0.86813485, 0.86125663, 0.84753487, 0.8290625 , 0.80775511,\n",
       "        0.78520285, 0.76262477, 0.74089032, 0.72057421, 0.70202081,\n",
       "        0.68540466, 0.67078107, 0.65812541, 0.64736233, 0.63838646,\n",
       "        0.63107668, 0.62530575, 0.6209464 , 0.61787514, 0.61597451,\n",
       "        0.6151342 , 0.61525151, 0.61623137, 0.61798614, 0.62043516,\n",
       "        0.62350436, 0.62712574, 0.63123693, 0.6357807 , 0.64070456,\n",
       "        0.64596039, 0.65150402, 0.65729496, 0.66329612, 0.66947349,\n",
       "        0.67579593, 0.68223496, 0.68876457, 0.69536099, 0.70200259,\n",
       "        0.70866968, 0.71534439, 0.72201054, 0.7286535 , 0.73526013])}"
      ]
     },
     "execution_count": 17,
     "metadata": {},
     "output_type": "execute_result"
    }
   ],
   "source": [
    "result.sobols_first('I')"
   ]
  },
  {
   "cell_type": "code",
   "execution_count": 18,
   "id": "contrary-wound",
   "metadata": {},
   "outputs": [
    {
     "data": {
      "text/plain": [
       "array([  3.4778336 ,   4.03404206,   4.68171534,   5.43612205,\n",
       "         6.31505352,   7.3392123 ,   8.5326462 ,   9.92322633,\n",
       "        11.54316403,  13.42955585,  15.62493745,  18.17781631,\n",
       "        21.14313804,  24.58262204,  28.56487862,  33.16519322,\n",
       "        38.46483541,  44.54972656,  51.50828773,  59.42829956,\n",
       "        68.39265292,  78.47396641,  89.72820311, 102.18763148,\n",
       "       115.85371859, 130.69076976, 146.62126765, 163.52384337,\n",
       "       181.23458606, 199.55197143, 218.24513987, 237.06470706,\n",
       "       255.75488712, 274.06555177, 291.76296652, 308.63828094,\n",
       "       324.51329838, 339.24349061, 352.71856713, 364.86111453,\n",
       "       375.62389166, 384.98633302, 392.95071792, 399.53834415,\n",
       "       404.78592878, 408.74236162, 411.46586385, 413.02155449,\n",
       "       413.47939812, 412.91249216, 411.39564756, 409.00421782,\n",
       "       405.81313627, 401.89612761, 397.32506563, 392.16945484,\n",
       "       386.49601832, 380.36837781, 373.84681454, 366.98810159,\n",
       "       359.84539945, 352.46820727, 344.90236319, 337.19008678,\n",
       "       329.37005755, 321.47752329, 313.54443255, 305.5995859 ,\n",
       "       297.66880097, 289.77508687, 281.93882404, 274.17794602,\n",
       "       266.50812042, 258.94292658, 251.49402806, 244.17133841,\n",
       "       236.98317926, 229.93642984, 223.0366674 , 216.28829859,\n",
       "       209.69468132, 203.25823762, 196.98055751, 190.86249422,\n",
       "       184.9042513 , 179.10546191, 173.46526081, 167.98234963,\n",
       "       162.6550557 , 157.4813851 , 152.45907035, 147.58561312,\n",
       "       142.85832243, 138.27434872, 133.83071424, 129.52433996,\n",
       "       125.35206945, 121.31068996, 117.396951  , 113.60758069])"
      ]
     },
     "execution_count": 18,
     "metadata": {},
     "output_type": "execute_result"
    }
   ],
   "source": [
    "result.describe('I', 'mean')"
   ]
  },
  {
   "cell_type": "code",
   "execution_count": 19,
   "id": "biblical-saint",
   "metadata": {},
   "outputs": [
    {
     "data": {
      "text/plain": [
       "array([9.13081930e-02, 2.11560354e-01, 3.67777061e-01, 5.68492124e-01,\n",
       "       8.24044420e-01, 1.14691458e+00, 1.55210823e+00, 2.05758473e+00,\n",
       "       2.68472560e+00, 3.45882970e+00, 4.40961189e+00, 5.57166667e+00,\n",
       "       6.98483857e+00, 8.69441463e+00, 1.07510228e+01, 1.32100846e+01,\n",
       "       1.61306351e+01, 1.95733000e+01, 2.35972171e+01, 2.82557340e+01,\n",
       "       3.35908224e+01, 3.96263450e+01, 4.63605930e+01, 5.37588577e+01,\n",
       "       6.17471385e+01, 7.02083075e+01, 7.89820280e+01, 8.78693628e+01,\n",
       "       9.66423075e+01, 1.05057574e+02, 1.12873064e+02, 1.19864881e+02,\n",
       "       1.25842595e+02, 1.30660906e+02, 1.34226572e+02, 1.36500409e+02,\n",
       "       1.37494923e+02, 1.37268669e+02, 1.35918592e+02, 1.33571532e+02,\n",
       "       1.30375825e+02, 1.26493586e+02, 1.22094009e+02, 1.17347705e+02,\n",
       "       1.12421962e+02, 1.07476667e+02, 1.02660572e+02, 9.81076004e+01,\n",
       "       9.39330242e+01, 9.02295425e+01, 8.70636263e+01, 8.44728002e+01,\n",
       "       8.24646905e+01, 8.10185006e+01, 8.00890700e+01, 7.96129967e+01,\n",
       "       7.95157804e+01, 7.97187921e+01, 8.01451251e+01, 8.07238318e+01,\n",
       "       8.13924958e+01, 8.20983823e+01, 8.27985372e+01, 8.34592011e+01,\n",
       "       8.40548441e+01, 8.45670392e+01, 8.49833179e+01, 8.52960937e+01,\n",
       "       8.55016939e+01, 8.55995188e+01, 8.55913271e+01, 8.54806402e+01,\n",
       "       8.52722529e+01, 8.49718369e+01, 8.45856236e+01, 8.41201536e+01,\n",
       "       8.35820817e+01, 8.29780275e+01, 8.23144641e+01, 8.15976363e+01,\n",
       "       8.08335031e+01, 8.00277000e+01, 7.91855163e+01, 7.83118844e+01,\n",
       "       7.74113774e+01, 7.64882151e+01, 7.55462733e+01, 7.45890979e+01,\n",
       "       7.36199211e+01, 7.26416791e+01, 7.16570304e+01, 7.06683749e+01,\n",
       "       6.96778727e+01, 6.86874620e+01, 6.76988771e+01, 6.67136650e+01,\n",
       "       6.57332016e+01, 6.47587064e+01, 6.37912566e+01, 6.28318001e+01])"
      ]
     },
     "execution_count": 19,
     "metadata": {},
     "output_type": "execute_result"
    }
   ],
   "source": [
    "result.describe('I', 'std')"
   ]
  },
  {
   "cell_type": "code",
   "execution_count": 20,
   "id": "demanding-quick",
   "metadata": {},
   "outputs": [
    {
     "data": {
      "text/plain": [
       "array([  3.30235235,   3.63489887,   4.00058741,   4.40256184,\n",
       "         4.84436679,   5.32983094,   5.86315227,   6.44949237,\n",
       "         7.0935136 ,   7.80069045,   8.57697559,   9.42828164,\n",
       "        10.36158891,  11.38457182,  12.5052746 ,  13.73233789,\n",
       "        15.07501396,  16.54317631,  18.14732475,  19.89858976,\n",
       "        21.80874305,  23.8902243 ,  26.15619359,  28.62061082,\n",
       "        31.29922579,  34.21206373,  37.36766348,  40.78096433,\n",
       "        44.46842303,  48.45976332,  52.76070426,  57.38130132,\n",
       "        62.32707696,  67.5986901 ,  73.25727661,  79.31544088,\n",
       "        85.59772559,  92.2547769 ,  98.77430766, 106.01292792,\n",
       "       113.40319183, 121.11541767, 129.32612548, 137.42818478,\n",
       "       145.26672006, 153.76060538, 162.11018146, 170.7996864 ,\n",
       "       179.49660055, 188.13011761, 196.5917868 , 204.90248634,\n",
       "       212.21816201, 218.10267522, 225.26557688, 230.57799097,\n",
       "       230.74811923, 228.92846718, 223.62900084, 215.68396738,\n",
       "       207.72935345, 200.57889309, 192.07489609, 183.66172989,\n",
       "       175.19731467, 166.9369667 , 158.94491377, 151.54669706,\n",
       "       144.57761197, 137.43497119, 130.57745315, 124.06842958,\n",
       "       117.95657509, 112.199767  , 106.63385714, 101.31071528,\n",
       "        96.16893919,  91.41988296,  86.81912807,  82.43785345,\n",
       "        78.19236161,  74.03939838,  70.09498455,  66.40840221,\n",
       "        62.95289618,  59.66756731,  56.54836208,  53.58635418,\n",
       "        50.77417676,  48.12145037,  45.6143273 ,  43.2022758 ,\n",
       "        40.88604475,  38.72209679,  36.66948472,  34.72270652,\n",
       "        32.87650491,  31.12585999,  29.46598153,  27.89230111])"
      ]
     },
     "execution_count": 20,
     "metadata": {},
     "output_type": "execute_result"
    }
   ],
   "source": [
    "result.describe('I', '1%')"
   ]
  },
  {
   "cell_type": "code",
   "execution_count": 21,
   "id": "distinguished-greene",
   "metadata": {},
   "outputs": [
    {
     "data": {
      "text/plain": [
       "array([  3.65665739,   4.45621619,   5.4293716 ,   6.61321736,\n",
       "         8.05256891,   9.80225682,  11.92691275,  14.50439916,\n",
       "        17.62755836,  21.40355045,  25.95861661,  31.44366996,\n",
       "        38.03031483,  45.91348078,  55.3013564 ,  66.41277786,\n",
       "        79.50572162,  94.96325304, 112.87055906, 133.38513116,\n",
       "       156.93003215, 183.24063607, 212.54573376, 244.54453704,\n",
       "       278.43005349, 314.72748257, 352.08573722, 389.81466396,\n",
       "       426.56266418, 461.48540848, 494.47389612, 524.32844113,\n",
       "       552.25320405, 574.11840749, 592.52376174, 606.85780191,\n",
       "       619.15077033, 626.51135857, 633.35034837, 639.22030499,\n",
       "       643.84021375, 647.66277403, 649.06407314, 647.6465262 ,\n",
       "       643.63518622, 641.81076539, 641.12661692, 637.62572754,\n",
       "       635.8326947 , 632.71035205, 631.85723816, 629.04035653,\n",
       "       625.82148442, 621.84078161, 618.36290138, 612.60851712,\n",
       "       608.18696343, 602.64511767, 596.30282111, 589.4112361 ,\n",
       "       583.5726674 , 578.0000997 , 573.04138449, 565.708495  ,\n",
       "       558.25262589, 551.79868492, 543.87710194, 536.36474842,\n",
       "       529.1967463 , 522.18697542, 514.80821424, 507.2367523 ,\n",
       "       499.67972278, 492.80182073, 485.02617088, 477.49815681,\n",
       "       469.88642092, 462.18472762, 454.58502375, 447.60278617,\n",
       "       440.48194969, 433.10423155, 425.37390684, 417.65465273,\n",
       "       409.96119527, 403.12938201, 397.43628123, 391.08444515,\n",
       "       385.63928344, 379.82042273, 373.06460666, 366.82296266,\n",
       "       359.96231255, 353.20621967, 346.69656852, 340.24018317,\n",
       "       334.76504302, 329.17666339, 323.52895813, 318.31255828])"
      ]
     },
     "execution_count": 21,
     "metadata": {},
     "output_type": "execute_result"
    }
   ],
   "source": [
    "result.describe('I', '99%')"
   ]
  }
 ],
 "metadata": {
  "kernelspec": {
   "display_name": "Python 3",
   "language": "python",
   "name": "python3"
  },
  "language_info": {
   "codemirror_mode": {
    "name": "ipython",
    "version": 3
   },
   "file_extension": ".py",
   "mimetype": "text/x-python",
   "name": "python",
   "nbconvert_exporter": "python",
   "pygments_lexer": "ipython3",
   "version": "3.8.6"
  }
 },
 "nbformat": 4,
 "nbformat_minor": 5
}
