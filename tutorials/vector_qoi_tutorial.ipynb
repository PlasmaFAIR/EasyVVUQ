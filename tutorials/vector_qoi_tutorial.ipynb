{
 "cells": [
  {
   "cell_type": "markdown",
   "id": "subject-wagon",
   "metadata": {},
   "source": [
    "# EasyVVUQ - Vector Quantities of Interest"
   ]
  },
  {
   "cell_type": "markdown",
   "id": "protective-intervention",
   "metadata": {},
   "source": [
    "**Author**: Vytautas Jancauskas, LRZ (jancauskas@lrz.de)"
   ]
  },
  {
   "cell_type": "markdown",
   "id": "elect-tract",
   "metadata": {},
   "source": [
    "It is often the case that simulation outputs are vector valued and represent changes over time in whatever phenomenon that is simulated. Here we examine how to analyse these cases with EasyVVUQ. As an example we use the following model from epidemiology - [SIR](https://en.wikipedia.org/wiki/Compartmental_models_in_epidemiology#The_SIR_model). It compartmentalises the population into the following groups: ($S$)usceptible, ($I$)nfected and ($R$)emoved. There are four input parameters to out model. They are initial number of susceptible people $S_0$, initial number of infected people $I_0$, transmission rate $\\beta$ and recovery rate $\\gamma$. The system is governed by three differential equations below. The number of suspectible people is reduced by them getting infected (and thus moving to $I$) at rate specified by $\\beta$. The number of infected people increases similarly. Finally the number of recovered people increases depending on the recovery rate and the number of people currently infected."
   ]
  },
  {
   "cell_type": "markdown",
   "id": "neither-sierra",
   "metadata": {},
   "source": [
    "$${\\frac  {dS}{dt}}=-{\\frac  {\\beta SI}{N}}$$\n",
    "\n",
    "$${\\displaystyle {\\frac {dI}{dt}}={\\frac {\\beta SI}{N}}-\\gamma I}$$\n",
    "\n",
    "$${\\displaystyle {\\frac {dR}{dt}}=\\gamma I}$$"
   ]
  },
  {
   "cell_type": "markdown",
   "id": "scientific-shareware",
   "metadata": {},
   "source": [
    "The simulation is run as shown below, where ```input_file``` is a JSON file of the following format: ```{\"outfile\": \"$outfile\", \"S0\": $S0, \"I0\": $I0, \"beta\": $beta, \"gamma\": $gamma, \"iterations\": $iterations}```"
   ]
  },
  {
   "cell_type": "markdown",
   "id": "german-upper",
   "metadata": {},
   "source": [
    "```sir <input_file>```"
   ]
  },
  {
   "cell_type": "markdown",
   "id": "religious-problem",
   "metadata": {},
   "source": [
    "Lets try and run it."
   ]
  },
  {
   "cell_type": "code",
   "execution_count": 1,
   "id": "pressed-recipe",
   "metadata": {},
   "outputs": [],
   "source": [
    "!echo \"{\\\"outfile\\\": \\\"output.csv\\\", \\\"S0\\\": 997, \\\"I0\\\": 3, \\\"beta\\\": 0.2, \\\"gamma\\\": 0.04, \\\"iterations\\\": 100}\" > input.json"
   ]
  },
  {
   "cell_type": "code",
   "execution_count": 2,
   "id": "bearing-force",
   "metadata": {},
   "outputs": [],
   "source": [
    "!./sir input.json"
   ]
  },
  {
   "cell_type": "markdown",
   "id": "organizational-framework",
   "metadata": {},
   "source": [
    "The simulation code outputs a CSV file with a specified name. We can try opening it up and printing the first 10 lines."
   ]
  },
  {
   "cell_type": "code",
   "execution_count": 3,
   "id": "according-timer",
   "metadata": {},
   "outputs": [
    {
     "name": "stdout",
     "output_type": "stream",
     "text": [
      "S,I,R,r0,t\r\n",
      "996.4018,3.47784108,0.1391136432,4982.009,1\r\n",
      "995.7087475755611,4.0312978050411745,0.300365555401647,4978.543737877805,2\r\n",
      "994.905980318425,4.672165937353743,0.4872521928957967,4974.5299015921255,3\r\n",
      "993.9763679472093,5.4140230672294996,0.7038131155849767,4969.8818397360465,4\r\n",
      "992.9001871310173,6.27247777694467,0.9547122266627635,4964.500935655087,5\r\n",
      "991.654756898651,7.2654467105291545,1.2453300950839297,4958.273784493255,6\r\n",
      "990.2140324288114,8.413460157063296,1.5818685013664615,4951.070162144058,7\r\n",
      "988.548155936764,9.739995672478827,1.9714683282656145,4942.740779683821,8\r\n",
      "986.6229648025937,11.27183768247915,2.4223418355647803,4933.11482401297,9\r\n"
     ]
    }
   ],
   "source": [
    "!head output.csv"
   ]
  },
  {
   "cell_type": "markdown",
   "id": "japanese-canvas",
   "metadata": {},
   "source": [
    "Finally lets plot the results."
   ]
  },
  {
   "cell_type": "code",
   "execution_count": 4,
   "id": "moral-booking",
   "metadata": {},
   "outputs": [],
   "source": [
    "import pandas as pd\n",
    "import matplotlib.pyplot as plt\n",
    "df = pd.read_csv('output.csv')"
   ]
  },
  {
   "cell_type": "markdown",
   "id": "introductory-cambodia",
   "metadata": {},
   "source": [
    "As we can see it shows the number of infected people increasing at first and then decreasing as the number of people who have recovered rises. Number of susceptible and recovered people also changes in a way that makes intuitive sense."
   ]
  },
  {
   "cell_type": "code",
   "execution_count": 5,
   "id": "sudden-boring",
   "metadata": {},
   "outputs": [
    {
     "data": {
      "text/plain": [
       "<matplotlib.legend.Legend at 0x11dd68d00>"
      ]
     },
     "execution_count": 5,
     "metadata": {},
     "output_type": "execute_result"
    },
    {
     "data": {
      "image/png": "[encoded data removed]",
      "text/plain": [
       "<Figure size 432x288 with 1 Axes>"
      ]
     },
     "metadata": {
      "needs_background": "light"
     },
     "output_type": "display_data"
    }
   ],
   "source": [
    "plt.plot(df['S'], label='S')\n",
    "plt.plot(df['I'], label='I')\n",
    "plt.plot(df['R'], label='R')\n",
    "plt.legend()"
   ]
  },
  {
   "cell_type": "markdown",
   "id": "collectible-bread",
   "metadata": {},
   "source": [
    "So let us see what EasyVVUQ can tell us about the distribution of the number of infected people over time. We will not go into the details of the EasyVVUQ API this time. Only where it differs from the [basic concepts](./basic_tutorial.ipynb) tutorial."
   ]
  },
  {
   "cell_type": "code",
   "execution_count": 6,
   "id": "flexible-password",
   "metadata": {},
   "outputs": [],
   "source": [
    "import easyvvuq as uq\n",
    "import chaospy as cp\n",
    "import matplotlib.pyplot as plt"
   ]
  },
  {
   "cell_type": "code",
   "execution_count": 7,
   "id": "victorian-dallas",
   "metadata": {},
   "outputs": [],
   "source": [
    "params = {\n",
    "    \"S0\": {\"type\": \"float\", \"default\": 997}, \n",
    "    \"I0\": {\"type\": \"float\", \"default\": 3}, \n",
    "    \"beta\": {\"type\": \"float\", \"default\": 0.2}, \n",
    "    \"gamma\": {\"type\": \"float\", \"default\": 0.04, \"min\": 0.0, \"max\": 1.0},\n",
    "    \"iterations\": {\"type\": \"integer\", \"default\": 100},\n",
    "    \"outfile\": {\"type\": \"string\", \"default\": \"output.csv\"}\n",
    "}"
   ]
  },
  {
   "cell_type": "markdown",
   "id": "meaning-berry",
   "metadata": {},
   "source": [
    "Encoder is the same as in the basic concepts tutorial, essentially. However, since the simulation outputs a CSV file with the evolution of output variables over time we want the ```SimpleCSV``` decoder. The arguments to it should be self explanatory."
   ]
  },
  {
   "cell_type": "code",
   "execution_count": 8,
   "id": "owned-preliminary",
   "metadata": {},
   "outputs": [],
   "source": [
    "encoder = uq.encoders.GenericEncoder(template_fname='sir.template', delimiter='$', target_filename='input.json')\n",
    "decoder = uq.decoders.SimpleCSV(target_filename='output.csv', output_columns=['I'])"
   ]
  },
  {
   "cell_type": "code",
   "execution_count": 9,
   "id": "neutral-marina",
   "metadata": {},
   "outputs": [],
   "source": [
    "campaign = uq.Campaign(name='sir', params=params, encoder=encoder, decoder=decoder)"
   ]
  },
  {
   "cell_type": "markdown",
   "id": "searching-interpretation",
   "metadata": {},
   "source": [
    "We assume that the infection rate $\\beta$ is uniformly distributed between 0.15 and 0.25 and the recovery rate $\\gamma$ is normally distributed with mean 0.04 and small variance."
   ]
  },
  {
   "cell_type": "code",
   "execution_count": 10,
   "id": "native-order",
   "metadata": {},
   "outputs": [],
   "source": [
    "vary = {\n",
    "    \"beta\": cp.Uniform(0.15, 0.25),\n",
    "    \"gamma\": cp.Normal(0.04, 0.01),\n",
    "}"
   ]
  },
  {
   "cell_type": "markdown",
   "id": "engaging-spoke",
   "metadata": {},
   "source": [
    "For this tutorial we will use Polynomial Chaos Expansion method. However, both [SCSampler](https://easyvvuq.readthedocs.io/en/dev/easyvvuq.sampling.html#module-easyvvuq.sampling.stochastic_collocation) and [QMCSampler](https://easyvvuq.readthedocs.io/en/dev/easyvvuq.sampling.html#module-easyvvuq.sampling.qmc) would work as well and might be preferable depending on the case."
   ]
  },
  {
   "cell_type": "code",
   "execution_count": 11,
   "id": "cosmetic-stake",
   "metadata": {},
   "outputs": [],
   "source": [
    "campaign.set_sampler(uq.sampling.PCESampler(vary=vary, polynomial_order=5))"
   ]
  },
  {
   "cell_type": "code",
   "execution_count": null,
   "id": "initial-hurricane",
   "metadata": {},
   "outputs": [],
   "source": [
    "actions = [\n",
    "    CreateRunDirectory('/tmp'), \n",
    "    TemplateEncoder(template_fname='sir.template', delimiter='$', target_filename='input.json'), \n",
    "    ExecuteLocal('sir input.json'),\n",
    "    CSVDecoder(target_filename='output.csv', output_columns=['I']),\n",
    "    CleanUp()\n",
    "]\n",
    "campaign.add_app('sir', actions)\n",
    "campaign.execute().collate()"
   ]
  },
  {
   "cell_type": "code",
   "execution_count": 12,
   "id": "governing-warrant",
   "metadata": {},
   "outputs": [],
   "source": [
    "execution = campaign.sample_and_apply(action=uq.actions.ExecuteLocalV2(\"sir input.json\"), batch_size=8).start()"
   ]
  },
  {
   "cell_type": "code",
   "execution_count": 17,
   "id": "junior-proxy",
   "metadata": {},
   "outputs": [
    {
     "data": {
      "text/plain": [
       "{'ready': 0, 'active': 0, 'finished': 36, 'failed': 0}"
      ]
     },
     "execution_count": 17,
     "metadata": {},
     "output_type": "execute_result"
    }
   ],
   "source": [
    "execution.progress()"
   ]
  },
  {
   "cell_type": "code",
   "execution_count": 18,
   "id": "regulated-semester",
   "metadata": {},
   "outputs": [],
   "source": [
    "result = campaign.analyse(qoi_cols=['I'])"
   ]
  },
  {
   "cell_type": "markdown",
   "id": "descending-resident",
   "metadata": {},
   "source": [
    "We can now see the results of the analysis. One thing to try would be to plot the first order sobol indices over time. This shows us how much influence the two parameters (```beta``` and ```gamma```) have over the number of people infected over time ```t```. The ```higher orders``` line is meant to represent the influence of the interactions between the input variables. However it is negligible in this case."
   ]
  },
  {
   "cell_type": "code",
   "execution_count": 19,
   "id": "pressing-sister",
   "metadata": {},
   "outputs": [
    {
     "data": {
      "text/plain": [
       "<AxesSubplot:xlabel='t', ylabel='First Order Sobol Index'>"
      ]
     },
     "execution_count": 19,
     "metadata": {},
     "output_type": "execute_result"
    },
    {
     "data": {
      "image/png": "[encoded data removed]",
      "text/plain": [
       "<Figure size 432x288 with 1 Axes>"
      ]
     },
     "metadata": {
      "needs_background": "light"
     },
     "output_type": "display_data"
    }
   ],
   "source": [
    "result.plot_sobols_first('I', xlabel='t')"
   ]
  },
  {
   "cell_type": "markdown",
   "id": "exposed-paraguay",
   "metadata": {},
   "source": [
    "Finally we can try and visualize certain aspects of the distribution for our quantity of interest (number of infected people) over time. In this plot we will plot the mean value, standard deviation and 0.01 and 0.99 quantiles. This is with respect to the input variable distributions we have specified in the ```vary``` dictionary."
   ]
  },
  {
   "cell_type": "code",
   "execution_count": 20,
   "id": "corrected-titanium",
   "metadata": {},
   "outputs": [
    {
     "data": {
      "text/plain": [
       "<AxesSubplot:xlabel='t', ylabel='I'>"
      ]
     },
     "execution_count": 20,
     "metadata": {},
     "output_type": "execute_result"
    },
    {
     "data": {
      "image/png": "[encoded data removed]",
      "text/plain": [
       "<Figure size 432x288 with 1 Axes>"
      ]
     },
     "metadata": {
      "needs_background": "light"
     },
     "output_type": "display_data"
    }
   ],
   "source": [
    "result.plot_moments('I', xlabel='t')"
   ]
  },
  {
   "cell_type": "markdown",
   "id": "overhead-wright",
   "metadata": {},
   "source": [
    "If you want to access all of this data for processing you can use the following methods. Due to large output I have not evaluated these cells."
   ]
  },
  {
   "cell_type": "code",
   "execution_count": null,
   "id": "destroyed-darkness",
   "metadata": {},
   "outputs": [],
   "source": [
    "result.sobols_first('I')"
   ]
  },
  {
   "cell_type": "code",
   "execution_count": null,
   "id": "contrary-wound",
   "metadata": {},
   "outputs": [],
   "source": [
    "result.describe('I', 'mean')"
   ]
  },
  {
   "cell_type": "code",
   "execution_count": null,
   "id": "biblical-saint",
   "metadata": {},
   "outputs": [],
   "source": [
    "result.describe('I', 'std')"
   ]
  },
  {
   "cell_type": "code",
   "execution_count": null,
   "id": "demanding-quick",
   "metadata": {},
   "outputs": [],
   "source": [
    "result.describe('I', '1%')"
   ]
  },
  {
   "cell_type": "code",
   "execution_count": null,
   "id": "distinguished-greene",
   "metadata": {},
   "outputs": [],
   "source": [
    "result.describe('I', '99%')"
   ]
  }
 ],
 "metadata": {
  "kernelspec": {
   "display_name": "Python 3",
   "language": "python",
   "name": "python3"
  },
  "language_info": {
   "codemirror_mode": {
    "name": "ipython",
    "version": 3
   },
   "file_extension": ".py",
   "mimetype": "text/x-python",
   "name": "python",
   "nbconvert_exporter": "python",
   "pygments_lexer": "ipython3",
   "version": "3.8.6"
  }
 },
 "nbformat": 4,
 "nbformat_minor": 5
}
