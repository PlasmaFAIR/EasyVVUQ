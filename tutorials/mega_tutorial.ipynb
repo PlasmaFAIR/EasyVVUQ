{
 "cells": [
  {
   "cell_type": "markdown",
   "metadata": {
    "colab_type": "text",
    "id": "NzWFca3cB9oe"
   },
   "source": [
    "![alt text](https://easyvvuq.readthedocs.io/en/latest/_static/circle-logo.svg)\n",
    "\n",
    "Vytautas Jancauskas 2020\n",
    "\n",
    "# **EasyVVUQ Tutorial**\n",
    "\n",
    "# Introduction\n",
    "\n",
    "In this tutorial we will show you how you can use [EasyVVUQ](https://github.com/UCL-CCS/EasyVVUQ) to investigate the properties of a simple epidemiological model. The model is very simplistic and is not intended to realisticly portray a real epidemic such as COVID-19. However it is also fun enough to experiment with and we can use it as an example to show how you can use EasyVVUQ to answer questions about your scientific models. EasyVVUQ is successfully used by researchers in various different fields, such as plasma physics, weather and air pollution modelling and materials science."
   ]
  },
  {
   "cell_type": "markdown",
   "metadata": {
    "colab_type": "text",
    "id": "ugDD5kSbAtw_"
   },
   "source": [
    "# Installing EasyVVUQ\n",
    "\n",
    "Before we do anything else we need to install EasyVVUQ for use in this notebook. Please skip this if you already have EasyVVUQ installed in your system. This is meant for situations where this notebook is hosted externally to your local computer. We also want to clone the git repository because it contains some files used in this tutorial. Please note that you might need to restart the runtime after the installation is complete. If the following code examples don't work please try that first. I have added a command that kills the runtime (which causes it to be restarted). But I'm not sure if it will always work."
   ]
  },
  {
   "cell_type": "code",
   "execution_count": 1,
   "metadata": {
    "ExecuteTime": {
     "end_time": "2021-06-09T11:12:29.751332Z",
     "start_time": "2021-06-09T11:12:29.748916Z"
    }
   },
   "outputs": [],
   "source": [
    "#!pip install git+https://github.com/UCL-CCS/EasyVVUQ"
   ]
  },
  {
   "cell_type": "code",
   "execution_count": 2,
   "metadata": {
    "ExecuteTime": {
     "end_time": "2021-06-09T11:12:29.755344Z",
     "start_time": "2021-06-09T11:12:29.753573Z"
    },
    "colab": {},
    "colab_type": "code",
    "id": "We-D7yY3H1ds"
   },
   "outputs": [],
   "source": [
    "#!git clone https://github.com/UCL-CCS/EasyVVUQ"
   ]
  },
  {
   "cell_type": "code",
   "execution_count": 3,
   "metadata": {
    "ExecuteTime": {
     "end_time": "2021-06-09T11:12:29.758796Z",
     "start_time": "2021-06-09T11:12:29.757271Z"
    }
   },
   "outputs": [],
   "source": [
    "#import os\n",
    "#os.kill(os.getpid(), 9)"
   ]
  },
  {
   "cell_type": "markdown",
   "metadata": {
    "colab_type": "text",
    "id": "O5RXyRXm4tIf"
   },
   "source": [
    "# Epidemiological Model\n",
    "\n",
    "In our model individuals are placed on a two dimensional square grid. During each turn, the individual moves at random one square in one of eight possible directions (N, NE, E, SE, S, SW, W or NW). If the individual encounters another individual and that person is ill, the individual will also become sick for a specified number of turns (that number is a parameter to the model). Once ill, the individual cannot become sick anymore and after getting over the disease they will have immunity. Immunity means that this person cannot get infected anymore. The simulation continues until no one is sick. At that point the disease counts as erradicated."
   ]
  },
  {
   "cell_type": "markdown",
   "metadata": {
    "colab_type": "text",
    "id": "chwejpvvRCNC"
   },
   "source": [
    "Let us load the model and see how it operates. We create a population on a 10x10 grid containing 20 individuals. Once infected the individual can transmit the disease for 28 turns. After that they have a 20% chance of dying."
   ]
  },
  {
   "cell_type": "code",
   "execution_count": 4,
   "metadata": {
    "ExecuteTime": {
     "end_time": "2021-06-09T11:12:30.253856Z",
     "start_time": "2021-06-09T11:12:29.760385Z"
    },
    "colab": {},
    "colab_type": "code",
    "id": "cBYFOLALP7g7"
   },
   "outputs": [],
   "source": [
    "import matplotlib.pyplot as plt\n",
    "import numpy as np\n",
    "import epidemic.epidemic as epidemic\n",
    "\n",
    "population = epidemic.Population(grid_size=10, n=20, duration=28, mortality=0.2)"
   ]
  },
  {
   "cell_type": "markdown",
   "metadata": {
    "colab_type": "text",
    "id": "LD0bwjvxbHbP"
   },
   "source": [
    "The code cell below is supposed to be run multiple times. Each time you run it the image below will update to show the state of the population. The black squares are empty, the white squares represent individuals who are not immune and are not sick. The red squares represent ill individuals and the intensity of the red shows how many turns they will stay ill for. Green squares represent individuals who are immune. Once the disease is eradicated, the graphic will change to a plot showing the evolution of the disease over time."
   ]
  },
  {
   "cell_type": "code",
   "execution_count": 5,
   "metadata": {
    "ExecuteTime": {
     "end_time": "2021-06-09T11:12:30.320154Z",
     "start_time": "2021-06-09T11:12:30.254880Z"
    },
    "colab": {},
    "colab_type": "code",
    "id": "_gDcO4TQRM-Y"
   },
   "outputs": [
    {
     "data": {
      "image/png": "[encoded data removed]",
      "text/plain": [
       "<Figure size 432x288 with 1 Axes>"
      ]
     },
     "metadata": {
      "needs_background": "light"
     },
     "output_type": "display_data"
    }
   ],
   "source": [
    "population.move()\n",
    "if np.count_nonzero(population.ill):\n",
    "  plt.imshow(population.get_im())\n",
    "  plt.show()\n",
    "else:\n",
    "  plt.plot(population.ill_history, label=\"Sick Individuals\")\n",
    "  plt.plot(population.immune_history, label=\"Immune Individuals\")\n",
    "  plt.plot(population.n_history, label=\"Population\")\n",
    "  plt.xlabel(\"Time\")\n",
    "  plt.ylabel(\"Count\")\n",
    "  plt.legend()\n",
    "  plt.show()"
   ]
  },
  {
   "cell_type": "markdown",
   "metadata": {
    "colab_type": "text",
    "id": "lMaeqU5942PB"
   },
   "source": [
    "Since EasyVVUQ is meant to be a general framework (non-Python specific) we don't call Python functions directly to get results of the simulation. After all, many simulations are still written in Fortran and operate by taking an input file and producing a file with outputs of the simulation. To do statistical analysis we need to be able to provide an appropriate input file to the simulation and be able to parse the outputs of the simulation. You can run our simulation as in the following example."
   ]
  },
  {
   "cell_type": "code",
   "execution_count": 6,
   "metadata": {
    "ExecuteTime": {
     "end_time": "2021-06-09T11:12:31.959342Z",
     "start_time": "2021-06-09T11:12:30.321059Z"
    },
    "colab": {},
    "colab_type": "code",
    "id": "GStHHTzNAndx"
   },
   "outputs": [
    {
     "name": "stdout",
     "output_type": "stream",
     "text": [
      "1.887u 0.711s 0:01.25 207.2%\t0+0k 0+0io 525pf+0w\r\n"
     ]
    }
   ],
   "source": [
    "!cd epidemic/; time python3 epidemic.py example.json output.csv"
   ]
  },
  {
   "cell_type": "markdown",
   "metadata": {
    "colab_type": "text",
    "id": "zl3ItaR5NdxV"
   },
   "source": [
    "This will have produced a file called output.csv that consists of four columns labeled \"iteration\", \"ill\", \"immune\" and \"population\". These should be fairly self explanatory."
   ]
  },
  {
   "cell_type": "code",
   "execution_count": 7,
   "metadata": {
    "ExecuteTime": {
     "end_time": "2021-06-09T11:12:32.325452Z",
     "start_time": "2021-06-09T11:12:31.960859Z"
    },
    "colab": {},
    "colab_type": "code",
    "id": "UeKJH_1sBGsN",
    "scrolled": true
   },
   "outputs": [
    {
     "name": "stdout",
     "output_type": "stream",
     "text": [
      "iteration,ill,immune,population\r\n",
      "0,2,1,20\r\n",
      "1,2,1,20\r\n",
      "2,2,1,20\r\n",
      "3,2,1,20\r\n",
      "4,2,1,20\r\n",
      "5,2,1,20\r\n",
      "6,3,2,20\r\n",
      "7,3,2,20\r\n",
      "8,3,2,20\r\n",
      "9,3,2,20\r\n",
      "10,3,2,20\r\n",
      "11,3,2,20\r\n",
      "12,3,2,20\r\n",
      "13,4,3,20\r\n",
      "14,5,4,20\r\n",
      "15,6,5,20\r\n",
      "16,6,5,20\r\n",
      "17,7,6,20\r\n",
      "18,7,6,20\r\n",
      "19,7,6,20\r\n",
      "20,8,7,20\r\n",
      "21,9,8,20\r\n",
      "22,10,9,20\r\n",
      "23,11,10,20\r\n",
      "24,13,12,20\r\n",
      "25,14,13,20\r\n",
      "26,15,14,20\r\n",
      "27,14,15,20\r\n",
      "28,14,15,20\r\n",
      "29,14,15,20\r\n",
      "30,16,17,20\r\n",
      "31,16,17,20\r\n",
      "32,16,17,20\r\n",
      "33,16,18,20\r\n",
      "34,16,18,20\r\n",
      "35,16,18,20\r\n",
      "36,16,18,20\r\n",
      "37,16,18,20\r\n",
      "38,17,19,20\r\n",
      "39,17,19,20\r\n",
      "40,16,19,20\r\n",
      "41,16,20,20\r\n",
      "42,15,20,20\r\n",
      "43,15,20,20\r\n",
      "44,14,20,20\r\n",
      "45,14,20,20\r\n",
      "46,14,20,20\r\n",
      "47,13,20,20\r\n",
      "48,12,20,20\r\n",
      "49,11,20,20\r\n",
      "50,10,20,20\r\n",
      "51,8,20,20\r\n",
      "52,7,20,20\r\n",
      "53,6,20,20\r\n",
      "54,5,19,19\r\n",
      "55,5,19,19\r\n",
      "56,5,19,19\r\n",
      "57,3,19,19\r\n",
      "58,3,19,19\r\n",
      "59,3,19,19\r\n",
      "60,2,19,19\r\n",
      "61,2,19,19\r\n",
      "62,2,19,19\r\n",
      "63,2,19,19\r\n",
      "64,2,19,19\r\n",
      "65,1,18,18\r\n",
      "66,1,18,18\r\n",
      "67,1,18,18\r\n",
      "68,0,18,18\r\n"
     ]
    }
   ],
   "source": [
    "!cat epidemic/output.csv"
   ]
  },
  {
   "cell_type": "markdown",
   "metadata": {
    "colab_type": "text",
    "id": "B-VMs_nEBBhE"
   },
   "source": [
    "Let us plot this data and see what the evolution of the disease looks like in our population."
   ]
  },
  {
   "cell_type": "code",
   "execution_count": 8,
   "metadata": {
    "ExecuteTime": {
     "end_time": "2021-06-09T11:12:32.712532Z",
     "start_time": "2021-06-09T11:12:32.326927Z"
    },
    "colab": {},
    "colab_type": "code",
    "id": "Wci3iduVBr7E"
   },
   "outputs": [
    {
     "data": {
      "image/png": "[encoded data removed]",
      "text/plain": [
       "<Figure size 432x288 with 1 Axes>"
      ]
     },
     "metadata": {
      "needs_background": "light"
     },
     "output_type": "display_data"
    }
   ],
   "source": [
    "  import matplotlib.pyplot as plt\n",
    "  import pandas as pd\n",
    "\n",
    "  df = pd.read_csv(\"epidemic/output.csv\")\n",
    "  plt.plot(df['ill'], label=\"Sick Individuals\")\n",
    "  plt.plot(df['immune'], label=\"Immune Individuals\")\n",
    "  plt.plot(df['population'], label=\"Population\")\n",
    "  plt.xlabel(\"Time\")\n",
    "  plt.ylabel(\"Count\")\n",
    "  plt.legend()\n",
    "  plt.show()"
   ]
  },
  {
   "cell_type": "markdown",
   "metadata": {
    "colab_type": "text",
    "id": "ZPTzDP7KaA4Y"
   },
   "source": [
    "A short summary is in order so that we can start exploring the sample space of our model:\n",
    "\n",
    "* We have a script that takes a JSON file with parameters and produces a CSV file with the output.\n",
    "* The model takes 4 input parameters - grid size, population size, disease duration and mortality rate.\n",
    "* The model produces 4 columns of output - iteration number, number of sick people, number of immune people and the current population size."
   ]
  },
  {
   "cell_type": "markdown",
   "metadata": {
    "colab_type": "text",
    "id": "1qCJk4g5bsfI"
   },
   "source": [
    "We will use EasyVVUQ to help us answer some questions about the model. Here are some simple ones that arise from toying with the model:\n",
    "\n",
    "* Given that every time the length of time before the disease is erradicated is different even with the same parameters (due to the fact that each individual chooses where to move to at random), we might want to know, within a given certainty range, what the expected value of that is. This tells us, with needed confidence, how long we can expect the disease to last given certain parameters.\n",
    "* We might also do the same thing but for a set of parameter values. Namely we might want to performa a parameter sweep with corresponding error bars.\n",
    "* We might also want to improve our results by adding more samples to our analysis - hence we will see how we can restart a simulation and draw more samples to improve the accuracy.\n",
    "* At some point we will want to use external resources to execute our simulations. We will quickly discuss how this can be done.\n",
    "* Finally, given that our model is quite computationally expensive, we might want to explore the possibility of creating surrogate models to stand-in in place of the original model. These are usually expensive to create but very cheap to evaluate. Hence there is a possibility that we will be able to extract knowledge about our model from them that would be too expensive (computationally or otherwise) with a full simulation."
   ]
  },
  {
   "cell_type": "markdown",
   "metadata": {
    "colab_type": "text",
    "id": "FOPcPFeJT3Vt"
   },
   "source": [
    "But first we need to set EasyVVUQ up to produce the configuration files in the suitable format and read in the output of the simulation. We also need to give a description of the parameter space. We also need to specify how we will execute our simulation. The next sections is concerened with these tasks."
   ]
  },
  {
   "cell_type": "markdown",
   "metadata": {
    "colab_type": "text",
    "id": "zkWCN7Pe6GJB"
   },
   "source": [
    "# EasyVVUQ Set-up\n",
    "\n",
    "For the examples in this tutorial we import some libraries that will be used throughout. EasyVVUQ will be referred to as 'uq' in the code. We also need Chaospy because we use it for the probability distribution classes. We use numpy for certain small tasks and we use pandas DataFrame as the standard data exchange format as is customary in the Python data science infrastucture."
   ]
  },
  {
   "cell_type": "code",
   "execution_count": 9,
   "metadata": {
    "ExecuteTime": {
     "end_time": "2021-06-09T11:12:34.847231Z",
     "start_time": "2021-06-09T11:12:32.714371Z"
    },
    "colab": {},
    "colab_type": "code",
    "id": "Yd2XHwIE4tIg"
   },
   "outputs": [],
   "source": [
    "import easyvvuq as uq\n",
    "import chaospy as cp\n",
    "import easyvvuq.collate\n",
    "import numpy as np\n",
    "import pandas as pd\n",
    "import matplotlib.pyplot as plt\n",
    "import os\n",
    "from pathlib import Path\n",
    "from easyvvuq.actions import CreateRunDirectory, Encode, Decode, CleanUp, ExecuteLocal, Actions"
   ]
  },
  {
   "cell_type": "markdown",
   "metadata": {
    "colab_type": "text",
    "id": "PhCZgtszlpU5"
   },
   "source": [
    "While we are at it we also want to describe the arguments to our model. This takes a form of a Python dictionary. The dictionary is based on the Cerberus validator dictionary format. For more information refer to Cerberus [documentation](https://docs.python-cerberus.org/en/stable/). This dictionary is used in both validation of the results and for the default values when we don't want to vary a certain parameter."
   ]
  },
  {
   "cell_type": "code",
   "execution_count": 30,
   "metadata": {
    "ExecuteTime": {
     "end_time": "2021-06-09T11:29:34.790630Z",
     "start_time": "2021-06-09T11:29:34.785832Z"
    },
    "colab": {},
    "colab_type": "code",
    "id": "isCmUx0bm6AX"
   },
   "outputs": [],
   "source": [
    "params = {\n",
    "    \"grid_size\": {\"type\": \"float\", \"default\": 10},\n",
    "    \"n\": {\"type\": \"float\", \"min\": 1, \"max\": 100, \"default\": 20},\n",
    "    \"duration\": {\"type\": \"float\", \"min\": 0, \"max\": 365, \"default\": 28},\n",
    "    \"mortality\": {\"type\": \"float\", \"min\": 0.0, \"max\": 1.0, \"default\": 0.2},\n",
    "    \"ensemble\" : {\"type\": \"integer\", \"default\": 0},\n",
    "    \"ensemble_id\" : {\"type\": \"integer\", \"default\": 0}\n",
    "}"
   ]
  },
  {
   "cell_type": "markdown",
   "metadata": {
    "colab_type": "text",
    "id": "eUuupPuDbVNi"
   },
   "source": [
    "We will also want to set-up some elements that will stay the same for all the examples. These components are the encoder - which is responsible for creating input files for our simulation and the decoder - which is responsible for parsing the output of the simulation."
   ]
  },
  {
   "cell_type": "markdown",
   "metadata": {
    "colab_type": "text",
    "id": "UX-nxATzcquI"
   },
   "source": [
    "For the Encoder we use the GenericEncoder class. It is a very simple template based encoder. It finds a specified delimiter, and replaces the variable name that follows that delimiter with the corresponding value. In our case the template file looks like follows:\n",
    "\n",
    "```\n",
    "{\n",
    "    \"grid_size\" : $grid_size,\n",
    "    \"n\" : $n,\n",
    "    \"duration\" : $duration,\n",
    "    \"mortality\" : $mortality\n",
    "}\n",
    "```\n",
    "\n",
    "From this template, a JSON file will be created and then passed to the simulation script as an argument. EasyVVUQ has other encoders as well. For example the [Jinja encoder](https://easyvvuq.readthedocs.io/en/dev/source/easyvvuq.encoders.html#module-easyvvuq.encoders.jinja_encoder).\n",
    "\n"
   ]
  },
  {
   "cell_type": "code",
   "execution_count": 11,
   "metadata": {
    "ExecuteTime": {
     "end_time": "2021-06-09T11:12:34.852846Z",
     "start_time": "2021-06-09T11:12:34.851526Z"
    },
    "colab": {},
    "colab_type": "code",
    "id": "3MUHaMR5chT-"
   },
   "outputs": [],
   "source": [
    "encoder = uq.encoders.GenericEncoder(\n",
    "    template_fname='epidemic/epidemic.template',\n",
    "    delimiter='$',\n",
    "    target_filename='epidemic_in.json')"
   ]
  },
  {
   "cell_type": "markdown",
   "metadata": {
    "colab_type": "text",
    "id": "ht9C4JYmoK_k"
   },
   "source": [
    "Since the quantity of interest (number of turns until the disease is erradicated) is a function of the simulation output (it is the iteration number of the last row) we need to extend the Decoder class to take this in to account. To this end we inherit from SimpleCSV decoder and redefine the `parse_sim_output` method to take the last value of the `iteration` column in the file produced by the simulation. This gives us the length in turns for which the simulation ran or in other words before the disease disappeared in our simulation."
   ]
  },
  {
   "cell_type": "code",
   "execution_count": 12,
   "metadata": {
    "ExecuteTime": {
     "end_time": "2021-06-09T11:12:34.855087Z",
     "start_time": "2021-06-09T11:12:34.853524Z"
    },
    "colab": {},
    "colab_type": "code",
    "id": "kloY-UH2my9q"
   },
   "outputs": [],
   "source": [
    "class EpidemicDecoder(uq.decoders.SimpleCSV):   # , decoder_name='epidemic_decoder'\n",
    "    def parse_sim_output(self, run_info={}):\n",
    "        result = super().parse_sim_output(run_info)\n",
    "        return {'iteration': result['iteration'][-1]}\n",
    "\n",
    "decoder = EpidemicDecoder(\n",
    "    target_filename=\"output.csv\", output_columns=[\"iteration\"])"
   ]
  },
  {
   "cell_type": "markdown",
   "metadata": {
    "colab_type": "text",
    "id": "p9QHSWzva6td"
   },
   "source": [
    "We will also define a helper function that will execute the simulation with the provided input files. This function takes a campaign object, creates the directories with input files and then runs our script in them with those files as inputs. The exact details of this process can be found [here](https://easyvvuq.readthedocs.io/en/dev/source/easyvvuq.html#easyvvuq.campaign.Campaign.populate_runs_dir) and [here](https://easyvvuq.readthedocs.io/en/dev/source/easyvvuq.html#easyvvuq.campaign.Campaign.apply_for_each_run_dir)."
   ]
  },
  {
   "cell_type": "markdown",
   "metadata": {
    "colab_type": "text",
    "id": "uhwgG1Wc4tIj"
   },
   "source": [
    "## Basic Example\n",
    "\n",
    "We start by creating an\n",
    "EasyVVUQ Campaign. Here we call it 'epidemic_basic'. :"
   ]
  },
  {
   "cell_type": "code",
   "execution_count": 13,
   "metadata": {
    "ExecuteTime": {
     "end_time": "2021-06-09T11:12:34.880753Z",
     "start_time": "2021-06-09T11:12:34.855742Z"
    },
    "colab": {},
    "colab_type": "code",
    "id": "Cf5cFQXr4tIj"
   },
   "outputs": [
    {
     "name": "stdout",
     "output_type": "stream",
     "text": [
      "db_location = sqlite:///./epidemic_basicw4x3b3o2/campaign.db\n",
      "active_sampler_id = None\n",
      "campaign_name = epidemic_basic\n",
      "campaign_dir = /Volumes/Samsung8TB/dpc/GIT/EasyVVUQ/tutorials/./epidemic_basicw4x3b3o2\n",
      "campaign_id = 1\n",
      "\n"
     ]
    }
   ],
   "source": [
    "execute = ExecuteLocal('{}/epidemic/epidemic.py epidemic_in.json output.csv'.format(os.getcwd()))\n",
    "\n",
    "actions = Actions(CreateRunDirectory('/tmp'), Encode(encoder), execute, Decode(decoder))\n",
    "\n",
    "campaign = uq.Campaign(name='epidemic_basic', params=params, actions=actions)\n",
    "print(campaign)"
   ]
  },
  {
   "cell_type": "markdown",
   "metadata": {
    "colab_type": "text",
    "id": "IxyJdZD6oOLd"
   },
   "source": [
    "We then want to describe our application. This means passing parameter dictionary, enoder, decoder and collater to the campaign object."
   ]
  },
  {
   "cell_type": "markdown",
   "metadata": {
    "colab_type": "text",
    "id": "EBUKUTyL4tIz"
   },
   "source": [
    "For this particular task we are not interested in the relationship between input parameters and the behavior of the simulation. All we want is to see how much the result varies between runs that are identical but for the random seed."
   ]
  },
  {
   "cell_type": "code",
   "execution_count": 14,
   "metadata": {
    "ExecuteTime": {
     "end_time": "2021-06-09T11:12:34.886374Z",
     "start_time": "2021-06-09T11:12:34.881426Z"
    },
    "colab": {},
    "colab_type": "code",
    "id": "1eDGvW3J4tI2"
   },
   "outputs": [],
   "source": [
    "from easyvvuq.sampling import EmptySampler\n",
    "campaign.set_sampler(EmptySampler())"
   ]
  },
  {
   "cell_type": "markdown",
   "metadata": {
    "colab_type": "text",
    "id": "syDEBtKzo7TS"
   },
   "source": [
    "EmptySampler is a convenience class for such cases. However, another option is, if your simulation provides the option to specify different seeds, to draw the seeds from a probability distribution. In cases like these you could specify the sampler like this:\n",
    "\n",
    "```\n",
    "from easyvvuq.sampling import RandomSampler\n",
    "\n",
    "vary = {'seed' : cp.DiscreteUniform(0, MAX_SEED)}\n",
    "sampler = RandomSampler(vary)\n",
    "```\n",
    "\n",
    "In the above example `MAX_SEED` is the maximum value the seed can take plus one.\n"
   ]
  },
  {
   "cell_type": "markdown",
   "metadata": {
    "colab_type": "text",
    "id": "E5RS1S0Hp97R"
   },
   "source": [
    "We now want to execute the simulations and collate the results."
   ]
  },
  {
   "cell_type": "code",
   "execution_count": 16,
   "metadata": {
    "ExecuteTime": {
     "end_time": "2021-06-09T11:12:42.281533Z",
     "start_time": "2021-06-09T11:12:34.902648Z"
    },
    "colab": {},
    "colab_type": "code",
    "id": "VvHnsBKXqAqX"
   },
   "outputs": [],
   "source": [
    "campaign.execute(nsamples=20).collate()"
   ]
  },
  {
   "cell_type": "markdown",
   "metadata": {
    "colab_type": "text",
    "id": "2QARvB3rH7_U"
   },
   "source": [
    "We can now see what the result is. It will be a DataFrame containing the number of iterations before the disease is erradicated. Calling collate on the campaign object will find and parse the output files of our simulation and then produce a single DataFrame with the results.\n"
   ]
  },
  {
   "cell_type": "code",
   "execution_count": 17,
   "metadata": {
    "ExecuteTime": {
     "end_time": "2021-06-09T11:12:42.292752Z",
     "start_time": "2021-06-09T11:12:42.282448Z"
    },
    "colab": {},
    "colab_type": "code",
    "id": "o4Dy4R1bH08q"
   },
   "outputs": [
    {
     "name": "stdout",
     "output_type": "stream",
     "text": [
      "   run_id iteration grid_size   n duration mortality ensemble\n",
      "        0         0         0   0        0         0        0\n",
      "0       1      73.0        10  20       28       0.2        0\n",
      "1       2      80.0        10  20       28       0.2        0\n",
      "2       3      89.0        10  20       28       0.2        0\n",
      "3       4      73.0        10  20       28       0.2        0\n",
      "4       5      57.0        10  20       28       0.2        0\n",
      "5       6      88.0        10  20       28       0.2        0\n",
      "6       7      72.0        10  20       28       0.2        0\n",
      "7       8      81.0        10  20       28       0.2        0\n",
      "8       9      81.0        10  20       28       0.2        0\n",
      "9      10      67.0        10  20       28       0.2        0\n",
      "10     11      53.0        10  20       28       0.2        0\n",
      "11     12      59.0        10  20       28       0.2        0\n",
      "12     13      73.0        10  20       28       0.2        0\n",
      "13     14      55.0        10  20       28       0.2        0\n",
      "14     15      56.0        10  20       28       0.2        0\n",
      "15     16      61.0        10  20       28       0.2        0\n",
      "16     17      65.0        10  20       28       0.2        0\n",
      "17     18      70.0        10  20       28       0.2        0\n",
      "18     19      61.0        10  20       28       0.2        0\n",
      "19     20      75.0        10  20       28       0.2        0\n",
      "20     21      77.0        10  20       28       0.2        0\n",
      "21     22      75.0        10  20       28       0.2        0\n",
      "22     23      71.0        10  20       28       0.2        0\n",
      "23     24      76.0        10  20       28       0.2        0\n",
      "24     25      58.0        10  20       28       0.2        0\n",
      "25     26      71.0        10  20       28       0.2        0\n",
      "26     27      89.0        10  20       28       0.2        0\n",
      "27     28      89.0        10  20       28       0.2        0\n",
      "28     29      77.0        10  20       28       0.2        0\n",
      "29     30      65.0        10  20       28       0.2        0\n",
      "30     31      76.0        10  20       28       0.2        0\n",
      "31     32      71.0        10  20       28       0.2        0\n",
      "32     33      85.0        10  20       28       0.2        0\n",
      "33     34     101.0        10  20       28       0.2        0\n",
      "34     35      65.0        10  20       28       0.2        0\n",
      "35     36      88.0        10  20       28       0.2        0\n",
      "36     37      64.0        10  20       28       0.2        0\n",
      "37     38      75.0        10  20       28       0.2        0\n",
      "38     39      27.0        10  20       28       0.2        0\n",
      "39     40      56.0        10  20       28       0.2        0\n"
     ]
    }
   ],
   "source": [
    "df = campaign.get_collation_result()\n",
    "print(df)"
   ]
  },
  {
   "cell_type": "markdown",
   "metadata": {
    "colab_type": "text",
    "id": "yJLFypP34tJD"
   },
   "source": [
    "This collated data is stored in the campaign database. An analysis\n",
    "element, here EnsembleBoot (which performs [bootstraping](https://en.wikipedia.org/wiki/Bootstrapping_(statistics))), can then be applied to the campaign's\n",
    "collation result. :"
   ]
  },
  {
   "cell_type": "code",
   "execution_count": 18,
   "metadata": {
    "ExecuteTime": {
     "end_time": "2021-06-09T11:12:42.363816Z",
     "start_time": "2021-06-09T11:12:42.293555Z"
    },
    "colab": {},
    "colab_type": "code",
    "id": "CacIi3Ky4tJE"
   },
   "outputs": [],
   "source": [
    "analysis = uq.analysis.EnsembleBoot(qoi_cols=[(\"iteration\", 0)], stat_func=np.mean, stat_name='mean', alpha=0.05)\n",
    "campaign.apply_analysis(analysis)"
   ]
  },
  {
   "cell_type": "markdown",
   "metadata": {
    "colab_type": "text",
    "id": "rGgiN7cA4tJF"
   },
   "source": [
    "The output of this is dependent on the type of analysis element. :"
   ]
  },
  {
   "cell_type": "code",
   "execution_count": 19,
   "metadata": {
    "ExecuteTime": {
     "end_time": "2021-06-09T11:12:42.367749Z",
     "start_time": "2021-06-09T11:12:42.364534Z"
    },
    "colab": {},
    "colab_type": "code",
    "id": "-TvW8CIj4tJG"
   },
   "outputs": [
    {
     "name": "stdout",
     "output_type": "stream",
     "text": [
      "     iteration                      \n",
      "             0                      \n",
      "          mean        low       high\n",
      "True     71.35  66.974375  75.075625\n"
     ]
    }
   ],
   "source": [
    "# Get Descriptive Statistics\n",
    "results = campaign.get_last_analysis()\n",
    "print(results)"
   ]
  },
  {
   "cell_type": "markdown",
   "metadata": {
    "colab_type": "text",
    "id": "fDPk1Eahzf8v"
   },
   "source": [
    "The above gives the mean value of the number of iterations before the disease eradication and the 95% confidence region for that estimator."
   ]
  },
  {
   "cell_type": "markdown",
   "metadata": {
    "colab_type": "text",
    "id": "PAWMNIaZWciH"
   },
   "source": [
    "# Parameter Sweep\n",
    "\n",
    "Suppose we want to examine the behaviour of the model by doing a sweep across a range of parameter values. Let's say that given a fixed population size and fixed mortality rate we want to see how does the model behaves if we vary the disease duration parameter from 4 days to, for example, 28 days. We will do this in 2 day increments. Also, in order to perform some kind of statistical analysis of the results we will want to do sample the same parameter set several times. We will do this using the replicas mechanism in the EasyVVUQ."
   ]
  },
  {
   "cell_type": "markdown",
   "metadata": {
    "colab_type": "text",
    "id": "Yyd_LYTZoWro"
   },
   "source": [
    "First we define a new campaign."
   ]
  },
  {
   "cell_type": "code",
   "execution_count": 31,
   "metadata": {
    "ExecuteTime": {
     "end_time": "2021-06-09T11:29:46.118661Z",
     "start_time": "2021-06-09T11:29:46.071961Z"
    },
    "colab": {},
    "colab_type": "code",
    "id": "-PTFAsd1YExO"
   },
   "outputs": [],
   "source": [
    "campaign = uq.Campaign(name='epidemic_sweep', params=params, actions=actions)"
   ]
  },
  {
   "cell_type": "markdown",
   "metadata": {
    "colab_type": "text",
    "id": "gtqE6rVVovw5"
   },
   "source": [
    "We need to define a different kind of sampler. In our case we want BasicSweep which allows one to sample an n-dimensional grid of values. In this case we specify a single parameter and give it a list of values. If you add more parameters the sampler will then sample a Cartesian product of those lists. For examples `{'a' : [1, 2], 'b' : [3, 4]}` will result in `{'a': 1, 'b': 3}`, `{'a': 1, 'b': 4}`, `{'a': 2, 'b': 3}` and `{'a': 2, 'b': 4}` being sampled."
   ]
  },
  {
   "cell_type": "code",
   "execution_count": 32,
   "metadata": {
    "ExecuteTime": {
     "end_time": "2021-06-09T11:29:49.221449Z",
     "start_time": "2021-06-09T11:29:49.217536Z"
    },
    "colab": {},
    "colab_type": "code",
    "id": "QYga_8MMXkb3"
   },
   "outputs": [],
   "source": [
    "sweep = {\n",
    "    \"duration\" : list(range(2, 30, 2))\n",
    "}\n",
    "sweep_sampler = uq.sampling.BasicSweep(sweep=sweep)"
   ]
  },
  {
   "cell_type": "markdown",
   "metadata": {},
   "source": [
    "We will also want to sample each point multiple times in order to construct confidence intervals. To this end we use a ReplicaSampler element which wraps around our `sweep_sampler`. In essence it will simply run the simulation with the same inputs multiple times with different random number generator seeds."
   ]
  },
  {
   "cell_type": "code",
   "execution_count": 33,
   "metadata": {
    "ExecuteTime": {
     "end_time": "2021-06-09T11:29:52.540073Z",
     "start_time": "2021-06-09T11:29:52.524509Z"
    }
   },
   "outputs": [],
   "source": [
    "from easyvvuq.sampling import ReplicaSampler\n",
    "sampler = ReplicaSampler(sweep_sampler)\n",
    "campaign.set_sampler(sampler)"
   ]
  },
  {
   "cell_type": "markdown",
   "metadata": {
    "colab_type": "text",
    "id": "nVF9fqai8iU6"
   },
   "source": [
    "The following steps are the same as in our more basic example. Note that execution might take some time. That is because we are running 280 simulations on the machine that is hosting this notebook."
   ]
  },
  {
   "cell_type": "code",
   "execution_count": 36,
   "metadata": {
    "ExecuteTime": {
     "end_time": "2021-06-09T11:34:03.542242Z",
     "start_time": "2021-06-09T11:30:40.889363Z"
    },
    "colab": {},
    "colab_type": "code",
    "id": "zomhNA23Y6iD"
   },
   "outputs": [
    {
     "name": "stderr",
     "output_type": "stream",
     "text": [
      "100%|██████████| 744/744 [03:20<00:00,  3.70it/s]\n"
     ]
    }
   ],
   "source": [
    "campaign.execute(nsamples=20 * 14).collate(progress_bar=True)"
   ]
  },
  {
   "cell_type": "code",
   "execution_count": 39,
   "metadata": {
    "ExecuteTime": {
     "end_time": "2021-06-09T11:40:37.497524Z",
     "start_time": "2021-06-09T11:40:37.464994Z"
    },
    "colab": {},
    "colab_type": "code",
    "id": "hF6BuutSmF4a"
   },
   "outputs": [
    {
     "name": "stdout",
     "output_type": "stream",
     "text": [
      "    run_id iteration duration ensemble_id grid_size   n mortality ensemble\n",
      "         0         0        0           0         0   0         0        0\n",
      "0        1       2.0        2           0        10  20       0.2        0\n",
      "1        2       3.0        4           1        10  20       0.2        0\n",
      "2        3       8.0        6           2        10  20       0.2        0\n",
      "3        4       7.0        8           3        10  20       0.2        0\n",
      "4        5       9.0       10           4        10  20       0.2        0\n",
      "..     ...       ...      ...         ...       ...  ..       ...      ...\n",
      "835    836      85.0       20           9        10  20       0.2        0\n",
      "836    837      70.0       22          10        10  20       0.2        0\n",
      "837    838      74.0       24          11        10  20       0.2        0\n",
      "838    839      72.0       26          12        10  20       0.2        0\n",
      "839    840      71.0       28          13        10  20       0.2        0\n",
      "\n",
      "[840 rows x 8 columns]\n"
     ]
    }
   ],
   "source": [
    "df = campaign.get_collation_result()\n",
    "print(df)"
   ]
  },
  {
   "cell_type": "markdown",
   "metadata": {
    "colab_type": "text",
    "id": "_fesrbXQ9sX2"
   },
   "source": [
    "One important difference in the analysis stage below is the addition of the `groupby` keyword argument. This means, essentially, that bootstrapping will be done on rows with the same `ensemble_id` value separately. So in the end we will get `(30 - 2) / 2 = 14` triples of the mean value and lower/upper confidence bounds."
   ]
  },
  {
   "cell_type": "code",
   "execution_count": 42,
   "metadata": {
    "ExecuteTime": {
     "end_time": "2021-06-09T11:41:44.665046Z",
     "start_time": "2021-06-09T11:41:43.908106Z"
    },
    "colab": {},
    "colab_type": "code",
    "id": "mWQ2WEb6sTUm"
   },
   "outputs": [],
   "source": [
    "analysis = uq.analysis.EnsembleBoot(qoi_cols=[(\"iteration\", 0)], groupby=('ensemble_id', 0), stat_func=np.mean, stat_name='mean')\n",
    "campaign.apply_analysis(analysis)"
   ]
  },
  {
   "cell_type": "markdown",
   "metadata": {
    "colab_type": "text",
    "id": "KjOTJzW9-cUc"
   },
   "source": [
    "We can now view the resulting `DataFrame`."
   ]
  },
  {
   "cell_type": "code",
   "execution_count": 44,
   "metadata": {
    "ExecuteTime": {
     "end_time": "2021-06-09T11:42:39.642684Z",
     "start_time": "2021-06-09T11:42:39.633347Z"
    },
    "colab": {},
    "colab_type": "code",
    "id": "jRVhGK84sXcM"
   },
   "outputs": [
    {
     "name": "stdout",
     "output_type": "stream",
     "text": [
      "                  iteration                      \n",
      "                          0                      \n",
      "                       mean        low       high\n",
      "(ensemble_id, 0)                                 \n",
      "0                  1.333333   1.183333   1.500417\n",
      "1                  3.950000   3.600000   4.350000\n",
      "2                  9.283333   8.082917  10.767500\n",
      "3                 14.666667  12.850000  16.866667\n",
      "4                 28.800000  25.733333  32.384167\n",
      "5                 33.850000  30.048750  37.917083\n",
      "6                 43.283333  38.098750  47.784167\n",
      "7                 51.150000  46.316250  55.767500\n",
      "8                 52.583333  48.648750  56.183333\n",
      "9                 64.525000  60.316250  68.450833\n",
      "10                64.975000  61.815417  68.134583\n",
      "11                65.808333  62.082917  69.600417\n",
      "12                71.500000  68.265417  74.800417\n",
      "13                75.658333  72.150000  79.435000\n"
     ]
    }
   ],
   "source": [
    "results = campaign.get_last_analysis()\n",
    "print(results)"
   ]
  },
  {
   "cell_type": "code",
   "execution_count": 46,
   "metadata": {
    "ExecuteTime": {
     "end_time": "2021-06-09T11:45:45.308509Z",
     "start_time": "2021-06-09T11:45:45.297426Z"
    },
    "colab": {},
    "colab_type": "code",
    "id": "LwWwIsNbszAJ"
   },
   "outputs": [],
   "source": [
    "#plt.errorbar(list(range(2, 30, 2)), \n",
    "#             results[('iteration', 0)]['mean'].values,\n",
    "#             np.array([results['iteration']['mean'].values - results['iteration']['low'].values,\n",
    "#                       results['iteration']['high'].values - results['iteration']['mean'].values]))\n",
    "#plt.xlabel('duration (days)')\n",
    "#plt.ylabel('days until eradication')\n",
    "#plt.show()"
   ]
  },
  {
   "cell_type": "markdown",
   "metadata": {
    "colab_type": "text",
    "id": "ElXBj81rUDpu"
   },
   "source": [
    "# Remote Execution"
   ]
  },
  {
   "cell_type": "markdown",
   "metadata": {},
   "source": [
    "This part of the tutorial assumes that you have a Kubernetes cluster access configured. In other words the `~/.kube/config` file needs to be populated with the data that Kubernetes API can use to connect to a cluster. The exact details for how to do this will depend on your cloud service provider. For example, in order to start a cluster on GKE I would need to run the following command (or similar):"
   ]
  },
  {
   "cell_type": "code",
   "execution_count": null,
   "metadata": {
    "ExecuteTime": {
     "end_time": "2021-06-09T11:12:42.595747Z",
     "start_time": "2021-06-09T11:12:29.810Z"
    }
   },
   "outputs": [],
   "source": [
    "!gcloud container clusters create easyvvuq"
   ]
  },
  {
   "cell_type": "markdown",
   "metadata": {},
   "source": [
    "To use this functionality you would first need to create a Docker image for your simulation. There are many resource on how to do this. See for example [here](https://docs.docker.com/get-started/part2/). For your convenience below is the Dockerfile we have used when creating an EasyVVUQ image that will be used in his example. You also need to publish your Docker image to where it can be downloaded by the Kubernetes cluster. An obvious place is [Docker Hub](https://hub.docker.com/).\n",
    "\n",
    "```\n",
    "FROM ubuntu:latest\n",
    "\n",
    "RUN apt-get update && \\\n",
    "    apt-get install -y python3-pip && \\\n",
    "    apt-get install -y git && \\\n",
    "    apt-get install -y tini && \\\n",
    "    pip3 install easyvvuq && \\\n",
    "    git clone https://github.com/UCL-CCS/EasyVVUQ.git\n",
    "\n",
    "ENTRYPOINT [\"tini\", \"--\"]\n",
    "```"
   ]
  },
  {
   "cell_type": "markdown",
   "metadata": {},
   "source": [
    "After this, the only other bit of boring admin you need to do is to create a Kubernetes pod configuration. Again here is the one that was used in this tutorial:\n",
    "\n",
    "```\n",
    "apiVersion: v1\n",
    "kind: Pod\n",
    "metadata:\n",
    "  name: epidemic\n",
    "spec:\n",
    "  restartPolicy: Never\n",
    "  containers:\n",
    "  - name: epidemic\n",
    "    image: orbitfold/easyvvuq:latest\n",
    "    command: [\"/bin/sh\", \"-c\"]\n",
    "    args: [\"python3 /EasyVVUQ/docs/epidemic/epidemic.py /config/example.json out.csv && cat out.csv\"]\n",
    "```\n",
    "\n",
    "It will likely be the same for your simulation. Please note the image name, and the command that will be used to execute the simulation. In the current implementation your simulation needs to put all output to the standard output. So after creating the output CSV file we use `cat` to print it to the screen. Your way of doing this is likely to be different."
   ]
  },
  {
   "cell_type": "markdown",
   "metadata": {},
   "source": [
    "We have, so far, drawn 20 samples in our parameter sweep which has resulted in fairly wide error bars. We can shrink them by adding more samples. To this end will draw 80 more samples and create the corresponding input files."
   ]
  },
  {
   "cell_type": "code",
   "execution_count": null,
   "metadata": {
    "ExecuteTime": {
     "end_time": "2021-06-09T11:12:42.596133Z",
     "start_time": "2021-06-09T11:12:29.819Z"
    }
   },
   "outputs": [],
   "source": [
    "campaign.draw_samples(60 * 14)\n",
    "campaign.populate_runs_dir()"
   ]
  },
  {
   "cell_type": "markdown",
   "metadata": {},
   "source": [
    "Now we call `apply_for_each_run_dir` with the `ExecuteKubernetes` action. This will submit the jobs to the Kubernetes cluster and the execution will automatically start."
   ]
  },
  {
   "cell_type": "code",
   "execution_count": null,
   "metadata": {
    "ExecuteTime": {
     "end_time": "2021-06-09T11:12:42.596589Z",
     "start_time": "2021-06-09T11:12:29.820Z"
    }
   },
   "outputs": [],
   "source": [
    "statuses = campaign.apply_for_each_run_dir(\n",
    "      uq.actions.ExecuteKubernetes('../tutorials/kubernetes/epidemic.yaml', \n",
    "                                   ['epidemic_in.json'], 'output.csv'), batch_size=8)"
   ]
  },
  {
   "cell_type": "code",
   "execution_count": null,
   "metadata": {
    "ExecuteTime": {
     "end_time": "2021-06-09T11:12:42.597012Z",
     "start_time": "2021-06-09T11:12:29.820Z"
    }
   },
   "outputs": [],
   "source": [
    "statuses = campaign.sample_and_apply(\n",
    "    60 * 14,\n",
    "    uq.actions.ExecuteKubernetes(\n",
    "        '../tutorials/kubernetes/epidemic.yaml', \n",
    "        ['epidemic_in.json'], \n",
    "        'output.csv'), 8)"
   ]
  },
  {
   "cell_type": "code",
   "execution_count": null,
   "metadata": {
    "ExecuteTime": {
     "end_time": "2021-06-09T11:12:42.597567Z",
     "start_time": "2021-06-09T11:12:29.820Z"
    }
   },
   "outputs": [],
   "source": [
    "statuses.start()"
   ]
  },
  {
   "cell_type": "code",
   "execution_count": null,
   "metadata": {
    "ExecuteTime": {
     "end_time": "2021-06-09T11:12:42.598018Z",
     "start_time": "2021-06-09T11:12:29.821Z"
    }
   },
   "outputs": [],
   "source": [
    "print(statuses.progress())\n",
    "statuses.actions"
   ]
  },
  {
   "cell_type": "code",
   "execution_count": null,
   "metadata": {
    "ExecuteTime": {
     "end_time": "2021-06-09T11:12:42.598422Z",
     "start_time": "2021-06-09T11:12:29.821Z"
    }
   },
   "outputs": [],
   "source": [
    "campaign.collate()\n",
    "df = campaign.get_collation_result()"
   ]
  },
  {
   "cell_type": "code",
   "execution_count": null,
   "metadata": {
    "ExecuteTime": {
     "end_time": "2021-06-09T11:12:42.598868Z",
     "start_time": "2021-06-09T11:12:29.821Z"
    }
   },
   "outputs": [],
   "source": [
    "analysis = uq.analysis.EnsembleBoot(qoi_cols=[\"iteration\"], groupby='ensemble', stat_func=np.mean, stat_name='mean')\n",
    "campaign.apply_analysis(analysis)"
   ]
  },
  {
   "cell_type": "code",
   "execution_count": null,
   "metadata": {
    "ExecuteTime": {
     "end_time": "2021-06-09T11:12:42.599293Z",
     "start_time": "2021-06-09T11:12:29.821Z"
    }
   },
   "outputs": [],
   "source": [
    "results = campaign.get_last_analysis()\n",
    "print(results)"
   ]
  },
  {
   "cell_type": "code",
   "execution_count": null,
   "metadata": {
    "ExecuteTime": {
     "end_time": "2021-06-09T11:12:42.599735Z",
     "start_time": "2021-06-09T11:12:29.822Z"
    }
   },
   "outputs": [],
   "source": [
    "plt.errorbar(list(range(2, 30, 2)), \n",
    "             results['iteration']['mean'].values,\n",
    "             np.array([results['iteration']['mean'].values - results['iteration']['low'].values,\n",
    "                       results['iteration']['high'].values - results['iteration']['mean'].values]))\n",
    "plt.xlabel('duration (days)')\n",
    "plt.ylabel('days until eradication')\n",
    "plt.show()"
   ]
  },
  {
   "cell_type": "markdown",
   "metadata": {},
   "source": [
    "# Sensitivy Analysis with QMC"
   ]
  },
  {
   "cell_type": "code",
   "execution_count": 47,
   "metadata": {
    "ExecuteTime": {
     "end_time": "2021-06-09T11:46:35.815632Z",
     "start_time": "2021-06-09T11:46:35.779662Z"
    }
   },
   "outputs": [],
   "source": [
    "campaign = uq.Campaign(name='sobol_method', params=params, actions=actions)"
   ]
  },
  {
   "cell_type": "code",
   "execution_count": 49,
   "metadata": {
    "ExecuteTime": {
     "end_time": "2021-06-09T11:47:01.688736Z",
     "start_time": "2021-06-09T11:47:01.660143Z"
    }
   },
   "outputs": [],
   "source": [
    "vary = {\n",
    "    \"duration\": cp.DiscreteUniform(7, 14),\n",
    "    \"mortality\": cp.Uniform(0.1, 0.3),\n",
    "}\n",
    "qmc_sampler = uq.sampling.QMCSampler(vary, 128)"
   ]
  },
  {
   "cell_type": "code",
   "execution_count": 50,
   "metadata": {
    "ExecuteTime": {
     "end_time": "2021-06-09T11:47:05.484714Z",
     "start_time": "2021-06-09T11:47:05.465185Z"
    }
   },
   "outputs": [],
   "source": [
    "campaign.set_sampler(qmc_sampler)"
   ]
  },
  {
   "cell_type": "code",
   "execution_count": 51,
   "metadata": {
    "ExecuteTime": {
     "end_time": "2021-06-09T11:49:47.023377Z",
     "start_time": "2021-06-09T11:48:06.147543Z"
    }
   },
   "outputs": [
    {
     "name": "stderr",
     "output_type": "stream",
     "text": [
      "100%|██████████| 512/512 [01:40<00:00,  5.09it/s]\n"
     ]
    }
   ],
   "source": [
    "campaign.execute().collate(progress_bar=True)"
   ]
  },
  {
   "cell_type": "code",
   "execution_count": 52,
   "metadata": {
    "ExecuteTime": {
     "end_time": "2021-06-09T11:49:54.180092Z",
     "start_time": "2021-06-09T11:49:54.139812Z"
    }
   },
   "outputs": [
    {
     "name": "stdout",
     "output_type": "stream",
     "text": [
      "    run_id iteration   duration mortality grid_size   n ensemble ensemble_id\n",
      "         0         0          0         0         0   0        0           0\n",
      "0        1      13.0   6.511719  0.175293        10  20        0           0\n",
      "1        2      14.0  10.082031  0.175293        10  20        0           0\n",
      "2        3      12.0   6.511719  0.197363        10  20        0           0\n",
      "3        4       9.0  10.082031  0.197363        10  20        0           0\n",
      "4        5      24.0  10.511719  0.275293        10  20        0           0\n",
      "..     ...       ...        ...       ...       ...  ..      ...         ...\n",
      "507    508      13.0  10.394531  0.173926        10  20        0           0\n",
      "508    509      12.0   6.574219  0.258105        10  20        0           0\n",
      "509    510      55.0  14.394531  0.258105        10  20        0           0\n",
      "510    511       5.0   6.574219  0.273926        10  20        0           0\n",
      "511    512      24.0  14.394531  0.273926        10  20        0           0\n",
      "\n",
      "[512 rows x 8 columns]\n"
     ]
    }
   ],
   "source": [
    "df = campaign.get_collation_result()\n",
    "print(df)"
   ]
  },
  {
   "cell_type": "code",
   "execution_count": 54,
   "metadata": {
    "ExecuteTime": {
     "end_time": "2021-06-09T11:51:00.317005Z",
     "start_time": "2021-06-09T11:50:58.505493Z"
    }
   },
   "outputs": [],
   "source": [
    "from easyvvuq.analysis import QMCAnalysis\n",
    "analysis = QMCAnalysis(qmc_sampler, ['n', 'duration', 'mortality'])\n",
    "campaign.apply_analysis(analysis)\n",
    "results = campaign.get_last_analysis()"
   ]
  },
  {
   "cell_type": "code",
   "execution_count": 72,
   "metadata": {
    "ExecuteTime": {
     "end_time": "2021-06-09T11:57:02.446459Z",
     "start_time": "2021-06-09T11:57:02.441366Z"
    }
   },
   "outputs": [
    {
     "data": {
      "text/plain": [
       "{'n': {'duration': array([0.]), 'mortality': array([0.])},\n",
       " 'duration': {'duration': array([1.01554484]), 'mortality': array([0.])},\n",
       " 'mortality': {'duration': array([0.]), 'mortality': array([1.01224875])}}"
      ]
     },
     "execution_count": 72,
     "metadata": {},
     "output_type": "execute_result"
    }
   ],
   "source": [
    "results.sobols_first()"
   ]
  },
  {
   "cell_type": "code",
   "execution_count": 73,
   "metadata": {
    "ExecuteTime": {
     "end_time": "2021-06-09T11:57:20.647435Z",
     "start_time": "2021-06-09T11:57:20.643067Z"
    }
   },
   "outputs": [
    {
     "data": {
      "text/plain": [
       "{'duration': array([0.]), 'mortality': array([1.01224875])}"
      ]
     },
     "execution_count": 73,
     "metadata": {},
     "output_type": "execute_result"
    }
   ],
   "source": [
    "results.sobols_first('mortality')"
   ]
  },
  {
   "cell_type": "code",
   "execution_count": 74,
   "metadata": {
    "ExecuteTime": {
     "end_time": "2021-06-09T11:57:35.652593Z",
     "start_time": "2021-06-09T11:57:35.645974Z"
    }
   },
   "outputs": [
    {
     "data": {
      "text/plain": [
       "{'duration': array([1.01554484]), 'mortality': array([0.])}"
      ]
     },
     "execution_count": 74,
     "metadata": {},
     "output_type": "execute_result"
    }
   ],
   "source": [
    "results.sobols_first('duration')"
   ]
  },
  {
   "cell_type": "code",
   "execution_count": 92,
   "metadata": {
    "ExecuteTime": {
     "end_time": "2021-06-09T12:17:21.596591Z",
     "start_time": "2021-06-09T12:17:21.581676Z"
    }
   },
   "outputs": [
    {
     "data": {
      "text/html": [
       "<div>\n",
       "<style scoped>\n",
       "    .dataframe tbody tr th:only-of-type {\n",
       "        vertical-align: middle;\n",
       "    }\n",
       "\n",
       "    .dataframe tbody tr th {\n",
       "        vertical-align: top;\n",
       "    }\n",
       "\n",
       "    .dataframe thead tr th {\n",
       "        text-align: left;\n",
       "    }\n",
       "</style>\n",
       "<table border=\"1\" class=\"dataframe\">\n",
       "  <thead>\n",
       "    <tr>\n",
       "      <th></th>\n",
       "      <th>n</th>\n",
       "      <th>duration</th>\n",
       "      <th>mortality</th>\n",
       "    </tr>\n",
       "    <tr>\n",
       "      <th></th>\n",
       "      <th>0</th>\n",
       "      <th>0</th>\n",
       "      <th>0</th>\n",
       "    </tr>\n",
       "  </thead>\n",
       "  <tbody>\n",
       "    <tr>\n",
       "      <th>mean</th>\n",
       "      <td>20.0</td>\n",
       "      <td>10.484375</td>\n",
       "      <td>0.199609</td>\n",
       "    </tr>\n",
       "    <tr>\n",
       "      <th>var</th>\n",
       "      <td>0.0</td>\n",
       "      <td>5.333023</td>\n",
       "      <td>0.003333</td>\n",
       "    </tr>\n",
       "    <tr>\n",
       "      <th>std</th>\n",
       "      <td>0.0</td>\n",
       "      <td>2.309334</td>\n",
       "      <td>0.057733</td>\n",
       "    </tr>\n",
       "  </tbody>\n",
       "</table>\n",
       "</div>"
      ],
      "text/plain": [
       "         n   duration mortality\n",
       "         0          0         0\n",
       "mean  20.0  10.484375  0.199609\n",
       "var    0.0   5.333023  0.003333\n",
       "std    0.0   2.309334  0.057733"
      ]
     },
     "execution_count": 92,
     "metadata": {},
     "output_type": "execute_result"
    }
   ],
   "source": [
    "results.describe()"
   ]
  },
  {
   "cell_type": "markdown",
   "metadata": {
    "colab_type": "text",
    "id": "xdGqgdlg4tJI"
   },
   "source": [
    "# Using Stochastic Collocation"
   ]
  },
  {
   "cell_type": "code",
   "execution_count": 75,
   "metadata": {
    "ExecuteTime": {
     "end_time": "2021-06-09T12:01:04.182632Z",
     "start_time": "2021-06-09T12:01:04.114377Z"
    },
    "colab": {},
    "colab_type": "code",
    "id": "eZJDR7_ZvUTx"
   },
   "outputs": [],
   "source": [
    "campaign = uq.Campaign(name='epidemic_sc', params=params, actions=actions)"
   ]
  },
  {
   "cell_type": "code",
   "execution_count": 76,
   "metadata": {
    "ExecuteTime": {
     "end_time": "2021-06-09T12:01:07.432934Z",
     "start_time": "2021-06-09T12:01:06.849040Z"
    },
    "colab": {},
    "colab_type": "code",
    "id": "HocadTwF4tJJ"
   },
   "outputs": [],
   "source": [
    "vary = {\n",
    "    \"n\": cp.DiscreteUniform(10, 100),\n",
    "    \"duration\": cp.DiscreteUniform(7, 56),\n",
    "    \"mortality\": cp.Uniform(0.0, 1.0),\n",
    "}\n",
    "sampler = uq.sampling.SCSampler(vary=vary, polynomial_order=9)\n",
    "campaign.set_sampler(sampler)"
   ]
  },
  {
   "cell_type": "code",
   "execution_count": 77,
   "metadata": {
    "ExecuteTime": {
     "end_time": "2021-06-09T12:05:38.606297Z",
     "start_time": "2021-06-09T12:01:45.686430Z"
    },
    "colab": {},
    "colab_type": "code",
    "id": "E6LLEaUaN12F"
   },
   "outputs": [
    {
     "name": "stderr",
     "output_type": "stream",
     "text": [
      "100%|██████████| 1000/1000 [03:52<00:00,  4.30it/s]\n"
     ]
    }
   ],
   "source": [
    "campaign.execute().collate(progress_bar=True)"
   ]
  },
  {
   "cell_type": "code",
   "execution_count": 78,
   "metadata": {
    "ExecuteTime": {
     "end_time": "2021-06-09T12:08:48.259099Z",
     "start_time": "2021-06-09T12:08:48.175980Z"
    },
    "colab": {},
    "colab_type": "code",
    "id": "hdlG-EpXOARP"
   },
   "outputs": [
    {
     "name": "stdout",
     "output_type": "stream",
     "text": [
      "    run_id iteration     n duration mortality grid_size ensemble ensemble_id\n",
      "         0         0     0        0         0         0        0           0\n",
      "0        1      12.0  14.0      9.0  0.013047        10        0           0\n",
      "1        2      10.0  14.0      9.0  0.067468        10        0           0\n",
      "2        3      22.0  14.0      9.0  0.160295        10        0           0\n",
      "3        4      13.0  14.0      9.0  0.283302        10        0           0\n",
      "4        5       8.0  14.0      9.0  0.425563        10        0           0\n",
      "..     ...       ...   ...      ...       ...       ...      ...         ...\n",
      "995    996      69.0  96.0     54.0  0.574437        10        0           0\n",
      "996    997      71.0  96.0     54.0  0.716698        10        0           0\n",
      "997    998      74.0  96.0     54.0  0.839705        10        0           0\n",
      "998    999      65.0  96.0     54.0  0.932532        10        0           0\n",
      "999   1000      69.0  96.0     54.0  0.986953        10        0           0\n",
      "\n",
      "[1000 rows x 8 columns]\n"
     ]
    }
   ],
   "source": [
    "df = campaign.get_collation_result()\n",
    "print(df)"
   ]
  },
  {
   "cell_type": "markdown",
   "metadata": {
    "colab_type": "text",
    "id": "qrmRhOxB4tJN"
   },
   "source": [
    "And the analysis can be done with: :"
   ]
  },
  {
   "cell_type": "code",
   "execution_count": 81,
   "metadata": {
    "ExecuteTime": {
     "end_time": "2021-06-09T12:10:23.720134Z",
     "start_time": "2021-06-09T12:10:23.007088Z"
    },
    "colab": {},
    "colab_type": "code",
    "id": "c-dD72LA4tJO"
   },
   "outputs": [],
   "source": [
    "analysis = uq.analysis.SCAnalysis(sampler=sampler, qoi_cols=[\"iteration\"])\n",
    "campaign.apply_analysis(analysis)\n",
    "results_sc = campaign.get_last_analysis()"
   ]
  },
  {
   "cell_type": "code",
   "execution_count": 93,
   "metadata": {
    "ExecuteTime": {
     "end_time": "2021-06-09T12:17:59.935340Z",
     "start_time": "2021-06-09T12:17:59.923391Z"
    }
   },
   "outputs": [
    {
     "data": {
      "text/html": [
       "<div>\n",
       "<style scoped>\n",
       "    .dataframe tbody tr th:only-of-type {\n",
       "        vertical-align: middle;\n",
       "    }\n",
       "\n",
       "    .dataframe tbody tr th {\n",
       "        vertical-align: top;\n",
       "    }\n",
       "\n",
       "    .dataframe thead tr th {\n",
       "        text-align: left;\n",
       "    }\n",
       "</style>\n",
       "<table border=\"1\" class=\"dataframe\">\n",
       "  <thead>\n",
       "    <tr>\n",
       "      <th></th>\n",
       "      <th>iteration</th>\n",
       "    </tr>\n",
       "    <tr>\n",
       "      <th></th>\n",
       "      <th>0</th>\n",
       "    </tr>\n",
       "  </thead>\n",
       "  <tbody>\n",
       "    <tr>\n",
       "      <th>mean</th>\n",
       "      <td>62.304993</td>\n",
       "    </tr>\n",
       "    <tr>\n",
       "      <th>std</th>\n",
       "      <td>24.803309</td>\n",
       "    </tr>\n",
       "    <tr>\n",
       "      <th>var</th>\n",
       "      <td>615.204157</td>\n",
       "    </tr>\n",
       "  </tbody>\n",
       "</table>\n",
       "</div>"
      ],
      "text/plain": [
       "       iteration\n",
       "               0\n",
       "mean   62.304993\n",
       "std    24.803309\n",
       "var   615.204157"
      ]
     },
     "execution_count": 93,
     "metadata": {},
     "output_type": "execute_result"
    }
   ],
   "source": [
    "results_sc.describe()"
   ]
  },
  {
   "cell_type": "code",
   "execution_count": 85,
   "metadata": {
    "ExecuteTime": {
     "end_time": "2021-06-09T12:13:04.848224Z",
     "start_time": "2021-06-09T12:13:04.771831Z"
    }
   },
   "outputs": [
    {
     "data": {
      "text/plain": [
       "array([133196.93383935])"
      ]
     },
     "execution_count": 85,
     "metadata": {},
     "output_type": "execute_result"
    }
   ],
   "source": [
    "analysis.surrogate('iteration', np.array([5, 7, 0.7]))"
   ]
  },
  {
   "cell_type": "code",
   "execution_count": 88,
   "metadata": {
    "ExecuteTime": {
     "end_time": "2021-06-09T12:15:08.230696Z",
     "start_time": "2021-06-09T12:14:53.828510Z"
    },
    "colab": {},
    "colab_type": "code",
    "id": "P0BcqazCnb9x"
   },
   "outputs": [
    {
     "data": {
      "image/png": "[encoded data removed]",
      "text/plain": [
       "<Figure size 800x800 with 1 Axes>"
      ]
     },
     "metadata": {},
     "output_type": "display_data"
    }
   ],
   "source": [
    "n = np.linspace(5, 100, 20)\n",
    "duration = np.linspace(7, 50, 20)\n",
    "mortality = 0.7\n",
    "grid = np.meshgrid(n, duration, mortality)\n",
    "z = np.array([analysis.surrogate('iteration', np.array([grid[0].flatten()[i], grid[1].flatten()[i], mortality])) for i in range(n.shape[0] * duration.shape[0])]).flatten()\n",
    "fig = plt.figure(figsize=(10, 10), dpi= 80, facecolor='w', edgecolor='k')\n",
    "ax = fig.gca(projection='3d')\n",
    "ax.set_zlim(0, 200)\n",
    "ax.plot_trisurf(grid[0].flatten(), grid[1].flatten(), z)\n",
    "ax.set_xlabel('n')\n",
    "ax.set_ylabel('duration')\n",
    "ax.set_zlabel('time')\n",
    "plt.show()"
   ]
  },
  {
   "cell_type": "markdown",
   "metadata": {
    "colab_type": "text",
    "id": "-ph5PGWyweNr"
   },
   "source": [
    "Let us quickly check the correspondence of the surrogate model to the data we have collected during our parameter sweep experiment. What we're looking for is the curve should be within the confidence interval we have calculated."
   ]
  },
  {
   "cell_type": "code",
   "execution_count": 91,
   "metadata": {
    "ExecuteTime": {
     "end_time": "2021-06-09T12:16:05.723232Z",
     "start_time": "2021-06-09T12:16:05.156571Z"
    },
    "colab": {},
    "colab_type": "code",
    "id": "KkR5FHvx1BAw"
   },
   "outputs": [
    {
     "data": {
      "image/png": "[encoded data removed]",
      "text/plain": [
       "<Figure size 432x288 with 1 Axes>"
      ]
     },
     "metadata": {
      "needs_background": "light"
     },
     "output_type": "display_data"
    }
   ],
   "source": [
    "n = [20] * 14\n",
    "duration = list(range(2, 30, 2))\n",
    "mortality = [0.2] * 14\n",
    "\n",
    "plt.plot(([analysis.surrogate('iteration', np.array([n_, duration_, mortality_]))[0] for n_, duration_, mortality_ in zip(n, duration, mortality)]))\n",
    "plt.ylim(0, 100)\n",
    "plt.show()"
   ]
  },
  {
   "cell_type": "code",
   "execution_count": null,
   "metadata": {},
   "outputs": [],
   "source": []
  }
 ],
 "metadata": {
  "colab": {
   "collapsed_sections": [],
   "name": "EasyVVUQ Tutorial with a Toy Epidemiological Model",
   "provenance": []
  },
  "kernelspec": {
   "display_name": "Python 3",
   "language": "python",
   "name": "python3"
  },
  "language_info": {
   "codemirror_mode": {
    "name": "ipython",
    "version": 3
   },
   "file_extension": ".py",
   "mimetype": "text/x-python",
   "name": "python",
   "nbconvert_exporter": "python",
   "pygments_lexer": "ipython3",
   "version": "3.9.4"
  },
  "latex_envs": {
   "LaTeX_envs_menu_present": true,
   "autoclose": false,
   "autocomplete": true,
   "bibliofile": "biblio.bib",
   "cite_by": "apalike",
   "current_citInitial": 1,
   "eqLabelWithNumbers": true,
   "eqNumInitial": 1,
   "hotkeys": {
    "equation": "Ctrl-E",
    "itemize": "Ctrl-I"
   },
   "labels_anchors": false,
   "latex_user_defs": false,
   "report_style_numbering": false,
   "user_envs_cfg": false
  }
 },
 "nbformat": 4,
 "nbformat_minor": 1
}
