{
 "cells": [
  {
   "cell_type": "markdown",
   "metadata": {},
   "source": [
    "# EasyVVUQ - Basic Concepts"
   ]
  },
  {
   "cell_type": "markdown",
   "metadata": {},
   "source": [
    "**Author**: Vytautas Jancauskas, LRZ (jancauskas@lrz.de)"
   ]
  },
  {
   "cell_type": "markdown",
   "metadata": {},
   "source": [
    "If this is your first Jupyter Notebook - you can execute code cells by selecting them and pressing ```Shift+Enter```. Just have in mind that the order of execution might matter (if later cells depend on things done in earlier ones)."
   ]
  },
  {
   "cell_type": "markdown",
   "metadata": {},
   "source": [
    "This tutorial shows a simple EasyVVUQ workflow in action. The example used here is a simulation of a vertical deflection of a tube. The model is that of a round metal tube suspended on each end and force being applied at a certain point along it's length. The model measures how large is the deflection at the point force is applied. Full description of it can be found [here](https://openturns.github.io/openturns/latest/usecases/use_case_deflection_tube.html). This model was chosen since it is intuitively easy to understand even without any background in the relative field. It is also easy to interpret the results. We will use EasyVVUQ to determine the influence each of the input parameters has on the vertical deflection at point ```a```."
   ]
  },
  {
   "cell_type": "markdown",
   "metadata": {},
   "source": [
    "The usage of the application is:\n",
    "\n",
    "```beam <input_file>```\n",
    "\n",
    "It outputs a single file called output.json, which will look like ```{'g1': x, 'g2': y, 'g3': y}``` where ```g1``` is the vertical displacement at point ```a``` and ```g2```, ```g3``` are displaced angles of the tube at the left and right ends respectively.\n",
    "\n",
    "The beam.template is a template input file, in JSON format\n",
    "\n",
    "```{\"outfile\": \"$outfile\", \"F\": $F, \"L\": $L, \"a\": $a, \"D\": $D, \"d\": $d, \"E\": $E}```\n",
    "\n",
    "The values for each key are tags (signified by the $ delimiter) which will be substituted by EasyVVUQ with values to sample the parameter space. In the following tutorial, the template will be used to generate files called input.json that will be the input to each run of ```beam```."
   ]
  },
  {
   "cell_type": "markdown",
   "metadata": {},
   "source": [
    "So, for example (commands preceded by an exclamation mark are treated as shell commands):"
   ]
  },
  {
   "cell_type": "code",
   "execution_count": 1,
   "metadata": {},
   "outputs": [],
   "source": [
    "!echo \"{\\\"outfile\\\": \\\"output.json\\\", \\\"F\\\": 1.0, \\\"L\\\": 1.5, \\\"a\\\": 1.0, \\\"D\\\": 0.8, \\\"d\\\": 0.1, \\\"E\\\": 200000}\" > input.json"
   ]
  },
  {
   "cell_type": "code",
   "execution_count": 2,
   "metadata": {},
   "outputs": [],
   "source": [
    "!./beam input.json"
   ]
  },
  {
   "cell_type": "code",
   "execution_count": 3,
   "metadata": {},
   "outputs": [
    {
     "name": "stdout",
     "output_type": "stream",
     "text": [
      "{\"g1\": -6.909453505549654e-06, \"g2\": -1.3818907011099308e-05, \"g3\": 1.7273633763874136e-05}"
     ]
    }
   ],
   "source": [
    "!cat output.json"
   ]
  },
  {
   "cell_type": "markdown",
   "metadata": {},
   "source": [
    "In this tutorial we will see how to use EasyVVUQ to do variance based sensitivity analysis using stochastic collocation. It is one of several methods that EasyVVUQ supports for this purpose (others being Monte Carlo and Polynomial Chaos Expansion methods). While stochastic collocation supports more complicated scenarios we only explore the basic functionality."
   ]
  },
  {
   "cell_type": "markdown",
   "metadata": {},
   "source": [
    "# Campaign"
   ]
  },
  {
   "cell_type": "markdown",
   "metadata": {},
   "source": [
    "We need to import EasyVVUQ as well as ChaosPy (we use it's distributions) and matplotlib for plotting later on."
   ]
  },
  {
   "cell_type": "code",
   "execution_count": 4,
   "metadata": {},
   "outputs": [],
   "source": [
    "import os\n",
    "import easyvvuq as uq\n",
    "import chaospy as cp\n",
    "import matplotlib.pyplot as plt\n",
    "from easyvvuq.actions import CreateRunDirectory, Encode, Decode, CleanUp, ExecuteLocal, Actions"
   ]
  },
  {
   "cell_type": "markdown",
   "metadata": {},
   "source": [
    "We will describe the parameters. This is done for validation purposes (so that input parameters outside valid ranges given an error. Also this is where you can specify default values for input parameters that you don't want to vary in the analysis. Only the type and the default value fields are mandatory."
   ]
  },
  {
   "cell_type": "code",
   "execution_count": 5,
   "metadata": {},
   "outputs": [],
   "source": [
    "params = {\n",
    "    \"F\": {\"type\": \"float\", \"default\": 1.0}, \n",
    "    \"L\": {\"type\": \"float\", \"default\": 1.5}, \n",
    "    \"a\": {\"type\": \"float\", \"min\": 0.7, \"max\": 1.2, \"default\": 1.0}, \n",
    "    \"D\": {\"type\": \"float\", \"min\": 0.75, \"max\": 0.85, \"default\": 0.8},\n",
    "    \"d\": {\"type\": \"float\", \"default\": 0.1},\n",
    "    \"E\": {\"type\": \"float\", \"default\": 200000},\n",
    "    \"outfile\": {\"type\": \"string\", \"default\": \"output.json\"}\n",
    "}"
   ]
  },
  {
   "cell_type": "markdown",
   "metadata": {},
   "source": [
    "Next step is to specify how the input files for the simulation are to be created and how EasyVVUQ is to parse the output of the simulation. This is the job of the Encoder and Decoder classes. Our simulation takes a very simple JSON file as input. So we can just use the GenericEncoder which is a template based encoder. It will replace all keys in the template file with respective values. In this case they are identified by the ```$``` that precedes them. Alternatively, there are more complex encoders based on, for example, the [Jinja2](https://easyvvuq.readthedocs.io/en/dev/easyvvuq.encoders.html#module-easyvvuq.encoders.jinja_encoder) templating language. Encoders can also do more complicated things, such as prepare a [directory structure](https://easyvvuq.readthedocs.io/en/dev/easyvvuq.encoders.html#module-easyvvuq.encoders.directory_builder) if your simulation requires such. If it requires several input files you can use a [multiencoder](https://easyvvuq.readthedocs.io/en/dev/easyvvuq.encoders.html#module-easyvvuq.encoders.multiencoder) to combine several encoders, each of which responsible for a single input file. They can also be used to [copy](https://easyvvuq.readthedocs.io/en/dev/easyvvuq.encoders.html#module-easyvvuq.encoders.copy_encoder) files over to the run directory.\n",
    "\n",
    "Decoder is responsible for parsing the otuput of the simulation. We use the [JSONDecoder](https://easyvvuq.readthedocs.io/en/dev/easyvvuq.decoders.html#module-easyvvuq.decoders.json) to extract the needed value. There also exist ready made decoders for [YAML](https://easyvvuq.readthedocs.io/en/dev/easyvvuq.decoders.html#module-easyvvuq.decoders.yaml) and [CSV](https://easyvvuq.readthedocs.io/en/dev/easyvvuq.decoders.html#module-easyvvuq.decoders.simple_csv). You can also easily write your own by inheriting from the BaseDecoder class."
   ]
  },
  {
   "cell_type": "code",
   "execution_count": 6,
   "metadata": {},
   "outputs": [],
   "source": [
    "encoder = uq.encoders.GenericEncoder(template_fname='beam.template', delimiter='$', target_filename='input.json')\n",
    "decoder = uq.decoders.JSONDecoder(target_filename='output.json', output_columns=['g1'])\n",
    "execute = ExecuteLocal('{}/beam input.json'.format(os.getcwd()))\n",
    "\n",
    "actions = Actions(CreateRunDirectory('/tmp'), \n",
    "                  Encode(encoder), execute, Decode(decoder))"
   ]
  },
  {
   "cell_type": "markdown",
   "metadata": {},
   "source": [
    "Campaign is the central hub in which operations take place. It is responsible for running your simulations, gathering the results, storing them in the Database, retrieving them for analysis, etc. The Campaign in EasyVVUQ is very powerful and supports multiple applications, sampling, analysis and execution methods. It also lets you save progress and retrieve results later for analysis. Here we only look at a simple case."
   ]
  },
  {
   "cell_type": "code",
   "execution_count": 7,
   "metadata": {},
   "outputs": [],
   "source": [
    "campaign = uq.Campaign(name='beam', params=params, actions=actions)"
   ]
  },
  {
   "cell_type": "markdown",
   "metadata": {},
   "source": [
    "First we need to define the input parameter distributions. We have chosen 4 of the 6 available inputs. This is partly because this means that we won't have to sample at too many points and partly because I've found that these influence the output variable the most."
   ]
  },
  {
   "cell_type": "code",
   "execution_count": 8,
   "metadata": {},
   "outputs": [],
   "source": [
    "vary = {\n",
    "    \"F\": cp.Normal(1, 0.1),\n",
    "    \"L\": cp.Normal(1.5, 0.01),\n",
    "    \"a\": cp.Uniform(0.7, 1.2),\n",
    "    \"D\": cp.Triangle(0.75, 0.8, 0.85)\n",
    "}"
   ]
  },
  {
   "cell_type": "markdown",
   "metadata": {},
   "source": [
    "We have to choose the sampler next. For this task we can use either [Stochastic Collocation](https://easyvvuq.readthedocs.io/en/dev/easyvvuq.sampling.html#module-easyvvuq.sampling.stochastic_collocation), [Polynomial Chaos Expansion](https://easyvvuq.readthedocs.io/en/dev/easyvvuq.sampling.html#module-easyvvuq.sampling.pce) or [QMC](https://easyvvuq.readthedocs.io/en/dev/easyvvuq.sampling.html#module-easyvvuq.sampling.qmc) samplers. Stochastic Collocation is fast for this problem size so that is what we chose."
   ]
  },
  {
   "cell_type": "code",
   "execution_count": 9,
   "metadata": {},
   "outputs": [],
   "source": [
    "campaign.set_sampler(uq.sampling.PCESampler(vary=vary, polynomial_order=1))"
   ]
  },
  {
   "cell_type": "markdown",
   "metadata": {},
   "source": [
    "For this tutorial we have chosen to run the simulation on the local machine. This will done in parallel with up to 8 tasks running concurrently. Alternatives are execution in the Cloud (via the [ExecuteKubernetes](https://easyvvuq.readthedocs.io/en/dev/easyvvuq.actions.html#module-easyvvuq.actions.execute_kubernetes) action) or on HPC machines."
   ]
  },
  {
   "cell_type": "code",
   "execution_count": 10,
   "metadata": {
    "scrolled": false
   },
   "outputs": [],
   "source": [
    "campaign.execute().collate()"
   ]
  },
  {
   "cell_type": "markdown",
   "metadata": {},
   "source": [
    "The execution can take a bit since we need to generate several hundred samples. We asked it to evaluate 8 samples in parallel. You can track progress by using the ```progress``` method. You can also check progress automatically and resume execution after it is done if you want to run this inside a script rather than interactively."
   ]
  },
  {
   "cell_type": "code",
   "execution_count": 11,
   "metadata": {},
   "outputs": [
    {
     "data": {
      "text/html": [
       "<div>\n",
       "<style scoped>\n",
       "    .dataframe tbody tr th:only-of-type {\n",
       "        vertical-align: middle;\n",
       "    }\n",
       "\n",
       "    .dataframe tbody tr th {\n",
       "        vertical-align: top;\n",
       "    }\n",
       "\n",
       "    .dataframe thead tr th {\n",
       "        text-align: left;\n",
       "    }\n",
       "</style>\n",
       "<table border=\"1\" class=\"dataframe\">\n",
       "  <thead>\n",
       "    <tr>\n",
       "      <th></th>\n",
       "      <th>run_id</th>\n",
       "      <th>iteration</th>\n",
       "      <th>F</th>\n",
       "      <th>L</th>\n",
       "      <th>a</th>\n",
       "      <th>D</th>\n",
       "      <th>d</th>\n",
       "      <th>E</th>\n",
       "      <th>outfile</th>\n",
       "      <th>g1</th>\n",
       "    </tr>\n",
       "    <tr>\n",
       "      <th></th>\n",
       "      <th>0</th>\n",
       "      <th>0</th>\n",
       "      <th>0</th>\n",
       "      <th>0</th>\n",
       "      <th>0</th>\n",
       "      <th>0</th>\n",
       "      <th>0</th>\n",
       "      <th>0</th>\n",
       "      <th>0</th>\n",
       "      <th>0</th>\n",
       "    </tr>\n",
       "  </thead>\n",
       "  <tbody>\n",
       "    <tr>\n",
       "      <th>0</th>\n",
       "      <td>1</td>\n",
       "      <td>0</td>\n",
       "      <td>0.9</td>\n",
       "      <td>1.49</td>\n",
       "      <td>0.805662</td>\n",
       "      <td>0.779588</td>\n",
       "      <td>0.1</td>\n",
       "      <td>200000</td>\n",
       "      <td>output.json</td>\n",
       "      <td>-0.000008</td>\n",
       "    </tr>\n",
       "    <tr>\n",
       "      <th>1</th>\n",
       "      <td>2</td>\n",
       "      <td>0</td>\n",
       "      <td>0.9</td>\n",
       "      <td>1.49</td>\n",
       "      <td>0.805662</td>\n",
       "      <td>0.820412</td>\n",
       "      <td>0.1</td>\n",
       "      <td>200000</td>\n",
       "      <td>output.json</td>\n",
       "      <td>-0.000007</td>\n",
       "    </tr>\n",
       "    <tr>\n",
       "      <th>2</th>\n",
       "      <td>3</td>\n",
       "      <td>0</td>\n",
       "      <td>0.9</td>\n",
       "      <td>1.49</td>\n",
       "      <td>1.094338</td>\n",
       "      <td>0.779588</td>\n",
       "      <td>0.1</td>\n",
       "      <td>200000</td>\n",
       "      <td>output.json</td>\n",
       "      <td>-0.000005</td>\n",
       "    </tr>\n",
       "    <tr>\n",
       "      <th>3</th>\n",
       "      <td>4</td>\n",
       "      <td>0</td>\n",
       "      <td>0.9</td>\n",
       "      <td>1.49</td>\n",
       "      <td>1.094338</td>\n",
       "      <td>0.820412</td>\n",
       "      <td>0.1</td>\n",
       "      <td>200000</td>\n",
       "      <td>output.json</td>\n",
       "      <td>-0.000004</td>\n",
       "    </tr>\n",
       "    <tr>\n",
       "      <th>4</th>\n",
       "      <td>5</td>\n",
       "      <td>0</td>\n",
       "      <td>0.9</td>\n",
       "      <td>1.51</td>\n",
       "      <td>0.805662</td>\n",
       "      <td>0.779588</td>\n",
       "      <td>0.1</td>\n",
       "      <td>200000</td>\n",
       "      <td>output.json</td>\n",
       "      <td>-0.000009</td>\n",
       "    </tr>\n",
       "    <tr>\n",
       "      <th>5</th>\n",
       "      <td>6</td>\n",
       "      <td>0</td>\n",
       "      <td>0.9</td>\n",
       "      <td>1.51</td>\n",
       "      <td>0.805662</td>\n",
       "      <td>0.820412</td>\n",
       "      <td>0.1</td>\n",
       "      <td>200000</td>\n",
       "      <td>output.json</td>\n",
       "      <td>-0.000007</td>\n",
       "    </tr>\n",
       "    <tr>\n",
       "      <th>6</th>\n",
       "      <td>7</td>\n",
       "      <td>0</td>\n",
       "      <td>0.9</td>\n",
       "      <td>1.51</td>\n",
       "      <td>1.094338</td>\n",
       "      <td>0.779588</td>\n",
       "      <td>0.1</td>\n",
       "      <td>200000</td>\n",
       "      <td>output.json</td>\n",
       "      <td>-0.000006</td>\n",
       "    </tr>\n",
       "    <tr>\n",
       "      <th>7</th>\n",
       "      <td>8</td>\n",
       "      <td>0</td>\n",
       "      <td>0.9</td>\n",
       "      <td>1.51</td>\n",
       "      <td>1.094338</td>\n",
       "      <td>0.820412</td>\n",
       "      <td>0.1</td>\n",
       "      <td>200000</td>\n",
       "      <td>output.json</td>\n",
       "      <td>-0.000005</td>\n",
       "    </tr>\n",
       "    <tr>\n",
       "      <th>8</th>\n",
       "      <td>9</td>\n",
       "      <td>0</td>\n",
       "      <td>1.1</td>\n",
       "      <td>1.49</td>\n",
       "      <td>0.805662</td>\n",
       "      <td>0.779588</td>\n",
       "      <td>0.1</td>\n",
       "      <td>200000</td>\n",
       "      <td>output.json</td>\n",
       "      <td>-0.000010</td>\n",
       "    </tr>\n",
       "    <tr>\n",
       "      <th>9</th>\n",
       "      <td>10</td>\n",
       "      <td>0</td>\n",
       "      <td>1.1</td>\n",
       "      <td>1.49</td>\n",
       "      <td>0.805662</td>\n",
       "      <td>0.820412</td>\n",
       "      <td>0.1</td>\n",
       "      <td>200000</td>\n",
       "      <td>output.json</td>\n",
       "      <td>-0.000008</td>\n",
       "    </tr>\n",
       "    <tr>\n",
       "      <th>10</th>\n",
       "      <td>11</td>\n",
       "      <td>0</td>\n",
       "      <td>1.1</td>\n",
       "      <td>1.49</td>\n",
       "      <td>1.094338</td>\n",
       "      <td>0.779588</td>\n",
       "      <td>0.1</td>\n",
       "      <td>200000</td>\n",
       "      <td>output.json</td>\n",
       "      <td>-0.000006</td>\n",
       "    </tr>\n",
       "    <tr>\n",
       "      <th>11</th>\n",
       "      <td>12</td>\n",
       "      <td>0</td>\n",
       "      <td>1.1</td>\n",
       "      <td>1.49</td>\n",
       "      <td>1.094338</td>\n",
       "      <td>0.820412</td>\n",
       "      <td>0.1</td>\n",
       "      <td>200000</td>\n",
       "      <td>output.json</td>\n",
       "      <td>-0.000005</td>\n",
       "    </tr>\n",
       "    <tr>\n",
       "      <th>12</th>\n",
       "      <td>13</td>\n",
       "      <td>0</td>\n",
       "      <td>1.1</td>\n",
       "      <td>1.51</td>\n",
       "      <td>0.805662</td>\n",
       "      <td>0.779588</td>\n",
       "      <td>0.1</td>\n",
       "      <td>200000</td>\n",
       "      <td>output.json</td>\n",
       "      <td>-0.000011</td>\n",
       "    </tr>\n",
       "    <tr>\n",
       "      <th>13</th>\n",
       "      <td>14</td>\n",
       "      <td>0</td>\n",
       "      <td>1.1</td>\n",
       "      <td>1.51</td>\n",
       "      <td>0.805662</td>\n",
       "      <td>0.820412</td>\n",
       "      <td>0.1</td>\n",
       "      <td>200000</td>\n",
       "      <td>output.json</td>\n",
       "      <td>-0.000009</td>\n",
       "    </tr>\n",
       "    <tr>\n",
       "      <th>14</th>\n",
       "      <td>15</td>\n",
       "      <td>0</td>\n",
       "      <td>1.1</td>\n",
       "      <td>1.51</td>\n",
       "      <td>1.094338</td>\n",
       "      <td>0.779588</td>\n",
       "      <td>0.1</td>\n",
       "      <td>200000</td>\n",
       "      <td>output.json</td>\n",
       "      <td>-0.000007</td>\n",
       "    </tr>\n",
       "    <tr>\n",
       "      <th>15</th>\n",
       "      <td>16</td>\n",
       "      <td>0</td>\n",
       "      <td>1.1</td>\n",
       "      <td>1.51</td>\n",
       "      <td>1.094338</td>\n",
       "      <td>0.820412</td>\n",
       "      <td>0.1</td>\n",
       "      <td>200000</td>\n",
       "      <td>output.json</td>\n",
       "      <td>-0.000006</td>\n",
       "    </tr>\n",
       "  </tbody>\n",
       "</table>\n",
       "</div>"
      ],
      "text/plain": [
       "   run_id iteration    F     L         a         D    d       E      outfile  \\\n",
       "        0         0    0     0         0         0    0       0            0   \n",
       "0       1         0  0.9  1.49  0.805662  0.779588  0.1  200000  output.json   \n",
       "1       2         0  0.9  1.49  0.805662  0.820412  0.1  200000  output.json   \n",
       "2       3         0  0.9  1.49  1.094338  0.779588  0.1  200000  output.json   \n",
       "3       4         0  0.9  1.49  1.094338  0.820412  0.1  200000  output.json   \n",
       "4       5         0  0.9  1.51  0.805662  0.779588  0.1  200000  output.json   \n",
       "5       6         0  0.9  1.51  0.805662  0.820412  0.1  200000  output.json   \n",
       "6       7         0  0.9  1.51  1.094338  0.779588  0.1  200000  output.json   \n",
       "7       8         0  0.9  1.51  1.094338  0.820412  0.1  200000  output.json   \n",
       "8       9         0  1.1  1.49  0.805662  0.779588  0.1  200000  output.json   \n",
       "9      10         0  1.1  1.49  0.805662  0.820412  0.1  200000  output.json   \n",
       "10     11         0  1.1  1.49  1.094338  0.779588  0.1  200000  output.json   \n",
       "11     12         0  1.1  1.49  1.094338  0.820412  0.1  200000  output.json   \n",
       "12     13         0  1.1  1.51  0.805662  0.779588  0.1  200000  output.json   \n",
       "13     14         0  1.1  1.51  0.805662  0.820412  0.1  200000  output.json   \n",
       "14     15         0  1.1  1.51  1.094338  0.779588  0.1  200000  output.json   \n",
       "15     16         0  1.1  1.51  1.094338  0.820412  0.1  200000  output.json   \n",
       "\n",
       "          g1  \n",
       "           0  \n",
       "0  -0.000008  \n",
       "1  -0.000007  \n",
       "2  -0.000005  \n",
       "3  -0.000004  \n",
       "4  -0.000009  \n",
       "5  -0.000007  \n",
       "6  -0.000006  \n",
       "7  -0.000005  \n",
       "8  -0.000010  \n",
       "9  -0.000008  \n",
       "10 -0.000006  \n",
       "11 -0.000005  \n",
       "12 -0.000011  \n",
       "13 -0.000009  \n",
       "14 -0.000007  \n",
       "15 -0.000006  "
      ]
     },
     "execution_count": 11,
     "metadata": {},
     "output_type": "execute_result"
    }
   ],
   "source": [
    "campaign.get_collation_result()"
   ]
  },
  {
   "cell_type": "markdown",
   "metadata": {},
   "source": [
    "We then call the analyse method whose functionality will depend on the sampling method used. It returns an [AnalysisResults]() object which can be used to retrieve numerical values or plot the results. In this case Sobols indices."
   ]
  },
  {
   "cell_type": "code",
   "execution_count": 12,
   "metadata": {},
   "outputs": [],
   "source": [
    "results = campaign.analyse(qoi_cols=['g1'])"
   ]
  },
  {
   "cell_type": "markdown",
   "metadata": {},
   "source": [
    "We can plot the results in a treemap format. Each square representing the relative influence of that parameter to the variance of the output variable (vertical displacement at point ```a```). A square labeled ```higher orders``` represent the influence of the interactions between the input parameters."
   ]
  },
  {
   "cell_type": "code",
   "execution_count": 13,
   "metadata": {},
   "outputs": [
    {
     "name": "stderr",
     "output_type": "stream",
     "text": [
      "/usr/local/lib/python3.8/dist-packages/easyvvuq-0.9.2+48.g4ce754a7-py3.8.egg/easyvvuq/analysis/results.py:416: UserWarning: Matplotlib is currently using module://ipykernel.pylab.backend_inline, which is a non-GUI backend, so cannot show the figure.\n",
      "  fig.show()\n"
     ]
    },
    {
     "data": {
      "image/png": "[encoded data removed]",
      "text/plain": [
       "<Figure size 720x720 with 1 Axes>"
      ]
     },
     "metadata": {
      "needs_background": "light"
     },
     "output_type": "display_data"
    }
   ],
   "source": [
    "results.plot_sobols_treemap('g1', figsize=(10, 10))\n",
    "plt.axis('off');"
   ]
  },
  {
   "cell_type": "markdown",
   "metadata": {},
   "source": [
    "Alternatively you can get the Sobol index values using the method call below."
   ]
  },
  {
   "cell_type": "code",
   "execution_count": 14,
   "metadata": {},
   "outputs": [
    {
     "data": {
      "text/plain": [
       "{'F': array([0.13735478]),\n",
       " 'L': array([0.01240522]),\n",
       " 'a': array([0.70801942]),\n",
       " 'D': array([0.14222058])}"
      ]
     },
     "execution_count": 14,
     "metadata": {},
     "output_type": "execute_result"
    }
   ],
   "source": [
    "results.sobols_first('g1')"
   ]
  },
  {
   "cell_type": "code",
   "execution_count": 15,
   "metadata": {},
   "outputs": [
    {
     "data": {
      "text/plain": [
       "['min', 'max', '10%', '90%', '1%', '99%', 'median', 'mean', 'var', 'std']"
      ]
     },
     "execution_count": 15,
     "metadata": {},
     "output_type": "execute_result"
    }
   ],
   "source": [
    "results.supported_stats()"
   ]
  },
  {
   "cell_type": "code",
   "execution_count": 16,
   "metadata": {},
   "outputs": [
    {
     "data": {
      "text/plain": [
       "array([0.13735478])"
      ]
     },
     "execution_count": 16,
     "metadata": {},
     "output_type": "execute_result"
    }
   ],
   "source": [
    "results._get_sobols_first('g1', 'F')"
   ]
  },
  {
   "cell_type": "code",
   "execution_count": 17,
   "metadata": {},
   "outputs": [
    {
     "data": {
      "text/plain": [
       "array([0.13735478])"
      ]
     },
     "execution_count": 17,
     "metadata": {},
     "output_type": "execute_result"
    }
   ],
   "source": [
    "results.sobols_total('g1', 'F')"
   ]
  },
  {
   "cell_type": "code",
   "execution_count": null,
   "metadata": {},
   "outputs": [],
   "source": []
  },
  {
   "cell_type": "code",
   "execution_count": null,
   "metadata": {},
   "outputs": [],
   "source": []
  }
 ],
 "metadata": {
  "kernelspec": {
   "display_name": "Python 3",
   "language": "python",
   "name": "python3"
  },
  "language_info": {
   "codemirror_mode": {
    "name": "ipython",
    "version": 3
   },
   "file_extension": ".py",
   "mimetype": "text/x-python",
   "name": "python",
   "nbconvert_exporter": "python",
   "pygments_lexer": "ipython3",
   "version": "3.8.5"
  }
 },
 "nbformat": 4,
 "nbformat_minor": 5
}
